{
 "cells": [
  {
   "cell_type": "markdown",
   "metadata": {},
   "source": [
    "# Dataset for Text Editing Task"
   ]
  },
  {
   "cell_type": "markdown",
   "metadata": {},
   "source": [
    "This notebook mainly shows the code to generate a dataset for inserting operators. For example, the input consists of a sequence of positive real numbers (e.g., 112), and its corresponding outputs should be a correct math equation (e.g., 1+1=2) by inserting operators at the right positions."
   ]
  },
  {
   "cell_type": "markdown",
   "metadata": {},
   "source": [
    "## Notes\n",
    "Both the input and output should be the same single real number when the input sequence length is 1. For example, \"1\"$\\rightarrow$\"1.\"  \n",
    "In other cases, operators are necessary to hold the output equation. For example, \"1 1 2\"$\\rightarrow$\"1 + 1 = 2.\"\n",
    "1. sequence length  \n",
    "output_seq_len = 2 * input_seq_len - 1\n",
    "2. vocab size  \n",
    "This parameter stands for the unique number of digits involved in the inputs. For exmaple, samples range from 0 to 9 if input vocab size is 10.\n",
    "3. data size"
   ]
  },
  {
   "cell_type": "code",
   "execution_count": 1,
   "metadata": {},
   "outputs": [],
   "source": [
    "#!/usr/bin/env python\n",
    "# -*- coding:utf-8 -*-\n",
    "\n",
    "__author__ = 'Shining'\n",
    "__email__ = 'mrshininnnnn@gmail.com'"
   ]
  },
  {
   "cell_type": "code",
   "execution_count": 2,
   "metadata": {},
   "outputs": [],
   "source": [
    "# dependency\n",
    "# public\n",
    "import os\n",
    "import numpy as np\n",
    "from tqdm import tqdm\n",
    "# private\n",
    "from utils import save_txt"
   ]
  },
  {
   "cell_type": "code",
   "execution_count": 3,
   "metadata": {},
   "outputs": [],
   "source": [
    "# the calss to generate dataset\n",
    "# for math operator intertion task\n",
    "class MathematicalOperatorInsertion(): \n",
    "    \"\"\"docstring for ClassName\"\"\"\n",
    "    def __init__(self, operators):\n",
    "        super(MathematicalOperatorInsertion, self).__init__()\n",
    "        self.operators = operators\n",
    "    \n",
    "    def gen_base_dataset(self, vocab_size):\n",
    "        # return a base dataset\n",
    "        x = [str(i) for i in range(2, vocab_size+2)]\n",
    "        y = x.copy()\n",
    "        return x, y\n",
    "    \n",
    "    def gen_base_dict(self, vocab_size):\n",
    "        # initialize a base value dict\n",
    "        return {str(i):[] for i in range(2, vocab_size+2)}\n",
    "        \n",
    "    def gen_operation(self, vocab_size, seq_len):\n",
    "        # a recursive function to geneate an operation\n",
    "        # given the number of digits to involve\n",
    "        a = np.random.choice(range(2, vocab_size+2))\n",
    "        if seq_len == 1:\n",
    "            return [str(a)]\n",
    "        else:\n",
    "            out_set = self.gen_operation(vocab_size, seq_len-1)\n",
    "            o = np.random.choice(self.operators)\n",
    "            b = np.random.choice(range(2, vocab_size+2))\n",
    "            return out_set + [o, str(b)]\n",
    "    \n",
    "    def gen_operation_list(self, vocab_size, seq_len, data_size):\n",
    "        # to control the data size\n",
    "        operations_pool = set()\n",
    "        for i in tqdm(range(data_size)):\n",
    "            while True: \n",
    "                # to avoid duplicates\n",
    "                operation = self.gen_operation(vocab_size, seq_len) \n",
    "                if ''.join(operation) in operations_pool: \n",
    "                    continue\n",
    "                else:\n",
    "                    operations_pool.add(''.join(operation)) \n",
    "                # to avoid zero division error\n",
    "                try: \n",
    "                    # flost to int to string\n",
    "                    value = eval(' '.join(operation)) \n",
    "                    if value % 1 != 0.: \n",
    "                        continue\n",
    "                    else:\n",
    "                        value = str(int(value))\n",
    "                        # to keep vocab size\n",
    "                        if value in self.value_dict: \n",
    "                            self.value_dict[value].append(operation)\n",
    "                            break\n",
    "                except: \n",
    "                    pass\n",
    "    \n",
    "    def gen_equation_list(self):\n",
    "        # generate the relational equation\n",
    "        # given the value dict\n",
    "        for v in self.value_dict:\n",
    "            for x in self.value_dict[v]:\n",
    "                y = x + [\"==\"] + [v]\n",
    "                x = [i for i in y if i.isdigit()]\n",
    "                self.xs.append(' '.join(x))\n",
    "                self.ys.append(' '.join(y))\n",
    "\n",
    "    def generate(self, vocab_size, seq_len, data_size):\n",
    "        if seq_len == 0:\n",
    "            return self.gen_base_dataset(\n",
    "                vocab_size=vocab_size)\n",
    "        # input sequences, # output sequences\n",
    "        self.xs, self.ys = [], []\n",
    "        # initialize a value dictionary\n",
    "        # to save the value of each sequence\n",
    "        self.value_dict = self.gen_base_dict(\n",
    "            vocab_size=vocab_size)\n",
    "        # insert operators and generate equations\n",
    "        self.gen_operation_list(\n",
    "            vocab_size=vocab_size, \n",
    "            seq_len=seq_len, \n",
    "            data_size=data_size)\n",
    "        # generate relations given the value dict\n",
    "        self.gen_equation_list()\n",
    "        \n",
    "        return self.xs, self.ys"
   ]
  },
  {
   "cell_type": "code",
   "execution_count": 4,
   "metadata": {},
   "outputs": [],
   "source": [
    "# definition\n",
    "vocab_size = 10\n",
    "seq_len = 4 # must >= 0\n",
    "data_size = 10000\n",
    "operators = ['+', '-', '*', '/']"
   ]
  },
  {
   "cell_type": "code",
   "execution_count": 5,
   "metadata": {
    "scrolled": true
   },
   "outputs": [
    {
     "name": "stderr",
     "output_type": "stream",
     "text": [
      "100%|██████████| 10000/10000 [00:13<00:00, 766.85it/s]\n"
     ]
    }
   ],
   "source": [
    "# data generation\n",
    "moi = MathematicalOperatorInsertion(operators)\n",
    "xs, ys = moi.generate(\n",
    "    vocab_size=vocab_size, \n",
    "    seq_len=seq_len, \n",
    "    data_size=data_size)"
   ]
  },
  {
   "cell_type": "code",
   "execution_count": 6,
   "metadata": {},
   "outputs": [
    {
     "data": {
      "text/plain": [
       "10000"
      ]
     },
     "execution_count": 6,
     "metadata": {},
     "output_type": "execute_result"
    }
   ],
   "source": [
    "len(xs)"
   ]
  },
  {
   "cell_type": "code",
   "execution_count": 7,
   "metadata": {},
   "outputs": [
    {
     "data": {
      "text/plain": [
       "['6 6 10 10 11',\n",
       " '9 3 4 10 11',\n",
       " '2 5 5 10 11',\n",
       " '4 4 9 2 11',\n",
       " '10 8 9 2 11',\n",
       " '7 7 7 4 11',\n",
       " '3 11 9 10 11',\n",
       " '11 10 2 5 11',\n",
       " '4 2 10 5 11',\n",
       " '7 5 3 3 11',\n",
       " '8 8 3 8 11',\n",
       " '2 5 3 6 11',\n",
       " '8 2 11 10 11',\n",
       " '3 8 8 5 11',\n",
       " '9 3 10 2 11']"
      ]
     },
     "execution_count": 7,
     "metadata": {},
     "output_type": "execute_result"
    }
   ],
   "source": [
    "xs[-15:]"
   ]
  },
  {
   "cell_type": "code",
   "execution_count": 8,
   "metadata": {},
   "outputs": [
    {
     "data": {
      "text/plain": [
       "10000"
      ]
     },
     "execution_count": 8,
     "metadata": {},
     "output_type": "execute_result"
    }
   ],
   "source": [
    "len(ys)"
   ]
  },
  {
   "cell_type": "code",
   "execution_count": 9,
   "metadata": {},
   "outputs": [
    {
     "data": {
      "text/plain": [
       "['6 + 6 - 10 / 10 == 11',\n",
       " '9 + 3 * 4 - 10 == 11',\n",
       " '2 - 5 / 5 + 10 == 11',\n",
       " '4 / 4 * 9 + 2 == 11',\n",
       " '10 + 8 - 9 + 2 == 11',\n",
       " '7 - 7 + 7 + 4 == 11',\n",
       " '3 - 11 + 9 + 10 == 11',\n",
       " '11 + 10 - 2 * 5 == 11',\n",
       " '4 + 2 + 10 - 5 == 11',\n",
       " '7 + 5 - 3 / 3 == 11',\n",
       " '8 + 8 + 3 - 8 == 11',\n",
       " '2 + 5 * 3 - 6 == 11',\n",
       " '8 + 2 + 11 - 10 == 11',\n",
       " '3 * 8 - 8 - 5 == 11',\n",
       " '9 / 3 + 10 - 2 == 11']"
      ]
     },
     "execution_count": 9,
     "metadata": {},
     "output_type": "execute_result"
    }
   ],
   "source": [
    "ys[-15:]"
   ]
  },
  {
   "cell_type": "code",
   "execution_count": 10,
   "metadata": {},
   "outputs": [
    {
     "name": "stdout",
     "output_type": "stream",
     "text": [
      "train size 7000 (7000, 2)\n",
      "val size 1500 (1500, 2)\n",
      "test size 1500 (1500, 2)\n"
     ]
    }
   ],
   "source": [
    "# train val test split\n",
    "dataset = np.array([(x, y) for x, y in zip(xs, ys)])\n",
    "data_size = dataset.shape[0]\n",
    "indices = np.random.permutation(data_size)\n",
    "train_size = int(0.7*data_size)\n",
    "val_size = int(0.15*data_size)\n",
    "test_size = data_size - train_size - val_size\n",
    "train_idxes = indices[:train_size]\n",
    "val_idxes = indices[train_size: train_size+val_size]\n",
    "test_idxes = indices[train_size+val_size:]\n",
    "trainset = dataset[train_idxes]\n",
    "valset = dataset[val_idxes]\n",
    "testset = dataset[test_idxes]\n",
    "print('train size', train_size, trainset.shape)\n",
    "print('val size', val_size, valset.shape)\n",
    "print('test size', test_size, testset.shape)"
   ]
  },
  {
   "cell_type": "code",
   "execution_count": 11,
   "metadata": {},
   "outputs": [
    {
     "data": {
      "text/plain": [
       "'raw/vocab_size_10/seq_len_5/data_size_10000'"
      ]
     },
     "execution_count": 11,
     "metadata": {},
     "output_type": "execute_result"
    }
   ],
   "source": [
    "# to save dataset\n",
    "outdir = 'raw'\n",
    "outdir = os.path.join(\n",
    "    outdir, \n",
    "    'vocab_size_{}'.format(vocab_size), \n",
    "    'seq_len_{}'.format(seq_len+1), \n",
    "    'data_size_{}'.format(data_size))\n",
    "if not os.path.exists(outdir): \n",
    "    os.makedirs(outdir)\n",
    "outdir"
   ]
  },
  {
   "cell_type": "code",
   "execution_count": 12,
   "metadata": {},
   "outputs": [],
   "source": [
    "save_txt(os.path.join(outdir, 'train_x.txt'), trainset[:, 0])\n",
    "save_txt(os.path.join(outdir, 'train_y.txt'), trainset[:, 1])\n",
    "save_txt(os.path.join(outdir, 'val_x.txt'), valset[:, 0])\n",
    "save_txt(os.path.join(outdir, 'val_y.txt'), valset[:, 1])\n",
    "save_txt(os.path.join(outdir, 'test_x.txt'), testset[:, 0])\n",
    "save_txt(os.path.join(outdir, 'test_y.txt'), testset[:, 1])"
   ]
  },
  {
   "cell_type": "code",
   "execution_count": null,
   "metadata": {},
   "outputs": [],
   "source": []
  }
 ],
 "metadata": {
  "kernelspec": {
   "display_name": "Python 3",
   "language": "python",
   "name": "python3"
  },
  "language_info": {
   "codemirror_mode": {
    "name": "ipython",
    "version": 3
   },
   "file_extension": ".py",
   "mimetype": "text/x-python",
   "name": "python",
   "nbconvert_exporter": "python",
   "pygments_lexer": "ipython3",
   "version": "3.7.6"
  }
 },
 "nbformat": 4,
 "nbformat_minor": 4
}
