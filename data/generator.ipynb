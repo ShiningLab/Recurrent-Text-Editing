{
 "cells": [
  {
   "cell_type": "markdown",
   "metadata": {},
   "source": [
    "# Dataset for Text Editing Task"
   ]
  },
  {
   "cell_type": "markdown",
   "metadata": {},
   "source": [
    "This notebook mainly shows the code to generate a dataset for inserting operators. For example, the input consists of a sequence of positive real numbers (e.g., 112), and its corresponding outputs should be a correct math equation (e.g., 1+1=2) by inserting operators at the right positions."
   ]
  },
  {
   "cell_type": "markdown",
   "metadata": {},
   "source": [
    "## Notes\n",
    "Both the input and output should be the same single real number when the input sequence length is 1. For example, \"1\"$\\rightarrow$\"1.\"  \n",
    "In other cases, operators are necessary to hold the output equation. For example, \"1 1 2\"$\\rightarrow$\"1 + 1 = 2.\"\n",
    "1. sequence length  \n",
    "output_seq_len = 2 * input_seq_len - 1\n",
    "2. vocab size  \n",
    "This parameter stands for the unique number of digits involved in the inputs. For exmaple, samples range from 0 to 9 if input vocab size is 10.\n",
    "3. data size"
   ]
  },
  {
   "cell_type": "code",
   "execution_count": 5,
   "metadata": {},
   "outputs": [],
   "source": [
    "#!/usr/bin/env python\n",
    "# -*- coding:utf-8 -*-\n",
    "\n",
    "__author__ = 'Shining'\n",
    "__email__ = 'mrshininnnnn@gmail.com'"
   ]
  },
  {
   "cell_type": "code",
   "execution_count": 6,
   "metadata": {},
   "outputs": [],
   "source": [
    "# dependency\n",
    "import os\n",
    "import numpy as np\n",
    "from utils import save_txt"
   ]
  },
  {
   "cell_type": "code",
   "execution_count": 7,
   "metadata": {},
   "outputs": [],
   "source": [
    "# helper functions\n",
    "def save_txt(path, line_list):\n",
    "    with open(path, 'w', encoding='utf-8') as f: \n",
    "        for line in line_list: \n",
    "            f.write(line + '\\n') \n",
    "    f.close()"
   ]
  },
  {
   "cell_type": "code",
   "execution_count": 8,
   "metadata": {},
   "outputs": [],
   "source": [
    "# the calss to generate dataset\n",
    "# for math operator intertion task\n",
    "class MathematicalOperatorInsertion(): \n",
    "    \"\"\"docstring for ClassName\"\"\"\n",
    "    def __init__(self, operators):\n",
    "        super(MathematicalOperatorInsertion, self).__init__()\n",
    "        self.operators = operators\n",
    "    \n",
    "    def gen_base_dataset(self, vocab_size):\n",
    "        # return a base dataset\n",
    "        x = [str(i) for i in range(vocab_size)]\n",
    "        y = x.copy()\n",
    "        return x, y\n",
    "    \n",
    "    def gen_base_dict(self, vocab_size):\n",
    "        # initialize a base value dict\n",
    "        return {str(i):[] for i in range(vocab_size)}\n",
    "        \n",
    "    def gen_operation(self, vocab_size, seq_len):\n",
    "        # a recursive function to geneate an operation\n",
    "        # given the number of digits to involve\n",
    "        a = np.random.choice(range(vocab_size))\n",
    "        o = np.random.choice(self.operators)\n",
    "        b = np.random.choice(range(vocab_size))\n",
    "        if seq_len == 1:\n",
    "            return [str(a)]\n",
    "        else:\n",
    "            out_set = self.gen_operation(vocab_size, seq_len-1)\n",
    "            return out_set + [o, str(b)]\n",
    "    \n",
    "    def gen_operation_list(self, vocab_size, seq_len, data_size):\n",
    "        # to control the data size\n",
    "        counter = 1\n",
    "        operations_pool = set()\n",
    "        while True:\n",
    "            # to avoid duplicates\n",
    "            operation = self.gen_operation(vocab_size, seq_len)\n",
    "            if ''.join(operation) in operations_pool:\n",
    "                continue\n",
    "            else:\n",
    "                operations_pool.add(''.join(operation))\n",
    "            # to avoid zero division error\n",
    "            try: \n",
    "                # flost to int to string\n",
    "                value = eval(' '.join(operation))\n",
    "                if value % 1 != 0.:\n",
    "                    continue\n",
    "                else:\n",
    "                    value = str(int(value))\n",
    "                    # to keep vocab size\n",
    "                    if value in self.value_dict: \n",
    "                        self.value_dict[value].append(operation)\n",
    "                        if counter >= data_size:\n",
    "                            break\n",
    "                        else:\n",
    "                            counter += 1\n",
    "            except: \n",
    "                pass\n",
    "            if len(operations_pool) >= self.space_size: \n",
    "                break\n",
    "    \n",
    "    def gen_equation_list(self):\n",
    "        # generate the relational equation\n",
    "        # given the value dict\n",
    "        for v in self.value_dict:\n",
    "            for x in self.value_dict[v]:\n",
    "                y = x + [\"==\"] + [v]\n",
    "                x = [i for i in y if i.isdigit()]\n",
    "                self.xs.append(' '.join(x))\n",
    "                self.ys.append(' '.join(y))\n",
    "\n",
    "    def generate(self, vocab_size, seq_len, data_size):\n",
    "        if seq_len == 0:\n",
    "            return self.gen_base_dataset(\n",
    "                vocab_size=vocab_size)\n",
    "        # input sequences, # output sequences\n",
    "        self.xs, self.ys = [], []\n",
    "        # the max data size\n",
    "        self.space_size = vocab_size**seq_len*len(self.operators)**(seq_len-1)\n",
    "        # initialize a value dictionary\n",
    "        # to save the value of each sequence\n",
    "        self.value_dict = self.gen_base_dict(\n",
    "            vocab_size=vocab_size)\n",
    "        # insert operators and generate equations\n",
    "        self.gen_operation_list(\n",
    "            vocab_size=vocab_size, \n",
    "            seq_len=seq_len, \n",
    "            data_size=data_size)\n",
    "        # generate relations given the value dict\n",
    "        self.gen_equation_list()\n",
    "        \n",
    "        return self.xs, self.ys"
   ]
  },
  {
   "cell_type": "code",
   "execution_count": 9,
   "metadata": {},
   "outputs": [
    {
     "name": "stdout",
     "output_type": "stream",
     "text": [
      "space size 25600000\n"
     ]
    }
   ],
   "source": [
    "# definition\n",
    "vocab_size = 10\n",
    "seq_len = 5 # must >= 0\n",
    "data_size = 100\n",
    "operators = ['+', '-', '*', '/']\n",
    "print('space size', vocab_size**seq_len*len(operators)**(seq_len-1))"
   ]
  },
  {
   "cell_type": "code",
   "execution_count": 10,
   "metadata": {
    "scrolled": false
   },
   "outputs": [],
   "source": [
    "# data generation\n",
    "moi = MathematicalOperatorInsertion(operators)\n",
    "xs, ys = moi.generate(\n",
    "    vocab_size=vocab_size, \n",
    "    seq_len=seq_len, \n",
    "    data_size=data_size)"
   ]
  },
  {
   "cell_type": "code",
   "execution_count": 11,
   "metadata": {},
   "outputs": [
    {
     "data": {
      "text/plain": [
       "100"
      ]
     },
     "execution_count": 11,
     "metadata": {},
     "output_type": "execute_result"
    }
   ],
   "source": [
    "len(xs)"
   ]
  },
  {
   "cell_type": "code",
   "execution_count": 12,
   "metadata": {},
   "outputs": [
    {
     "data": {
      "text/plain": [
       "['5 6 9 9 3 8',\n",
       " '8 8 1 0 0 8',\n",
       " '2 6 6 2 3 8',\n",
       " '0 8 3 3 0 8',\n",
       " '2 6 8 2 0 8',\n",
       " '6 7 8 0 8 8',\n",
       " '4 0 4 3 3 8',\n",
       " '7 0 7 9 9 8',\n",
       " '9 6 2 7 0 8',\n",
       " '2 9 3 2 2 8',\n",
       " '0 0 9 0 9 9',\n",
       " '0 9 6 6 9 9',\n",
       " '3 3 5 1 2 9',\n",
       " '9 3 0 8 4 9',\n",
       " '0 4 8 4 3 9']"
      ]
     },
     "execution_count": 12,
     "metadata": {},
     "output_type": "execute_result"
    }
   ],
   "source": [
    "xs[-15:]"
   ]
  },
  {
   "cell_type": "code",
   "execution_count": 13,
   "metadata": {},
   "outputs": [
    {
     "data": {
      "text/plain": [
       "100"
      ]
     },
     "execution_count": 13,
     "metadata": {},
     "output_type": "execute_result"
    }
   ],
   "source": [
    "len(ys)"
   ]
  },
  {
   "cell_type": "code",
   "execution_count": 14,
   "metadata": {},
   "outputs": [
    {
     "data": {
      "text/plain": [
       "['5 + 6 * 9 / 9 - 3 == 8',\n",
       " '8 - 8 / 1 * 0 * 0 == 8',\n",
       " '2 + 6 + 6 / 2 - 3 == 8',\n",
       " '0 + 8 * 3 / 3 + 0 == 8',\n",
       " '2 * 6 - 8 / 2 - 0 == 8',\n",
       " '6 / 7 / 8 * 0 + 8 == 8',\n",
       " '4 + 0 + 4 / 3 * 3 == 8',\n",
       " '7 - 0 * 7 + 9 / 9 == 8',\n",
       " '9 - 6 - 2 + 7 + 0 == 8',\n",
       " '2 + 9 - 3 * 2 / 2 == 8',\n",
       " '0 + 0 / 9 + 0 + 9 == 9',\n",
       " '0 * 9 / 6 * 6 + 9 == 9',\n",
       " '3 + 3 + 5 - 1 * 2 == 9',\n",
       " '9 + 3 * 0 / 8 / 4 == 9',\n",
       " '0 + 4 + 8 / 4 + 3 == 9']"
      ]
     },
     "execution_count": 14,
     "metadata": {},
     "output_type": "execute_result"
    }
   ],
   "source": [
    "ys[-15:]"
   ]
  },
  {
   "cell_type": "code",
   "execution_count": 422,
   "metadata": {},
   "outputs": [
    {
     "name": "stdout",
     "output_type": "stream",
     "text": [
      "152 152\n"
     ]
    },
    {
     "data": {
      "text/plain": [
       "'raw/vocab_size_10/seq_len_3/data_size_152'"
      ]
     },
     "execution_count": 422,
     "metadata": {},
     "output_type": "execute_result"
    }
   ],
   "source": [
    "# to save dataset\n",
    "data_size = len(xs)\n",
    "print(len(ys), data_size)\n",
    "outdir = 'raw'\n",
    "outdir = os.path.join(outdir, 'vocab_size_{}'.format(vocab_size), \n",
    "                    'seq_len_{}'.format(seq_len+1), \n",
    "                    'data_size_{}'.format(data_size))\n",
    "if not os.path.exists(outdir): \n",
    "    os.makedirs(outdir)\n",
    "outdir"
   ]
  },
  {
   "cell_type": "code",
   "execution_count": 15,
   "metadata": {},
   "outputs": [],
   "source": [
    "# save_txt(os.path.join(outdir, 'x.txt'), xs)\n",
    "# save_txt(os.path.join(outdir, 'y.txt'), ys)"
   ]
  },
  {
   "cell_type": "code",
   "execution_count": null,
   "metadata": {},
   "outputs": [],
   "source": []
  }
 ],
 "metadata": {
  "kernelspec": {
   "display_name": "Python 3",
   "language": "python",
   "name": "python3"
  },
  "language_info": {
   "codemirror_mode": {
    "name": "ipython",
    "version": 3
   },
   "file_extension": ".py",
   "mimetype": "text/x-python",
   "name": "python",
   "nbconvert_exporter": "python",
   "pygments_lexer": "ipython3",
   "version": "3.7.6"
  }
 },
 "nbformat": 4,
 "nbformat_minor": 4
}
