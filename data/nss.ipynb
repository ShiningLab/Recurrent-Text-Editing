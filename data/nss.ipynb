{
 "cells": [
  {
   "cell_type": "markdown",
   "metadata": {},
   "source": [
    "# Dataset for the Number Sequence Sorting (NSS) Task (w/ Bubble sort)\n",
    "\n",
    "Given a sequence of numbers, the code here will generate the next step in the bubble sort for the given number sequence. The next step is the index of the number that needs to be swapped with the next number. \n",
    "\n",
    "For example, \n",
    "input: [0, 2, 1] -> output: [1]\n",
    "\n",
    "If the number sequence is already sorted, then the output is [-1]\n"
   ]
  },
  {
   "cell_type": "code",
   "execution_count": 1,
   "metadata": {},
   "outputs": [],
   "source": [
    "# dependency\n",
    "# public\n",
    "import os\n",
    "import numpy as np\n",
    "from tqdm import tqdm\n",
    "# private\n",
    "from utils import *"
   ]
  },
  {
   "cell_type": "code",
   "execution_count": 3,
   "metadata": {
    "scrolled": false
   },
   "outputs": [
    {
     "name": "stdout",
     "output_type": "stream",
     "text": [
      "[10, 9, 8, 7, 6, 5, 4, 3, 2, 1]\n",
      "[10, 9, 8, 7, 6, 5, 4, 3, 2, 1]\n",
      "1 0\n",
      "[9, 10, 8, 7, 6, 5, 4, 3, 2, 1]\n",
      "\n",
      "2 1\n",
      "[9, 8, 10, 7, 6, 5, 4, 3, 2, 1]\n",
      "\n",
      "3 0\n",
      "[8, 9, 10, 7, 6, 5, 4, 3, 2, 1]\n",
      "\n",
      "4 2\n",
      "[8, 9, 7, 10, 6, 5, 4, 3, 2, 1]\n",
      "\n",
      "5 1\n",
      "[8, 7, 9, 10, 6, 5, 4, 3, 2, 1]\n",
      "\n",
      "6 0\n",
      "[7, 8, 9, 10, 6, 5, 4, 3, 2, 1]\n",
      "\n",
      "7 3\n",
      "[7, 8, 9, 6, 10, 5, 4, 3, 2, 1]\n",
      "\n",
      "8 2\n",
      "[7, 8, 6, 9, 10, 5, 4, 3, 2, 1]\n",
      "\n",
      "9 1\n",
      "[7, 6, 8, 9, 10, 5, 4, 3, 2, 1]\n",
      "\n",
      "10 0\n",
      "[6, 7, 8, 9, 10, 5, 4, 3, 2, 1]\n",
      "\n",
      "11 4\n",
      "[6, 7, 8, 9, 5, 10, 4, 3, 2, 1]\n",
      "\n",
      "12 3\n",
      "[6, 7, 8, 5, 9, 10, 4, 3, 2, 1]\n",
      "\n",
      "13 2\n",
      "[6, 7, 5, 8, 9, 10, 4, 3, 2, 1]\n",
      "\n",
      "14 1\n",
      "[6, 5, 7, 8, 9, 10, 4, 3, 2, 1]\n",
      "\n",
      "15 0\n",
      "[5, 6, 7, 8, 9, 10, 4, 3, 2, 1]\n",
      "\n",
      "16 5\n",
      "[5, 6, 7, 8, 9, 4, 10, 3, 2, 1]\n",
      "\n",
      "17 4\n",
      "[5, 6, 7, 8, 4, 9, 10, 3, 2, 1]\n",
      "\n",
      "18 3\n",
      "[5, 6, 7, 4, 8, 9, 10, 3, 2, 1]\n",
      "\n",
      "19 2\n",
      "[5, 6, 4, 7, 8, 9, 10, 3, 2, 1]\n",
      "\n",
      "20 1\n",
      "[5, 4, 6, 7, 8, 9, 10, 3, 2, 1]\n",
      "\n",
      "21 0\n",
      "[4, 5, 6, 7, 8, 9, 10, 3, 2, 1]\n",
      "\n",
      "22 6\n",
      "[4, 5, 6, 7, 8, 9, 3, 10, 2, 1]\n",
      "\n",
      "23 5\n",
      "[4, 5, 6, 7, 8, 3, 9, 10, 2, 1]\n",
      "\n",
      "24 4\n",
      "[4, 5, 6, 7, 3, 8, 9, 10, 2, 1]\n",
      "\n",
      "25 3\n",
      "[4, 5, 6, 3, 7, 8, 9, 10, 2, 1]\n",
      "\n",
      "26 2\n",
      "[4, 5, 3, 6, 7, 8, 9, 10, 2, 1]\n",
      "\n",
      "27 1\n",
      "[4, 3, 5, 6, 7, 8, 9, 10, 2, 1]\n",
      "\n",
      "28 0\n",
      "[3, 4, 5, 6, 7, 8, 9, 10, 2, 1]\n",
      "\n",
      "29 7\n",
      "[3, 4, 5, 6, 7, 8, 9, 2, 10, 1]\n",
      "\n",
      "30 6\n",
      "[3, 4, 5, 6, 7, 8, 2, 9, 10, 1]\n",
      "\n",
      "31 5\n",
      "[3, 4, 5, 6, 7, 2, 8, 9, 10, 1]\n",
      "\n",
      "32 4\n",
      "[3, 4, 5, 6, 2, 7, 8, 9, 10, 1]\n",
      "\n",
      "33 3\n",
      "[3, 4, 5, 2, 6, 7, 8, 9, 10, 1]\n",
      "\n",
      "34 2\n",
      "[3, 4, 2, 5, 6, 7, 8, 9, 10, 1]\n",
      "\n",
      "35 1\n",
      "[3, 2, 4, 5, 6, 7, 8, 9, 10, 1]\n",
      "\n",
      "36 0\n",
      "[2, 3, 4, 5, 6, 7, 8, 9, 10, 1]\n",
      "\n",
      "37 8\n",
      "[2, 3, 4, 5, 6, 7, 8, 9, 1, 10]\n",
      "\n",
      "38 7\n",
      "[2, 3, 4, 5, 6, 7, 8, 1, 9, 10]\n",
      "\n",
      "39 6\n",
      "[2, 3, 4, 5, 6, 7, 1, 8, 9, 10]\n",
      "\n",
      "40 5\n",
      "[2, 3, 4, 5, 6, 1, 7, 8, 9, 10]\n",
      "\n",
      "41 4\n",
      "[2, 3, 4, 5, 1, 6, 7, 8, 9, 10]\n",
      "\n",
      "42 3\n",
      "[2, 3, 4, 1, 5, 6, 7, 8, 9, 10]\n",
      "\n",
      "43 2\n",
      "[2, 3, 1, 4, 5, 6, 7, 8, 9, 10]\n",
      "\n",
      "44 1\n",
      "[2, 1, 3, 4, 5, 6, 7, 8, 9, 10]\n",
      "\n",
      "45 0\n",
      "[1, 2, 3, 4, 5, 6, 7, 8, 9, 10]\n",
      "\n",
      "46 -1\n",
      "[1, 2, 3, 4, 5, 6, 7, 8, 9, 10]\n"
     ]
    }
   ],
   "source": [
    "# helper functions for bubble sort \n",
    "def bubble_sort(seq): \n",
    "    n = len(seq) \n",
    "    for i in range(n): \n",
    "        for j in range(0, n-i-1):\n",
    "            if seq[j] > seq[j+1]: \n",
    "                seq[j], seq[j+1] = seq[j+1], seq[j] \n",
    "    return seq\n",
    "\n",
    "def find_next_step_in_bubble_sort(seq): \n",
    "    n = len(seq) \n",
    "    for j in range(0, n-1):\n",
    "        if seq[j] > seq[j+1]:\n",
    "            return j\n",
    "    return -1\n",
    "\n",
    "def bubble_sort_step(seq, j): \n",
    "    # perform one bubble sort step\n",
    "    seq[j], seq[j+1] = seq[j+1], seq[j] \n",
    "    return seq\n",
    "\n",
    "# ------------------------------------------\n",
    "# test the bubble sort algo\n",
    "# seq = np.random.randint(10, size=[10,])\n",
    "seq = [10, 9, 8, 7, 6, 5, 4, 3, 2, 1]\n",
    "print(seq)\n",
    "a = seq\n",
    "# bubble_sort(a) \n",
    "print(a)\n",
    "\n",
    "i = 0\n",
    "j = 0\n",
    "while True: \n",
    "    j = find_next_step_in_bubble_sort(seq)\n",
    "    i += 1\n",
    "    print(i, j)\n",
    "    if j == -1: \n",
    "        break\n",
    "    seq = bubble_sort_step(seq, j)\n",
    "    print(seq)\n",
    "    print()\n",
    "    \n",
    "print(seq)     "
   ]
  },
  {
   "cell_type": "code",
   "execution_count": 3,
   "metadata": {},
   "outputs": [],
   "source": [
    "# class for data generation of the Number Sequence Sorting (NSS) problem \n",
    "class NumberSequenceSorting(): \n",
    "    def __init__(self, seq_len, data_size, num_size):\n",
    "        super().__init__()\n",
    "        self.seq_len = seq_len\n",
    "        self.data_size = data_size\n",
    "        self.num_size = num_size \n",
    "        \n",
    "    def find_next_step_in_bubble_sort(self, seq): \n",
    "        n = len(seq) \n",
    "        for j in range(0, n-1):\n",
    "            if seq[j] > seq[j+1]:\n",
    "                return j\n",
    "        return -1\n",
    "    \n",
    "    def bubble_sort_step(self, seq, j): \n",
    "        # perform one bubble sort step\n",
    "        seq[j], seq[j+1] = seq[j+1], seq[j] \n",
    "        return seq\n",
    "    \n",
    "    def convert_to_str(self, seq:list) -> str:\n",
    "        seq = [str(number) for number in seq]\n",
    "        return ' '.join(seq) \n",
    "    \n",
    "    def generate_end2end(self):\n",
    "        # generate random number sequence sa sample\n",
    "        # with its sorted result as label\n",
    "        xs, ys = [], []\n",
    "        # to filter out duplicates\n",
    "        num_seq_set = set()\n",
    "        for i in tqdm(range(self.data_size)):\n",
    "            while True:\n",
    "                # get a random number sequence\n",
    "                x = np.random.randint(self.num_size, size=[self.seq_len])\n",
    "                # check duplicates\n",
    "                if str(x) in num_seq_set:\n",
    "                    continue\n",
    "                else:\n",
    "                    num_seq_set.add(str(x))\n",
    "                    y = np.sort(x)\n",
    "                    # convert a list of int to string\n",
    "                    x = self.convert_to_str(x)\n",
    "                    y = self.convert_to_str(y)\n",
    "                    # append to dataset\n",
    "                    xs.append(x)\n",
    "                    ys.append(y)\n",
    "                    break\n",
    "                    \n",
    "        return xs, ys\n",
    "                \n",
    "    def generate_recursive(self): \n",
    "        xs, ys = [], []\n",
    "        # generate random number sequences\n",
    "        x = np.random.randint(self.num_size, size=[self.data_size, self.seq_len])\n",
    "        xs.append(x)\n",
    "        y = [find_next_step_in_bubble_sort(s) for s in x]\n",
    "        ys = y.copy()\n",
    "\n",
    "        while not all(np.equal(y, -1)):\n",
    "            for i in range(x.shape[0]):\n",
    "                if y[i] != -1:\n",
    "                    x[i] = bubble_sort_step(x[i], y[i])\n",
    "                    y[i] = find_next_step_in_bubble_sort(x[i])\n",
    "                    xs.append(x[i])\n",
    "                    ys.append(y[i])\n",
    "\n",
    "        xs = np.vstack(xs)\n",
    "        ys = np.array(ys)\n",
    "\n",
    "        # randomly select indices\n",
    "        indices = np.random.choice(xs.shape[0], data_size, replace=False)\n",
    "        xs = xs[indices]\n",
    "        ys = ys[indices]\n",
    "\n",
    "        return xs, ys"
   ]
  },
  {
   "cell_type": "markdown",
   "metadata": {},
   "source": [
    "## Data Generation"
   ]
  },
  {
   "cell_type": "code",
   "execution_count": 4,
   "metadata": {},
   "outputs": [],
   "source": [
    "# data parameters \n",
    "seq_len = 5\n",
    "data_size = 10000\n",
    "num_size = 10  # only allow number 0 -9 when setting to 10"
   ]
  },
  {
   "cell_type": "code",
   "execution_count": 5,
   "metadata": {},
   "outputs": [
    {
     "name": "stderr",
     "output_type": "stream",
     "text": [
      "100%|██████████| 10000/10000 [00:01<00:00, 7602.04it/s]\n"
     ]
    }
   ],
   "source": [
    "generator = NumberSequenceSorting(seq_len, data_size, num_size)\n",
    "# generator.generate_recursive()\n",
    "xs, ys = generator.generate_end2end()"
   ]
  },
  {
   "cell_type": "code",
   "execution_count": 6,
   "metadata": {},
   "outputs": [
    {
     "data": {
      "text/plain": [
       "10000"
      ]
     },
     "execution_count": 6,
     "metadata": {},
     "output_type": "execute_result"
    }
   ],
   "source": [
    "len(xs)"
   ]
  },
  {
   "cell_type": "code",
   "execution_count": 7,
   "metadata": {},
   "outputs": [
    {
     "data": {
      "text/plain": [
       "['6 4 2 6 1',\n",
       " '9 5 3 0 8',\n",
       " '5 6 4 0 5',\n",
       " '2 6 0 2 3',\n",
       " '1 2 4 9 6',\n",
       " '2 4 3 7 2',\n",
       " '5 0 6 3 5',\n",
       " '6 6 5 5 6',\n",
       " '7 7 1 4 4',\n",
       " '2 9 9 5 0']"
      ]
     },
     "execution_count": 7,
     "metadata": {},
     "output_type": "execute_result"
    }
   ],
   "source": [
    "xs[:10]"
   ]
  },
  {
   "cell_type": "code",
   "execution_count": 8,
   "metadata": {},
   "outputs": [
    {
     "data": {
      "text/plain": [
       "10000"
      ]
     },
     "execution_count": 8,
     "metadata": {},
     "output_type": "execute_result"
    }
   ],
   "source": [
    "len(ys)"
   ]
  },
  {
   "cell_type": "code",
   "execution_count": 9,
   "metadata": {},
   "outputs": [
    {
     "data": {
      "text/plain": [
       "['1 2 4 6 6',\n",
       " '0 3 5 8 9',\n",
       " '0 4 5 5 6',\n",
       " '0 2 2 3 6',\n",
       " '1 2 4 6 9',\n",
       " '2 2 3 4 7',\n",
       " '0 3 5 5 6',\n",
       " '5 5 6 6 6',\n",
       " '1 4 4 7 7',\n",
       " '0 2 5 9 9']"
      ]
     },
     "execution_count": 9,
     "metadata": {},
     "output_type": "execute_result"
    }
   ],
   "source": [
    "ys[:10]"
   ]
  },
  {
   "cell_type": "code",
   "execution_count": 10,
   "metadata": {},
   "outputs": [
    {
     "name": "stdout",
     "output_type": "stream",
     "text": [
      "train size 7000 (7000, 2)\n",
      "val size 1500 (1500, 2)\n",
      "test size 1500 (1500, 2)\n"
     ]
    }
   ],
   "source": [
    "# train val test split\n",
    "dataset = np.array([(x, y) for x, y in zip(xs, ys)])\n",
    "data_size = dataset.shape[0]\n",
    "indices = np.random.permutation(data_size)\n",
    "train_size = int(0.7*data_size)\n",
    "val_size = int(0.15*data_size)\n",
    "test_size = data_size - train_size - val_size\n",
    "train_idxes = indices[:train_size]\n",
    "val_idxes = indices[train_size: train_size+val_size]\n",
    "test_idxes = indices[train_size+val_size:]\n",
    "trainset = dataset[train_idxes]\n",
    "valset = dataset[val_idxes]\n",
    "testset = dataset[test_idxes]\n",
    "print('train size', train_size, trainset.shape)\n",
    "print('val size', val_size, valset.shape)\n",
    "print('test size', test_size, testset.shape)"
   ]
  },
  {
   "cell_type": "code",
   "execution_count": 11,
   "metadata": {},
   "outputs": [
    {
     "data": {
      "text/plain": [
       "'nss/num_size_10/seq_len_5/data_size_10000'"
      ]
     },
     "execution_count": 11,
     "metadata": {},
     "output_type": "execute_result"
    }
   ],
   "source": [
    "# to save dataset\n",
    "outdir = 'nss/'\n",
    "outdir = os.path.join(\n",
    "    outdir, \n",
    "    'num_size_{}'.format(num_size), \n",
    "    'seq_len_{}'.format(seq_len), \n",
    "    'data_size_{}'.format(data_size))\n",
    "if not os.path.exists(outdir): \n",
    "    os.makedirs(outdir)\n",
    "outdir"
   ]
  },
  {
   "cell_type": "code",
   "execution_count": 12,
   "metadata": {},
   "outputs": [],
   "source": [
    "save_txt(os.path.join(outdir, 'train_x.txt'), trainset[:, 0])\n",
    "save_txt(os.path.join(outdir, 'train_y.txt'), trainset[:, 1])\n",
    "save_txt(os.path.join(outdir, 'val_x.txt'), valset[:, 0])\n",
    "save_txt(os.path.join(outdir, 'val_y.txt'), valset[:, 1])\n",
    "save_txt(os.path.join(outdir, 'test_x.txt'), testset[:, 0])\n",
    "save_txt(os.path.join(outdir, 'test_y.txt'), testset[:, 1])"
   ]
  },
  {
   "cell_type": "code",
   "execution_count": 117,
   "metadata": {},
   "outputs": [
    {
     "data": {
      "text/plain": [
       "array([['<pad>'],\n",
       "       ['-1'],\n",
       "       ['1'],\n",
       "       ['1'],\n",
       "       ['1'],\n",
       "       ['1'],\n",
       "       ['1'],\n",
       "       ['1'],\n",
       "       ['1'],\n",
       "       ['1'],\n",
       "       ['1']], dtype='<U5')"
      ]
     },
     "execution_count": 117,
     "metadata": {},
     "output_type": "execute_result"
    }
   ],
   "source": [
    "y = [['<pad>'], ['-1']]\n",
    "y += [['1']] * 9\n",
    "y = np.array(y)\n",
    "y"
   ]
  },
  {
   "cell_type": "code",
   "execution_count": 118,
   "metadata": {},
   "outputs": [],
   "source": [
    "def is_int(v):\n",
    "    try:\n",
    "        int(v)\n",
    "        return True\n",
    "    except:\n",
    "        return False"
   ]
  },
  {
   "cell_type": "code",
   "execution_count": 127,
   "metadata": {},
   "outputs": [],
   "source": [
    "is_numeric = np.vectorize(is_int, otypes=[bool])"
   ]
  },
  {
   "cell_type": "code",
   "execution_count": 134,
   "metadata": {},
   "outputs": [
    {
     "data": {
      "text/plain": [
       "array([ 2,  3,  4,  5,  6,  7,  8,  9, 10])"
      ]
     },
     "execution_count": 134,
     "metadata": {},
     "output_type": "execute_result"
    }
   ],
   "source": [
    "np.where((is_numeric(y)) & (y!='-1'))[0]"
   ]
  },
  {
   "cell_type": "code",
   "execution_count": 124,
   "metadata": {},
   "outputs": [
    {
     "data": {
      "text/plain": [
       "array([ 0,  2,  3,  4,  5,  6,  7,  8,  9, 10])"
      ]
     },
     "execution_count": 124,
     "metadata": {},
     "output_type": "execute_result"
    }
   ],
   "source": [
    "np.where(y!='-1')[0]"
   ]
  },
  {
   "cell_type": "code",
   "execution_count": 113,
   "metadata": {},
   "outputs": [
    {
     "data": {
      "text/plain": [
       "array([['<pad>'],\n",
       "       ['1'],\n",
       "       ['1'],\n",
       "       ['1'],\n",
       "       ['1'],\n",
       "       ['1'],\n",
       "       ['1'],\n",
       "       ['1'],\n",
       "       ['1'],\n",
       "       ['1']], dtype='<U5')"
      ]
     },
     "execution_count": 113,
     "metadata": {},
     "output_type": "execute_result"
    }
   ],
   "source": [
    "np.array(y)"
   ]
  },
  {
   "cell_type": "code",
   "execution_count": 95,
   "metadata": {},
   "outputs": [
    {
     "data": {
      "text/plain": [
       "array([['completion'],\n",
       "       ['completion'],\n",
       "       ['completion'],\n",
       "       ['completion'],\n",
       "       ['completion'],\n",
       "       ['completion'],\n",
       "       ['completion'],\n",
       "       ['completion'],\n",
       "       ['completion'],\n",
       "       ['completion']], dtype='<U10')"
      ]
     },
     "execution_count": 95,
     "metadata": {},
     "output_type": "execute_result"
    }
   ],
   "source": [
    "np.full(np.array(y).shape, 'completion').astype(str)"
   ]
  },
  {
   "cell_type": "code",
   "execution_count": 94,
   "metadata": {},
   "outputs": [
    {
     "data": {
      "text/plain": [
       "True"
      ]
     },
     "execution_count": 94,
     "metadata": {},
     "output_type": "execute_result"
    }
   ],
   "source": [
    "np.array_equal(np.array(y), np.full(np.array(y).shape, 1).astype(str))"
   ]
  },
  {
   "cell_type": "code",
   "execution_count": 79,
   "metadata": {},
   "outputs": [
    {
     "data": {
      "text/plain": [
       "array([['-1'],\n",
       "       ['-1'],\n",
       "       ['-1'],\n",
       "       ['-1'],\n",
       "       ['-1'],\n",
       "       ['-1'],\n",
       "       ['-1'],\n",
       "       ['-1'],\n",
       "       ['-1'],\n",
       "       ['-1'],\n",
       "       ['-1']], dtype='<U2')"
      ]
     },
     "execution_count": 79,
     "metadata": {},
     "output_type": "execute_result"
    }
   ],
   "source": [
    "np.full(np.array(y).shape, '-1')"
   ]
  },
  {
   "cell_type": "code",
   "execution_count": 61,
   "metadata": {},
   "outputs": [
    {
     "name": "stdout",
     "output_type": "stream",
     "text": [
      "(11, 10)\n"
     ]
    },
    {
     "data": {
      "text/plain": [
       "array([['0', '1', '2', '3', '4', '5', '6', '7', '8', '9'],\n",
       "       ['0', '1', '2', '3', '4', '5', '6', '7', '8', '9'],\n",
       "       ['0', '1', '2', '3', '4', '5', '6', '7', '8', '9'],\n",
       "       ['0', '1', '2', '3', '4', '5', '6', '7', '8', '9'],\n",
       "       ['0', '1', '2', '3', '4', '5', '6', '7', '8', '9'],\n",
       "       ['0', '1', '2', '3', '4', '5', '6', '7', '8', '9'],\n",
       "       ['0', '1', '2', '3', '4', '5', '6', '7', '8', '9'],\n",
       "       ['0', '1', '2', '3', '4', '5', '6', '7', '8', '9'],\n",
       "       ['0', '1', '2', '3', '4', '5', '6', '7', '8', '9'],\n",
       "       ['0', '1', '2', '3', '4', '5', '6', '7', '8', '9'],\n",
       "       ['0', '1', '2', '3', '4', '5', '6', '7', '8', '9']], dtype='<U21')"
      ]
     },
     "execution_count": 61,
     "metadata": {},
     "output_type": "execute_result"
    }
   ],
   "source": [
    "import numpy as np\n",
    "\n",
    "x = np.arange(10).reshape(1, 10)\n",
    "x = np.repeat(x, 11, axis=0)\n",
    "x = x.astype(str)\n",
    "print(x.shape)\n",
    "x"
   ]
  },
  {
   "cell_type": "code",
   "execution_count": 62,
   "metadata": {},
   "outputs": [
    {
     "data": {
      "text/plain": [
       "array([[-1],\n",
       "       [-1],\n",
       "       [ 0],\n",
       "       [ 1],\n",
       "       [ 2],\n",
       "       [ 3],\n",
       "       [ 4],\n",
       "       [ 5],\n",
       "       [ 6],\n",
       "       [ 7],\n",
       "       [ 8]])"
      ]
     },
     "execution_count": 62,
     "metadata": {},
     "output_type": "execute_result"
    }
   ],
   "source": [
    "y = [-1]\n",
    "y += [i for i in range(-1, x.shape[1]-1)]\n",
    "y = np.array(y).reshape(x.shape[0], 1)\n",
    "y"
   ]
  },
  {
   "cell_type": "code",
   "execution_count": 63,
   "metadata": {},
   "outputs": [
    {
     "data": {
      "text/plain": [
       "array([ 2,  3,  4,  5,  6,  7,  8,  9, 10])"
      ]
     },
     "execution_count": 63,
     "metadata": {},
     "output_type": "execute_result"
    }
   ],
   "source": [
    "swap_idxes = np.arange(x.shape[0])[np.where(y!=-1)[0]]\n",
    "swap_idxes"
   ]
  },
  {
   "cell_type": "code",
   "execution_count": 64,
   "metadata": {},
   "outputs": [],
   "source": [
    "x[swap_idxes, y[swap_idxes].T], x[swap_idxes, y[swap_idxes].T+1] = \\\n",
    "x[swap_idxes, y[swap_idxes].T+1], x[swap_idxes, y[swap_idxes].T]"
   ]
  },
  {
   "cell_type": "code",
   "execution_count": 65,
   "metadata": {},
   "outputs": [
    {
     "data": {
      "text/plain": [
       "array([['0', '1', '2', '3', '4', '5', '6', '7', '8', '9'],\n",
       "       ['0', '1', '2', '3', '4', '5', '6', '7', '8', '9'],\n",
       "       ['1', '0', '2', '3', '4', '5', '6', '7', '8', '9'],\n",
       "       ['0', '2', '1', '3', '4', '5', '6', '7', '8', '9'],\n",
       "       ['0', '1', '3', '2', '4', '5', '6', '7', '8', '9'],\n",
       "       ['0', '1', '2', '4', '3', '5', '6', '7', '8', '9'],\n",
       "       ['0', '1', '2', '3', '5', '4', '6', '7', '8', '9'],\n",
       "       ['0', '1', '2', '3', '4', '6', '5', '7', '8', '9'],\n",
       "       ['0', '1', '2', '3', '4', '5', '7', '6', '8', '9'],\n",
       "       ['0', '1', '2', '3', '4', '5', '6', '8', '7', '9'],\n",
       "       ['0', '1', '2', '3', '4', '5', '6', '7', '9', '8']], dtype='<U21')"
      ]
     },
     "execution_count": 65,
     "metadata": {},
     "output_type": "execute_result"
    }
   ],
   "source": [
    "x"
   ]
  },
  {
   "cell_type": "code",
   "execution_count": 46,
   "metadata": {},
   "outputs": [
    {
     "data": {
      "text/plain": [
       "array([[0, 1, 2, 3, 4, 5, 6, 7, 8, 9]])"
      ]
     },
     "execution_count": 46,
     "metadata": {},
     "output_type": "execute_result"
    }
   ],
   "source": [
    "y[swap_idxes].T"
   ]
  },
  {
   "cell_type": "code",
   "execution_count": 19,
   "metadata": {},
   "outputs": [
    {
     "data": {
      "text/plain": [
       "array([['9'],\n",
       "       ['0'],\n",
       "       ['1'],\n",
       "       ['2'],\n",
       "       ['3'],\n",
       "       ['4'],\n",
       "       ['5'],\n",
       "       ['6'],\n",
       "       ['7'],\n",
       "       ['8'],\n",
       "       ['9']], dtype='<U21')"
      ]
     },
     "execution_count": 19,
     "metadata": {},
     "output_type": "execute_result"
    }
   ],
   "source": [
    "x[np.arange(len(x)), y.T].T"
   ]
  },
  {
   "cell_type": "code",
   "execution_count": 60,
   "metadata": {},
   "outputs": [
    {
     "ename": "AttributeError",
     "evalue": "'numpy.ndarray' object has no attribute 'isdigit'",
     "output_type": "error",
     "traceback": [
      "\u001b[0;31m---------------------------------------------------------------------------\u001b[0m",
      "\u001b[0;31mAttributeError\u001b[0m                            Traceback (most recent call last)",
      "\u001b[0;32m<ipython-input-60-aa844f209b7c>\u001b[0m in \u001b[0;36m<module>\u001b[0;34m\u001b[0m\n\u001b[0;32m----> 1\u001b[0;31m \u001b[0mnp\u001b[0m\u001b[0;34m.\u001b[0m\u001b[0mwhere\u001b[0m\u001b[0;34m(\u001b[0m\u001b[0my\u001b[0m\u001b[0;34m.\u001b[0m\u001b[0misdigit\u001b[0m\u001b[0;34m(\u001b[0m\u001b[0;34m)\u001b[0m\u001b[0;34m)\u001b[0m\u001b[0;34m\u001b[0m\u001b[0;34m\u001b[0m\u001b[0m\n\u001b[0m",
      "\u001b[0;31mAttributeError\u001b[0m: 'numpy.ndarray' object has no attribute 'isdigit'"
     ]
    }
   ],
   "source": [
    "np.where(y.isdigit())"
   ]
  },
  {
   "cell_type": "code",
   "execution_count": 54,
   "metadata": {},
   "outputs": [
    {
     "ename": "IndexError",
     "evalue": "arrays used as indices must be of integer (or boolean) type",
     "output_type": "error",
     "traceback": [
      "\u001b[0;31m---------------------------------------------------------------------------\u001b[0m",
      "\u001b[0;31mIndexError\u001b[0m                                Traceback (most recent call last)",
      "\u001b[0;32m<ipython-input-54-ad1c80eb2e12>\u001b[0m in \u001b[0;36m<module>\u001b[0;34m\u001b[0m\n\u001b[0;32m----> 1\u001b[0;31m \u001b[0mx\u001b[0m\u001b[0;34m[\u001b[0m\u001b[0;34m:\u001b[0m\u001b[0;34m,\u001b[0m \u001b[0midx\u001b[0m\u001b[0;34m]\u001b[0m\u001b[0;34m\u001b[0m\u001b[0;34m\u001b[0m\u001b[0m\n\u001b[0m",
      "\u001b[0;31mIndexError\u001b[0m: arrays used as indices must be of integer (or boolean) type"
     ]
    }
   ],
   "source": [
    "x[:, idx]"
   ]
  },
  {
   "cell_type": "code",
   "execution_count": null,
   "metadata": {},
   "outputs": [],
   "source": [
    "321 -> 123\n",
    "bubble sort:\n",
    "    0 -> 231\n",
    "    1 -> 213\n",
    "    0 -> 123\n",
    "\n",
    "a better sort?:\n",
    "    0 1 -> 123"
   ]
  },
  {
   "cell_type": "code",
   "execution_count": null,
   "metadata": {},
   "outputs": [],
   "source": [
    "4321 -> 1234\n",
    "bubble sort:\n",
    "    0 -> 3421\n",
    "    1 -> 3241\n",
    "    0 -> 2341\n",
    "    2 -> 2314\n",
    "    1 -> 2134\n",
    "    0 -> 1234\n",
    "    \n",
    "a better sort?:\n",
    "    "
   ]
  },
  {
   "cell_type": "code",
   "execution_count": 73,
   "metadata": {},
   "outputs": [
    {
     "data": {
      "text/plain": [
       "array([0, 4, 0, 2, 5])"
      ]
     },
     "execution_count": 73,
     "metadata": {},
     "output_type": "execute_result"
    }
   ],
   "source": [
    "np.random.randint(0, 9, (5))"
   ]
  },
  {
   "cell_type": "code",
   "execution_count": null,
   "metadata": {},
   "outputs": [],
   "source": [
    "0 0 4 2 5\n",
    "0 0 2 4 5"
   ]
  },
  {
   "cell_type": "code",
   "execution_count": 76,
   "metadata": {},
   "outputs": [],
   "source": [
    "import torch\n",
    "# torch.nn.utils.rnn.pack_padded_sequence()\n",
    "# torch.nn.utils.rnn.pack_sequence()"
   ]
  },
  {
   "cell_type": "code",
   "execution_count": 77,
   "metadata": {},
   "outputs": [
    {
     "ename": "ValueError",
     "evalue": "invalid literal for int() with base 10: '<pad>'",
     "output_type": "error",
     "traceback": [
      "\u001b[0;31m---------------------------------------------------------------------------\u001b[0m",
      "\u001b[0;31mValueError\u001b[0m                                Traceback (most recent call last)",
      "\u001b[0;32m<ipython-input-77-d5c42dcf4056>\u001b[0m in \u001b[0;36m<module>\u001b[0;34m\u001b[0m\n\u001b[0;32m----> 1\u001b[0;31m \u001b[0mnp\u001b[0m\u001b[0;34m.\u001b[0m\u001b[0marray\u001b[0m\u001b[0;34m(\u001b[0m\u001b[0;34m[\u001b[0m\u001b[0;34m'<pad>'\u001b[0m\u001b[0;34m]\u001b[0m\u001b[0;34m)\u001b[0m\u001b[0;34m.\u001b[0m\u001b[0mastype\u001b[0m\u001b[0;34m(\u001b[0m\u001b[0mint\u001b[0m\u001b[0;34m)\u001b[0m\u001b[0;34m\u001b[0m\u001b[0;34m\u001b[0m\u001b[0m\n\u001b[0m",
      "\u001b[0;31mValueError\u001b[0m: invalid literal for int() with base 10: '<pad>'"
     ]
    }
   ],
   "source": [
    "np.array(['<pad>']).astype(int)"
   ]
  },
  {
   "cell_type": "code",
   "execution_count": null,
   "metadata": {},
   "outputs": [],
   "source": []
  }
 ],
 "metadata": {
  "kernelspec": {
   "display_name": "Python 3",
   "language": "python",
   "name": "python3"
  },
  "language_info": {
   "codemirror_mode": {
    "name": "ipython",
    "version": 3
   },
   "file_extension": ".py",
   "mimetype": "text/x-python",
   "name": "python",
   "nbconvert_exporter": "python",
   "pygments_lexer": "ipython3",
   "version": "3.7.6"
  }
 },
 "nbformat": 4,
 "nbformat_minor": 2
}
