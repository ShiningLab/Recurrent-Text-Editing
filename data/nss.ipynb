{
 "cells": [
  {
   "cell_type": "markdown",
   "metadata": {},
   "source": [
    "# Dataset for the Number Sequence Sorting (NSS) Task (w/ Bubble sort)\n",
    "\n",
    "Given a sequence of numbers, the code here will generate the next step in the bubble sort for the given number sequence. The next step is the index of the number that needs to be swapped with the next number. \n",
    "\n",
    "For example, \n",
    "input: [0, 2, 1] -> output: [1]\n",
    "\n",
    "If the number sequence is already sorted, then the output is [-1]\n"
   ]
  },
  {
   "cell_type": "code",
   "execution_count": 4,
   "metadata": {},
   "outputs": [],
   "source": [
    "# dependency\n",
    "# public\n",
    "import os\n",
    "import numpy as np\n",
    "from tqdm import tqdm\n",
    "# private\n",
    "from utils import *"
   ]
  },
  {
   "cell_type": "code",
   "execution_count": 15,
   "metadata": {},
   "outputs": [],
   "source": [
    "# class for data generation of the Number Sequence Sorting (NSS) problem \n",
    "class NumberSequenceSorting(): \n",
    "    def __init__(self, seq_len, data_size, num_size):\n",
    "        super().__init__()\n",
    "        self.seq_len = seq_len\n",
    "        self.data_size = data_size\n",
    "        self.num_size = num_size \n",
    "        \n",
    "#     def find_next_step_in_bubble_sort(self, seq): \n",
    "#         n = len(seq) \n",
    "#         for j in range(0, n-1):\n",
    "#             if seq[j] > seq[j+1]:\n",
    "#                 return j\n",
    "#         return -1\n",
    "    \n",
    "#     def bubble_sort_step(self, seq, j): \n",
    "#         # perform one bubble sort step\n",
    "#         seq[j], seq[j+1] = seq[j+1], seq[j] \n",
    "#         return seq\n",
    "    \n",
    "    def convert_to_str(self, seq:list) -> str:\n",
    "        seq = [str(number) for number in seq]\n",
    "        return ' '.join(seq) \n",
    "    \n",
    "    def generate_end2end(self):\n",
    "        # generate random number sequence sa sample\n",
    "        # with its sorted result as label\n",
    "        xs, ys = [], []\n",
    "        # to filter out duplicates\n",
    "        num_seq_set = set()\n",
    "        for i in tqdm(range(self.data_size)):\n",
    "            while True:\n",
    "                # get a random number sequence\n",
    "                x = np.random.randint(self.num_size, size=[self.seq_len])\n",
    "                # check duplicates\n",
    "                y = np.sort(x)\n",
    "                if str(y) in num_seq_set:\n",
    "                    continue\n",
    "                else:\n",
    "                    num_seq_set.add(str(y))\n",
    "                    y = np.sort(x)\n",
    "                    # convert a list of int to string\n",
    "                    x = self.convert_to_str(x)\n",
    "                    y = self.convert_to_str(y)\n",
    "                    # append to dataset\n",
    "                    xs.append(x)\n",
    "                    ys.append(y)\n",
    "                    break\n",
    "                    \n",
    "        return xs, ys\n",
    "                \n",
    "#     def generate_recursive(self): \n",
    "#         xs, ys = [], []\n",
    "#         # generate random number sequences\n",
    "#         x = np.random.randint(self.num_size, size=[self.data_size, self.seq_len])\n",
    "#         xs.append(x)\n",
    "#         y = [find_next_step_in_bubble_sort(s) for s in x]\n",
    "#         ys = y.copy()\n",
    "\n",
    "#         while not all(np.equal(y, -1)):\n",
    "#             for i in range(x.shape[0]):\n",
    "#                 if y[i] != -1:\n",
    "#                     x[i] = bubble_sort_step(x[i], y[i])\n",
    "#                     y[i] = find_next_step_in_bubble_sort(x[i])\n",
    "#                     xs.append(x[i])\n",
    "#                     ys.append(y[i])\n",
    "\n",
    "#         xs = np.vstack(xs)\n",
    "#         ys = np.array(ys)\n",
    "\n",
    "#         # randomly select indices\n",
    "#         indices = np.random.choice(xs.shape[0], data_size, replace=False)\n",
    "#         xs = xs[indices]\n",
    "#         ys = ys[indices]\n",
    "\n",
    "#         return xs, ys"
   ]
  },
  {
   "cell_type": "markdown",
   "metadata": {},
   "source": [
    "## Data Generation"
   ]
  },
  {
   "cell_type": "code",
   "execution_count": 16,
   "metadata": {},
   "outputs": [],
   "source": [
    "# data parameters \n",
    "seq_len = 5\n",
    "data_size = 10000\n",
    "num_size = 100  # only allow number 0 -9 when setting to 10"
   ]
  },
  {
   "cell_type": "code",
   "execution_count": 17,
   "metadata": {},
   "outputs": [
    {
     "name": "stderr",
     "output_type": "stream",
     "text": [
      "100%|██████████| 10000/10000 [00:01<00:00, 7697.80it/s]\n"
     ]
    }
   ],
   "source": [
    "generator = NumberSequenceSorting(seq_len, data_size, num_size)\n",
    "# generator.generate_recursive()\n",
    "xs, ys = generator.generate_end2end()"
   ]
  },
  {
   "cell_type": "code",
   "execution_count": 18,
   "metadata": {},
   "outputs": [
    {
     "data": {
      "text/plain": [
       "10000"
      ]
     },
     "execution_count": 18,
     "metadata": {},
     "output_type": "execute_result"
    }
   ],
   "source": [
    "len(xs)"
   ]
  },
  {
   "cell_type": "code",
   "execution_count": 19,
   "metadata": {},
   "outputs": [
    {
     "data": {
      "text/plain": [
       "['77 78 42 36 51',\n",
       " '73 85 10 9 54',\n",
       " '72 30 55 65 10',\n",
       " '95 54 30 97 84',\n",
       " '83 10 18 8 38',\n",
       " '43 55 39 26 13',\n",
       " '8 74 10 59 97',\n",
       " '53 56 93 70 22',\n",
       " '68 12 42 78 31',\n",
       " '54 21 85 29 2']"
      ]
     },
     "execution_count": 19,
     "metadata": {},
     "output_type": "execute_result"
    }
   ],
   "source": [
    "xs[:10]"
   ]
  },
  {
   "cell_type": "code",
   "execution_count": 20,
   "metadata": {},
   "outputs": [
    {
     "data": {
      "text/plain": [
       "10000"
      ]
     },
     "execution_count": 20,
     "metadata": {},
     "output_type": "execute_result"
    }
   ],
   "source": [
    "len(ys)"
   ]
  },
  {
   "cell_type": "code",
   "execution_count": 21,
   "metadata": {},
   "outputs": [
    {
     "data": {
      "text/plain": [
       "['36 42 51 77 78',\n",
       " '9 10 54 73 85',\n",
       " '10 30 55 65 72',\n",
       " '30 54 84 95 97',\n",
       " '8 10 18 38 83',\n",
       " '13 26 39 43 55',\n",
       " '8 10 59 74 97',\n",
       " '22 53 56 70 93',\n",
       " '12 31 42 68 78',\n",
       " '2 21 29 54 85']"
      ]
     },
     "execution_count": 21,
     "metadata": {},
     "output_type": "execute_result"
    }
   ],
   "source": [
    "ys[:10]"
   ]
  },
  {
   "cell_type": "code",
   "execution_count": 22,
   "metadata": {},
   "outputs": [
    {
     "name": "stdout",
     "output_type": "stream",
     "text": [
      "train size 7000 (7000, 2)\n",
      "val size 1500 (1500, 2)\n",
      "test size 1500 (1500, 2)\n"
     ]
    }
   ],
   "source": [
    "# train val test split\n",
    "dataset = np.array([(x, y) for x, y in zip(xs, ys)])\n",
    "data_size = dataset.shape[0]\n",
    "indices = np.random.permutation(data_size)\n",
    "train_size = int(0.7*data_size)\n",
    "val_size = int(0.15*data_size)\n",
    "test_size = data_size - train_size - val_size\n",
    "train_idxes = indices[:train_size]\n",
    "val_idxes = indices[train_size: train_size+val_size]\n",
    "test_idxes = indices[train_size+val_size:]\n",
    "trainset = dataset[train_idxes]\n",
    "valset = dataset[val_idxes]\n",
    "testset = dataset[test_idxes]\n",
    "print('train size', train_size, trainset.shape)\n",
    "print('val size', val_size, valset.shape)\n",
    "print('test size', test_size, testset.shape)"
   ]
  },
  {
   "cell_type": "code",
   "execution_count": 11,
   "metadata": {},
   "outputs": [
    {
     "data": {
      "text/plain": [
       "'nss/num_size_10/seq_len_5/data_size_10000'"
      ]
     },
     "execution_count": 11,
     "metadata": {},
     "output_type": "execute_result"
    }
   ],
   "source": [
    "# to save dataset\n",
    "outdir = 'nss/'\n",
    "outdir = os.path.join(\n",
    "    outdir, \n",
    "    'num_size_{}'.format(num_size), \n",
    "    'seq_len_{}'.format(seq_len), \n",
    "    'data_size_{}'.format(data_size))\n",
    "if not os.path.exists(outdir): \n",
    "    os.makedirs(outdir)\n",
    "outdir"
   ]
  },
  {
   "cell_type": "code",
   "execution_count": 12,
   "metadata": {},
   "outputs": [],
   "source": [
    "save_txt(os.path.join(outdir, 'train_x.txt'), trainset[:, 0])\n",
    "save_txt(os.path.join(outdir, 'train_y.txt'), trainset[:, 1])\n",
    "save_txt(os.path.join(outdir, 'val_x.txt'), valset[:, 0])\n",
    "save_txt(os.path.join(outdir, 'val_y.txt'), valset[:, 1])\n",
    "save_txt(os.path.join(outdir, 'test_x.txt'), testset[:, 0])\n",
    "save_txt(os.path.join(outdir, 'test_y.txt'), testset[:, 1])"
   ]
  },
  {
   "cell_type": "markdown",
   "metadata": {},
   "source": [
    "# Archive"
   ]
  },
  {
   "cell_type": "code",
   "execution_count": 2,
   "metadata": {},
   "outputs": [],
   "source": [
    "# # helper functions for bubble sort \n",
    "# def bubble_sort(seq): \n",
    "#     n = len(seq) \n",
    "#     for i in range(n): \n",
    "#         for j in range(0, n-i-1):\n",
    "#             if seq[j] > seq[j+1]: \n",
    "#                 seq[j], seq[j+1] = seq[j+1], seq[j] \n",
    "#     return seq\n",
    "\n",
    "# def find_next_step_in_bubble_sort(seq): \n",
    "#     n = len(seq) \n",
    "#     for j in range(0, n-1):\n",
    "#         if seq[j] > seq[j+1]:\n",
    "#             return j\n",
    "#     return -1\n",
    "\n",
    "# def bubble_sort_step(seq, j): \n",
    "#     # perform one bubble sort step\n",
    "#     seq[j], seq[j+1] = seq[j+1], seq[j] \n",
    "#     return seq\n",
    "\n",
    "# # ------------------------------------------\n",
    "# # test the bubble sort algo\n",
    "# # seq = np.random.randint(10, size=[10,])\n",
    "# seq = [10, 9, 8, 7, 6, 5, 4, 3, 2, 1]\n",
    "# print(seq)\n",
    "# a = seq\n",
    "# # bubble_sort(a) \n",
    "# print(a)\n",
    "\n",
    "# i = 0\n",
    "# j = 0\n",
    "# while True: \n",
    "#     j = find_next_step_in_bubble_sort(seq)\n",
    "#     i += 1\n",
    "#     print(i, j)\n",
    "#     if j == -1: \n",
    "#         break\n",
    "#     seq = bubble_sort_step(seq, j)\n",
    "#     print(seq)\n",
    "#     print()\n",
    "    \n",
    "# print(seq)     "
   ]
  },
  {
   "cell_type": "code",
   "execution_count": null,
   "metadata": {},
   "outputs": [],
   "source": []
  }
 ],
 "metadata": {
  "kernelspec": {
   "display_name": "Python 3",
   "language": "python",
   "name": "python3"
  },
  "language_info": {
   "codemirror_mode": {
    "name": "ipython",
    "version": 3
   },
   "file_extension": ".py",
   "mimetype": "text/x-python",
   "name": "python",
   "nbconvert_exporter": "python",
   "pygments_lexer": "ipython3",
   "version": "3.7.6"
  }
 },
 "nbformat": 4,
 "nbformat_minor": 2
}
