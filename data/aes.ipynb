{
 "cells": [
  {
   "cell_type": "markdown",
   "metadata": {},
   "source": [
    "# Dataset for the Arithmetic Equation Simplification (AES) Task"
   ]
  },
  {
   "cell_type": "code",
   "execution_count": 1,
   "metadata": {},
   "outputs": [],
   "source": [
    "#!/usr/bin/env python\n",
    "# -*- coding:utf-8 -*-\n",
    "\n",
    "__author__ = 'Shining'\n",
    "__email__ = 'mrshininnnnn@gmail.com'"
   ]
  },
  {
   "cell_type": "code",
   "execution_count": 2,
   "metadata": {},
   "outputs": [],
   "source": [
    "# dependency\n",
    "# public\n",
    "import os\n",
    "import numpy as np\n",
    "from tqdm import tqdm\n",
    "# private\n",
    "from utils import save_txt"
   ]
  },
  {
   "cell_type": "code",
   "execution_count": 3,
   "metadata": {},
   "outputs": [],
   "source": [
    "# Class to generate dataset fro Arithmetic Equation Simplification (AES)\n",
    "class ArithmeticEquationSimplification(): \n",
    "    \"\"\"docstring for ArithmeticEquationSimplification\"\"\"\n",
    "    def __init__(self, operators, num_size):\n",
    "        super().__init__()\n",
    "        self.operators = operators\n",
    "        self.pos_digits = np.arange(2, num_size+2).tolist()\n",
    "        self.neg_digits = np.arange(-num_size, -1).tolist()\n",
    "        self.digits = self.pos_digits + self.neg_digits\n",
    "    \n",
    "    def gen_base_dict(self):\n",
    "        return {str(i):[] for i in self.pos_digits}\n",
    "    \n",
    "    def expand_base_dict(self):\n",
    "        for a in self.digits:\n",
    "            for o in self.operators:\n",
    "                for b in self.pos_digits:\n",
    "                    try:\n",
    "                        e = [str(a), o, str(b)]\n",
    "                        v = str(eval(''.join(e)))\n",
    "                        e[0] = e[0].replace('-', '- ')\n",
    "                        e = ' '.join(list(e))\n",
    "                        if v in self.base_dict:\n",
    "                            self.base_dict[v].append('( {} )'.format(e))\n",
    "                    except:\n",
    "                        pass\n",
    "    \n",
    "    def gen_operation(self, seq_len):\n",
    "        if seq_len == 1:\n",
    "            a = np.random.choice(self.digits)\n",
    "            return [str(a)]\n",
    "        else:\n",
    "            left_side  = self.gen_operation(seq_len-1)\n",
    "            o = np.random.choice(self.operators)\n",
    "            b = np.random.choice(self.pos_digits)\n",
    "            return left_side + [o, str(b)]\n",
    "    \n",
    "    def gen_operation_list(self, seq_len, data_size):\n",
    "        # to control the data size\n",
    "        operations_pool = set()\n",
    "        for i in tqdm(range(data_size)):\n",
    "            while True: \n",
    "                # to avoid duplicates\n",
    "                operation = self.gen_operation(seq_len) \n",
    "                if ''.join(operation) in operations_pool: \n",
    "                    continue\n",
    "                else:\n",
    "                    operations_pool.add(''.join(operation)) \n",
    "                # to avoid zero division error\n",
    "                try: \n",
    "                    # flost to int to string\n",
    "                    value = eval(''.join(operation))\n",
    "                    if value % 1 != 0.: \n",
    "                        continue\n",
    "                    else:\n",
    "                        value = str(int(value))\n",
    "                        # to keep vocab size\n",
    "                        if value in self.value_dict: \n",
    "                            self.value_dict[value].append(operation)\n",
    "                            break\n",
    "                except: \n",
    "                    pass\n",
    "    \n",
    "    def gen_equation_list(self):\n",
    "        ys = []\n",
    "        for v in self.value_dict:\n",
    "            for y in self.value_dict[v]:\n",
    "                y = y[0].replace('-', '- ').split() + y[1:]\n",
    "                y += [\"==\"] + [v]\n",
    "                ys.append(' '.join(y))\n",
    "        return ys\n",
    "    \n",
    "    def replace_numbers(self, ys):\n",
    "        xs = []\n",
    "        for y in ys:\n",
    "            y = y.split()\n",
    "            num_idx = [i for i, token in enumerate(y) if token.isdigit()] \n",
    "            num_to_replace = np.random.choice(range(len(num_idx)+1))\n",
    "            idx_to_replace = np.random.choice(num_idx, num_to_replace, False)\n",
    "            for i in idx_to_replace:\n",
    "                y[i] = np.random.choice(self.base_dict[y[i]])\n",
    "            xs.append(' '.join(y))\n",
    "        return xs\n",
    "                \n",
    "    def generate(self, seq_len, data_size):\n",
    "        # input sequences, output sequences\n",
    "        xs, ys = [], []\n",
    "        self.base_dict = self.gen_base_dict()\n",
    "        self.value_dict = self.gen_base_dict()\n",
    "        self.expand_base_dict()\n",
    "        self.gen_operation_list(\n",
    "            seq_len=seq_len, \n",
    "            data_size=data_size)\n",
    "        ys = self.gen_equation_list()\n",
    "        xs = self.replace_numbers(ys)\n",
    "        \n",
    "        return xs, ys"
   ]
  },
  {
   "cell_type": "code",
   "execution_count": 4,
   "metadata": {},
   "outputs": [],
   "source": [
    "# data parameters \n",
    "N = 100\n",
    "L = 5\n",
    "D = 10000\n",
    "operators = ['+', '-', '*', '/']"
   ]
  },
  {
   "cell_type": "code",
   "execution_count": 5,
   "metadata": {},
   "outputs": [
    {
     "name": "stderr",
     "output_type": "stream",
     "text": [
      "100%|██████████| 10000/10000 [00:20<00:00, 476.52it/s]\n"
     ]
    }
   ],
   "source": [
    "aes = ArithmeticEquationSimplification(operators, N)\n",
    "xs, ys = aes.generate(L-1, D)"
   ]
  },
  {
   "cell_type": "code",
   "execution_count": 6,
   "metadata": {},
   "outputs": [
    {
     "data": {
      "text/plain": [
       "10000"
      ]
     },
     "execution_count": 6,
     "metadata": {},
     "output_type": "execute_result"
    }
   ],
   "source": [
    "len(xs)"
   ]
  },
  {
   "cell_type": "code",
   "execution_count": 7,
   "metadata": {},
   "outputs": [
    {
     "data": {
      "text/plain": [
       "['82 + ( - 5 + 45 ) - 26 - 94 == ( - 40 + 42 )',\n",
       " '- ( 12 + 13 ) / ( - 9 + 37 ) * ( 46 - 18 ) + ( 3 + 24 ) == ( 49 - 47 )',\n",
       " '53 + 89 - 96 - 44 == 2',\n",
       " '3 * 10 - 68 + 40 == 2',\n",
       " '29 + 48 - 44 - 31 == 2',\n",
       " '( - 28 + 51 ) + ( 35 + 53 ) / 4 - ( 37 + 6 ) == ( 75 - 73 )',\n",
       " '- ( - 31 + 58 ) + ( - 6 + 74 ) - 35 - 4 == ( - 27 + 29 )',\n",
       " '40 - 90 - ( - 42 + 77 ) + 87 == ( - 62 + 64 )',\n",
       " '- ( 51 - 40 ) + ( - 7 + 45 ) - 4 - 21 == 2',\n",
       " '54 - 10 + 23 - ( - 33 + 98 ) == 2',\n",
       " '- ( 69 - 57 ) - ( - 12 + 32 ) + ( 71 + 4 ) - ( 16 + 25 ) == ( - 25 + 27 )',\n",
       " '- 72 / ( 17 + 62 ) * 79 + ( 77 - 3 ) == ( 13 - 11 )',\n",
       " '( - 10 + 82 ) - ( - 57 + 98 ) + 44 - 73 == 2',\n",
       " '( 63 + 12 ) + ( 47 - 22 ) - ( - 10 + 38 ) - ( 11 + 59 ) == ( 11 - 9 )',\n",
       " '- ( - 37 + 64 ) / 9 - ( - 76 + 100 ) + 29 == 2']"
      ]
     },
     "execution_count": 7,
     "metadata": {},
     "output_type": "execute_result"
    }
   ],
   "source": [
    "xs[:15]"
   ]
  },
  {
   "cell_type": "code",
   "execution_count": 8,
   "metadata": {},
   "outputs": [
    {
     "data": {
      "text/plain": [
       "10000"
      ]
     },
     "execution_count": 8,
     "metadata": {},
     "output_type": "execute_result"
    }
   ],
   "source": [
    "len(ys)"
   ]
  },
  {
   "cell_type": "code",
   "execution_count": 9,
   "metadata": {},
   "outputs": [
    {
     "data": {
      "text/plain": [
       "['82 + 40 - 26 - 94 == 2',\n",
       " '- 25 / 28 * 28 + 27 == 2',\n",
       " '53 + 89 - 96 - 44 == 2',\n",
       " '3 * 10 - 68 + 40 == 2',\n",
       " '29 + 48 - 44 - 31 == 2',\n",
       " '23 + 88 / 4 - 43 == 2',\n",
       " '- 27 + 68 - 35 - 4 == 2',\n",
       " '40 - 90 - 35 + 87 == 2',\n",
       " '- 11 + 38 - 4 - 21 == 2',\n",
       " '54 - 10 + 23 - 65 == 2',\n",
       " '- 12 - 20 + 75 - 41 == 2',\n",
       " '- 72 / 79 * 79 + 74 == 2',\n",
       " '72 - 41 + 44 - 73 == 2',\n",
       " '75 + 25 - 28 - 70 == 2',\n",
       " '- 27 / 9 - 24 + 29 == 2']"
      ]
     },
     "execution_count": 9,
     "metadata": {},
     "output_type": "execute_result"
    }
   ],
   "source": [
    "ys[:15]"
   ]
  },
  {
   "cell_type": "code",
   "execution_count": 10,
   "metadata": {},
   "outputs": [
    {
     "data": {
      "text/plain": [
       "0.1732"
      ]
     },
     "execution_count": 10,
     "metadata": {},
     "output_type": "execute_result"
    }
   ],
   "source": [
    "sum([x == y for x, y in zip(xs, ys)])/len(xs)"
   ]
  },
  {
   "cell_type": "code",
   "execution_count": 11,
   "metadata": {},
   "outputs": [
    {
     "name": "stdout",
     "output_type": "stream",
     "text": [
      "train size 7000 (7000, 2)\n",
      "val size 1500 (1500, 2)\n",
      "test size 1500 (1500, 2)\n"
     ]
    }
   ],
   "source": [
    "# train val test split\n",
    "dataset = np.array([(x, y) for x, y in zip(xs, ys)])\n",
    "data_size = dataset.shape[0]\n",
    "indices = np.random.permutation(data_size)\n",
    "train_size = int(0.7*data_size)\n",
    "val_size = int(0.15*data_size)\n",
    "test_size = data_size - train_size - val_size\n",
    "train_idxes = indices[:train_size]\n",
    "val_idxes = indices[train_size: train_size+val_size]\n",
    "test_idxes = indices[train_size+val_size:]\n",
    "trainset = dataset[train_idxes]\n",
    "valset = dataset[val_idxes]\n",
    "testset = dataset[test_idxes]\n",
    "print('train size', train_size, trainset.shape)\n",
    "print('val size', val_size, valset.shape)\n",
    "print('test size', test_size, testset.shape)"
   ]
  },
  {
   "cell_type": "code",
   "execution_count": 12,
   "metadata": {},
   "outputs": [
    {
     "data": {
      "text/plain": [
       "'aes/100N/5L/10000D'"
      ]
     },
     "execution_count": 12,
     "metadata": {},
     "output_type": "execute_result"
    }
   ],
   "source": [
    "# to save dataset\n",
    "outdir = 'aes/'\n",
    "outdir = os.path.join(\n",
    "    outdir, \n",
    "    '{}N'.format(N), \n",
    "    '{}L'.format(L), \n",
    "    '{}D'.format(D))\n",
    "if not os.path.exists(outdir): \n",
    "    os.makedirs(outdir)\n",
    "outdir"
   ]
  },
  {
   "cell_type": "code",
   "execution_count": 13,
   "metadata": {},
   "outputs": [],
   "source": [
    "save_txt(os.path.join(outdir, 'train_x.txt'), trainset[:, 0])\n",
    "save_txt(os.path.join(outdir, 'train_y.txt'), trainset[:, 1])\n",
    "save_txt(os.path.join(outdir, 'val_x.txt'), valset[:, 0])\n",
    "save_txt(os.path.join(outdir, 'val_y.txt'), valset[:, 1])\n",
    "save_txt(os.path.join(outdir, 'test_x.txt'), testset[:, 0])\n",
    "save_txt(os.path.join(outdir, 'test_y.txt'), testset[:, 1])"
   ]
  },
  {
   "cell_type": "code",
   "execution_count": null,
   "metadata": {},
   "outputs": [],
   "source": []
  }
 ],
 "metadata": {
  "kernelspec": {
   "display_name": "Python 3",
   "language": "python",
   "name": "python3"
  },
  "language_info": {
   "codemirror_mode": {
    "name": "ipython",
    "version": 3
   },
   "file_extension": ".py",
   "mimetype": "text/x-python",
   "name": "python",
   "nbconvert_exporter": "python",
   "pygments_lexer": "ipython3",
   "version": "3.7.7"
  }
 },
 "nbformat": 4,
 "nbformat_minor": 4
}
