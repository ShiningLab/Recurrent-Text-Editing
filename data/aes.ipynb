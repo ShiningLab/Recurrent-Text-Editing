{
 "cells": [
  {
   "cell_type": "markdown",
   "metadata": {},
   "source": [
    "# Dataset for the Arithmetic Equation Simplification (AES) Task"
   ]
  },
  {
   "cell_type": "code",
   "execution_count": 9,
   "metadata": {},
   "outputs": [],
   "source": [
    "# dependency\n",
    "# public\n",
    "import os\n",
    "import numpy as np\n",
    "from tqdm import tqdm\n",
    "# private\n",
    "from utils import save_txt"
   ]
  },
  {
   "cell_type": "code",
   "execution_count": 17,
   "metadata": {},
   "outputs": [],
   "source": [
    "# class for data generation of the Arithmetic Equation Simplification (AES) problem \n",
    "class ArithmeticEquationSimplification(): \n",
    "    \"\"\"docstring for ArithmeticEquationSimplification\"\"\"\n",
    "    def __init__(self, operators, num_size):\n",
    "        super().__init__()\n",
    "        self.operators = operators\n",
    "        self.pos_digits = np.arange(2, num_size+2).tolist()\n",
    "        self.neg_digits = np.arange(-num_size, -1).tolist()\n",
    "        self.digits = self.pos_digits + self.neg_digits\n",
    "    \n",
    "    def gen_base_dict(self):\n",
    "        return {str(i):[] for i in self.pos_digits}\n",
    "    \n",
    "    def expand_base_dict(self):\n",
    "        for a in self.digits:\n",
    "            for o in self.operators:\n",
    "                for b in self.pos_digits:\n",
    "                    try:\n",
    "                        e = [str(a), o, str(b)]\n",
    "                        v = str(eval(''.join(e)))\n",
    "                        e[0] = e[0].replace('-', '- ')\n",
    "                        e = ' '.join(list(e))\n",
    "                        if v in self.base_dict:\n",
    "                            self.base_dict[v].append('( {} )'.format(e))\n",
    "                    except:\n",
    "                        pass\n",
    "    \n",
    "    def gen_operation(self, seq_len):\n",
    "        if seq_len == 1:\n",
    "            a = np.random.choice(self.digits)\n",
    "            return [str(a)]\n",
    "        else:\n",
    "            left_side  = self.gen_operation(seq_len-1)\n",
    "            o = np.random.choice(self.operators)\n",
    "            b = np.random.choice(self.pos_digits)\n",
    "            return left_side + [o, str(b)]\n",
    "    \n",
    "    def gen_operation_list(self, seq_len, data_size):\n",
    "        # to control the data size\n",
    "        operations_pool = set()\n",
    "        for i in tqdm(range(data_size)):\n",
    "            while True: \n",
    "                # to avoid duplicates\n",
    "                operation = self.gen_operation(seq_len) \n",
    "                if ''.join(operation) in operations_pool: \n",
    "                    continue\n",
    "                else:\n",
    "                    operations_pool.add(''.join(operation)) \n",
    "                # to avoid zero division error\n",
    "                try: \n",
    "                    # flost to int to string\n",
    "                    value = eval(''.join(operation))\n",
    "                    if value % 1 != 0.: \n",
    "                        continue\n",
    "                    else:\n",
    "                        value = str(int(value))\n",
    "                        # to keep vocab size\n",
    "                        if value in self.value_dict: \n",
    "                            self.value_dict[value].append(operation)\n",
    "                            break\n",
    "                except: \n",
    "                    pass\n",
    "    \n",
    "    def gen_equation_list(self):\n",
    "        ys = []\n",
    "        for v in self.value_dict:\n",
    "            for y in self.value_dict[v]:\n",
    "                y = y[0].replace('-', '- ').split() + y[1:]\n",
    "                y += [\"==\"] + [v]\n",
    "                ys.append(' '.join(y))\n",
    "        return ys\n",
    "    \n",
    "    def replace_numbers(self, ys):\n",
    "        xs = []\n",
    "        for y in ys:\n",
    "            y = y.split()\n",
    "            num_idx = [i for i, token in enumerate(y) if token.isdigit()]\n",
    "            num_to_replace = np.random.choice(range(len(num_idx)))\n",
    "            idx_to_replace = np.random.choice(num_idx, num_to_replace, False)\n",
    "            for i in idx_to_replace:\n",
    "                y[i] = np.random.choice(self.base_dict[y[i]])\n",
    "            xs.append(' '.join(y))\n",
    "        return xs\n",
    "                \n",
    "    def generate(self, seq_len, data_size):\n",
    "        # input sequences, output sequences\n",
    "        xs, ys = [], []\n",
    "        self.base_dict = self.gen_base_dict()\n",
    "        self.value_dict = self.gen_base_dict()\n",
    "        self.expand_base_dict()\n",
    "        self.gen_operation_list(\n",
    "            seq_len=seq_len, \n",
    "            data_size=data_size)\n",
    "        ys = self.gen_equation_list()\n",
    "        xs = self.replace_numbers(ys)\n",
    "        \n",
    "        return xs, ys"
   ]
  },
  {
   "cell_type": "code",
   "execution_count": 18,
   "metadata": {},
   "outputs": [],
   "source": [
    "# data parameters \n",
    "seq_len = 4\n",
    "num_size = 100\n",
    "data_size = 10000\n",
    "operators = ['+', '-', '*', '/']"
   ]
  },
  {
   "cell_type": "code",
   "execution_count": 19,
   "metadata": {},
   "outputs": [
    {
     "name": "stderr",
     "output_type": "stream",
     "text": [
      "100%|██████████| 10000/10000 [00:18<00:00, 536.37it/s]\n"
     ]
    }
   ],
   "source": [
    "aes = ArithmeticEquationSimplification(operators, num_size)\n",
    "xs, ys = aes.generate(seq_len, data_size)"
   ]
  },
  {
   "cell_type": "code",
   "execution_count": 20,
   "metadata": {},
   "outputs": [
    {
     "data": {
      "text/plain": [
       "10000"
      ]
     },
     "execution_count": 20,
     "metadata": {},
     "output_type": "execute_result"
    }
   ],
   "source": [
    "len(xs)"
   ]
  },
  {
   "cell_type": "code",
   "execution_count": 21,
   "metadata": {},
   "outputs": [
    {
     "data": {
      "text/plain": [
       "['- 45 - 22 + 57 + 12 == 2',\n",
       " '- ( - 58 + 73 ) + 36 - 3 - 16 == 2',\n",
       " '65 + 77 - 54 - 86 == 2',\n",
       " '( 51 + 22 ) - 42 - ( - 89 + 99 ) - ( - 20 + 39 ) == 2',\n",
       " '77 - ( 53 + 42 ) + 100 - ( 38 + 42 ) == ( 16 - 14 )',\n",
       " '- ( 56 + 42 ) + ( - 16 + 58 ) - 43 + 101 == 2',\n",
       " '52 / ( 26 + 34 ) / ( - 63 + 76 ) * ( - 55 + 85 ) == 2',\n",
       " '78 + 14 - 69 - 21 == 2',\n",
       " '- ( 54 - 26 ) + ( 80 - 63 ) + 94 - ( 51 + 30 ) == ( - 40 + 42 )',\n",
       " '72 - ( - 62 + 91 ) + ( 83 - 25 ) - ( 3 + 96 ) == ( 70 - 68 )']"
      ]
     },
     "execution_count": 21,
     "metadata": {},
     "output_type": "execute_result"
    }
   ],
   "source": [
    "xs[:10]"
   ]
  },
  {
   "cell_type": "code",
   "execution_count": 22,
   "metadata": {},
   "outputs": [
    {
     "data": {
      "text/plain": [
       "10000"
      ]
     },
     "execution_count": 22,
     "metadata": {},
     "output_type": "execute_result"
    }
   ],
   "source": [
    "len(ys)"
   ]
  },
  {
   "cell_type": "code",
   "execution_count": 23,
   "metadata": {},
   "outputs": [
    {
     "data": {
      "text/plain": [
       "['- 45 - 22 + 57 + 12 == 2',\n",
       " '- 15 + 36 - 3 - 16 == 2',\n",
       " '65 + 77 - 54 - 86 == 2',\n",
       " '73 - 42 - 10 - 19 == 2',\n",
       " '77 - 95 + 100 - 80 == 2',\n",
       " '- 98 + 42 - 43 + 101 == 2',\n",
       " '52 / 60 / 13 * 30 == 2',\n",
       " '78 + 14 - 69 - 21 == 2',\n",
       " '- 28 + 17 + 94 - 81 == 2',\n",
       " '72 - 29 + 58 - 99 == 2']"
      ]
     },
     "execution_count": 23,
     "metadata": {},
     "output_type": "execute_result"
    }
   ],
   "source": [
    "ys[:10]"
   ]
  },
  {
   "cell_type": "code",
   "execution_count": 34,
   "metadata": {},
   "outputs": [
    {
     "name": "stdout",
     "output_type": "stream",
     "text": [
      "train size 7000 (7000, 2)\n",
      "val size 1500 (1500, 2)\n",
      "test size 1500 (1500, 2)\n"
     ]
    }
   ],
   "source": [
    "# train val test split\n",
    "dataset = np.array([(x, y) for x, y in zip(xs, ys)])\n",
    "data_size = dataset.shape[0]\n",
    "indices = np.random.permutation(data_size)\n",
    "train_size = int(0.7*data_size)\n",
    "val_size = int(0.15*data_size)\n",
    "test_size = data_size - train_size - val_size\n",
    "train_idxes = indices[:train_size]\n",
    "val_idxes = indices[train_size: train_size+val_size]\n",
    "test_idxes = indices[train_size+val_size:]\n",
    "trainset = dataset[train_idxes]\n",
    "valset = dataset[val_idxes]\n",
    "testset = dataset[test_idxes]\n",
    "print('train size', train_size, trainset.shape)\n",
    "print('val size', val_size, valset.shape)\n",
    "print('test size', test_size, testset.shape)"
   ]
  },
  {
   "cell_type": "code",
   "execution_count": 40,
   "metadata": {},
   "outputs": [
    {
     "data": {
      "text/plain": [
       "'aes/num_size_10/seq_len_5/data_size_10000'"
      ]
     },
     "execution_count": 40,
     "metadata": {},
     "output_type": "execute_result"
    }
   ],
   "source": [
    "# to save dataset\n",
    "outdir = 'aes/'\n",
    "outdir = os.path.join(\n",
    "    outdir, \n",
    "    'num_size_{}'.format(num_size), \n",
    "    'seq_len_{}'.format(seq_len+1), \n",
    "    'data_size_{}'.format(data_size))\n",
    "if not os.path.exists(outdir): \n",
    "    os.makedirs(outdir)\n",
    "outdir"
   ]
  },
  {
   "cell_type": "code",
   "execution_count": 41,
   "metadata": {},
   "outputs": [],
   "source": [
    "save_txt(os.path.join(outdir, 'train_x.txt'), trainset[:, 0])\n",
    "save_txt(os.path.join(outdir, 'train_y.txt'), trainset[:, 1])\n",
    "save_txt(os.path.join(outdir, 'val_x.txt'), valset[:, 0])\n",
    "save_txt(os.path.join(outdir, 'val_y.txt'), valset[:, 1])\n",
    "save_txt(os.path.join(outdir, 'test_x.txt'), testset[:, 0])\n",
    "save_txt(os.path.join(outdir, 'test_y.txt'), testset[:, 1])"
   ]
  },
  {
   "cell_type": "code",
   "execution_count": null,
   "metadata": {},
   "outputs": [],
   "source": []
  }
 ],
 "metadata": {
  "kernelspec": {
   "display_name": "Python 3",
   "language": "python",
   "name": "python3"
  },
  "language_info": {
   "codemirror_mode": {
    "name": "ipython",
    "version": 3
   },
   "file_extension": ".py",
   "mimetype": "text/x-python",
   "name": "python",
   "nbconvert_exporter": "python",
   "pygments_lexer": "ipython3",
   "version": "3.7.6"
  }
 },
 "nbformat": 4,
 "nbformat_minor": 4
}
