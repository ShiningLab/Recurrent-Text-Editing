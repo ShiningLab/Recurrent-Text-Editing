{
 "cells": [
  {
   "cell_type": "markdown",
   "metadata": {},
   "source": [
    "# Dataset for the Arithmetic Equation Simplification (AES) Task"
   ]
  },
  {
   "cell_type": "code",
   "execution_count": 4,
   "metadata": {},
   "outputs": [],
   "source": [
    "# dependency\n",
    "# public\n",
    "import os\n",
    "import numpy as np\n",
    "from tqdm import tqdm\n",
    "# private\n",
    "from utils import save_txt"
   ]
  },
  {
   "cell_type": "code",
   "execution_count": 8,
   "metadata": {},
   "outputs": [],
   "source": [
    "# class for data generation of the Arithmetic Equation Simplification (AES) problem \n",
    "class ArithmeticEquationSimplification(): \n",
    "    \"\"\"docstring for ArithmeticEquationSimplification\"\"\"\n",
    "    def __init__(self, operators, num_size):\n",
    "        super().__init__()\n",
    "        self.operators = operators\n",
    "        self.pos_digits = np.arange(2, num_size+2).tolist()\n",
    "        self.neg_digits = np.arange(-num_size, -1).tolist()\n",
    "        self.digits = self.pos_digits + self.neg_digits\n",
    "    \n",
    "    def gen_base_dict(self):\n",
    "        return {str(i):[] for i in self.pos_digits}\n",
    "    \n",
    "    def expand_base_dict(self):\n",
    "        for a in self.digits:\n",
    "            for o in self.operators:\n",
    "                for b in self.pos_digits:\n",
    "                    try:\n",
    "                        e = [str(a), o, str(b)]\n",
    "                        v = str(eval(''.join(e)))\n",
    "                        e[0] = e[0].replace('-', '- ')\n",
    "                        e = ' '.join(list(e))\n",
    "                        if v in self.base_dict:\n",
    "                            self.base_dict[v].append('( {} )'.format(e))\n",
    "                    except:\n",
    "                        pass\n",
    "    \n",
    "    def gen_operation(self, seq_len):\n",
    "        if seq_len == 1:\n",
    "            a = np.random.choice(self.digits)\n",
    "            return [str(a)]\n",
    "        else:\n",
    "            left_side  = self.gen_operation(seq_len-1)\n",
    "            o = np.random.choice(self.operators)\n",
    "            b = np.random.choice(self.pos_digits)\n",
    "            return left_side + [o, str(b)]\n",
    "    \n",
    "    def gen_operation_list(self, seq_len, data_size):\n",
    "        # to control the data size\n",
    "        operations_pool = set()\n",
    "        for i in tqdm(range(data_size)):\n",
    "            while True: \n",
    "                # to avoid duplicates\n",
    "                operation = self.gen_operation(seq_len) \n",
    "                if ''.join(operation) in operations_pool: \n",
    "                    continue\n",
    "                else:\n",
    "                    operations_pool.add(''.join(operation)) \n",
    "                # to avoid zero division error\n",
    "                try: \n",
    "                    # flost to int to string\n",
    "                    value = eval(''.join(operation))\n",
    "                    if value % 1 != 0.: \n",
    "                        continue\n",
    "                    else:\n",
    "                        value = str(int(value))\n",
    "                        # to keep vocab size\n",
    "                        if value in self.value_dict: \n",
    "                            self.value_dict[value].append(operation)\n",
    "                            break\n",
    "                except: \n",
    "                    pass\n",
    "    \n",
    "    def gen_equation_list(self):\n",
    "        ys = []\n",
    "        for v in self.value_dict:\n",
    "            for y in self.value_dict[v]:\n",
    "                y = y[0].replace('-', '- ').split() + y[1:]\n",
    "                y += [\"==\"] + [v]\n",
    "                ys.append(' '.join(y))\n",
    "        return ys\n",
    "    \n",
    "    def replace_numbers(self, ys):\n",
    "        xs = []\n",
    "        for y in ys:\n",
    "            y = y.split()\n",
    "            num_idx = [i for i, token in enumerate(y) if token.isdigit()] \n",
    "            num_to_replace = np.random.choice(range(len(num_idx)+1))\n",
    "            idx_to_replace = np.random.choice(num_idx, num_to_replace, False)\n",
    "            for i in idx_to_replace:\n",
    "                y[i] = np.random.choice(self.base_dict[y[i]])\n",
    "            xs.append(' '.join(y))\n",
    "        return xs\n",
    "                \n",
    "    def generate(self, seq_len, data_size):\n",
    "        # input sequences, output sequences\n",
    "        xs, ys = [], []\n",
    "        self.base_dict = self.gen_base_dict()\n",
    "        self.value_dict = self.gen_base_dict()\n",
    "        self.expand_base_dict()\n",
    "        self.gen_operation_list(\n",
    "            seq_len=seq_len, \n",
    "            data_size=data_size)\n",
    "        ys = self.gen_equation_list()\n",
    "        xs = self.replace_numbers(ys)\n",
    "        \n",
    "        return xs, ys"
   ]
  },
  {
   "cell_type": "code",
   "execution_count": 12,
   "metadata": {},
   "outputs": [],
   "source": [
    "# data parameters \n",
    "seq_len = 5\n",
    "num_size = 100\n",
    "data_size = 10000\n",
    "operators = ['+', '-', '*', '/']"
   ]
  },
  {
   "cell_type": "code",
   "execution_count": 13,
   "metadata": {},
   "outputs": [
    {
     "name": "stderr",
     "output_type": "stream",
     "text": [
      "100%|██████████| 10000/10000 [00:24<00:00, 413.65it/s]\n"
     ]
    }
   ],
   "source": [
    "aes = ArithmeticEquationSimplification(operators, num_size)\n",
    "xs, ys = aes.generate(seq_len-1, data_size)"
   ]
  },
  {
   "cell_type": "code",
   "execution_count": 14,
   "metadata": {},
   "outputs": [
    {
     "data": {
      "text/plain": [
       "0.1654"
      ]
     },
     "execution_count": 14,
     "metadata": {},
     "output_type": "execute_result"
    }
   ],
   "source": [
    "sum([x == y for x, y in zip(xs, ys)])/len(xs)"
   ]
  },
  {
   "cell_type": "code",
   "execution_count": 9,
   "metadata": {},
   "outputs": [
    {
     "data": {
      "text/plain": [
       "10000"
      ]
     },
     "execution_count": 9,
     "metadata": {},
     "output_type": "execute_result"
    }
   ],
   "source": [
    "len(xs)"
   ]
  },
  {
   "cell_type": "code",
   "execution_count": 10,
   "metadata": {},
   "outputs": [
    {
     "data": {
      "text/plain": [
       "['82 - 4 - 46 - 30 == ( 92 - 90 )',\n",
       " '59 + ( 50 + 38 ) - 45 - ( 10 * 10 ) == 2',\n",
       " '- 61 + 83 - ( - 57 + 81 ) + ( 52 - 48 ) == ( - 32 + 34 )',\n",
       " '33 - 101 - ( 43 - 25 ) + ( 21 + 67 ) == ( 42 - 40 )',\n",
       " '( 28 + 69 ) - ( 59 + 2 ) - ( 20 + 62 ) + 48 == 2',\n",
       " '- 78 + 65 + 88 - 73 == ( - 37 + 39 )',\n",
       " '- ( 12 + 50 ) + ( - 46 + 79 ) + ( - 19 + 57 ) - ( - 36 + 43 ) == ( - 77 + 79 )',\n",
       " '- 76 + 29 * 2 + 20 == ( 28 - 26 )',\n",
       " '37 + 75 - 67 - 43 == ( - 11 + 13 )',\n",
       " '( 52 + 43 ) - ( 75 - 38 ) - ( 15 + 84 ) + ( 2 + 41 ) == ( 56 - 54 )',\n",
       " '- ( 86 - 83 ) + ( 81 - 77 ) + ( 12 + 33 ) - ( - 29 + 73 ) == ( - 9 + 11 )',\n",
       " '- 4 * 7 - 39 + 69 == ( - 68 + 70 )',\n",
       " '- 3 - 28 - 66 + 99 == ( - 94 + 96 )',\n",
       " '- 33 + ( 43 + 18 ) + ( 54 - 10 ) - ( 89 - 19 ) == ( 43 - 41 )',\n",
       " '68 - 30 - 15 - 21 == 2']"
      ]
     },
     "execution_count": 10,
     "metadata": {},
     "output_type": "execute_result"
    }
   ],
   "source": [
    "xs[:15]"
   ]
  },
  {
   "cell_type": "code",
   "execution_count": 11,
   "metadata": {},
   "outputs": [
    {
     "data": {
      "text/plain": [
       "10000"
      ]
     },
     "execution_count": 11,
     "metadata": {},
     "output_type": "execute_result"
    }
   ],
   "source": [
    "len(ys)"
   ]
  },
  {
   "cell_type": "code",
   "execution_count": 12,
   "metadata": {},
   "outputs": [
    {
     "data": {
      "text/plain": [
       "['82 - 4 - 46 - 30 == 2',\n",
       " '59 + 88 - 45 - 100 == 2',\n",
       " '- 61 + 83 - 24 + 4 == 2',\n",
       " '33 - 101 - 18 + 88 == 2',\n",
       " '97 - 61 - 82 + 48 == 2',\n",
       " '- 78 + 65 + 88 - 73 == 2',\n",
       " '- 62 + 33 + 38 - 7 == 2',\n",
       " '- 76 + 29 * 2 + 20 == 2',\n",
       " '37 + 75 - 67 - 43 == 2',\n",
       " '95 - 37 - 99 + 43 == 2',\n",
       " '- 3 + 4 + 45 - 44 == 2',\n",
       " '- 4 * 7 - 39 + 69 == 2',\n",
       " '- 3 - 28 - 66 + 99 == 2',\n",
       " '- 33 + 61 + 44 - 70 == 2',\n",
       " '68 - 30 - 15 - 21 == 2']"
      ]
     },
     "execution_count": 12,
     "metadata": {},
     "output_type": "execute_result"
    }
   ],
   "source": [
    "ys[:15]"
   ]
  },
  {
   "cell_type": "code",
   "execution_count": 13,
   "metadata": {},
   "outputs": [
    {
     "name": "stdout",
     "output_type": "stream",
     "text": [
      "train size 7000 (7000, 2)\n",
      "val size 1500 (1500, 2)\n",
      "test size 1500 (1500, 2)\n"
     ]
    }
   ],
   "source": [
    "# train val test split\n",
    "dataset = np.array([(x, y) for x, y in zip(xs, ys)])\n",
    "data_size = dataset.shape[0]\n",
    "indices = np.random.permutation(data_size)\n",
    "train_size = int(0.7*data_size)\n",
    "val_size = int(0.15*data_size)\n",
    "test_size = data_size - train_size - val_size\n",
    "train_idxes = indices[:train_size]\n",
    "val_idxes = indices[train_size: train_size+val_size]\n",
    "test_idxes = indices[train_size+val_size:]\n",
    "trainset = dataset[train_idxes]\n",
    "valset = dataset[val_idxes]\n",
    "testset = dataset[test_idxes]\n",
    "print('train size', train_size, trainset.shape)\n",
    "print('val size', val_size, valset.shape)\n",
    "print('test size', test_size, testset.shape)"
   ]
  },
  {
   "cell_type": "code",
   "execution_count": 14,
   "metadata": {},
   "outputs": [
    {
     "data": {
      "text/plain": [
       "'aes/num_size_100/seq_len_5/data_size_10000'"
      ]
     },
     "execution_count": 14,
     "metadata": {},
     "output_type": "execute_result"
    }
   ],
   "source": [
    "# to save dataset\n",
    "outdir = 'aes/'\n",
    "outdir = os.path.join(\n",
    "    outdir, \n",
    "    'num_size_{}'.format(num_size), \n",
    "    'seq_len_{}'.format(seq_len+1), \n",
    "    'data_size_{}'.format(data_size))\n",
    "if not os.path.exists(outdir): \n",
    "    os.makedirs(outdir)\n",
    "outdir"
   ]
  },
  {
   "cell_type": "code",
   "execution_count": 15,
   "metadata": {},
   "outputs": [],
   "source": [
    "save_txt(os.path.join(outdir, 'train_x.txt'), trainset[:, 0])\n",
    "save_txt(os.path.join(outdir, 'train_y.txt'), trainset[:, 1])\n",
    "save_txt(os.path.join(outdir, 'val_x.txt'), valset[:, 0])\n",
    "save_txt(os.path.join(outdir, 'val_y.txt'), valset[:, 1])\n",
    "save_txt(os.path.join(outdir, 'test_x.txt'), testset[:, 0])\n",
    "save_txt(os.path.join(outdir, 'test_y.txt'), testset[:, 1])"
   ]
  },
  {
   "cell_type": "code",
   "execution_count": null,
   "metadata": {},
   "outputs": [],
   "source": []
  }
 ],
 "metadata": {
  "kernelspec": {
   "display_name": "Python 3",
   "language": "python",
   "name": "python3"
  },
  "language_info": {
   "codemirror_mode": {
    "name": "ipython",
    "version": 3
   },
   "file_extension": ".py",
   "mimetype": "text/x-python",
   "name": "python",
   "nbconvert_exporter": "python",
   "pygments_lexer": "ipython3",
   "version": "3.7.6"
  }
 },
 "nbformat": 4,
 "nbformat_minor": 4
}
