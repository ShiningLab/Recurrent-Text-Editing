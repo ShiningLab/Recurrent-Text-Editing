{
 "cells": [
  {
   "cell_type": "markdown",
   "metadata": {},
   "source": [
    "# Data Generation for Arithmetic Operators Restoration (AOR)"
   ]
  },
  {
   "cell_type": "code",
   "execution_count": 1,
   "metadata": {},
   "outputs": [],
   "source": [
    "#!/usr/bin/env python\n",
    "# -*- coding:utf-8 -*-\n",
    "\n",
    "__author__ = 'Shining'\n",
    "__email__ = 'mrshininnnnn@gmail.com'"
   ]
  },
  {
   "cell_type": "code",
   "execution_count": 2,
   "metadata": {},
   "outputs": [],
   "source": [
    "# dependency\n",
    "# public\n",
    "import os\n",
    "import numpy as np\n",
    "from tqdm import tqdm\n",
    "# private\n",
    "from utils import save_txt"
   ]
  },
  {
   "cell_type": "code",
   "execution_count": 3,
   "metadata": {},
   "outputs": [],
   "source": [
    "# the calss to generate dataset for\n",
    "# the Arithmetic Operators Restoration (AOR) probelm\n",
    "class ArithmeticOperatorRestoration(): \n",
    "    \"\"\"docstring for ArithmeticOperatorRestoration\"\"\"\n",
    "    def __init__(self, operators, num_size):\n",
    "        super(ArithmeticOperatorRestoration, self).__init__()\n",
    "        self.operators = operators\n",
    "        self.pos_digits_pool = np.arange(2, num_size+2).tolist()\n",
    "        self.neg_digits_pool = np.arange(-num_size, -1).tolist()\n",
    "        self.digits_pool = self.pos_digits_pool + self.neg_digits_pool\n",
    "    \n",
    "    def gen_base_dict(self):\n",
    "        # initialize a base value dict\n",
    "        return {str(i):[] for i in self.pos_digits_pool}\n",
    "        \n",
    "    def gen_operation(self, seq_len):\n",
    "        # a recursion to geneate  the left side of an equation\n",
    "        if seq_len == 1:\n",
    "            a = np.random.choice(self.digits_pool)\n",
    "            return [str(a)]\n",
    "        else:\n",
    "            left_side  = self.gen_operation(seq_len-1)\n",
    "            operator = np.random.choice(self.operators)\n",
    "            b = np.random.choice(self.pos_digits_pool)\n",
    "            return left_side + [operator, str(b)]\n",
    "    \n",
    "    def gen_operation_list(self, seq_len, data_size):\n",
    "        # to control the data size\n",
    "        operations_pool = set()\n",
    "        for i in tqdm(range(data_size)):\n",
    "            while True: \n",
    "                # to avoid duplicates\n",
    "                operation = self.gen_operation(seq_len) \n",
    "                if ''.join(operation) in operations_pool: \n",
    "                    continue\n",
    "                else:\n",
    "                    operations_pool.add(''.join(operation)) \n",
    "                # to avoid zero division error\n",
    "                try: \n",
    "                    # flost to int to string\n",
    "                    value = eval(''.join(operation))\n",
    "                    if value % 1 != 0.: \n",
    "                        continue\n",
    "                    else:\n",
    "                        value = str(int(value))\n",
    "                        # to keep vocab size\n",
    "                        if value in self.value_dict: \n",
    "                            self.value_dict[value].append(operation)\n",
    "                            break\n",
    "                except: \n",
    "                    pass\n",
    "    \n",
    "    def gen_equation_list(self):\n",
    "        for v in self.value_dict:\n",
    "            for x in self.value_dict[v]:\n",
    "                x = x[0].replace('-', '- ').split() + x[1:]\n",
    "                y = x + [\"==\"] + [v]\n",
    "                x = [i for i in y if i.isdigit()]\n",
    "                self.xs.append(' '.join(x))\n",
    "                self.ys.append(' '.join(y))\n",
    "\n",
    "    def generate(self, seq_len, data_size):\n",
    "        # input sequences, output sequences\n",
    "        self.xs, self.ys = [], []\n",
    "        # initialize a value dictionary\n",
    "        # to save the value of each left side\n",
    "        self.value_dict = self.gen_base_dict()\n",
    "        # generate the left side of an equation\n",
    "        self.gen_operation_list(\n",
    "            seq_len=seq_len, \n",
    "            data_size=data_size)\n",
    "        # generate relations given the value dict\n",
    "        self.gen_equation_list()\n",
    "        \n",
    "        return self.xs, self.ys"
   ]
  },
  {
   "cell_type": "code",
   "execution_count": 4,
   "metadata": {},
   "outputs": [],
   "source": [
    "# definition\n",
    "num_size = 10\n",
    "seq_len = 5 # must >= 0\n",
    "data_size = 10000\n",
    "operators = ['+', '-', '*', '/']"
   ]
  },
  {
   "cell_type": "code",
   "execution_count": 5,
   "metadata": {
    "scrolled": true
   },
   "outputs": [
    {
     "name": "stderr",
     "output_type": "stream",
     "text": [
      "100%|██████████| 10000/10000 [00:08<00:00, 1153.77it/s]\n"
     ]
    }
   ],
   "source": [
    "# data generation\n",
    "moi = ArithmeticOperatorRestoration(operators, num_size)\n",
    "xs, ys = moi.generate(\n",
    "    seq_len=seq_len-1, \n",
    "    data_size=data_size)"
   ]
  },
  {
   "cell_type": "code",
   "execution_count": 6,
   "metadata": {},
   "outputs": [
    {
     "data": {
      "text/plain": [
       "10000"
      ]
     },
     "execution_count": 6,
     "metadata": {},
     "output_type": "execute_result"
    }
   ],
   "source": [
    "len(xs)"
   ]
  },
  {
   "cell_type": "code",
   "execution_count": 7,
   "metadata": {
    "scrolled": true
   },
   "outputs": [
    {
     "name": "stdout",
     "output_type": "stream",
     "text": [
      "7 8 4 2 5\n",
      "10 2 4 4 11\n",
      "3 2 6 4 4\n",
      "5 8 8 7 2\n",
      "2 6 5 5 11\n",
      "8 8 8 11 2\n",
      "6 2 4 2 10\n",
      "4 2 6 3 11\n",
      "9 6 2 7 6\n",
      "6 8 8 3 9\n"
     ]
    }
   ],
   "source": [
    "idxes = np.random.choice(range(data_size), 10)\n",
    "for i in idxes:\n",
    "    print(xs[i])"
   ]
  },
  {
   "cell_type": "code",
   "execution_count": 8,
   "metadata": {},
   "outputs": [
    {
     "data": {
      "text/plain": [
       "10000"
      ]
     },
     "execution_count": 8,
     "metadata": {},
     "output_type": "execute_result"
    }
   ],
   "source": [
    "len(ys)"
   ]
  },
  {
   "cell_type": "code",
   "execution_count": 9,
   "metadata": {
    "scrolled": true
   },
   "outputs": [
    {
     "name": "stdout",
     "output_type": "stream",
     "text": [
      "7 - 8 + 4 + 2 == 5\n",
      "- 10 / 2 + 4 * 4 == 11\n",
      "3 * 2 / 6 * 4 == 4\n",
      "- 5 * 8 / 8 + 7 == 2\n",
      "2 * 6 - 5 / 5 == 11\n",
      "- 8 - 8 / 8 + 11 == 2\n",
      "6 + 2 * 4 / 2 == 10\n",
      "4 - 2 + 6 + 3 == 11\n",
      "- 9 + 6 + 2 + 7 == 6\n",
      "6 / 8 * 8 + 3 == 9\n"
     ]
    }
   ],
   "source": [
    "for i in idxes:\n",
    "    print(ys[i])"
   ]
  },
  {
   "cell_type": "code",
   "execution_count": 125,
   "metadata": {},
   "outputs": [
    {
     "name": "stdout",
     "output_type": "stream",
     "text": [
      "440 590\n",
      "590 440\n",
      "1463 1836\n",
      "1663 1849\n",
      "1836 1463\n",
      "1849 1663\n",
      "3822 3948\n",
      "3948 3822\n",
      "4350 4863\n",
      "4361 4403\n",
      "4403 4361\n",
      "4863 4350\n",
      "5263 5278\n",
      "5278 5263\n",
      "7100 7163\n",
      "7163 7100\n",
      "7349 7440\n",
      "7440 7349\n"
     ]
    }
   ],
   "source": [
    "for i in range(data_size):\n",
    "    for j in range(data_size):\n",
    "        if xs[i] == xs[j] and i != j:\n",
    "            print(i, j)"
   ]
  },
  {
   "cell_type": "code",
   "execution_count": 142,
   "metadata": {},
   "outputs": [
    {
     "data": {
      "text/plain": [
       "'12 12 6 5 6 7'"
      ]
     },
     "execution_count": 142,
     "metadata": {},
     "output_type": "execute_result"
    }
   ],
   "source": [
    "xs[3822]"
   ]
  },
  {
   "cell_type": "code",
   "execution_count": 143,
   "metadata": {},
   "outputs": [
    {
     "data": {
      "text/plain": [
       "'12 / 12 * 6 - 5 + 6 == 7'"
      ]
     },
     "execution_count": 143,
     "metadata": {},
     "output_type": "execute_result"
    }
   ],
   "source": [
    "ys[3822]"
   ]
  },
  {
   "cell_type": "code",
   "execution_count": 144,
   "metadata": {},
   "outputs": [
    {
     "data": {
      "text/plain": [
       "'12 + 12 - 6 - 5 - 6 == 7'"
      ]
     },
     "execution_count": 144,
     "metadata": {},
     "output_type": "execute_result"
    }
   ],
   "source": [
    "ys[3948]"
   ]
  },
  {
   "cell_type": "code",
   "execution_count": 10,
   "metadata": {},
   "outputs": [
    {
     "name": "stdout",
     "output_type": "stream",
     "text": [
      "train size 7000 (7000, 2)\n",
      "val size 1500 (1500, 2)\n",
      "test size 1500 (1500, 2)\n"
     ]
    }
   ],
   "source": [
    "# train val test split\n",
    "dataset = np.array([(x, y) for x, y in zip(xs, ys)])\n",
    "data_size = dataset.shape[0]\n",
    "indices = np.random.permutation(data_size)\n",
    "train_size = int(0.7*data_size)\n",
    "val_size = int(0.15*data_size)\n",
    "test_size = data_size - train_size - val_size\n",
    "train_idxes = indices[:train_size]\n",
    "val_idxes = indices[train_size: train_size+val_size]\n",
    "test_idxes = indices[train_size+val_size:]\n",
    "trainset = dataset[train_idxes]\n",
    "valset = dataset[val_idxes]\n",
    "testset = dataset[test_idxes]\n",
    "print('train size', train_size, trainset.shape)\n",
    "print('val size', val_size, valset.shape)\n",
    "print('test size', test_size, testset.shape)"
   ]
  },
  {
   "cell_type": "code",
   "execution_count": 11,
   "metadata": {},
   "outputs": [
    {
     "data": {
      "text/plain": [
       "'aoi/num_size_10/seq_len_5/data_size_10000'"
      ]
     },
     "execution_count": 11,
     "metadata": {},
     "output_type": "execute_result"
    }
   ],
   "source": [
    "# to save dataset\n",
    "outdir = 'aor/'\n",
    "outdir = os.path.join(\n",
    "    outdir, \n",
    "    'num_size_{}'.format(num_size), \n",
    "    'seq_len_{}'.format(seq_len+1), \n",
    "    'data_size_{}'.format(data_size))\n",
    "if not os.path.exists(outdir): \n",
    "    os.makedirs(outdir)\n",
    "outdir"
   ]
  },
  {
   "cell_type": "code",
   "execution_count": 12,
   "metadata": {},
   "outputs": [],
   "source": [
    "save_txt(os.path.join(outdir, 'train_x.txt'), trainset[:, 0])\n",
    "save_txt(os.path.join(outdir, 'train_y.txt'), trainset[:, 1])\n",
    "save_txt(os.path.join(outdir, 'val_x.txt'), valset[:, 0])\n",
    "save_txt(os.path.join(outdir, 'val_y.txt'), valset[:, 1])\n",
    "save_txt(os.path.join(outdir, 'test_x.txt'), testset[:, 0])\n",
    "save_txt(os.path.join(outdir, 'test_y.txt'), testset[:, 1])"
   ]
  },
  {
   "cell_type": "markdown",
   "metadata": {},
   "source": [
    "# Archive Code"
   ]
  },
  {
   "cell_type": "code",
   "execution_count": 13,
   "metadata": {},
   "outputs": [],
   "source": [
    "# # the calss to generate dataset for\n",
    "# # the Arithmetic Operators Insertion (AOI) probelm\n",
    "# class ArithmeticOperatorInsertion(): \n",
    "#     \"\"\"docstring for ArithmeticOperatorInsertion\"\"\"\n",
    "#     def __init__(self, operators, num_size):\n",
    "#         super(MathematicalOperatorInsertion, self).__init__()\n",
    "#         self.operators = operators\n",
    "#         self.pos_digits_pool = np.arange(2, num_size+2).tolist()\n",
    "#         self.neg_digits_pool = np.arange(-num_size, -1).tolist()\n",
    "#         self.digits_pool = self.pos_digits_pool + self.neg_digits_pool\n",
    "    \n",
    "# #     def gen_base_dataset(self, vocab_size):\n",
    "# #     def gen_base_dataset(self):\n",
    "#         # return a base dataset\n",
    "# #         x = [str(i) for i in range(2, vocab_size+2)]\n",
    "# #         x = [str(i) for i in range(-vocab_size//2, vocab_size//2)]\n",
    "# #         x = [str(i) for i in self.digits_pool]\n",
    "# #         y = x.copy()\n",
    "# #         return x, y\n",
    "    \n",
    "# #     def gen_base_dict(self, vocab_size):\n",
    "#     def gen_base_dict(self):\n",
    "#         # initialize a base value dict\n",
    "# #         return {str(i):[] for i in range(vocab_size)}\n",
    "# #         return {str(i):[] for i in range(2, vocab_size+2)}\n",
    "# #         return {str(i):[] for i in range(-vocab_size//2, vocab_size//2)}\n",
    "#         return {str(i):[] for i in self.pos_digits_pool}\n",
    "        \n",
    "#     def gen_operation(self, vocab_size, seq_len):\n",
    "#         # a recursion to geneate  the left side of an equation\n",
    "#         if seq_len == 1:\n",
    "#             # a = np.random.choice(range(2, vocab_size+2))\n",
    "# #             a = np.random.choice(range(-vocab_size//2, vocab_size//2))\n",
    "#             a = np.random.choice(self.digits_pool)\n",
    "#             return [str(a)]\n",
    "#         else:\n",
    "#             left_side = self.gen_operation(vocab_size, seq_len-1)\n",
    "#             operator = np.random.choice(self.operators)\n",
    "# #             b = np.random.choice(range(vocab_size))\n",
    "# #             b = np.random.choice(range(-vocab_size//2, vocab_size//2))\n",
    "#             b = np.random.choice(self.pos_digits_pool)\n",
    "#             return left + [operator, str(b)]\n",
    "    \n",
    "# #     def gen_operation_list(self, vocab_size, seq_len, data_size):\n",
    "#     def gen_operation_list(self, seq_len, data_size):\n",
    "#         # to control the data size\n",
    "#         operations_pool = set()\n",
    "#         for i in tqdm(range(data_size)):\n",
    "#             while True: \n",
    "#                 # to avoid duplicates\n",
    "#                 operation = self.gen_operation(vocab_size, seq_len) \n",
    "#                 if ''.join(operation) in operations_pool: \n",
    "#                     continue\n",
    "#                 else:\n",
    "#                     operations_pool.add(''.join(operation)) \n",
    "#                 # to avoid zero division error\n",
    "#                 try: \n",
    "#                     # flost to int to string\n",
    "#                     value = eval(''.join(operation))\n",
    "#                     if value % 1 != 0.: \n",
    "#                         continue\n",
    "#                     else:\n",
    "#                         value = str(int(value))\n",
    "#                         # to keep vocab size\n",
    "#                         if value in self.value_dict: \n",
    "#                             self.value_dict[value].append(operation)\n",
    "#                             break\n",
    "#                 except: \n",
    "#                     pass\n",
    "    \n",
    "#     def gen_equation_list(self):\n",
    "#         # generate the relational equation\n",
    "#         # given the value dict\n",
    "#         for v in self.value_dict:\n",
    "#             for x in self.value_dict[v]:\n",
    "#                 x = x[0].replace('-', '- ').split() + x[1:]\n",
    "#                 y = x + [\"==\"] + [v]\n",
    "#                 x = [i for i in y if i.isdigit()]\n",
    "#                 self.xs.append(' '.join(x))\n",
    "#                 self.ys.append(' '.join(y))\n",
    "\n",
    "# #     def generate(self, vocab_size, seq_len, data_size):\n",
    "#     def generate(self, seq_len, data_size):\n",
    "#         if seq_len == 0:\n",
    "#             return self.gen_base_dataset()\n",
    "# #             return self.gen_base_dataset(\n",
    "# #                 vocab_size=vocab_size)\n",
    "#         # input sequences, # output sequences\n",
    "#         self.xs, self.ys = [], []\n",
    "#         # initialize a value dictionary\n",
    "#         # to save the value of each sequence\n",
    "#         self.value_dict = self.gen_base_dict()\n",
    "# #         self.value_dict = self.gen_base_dict(\n",
    "# #             vocab_size=vocab_size)\n",
    "#         # insert operators and generate equations\n",
    "#         self.gen_operation_list(\n",
    "# #             vocab_size=vocab_size, \n",
    "#             seq_len=seq_len, \n",
    "#             data_size=data_size)\n",
    "#         # generate relations given the value dict\n",
    "#         self.gen_equation_list()\n",
    "        \n",
    "#         return self.xs, self.ys"
   ]
  },
  {
   "cell_type": "code",
   "execution_count": 14,
   "metadata": {},
   "outputs": [],
   "source": [
    "# # the calss to generate dataset for\n",
    "# # the Arithmetic Operators Insertion (AOI) probelm\n",
    "# class ArithmeticOperatorInsertion(): \n",
    "#     \"\"\"docstring for ArithmeticOperatorInsertion\"\"\"\n",
    "#     def __init__(self, operators, num_size):\n",
    "#         super(ArithmeticOperatorInsertion, self).__init__()\n",
    "#         self.operators = operators\n",
    "#         self.pos_digits_pool = np.arange(2, num_size+2).tolist()\n",
    "#         self.neg_digits_pool = np.arange(-num_size, -1).tolist()\n",
    "#         self.digits_pool = self.pos_digits_pool + self.neg_digits_pool\n",
    "    \n",
    "#     def gen_base_dict(self):\n",
    "#         # initialize a base value dict\n",
    "#         return {str(i):[] for i in self.pos_digits_pool}\n",
    "        \n",
    "#     def gen_operation(self, seq_len):\n",
    "#         # a recursion to geneate  the left side of an equation\n",
    "#         if seq_len == 1:\n",
    "#             a = np.random.choice(self.digits_pool)\n",
    "#             return [str(a)]\n",
    "#         else:\n",
    "#             left_side  = self.gen_operation(seq_len-1)\n",
    "#             operator = np.random.choice(self.operators)\n",
    "#             b = np.random.choice(self.pos_digits_pool)\n",
    "#             return left_side + [operator, str(b)]\n",
    "    \n",
    "#     def gen_operation_list(self, seq_len, data_size):\n",
    "#         # to control the data size\n",
    "#         operations_pool = set()\n",
    "#         for i in tqdm(range(data_size)):\n",
    "#             while True: \n",
    "#                 # to avoid duplicates\n",
    "#                 operation = self.gen_operation(seq_len) \n",
    "#                 if ''.join(operation) in operations_pool: \n",
    "#                     continue\n",
    "#                 else:\n",
    "#                     operations_pool.add(''.join(operation)) \n",
    "#                 # to avoid zero division error\n",
    "#                 try: \n",
    "#                     # flost to int to string\n",
    "#                     value = eval(''.join(operation))\n",
    "#                     if value % 1 != 0.: \n",
    "#                         continue\n",
    "#                     else:\n",
    "#                         value = str(int(value))\n",
    "#                         # to keep vocab size\n",
    "#                         if value in self.value_dict: \n",
    "#                             self.value_dict[value].append(operation)\n",
    "#                             break\n",
    "#                 except: \n",
    "#                     pass\n",
    "    \n",
    "#     def gen_equation_list(self):\n",
    "#         # generate the relational equation\n",
    "#         # given the value dict\n",
    "#         for v in self.value_dict:\n",
    "#             for x in self.value_dict[v]:\n",
    "#                 x = x[0].replace('-', '- ').split() + x[1:]\n",
    "#                 y = x + [\"==\"] + [v]\n",
    "#                 x = [i for i in y if i.isdigit()]\n",
    "#                 self.xs.append(' '.join(x))\n",
    "#                 self.ys.append(' '.join(y))\n",
    "\n",
    "#     def generate(self, seq_len, data_size):\n",
    "#         # input sequences, output sequences\n",
    "#         self.xs, self.ys = [], []\n",
    "#         # initialize a value dictionary\n",
    "#         # to save the value of each left side\n",
    "#         self.value_dict = self.gen_base_dict()\n",
    "#         # generate the left side of an equation\n",
    "#         self.gen_operation_list(\n",
    "#             seq_len=seq_len, \n",
    "#             data_size=data_size)\n",
    "#         # generate relations given the value dict\n",
    "#         self.gen_equation_list()\n",
    "        \n",
    "#         return self.xs, self.ys"
   ]
  },
  {
   "cell_type": "code",
   "execution_count": null,
   "metadata": {},
   "outputs": [],
   "source": []
  }
 ],
 "metadata": {
  "kernelspec": {
   "display_name": "Python 3",
   "language": "python",
   "name": "python3"
  },
  "language_info": {
   "codemirror_mode": {
    "name": "ipython",
    "version": 3
   },
   "file_extension": ".py",
   "mimetype": "text/x-python",
   "name": "python",
   "nbconvert_exporter": "python",
   "pygments_lexer": "ipython3",
   "version": "3.7.6"
  }
 },
 "nbformat": 4,
 "nbformat_minor": 4
}
