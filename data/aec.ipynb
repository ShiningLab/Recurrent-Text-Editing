{
 "cells": [
  {
   "cell_type": "markdown",
   "metadata": {},
   "source": [
    "# Dataset for the Arithmetic Equation Correction (AEC) Task"
   ]
  },
  {
   "cell_type": "code",
   "execution_count": 56,
   "metadata": {},
   "outputs": [],
   "source": [
    "# dependency\n",
    "# public\n",
    "import os\n",
    "import numpy as np\n",
    "from tqdm import tqdm\n",
    "# private\n",
    "from utils import save_txt"
   ]
  },
  {
   "cell_type": "markdown",
   "metadata": {},
   "source": [
    "## Notes"
   ]
  },
  {
   "cell_type": "markdown",
   "metadata": {},
   "source": [
    "+ Errors  \n",
    "Deletion  \n",
    "Insertion  \n",
    "substitution  "
   ]
  },
  {
   "cell_type": "markdown",
   "metadata": {},
   "source": [
    "# Examples\n",
    "|                       Source Sequence               | Target Sequence |\n",
    "|:---------------------------------------------------:|:------------------:|\n",
    "| - 4 + 6 3 4 2 - 4 7 2 | - 4 + 6 + 4 - 4 == 2 | \n",
    "| 5 - 2 * 2 7 == 2 | 5 - 2 * 5 + 7 == 2 | \n",
    "| - 6 - 6 / 6 + 9 == 2 | - 6 - 6 / 6 + 9 == 2 |"
   ]
  },
  {
   "cell_type": "code",
   "execution_count": 82,
   "metadata": {},
   "outputs": [],
   "source": [
    "# class for data generation of the Arithmetic Equation Correction (AEC) problem \n",
    "class ArithmeticEquationCorrection(): \n",
    "    \"\"\"docstring for ArithmeticEquationCorrection\"\"\"\n",
    "    def __init__(self, operators, num_size):\n",
    "        super().__init__()\n",
    "        self.operators = operators\n",
    "        self.pos_digits = np.arange(2, num_size+2).tolist()\n",
    "        self.neg_digits = np.arange(-num_size, -1).tolist()\n",
    "        self.digits = self.pos_digits + self.neg_digits\n",
    "        \n",
    "        def delete(tk_y, idx): \n",
    "            tk_y[idx] = ''\n",
    "            return tk_y\n",
    "        def insert(tk_y, idx): \n",
    "            tk_y[idx] = str(np.random.choice(self.operators+self.pos_digits)) + ' ' + tk_y[idx]\n",
    "            return tk_y \n",
    "        def sub(tk_y, idx):\n",
    "            tk_y[idx] = str(np.random.choice(self.operators+self.pos_digits))\n",
    "            return tk_y\n",
    "        \n",
    "#         self.trans_funs = [delete, insert, sub]\n",
    "        self.trans_funs = [delete, insert]\n",
    "    \n",
    "    def gen_base_dict(self):\n",
    "        return {str(i):[] for i in self.pos_digits}\n",
    "    \n",
    "    def gen_operation(self, seq_len):\n",
    "        if seq_len == 1:\n",
    "            a = np.random.choice(self.digits)\n",
    "            return [str(a)]\n",
    "        else:\n",
    "            left_side  = self.gen_operation(seq_len-1)\n",
    "            o = np.random.choice(self.operators)\n",
    "            b = np.random.choice(self.pos_digits)\n",
    "            return left_side + [o, str(b)]\n",
    "    \n",
    "    def gen_operation_list(self, seq_len, data_size):\n",
    "        # to control the data size\n",
    "        operations_pool = set()\n",
    "        for i in tqdm(range(data_size)):\n",
    "            while True: \n",
    "                # to avoid duplicates\n",
    "                operation = self.gen_operation(seq_len) \n",
    "                if ''.join(operation) in operations_pool: \n",
    "                    continue\n",
    "                else:\n",
    "                    operations_pool.add(''.join(operation)) \n",
    "                # to avoid zero division error\n",
    "                try: \n",
    "                    # flost to int to string\n",
    "                    value = eval(''.join(operation))\n",
    "                    if value % 1 != 0.: \n",
    "                        continue\n",
    "                    else:\n",
    "                        value = str(int(value))\n",
    "                        # to keep vocab size\n",
    "                        if value in self.value_dict: \n",
    "                            self.value_dict[value].append(operation)\n",
    "                            break\n",
    "                except: \n",
    "                    pass\n",
    "    \n",
    "    def gen_equation_list(self):\n",
    "        ys = []\n",
    "        for v in self.value_dict:\n",
    "            for y in self.value_dict[v]:\n",
    "                y = y[0].replace('-', '- ').split() + y[1:]\n",
    "                y += [\"==\"] + [v]\n",
    "                ys.append(' '.join(y))\n",
    "        return ys\n",
    "    \n",
    "    def transform(self, tk_y, idxes): \n",
    "        for idx in idxes: \n",
    "            f = np.random.choice(self.trans_funs)\n",
    "            tk_y = f(tk_y, idx)\n",
    "        return tk_y\n",
    "        \n",
    "    def random_transform(self, ys, num_errors): \n",
    "        xs = []\n",
    "        for y in ys:\n",
    "            tk_y = y.split() \n",
    "            y_len = len(tk_y) - 1\n",
    "            num_idxes = np.random.choice(range(num_errors+1))\n",
    "            idxes = sorted(np.random.choice(range(y_len), num_idxes, False))\n",
    "            tk_x = self.transform(tk_y, idxes)\n",
    "            xs.append(' '.join([x for x in tk_x if len(x)>0]))\n",
    "        return xs\n",
    "    \n",
    "    def generate(self, seq_len, data_size, num_errors):\n",
    "        # input sequences, output sequences\n",
    "        xs, ys = [], []\n",
    "        self.value_dict = self.gen_base_dict()\n",
    "        self.gen_operation_list(\n",
    "            seq_len=seq_len, \n",
    "            data_size=data_size)\n",
    "        ys = self.gen_equation_list()\n",
    "        xs = self.random_transform(ys, num_errors)\n",
    "        \n",
    "        return xs, ys"
   ]
  },
  {
   "cell_type": "code",
   "execution_count": 117,
   "metadata": {},
   "outputs": [
    {
     "name": "stdout",
     "output_type": "stream",
     "text": [
      "1\n"
     ]
    }
   ],
   "source": [
    "# data parameters \n",
    "seq_len = 5\n",
    "num_size = 10\n",
    "data_size = 10000\n",
    "operators = ['+', '-', '*', '/']\n",
    "error_rate = 1/5\n",
    "num_errors = int((2*seq_len-1)*error_rate)\n",
    "print(num_errors)"
   ]
  },
  {
   "cell_type": "code",
   "execution_count": 84,
   "metadata": {},
   "outputs": [
    {
     "name": "stderr",
     "output_type": "stream",
     "text": [
      "100%|██████████| 10000/10000 [00:21<00:00, 464.42it/s]\n"
     ]
    }
   ],
   "source": [
    "aes = ArithmeticEquationCorrection(operators, num_size)\n",
    "xs, ys = aes.generate(seq_len-1, data_size, num_errors)"
   ]
  },
  {
   "cell_type": "code",
   "execution_count": 85,
   "metadata": {},
   "outputs": [
    {
     "data": {
      "text/plain": [
       "10000"
      ]
     },
     "execution_count": 85,
     "metadata": {},
     "output_type": "execute_result"
    }
   ],
   "source": [
    "len(xs)"
   ]
  },
  {
   "cell_type": "code",
   "execution_count": 86,
   "metadata": {},
   "outputs": [
    {
     "data": {
      "text/plain": [
       "['- 6 + 8 / 7 * 7 == 2',\n",
       " '10 / 5 - 8 + 8 == 2',\n",
       " '- 7 / * 7 - 5 + 8 == 2',\n",
       " '7 / 7 + 11 11 == 2',\n",
       " '10 + 3 - 6 - 5 == 2',\n",
       " '+ 7 - 9 + 7 - 3 == 2',\n",
       " '6 * 2 - 2 * 5 == 2',\n",
       " '4 - 3 + 5 - 4 == 2',\n",
       " '11 + 3 - 3 - 9 == 2',\n",
       " '8 - 3 / 3 * 6 == 2',\n",
       " '4 / 2 - 10 + 10 == 2',\n",
       " '- 3 + 8 * 2 - 11 == 2',\n",
       " '5 - 10 / 10 * 3 == 2',\n",
       " '7 + 10 9 - 6 == 2',\n",
       " '11 * 5 10 / 11 - 3 == 2']"
      ]
     },
     "execution_count": 86,
     "metadata": {},
     "output_type": "execute_result"
    }
   ],
   "source": [
    "xs[:15]"
   ]
  },
  {
   "cell_type": "code",
   "execution_count": 87,
   "metadata": {},
   "outputs": [
    {
     "data": {
      "text/plain": [
       "10000"
      ]
     },
     "execution_count": 87,
     "metadata": {},
     "output_type": "execute_result"
    }
   ],
   "source": [
    "len(ys)"
   ]
  },
  {
   "cell_type": "code",
   "execution_count": 88,
   "metadata": {},
   "outputs": [
    {
     "data": {
      "text/plain": [
       "['- 6 + 8 / 7 * 7 == 2',\n",
       " '10 / 5 - 8 + 8 == 2',\n",
       " '- 7 / 7 - 5 + 8 == 2',\n",
       " '7 / 7 + 11 / 11 == 2',\n",
       " '10 + 3 - 6 - 5 == 2',\n",
       " '7 - 9 + 7 - 3 == 2',\n",
       " '6 * 2 - 2 * 5 == 2',\n",
       " '4 - 3 + 5 - 4 == 2',\n",
       " '11 + 3 - 3 - 9 == 2',\n",
       " '8 - 3 / 3 * 6 == 2',\n",
       " '4 / 2 - 10 + 10 == 2',\n",
       " '- 3 + 8 * 2 - 11 == 2',\n",
       " '5 - 10 / 10 * 3 == 2',\n",
       " '7 + 10 - 9 - 6 == 2',\n",
       " '11 * 5 / 11 - 3 == 2']"
      ]
     },
     "execution_count": 88,
     "metadata": {},
     "output_type": "execute_result"
    }
   ],
   "source": [
    "ys[:15]"
   ]
  },
  {
   "cell_type": "code",
   "execution_count": 89,
   "metadata": {},
   "outputs": [
    {
     "data": {
      "text/plain": [
       "0.5001"
      ]
     },
     "execution_count": 89,
     "metadata": {},
     "output_type": "execute_result"
    }
   ],
   "source": [
    "(np.array(xs) == np.array(ys)).sum()/data_size"
   ]
  },
  {
   "cell_type": "code",
   "execution_count": 90,
   "metadata": {},
   "outputs": [
    {
     "name": "stdout",
     "output_type": "stream",
     "text": [
      "train size 7000 (7000, 2)\n",
      "val size 1500 (1500, 2)\n",
      "test size 1500 (1500, 2)\n"
     ]
    }
   ],
   "source": [
    "# train val test split\n",
    "dataset = np.array([(x, y) for x, y in zip(xs, ys)])\n",
    "data_size = dataset.shape[0]\n",
    "indices = np.random.permutation(data_size)\n",
    "train_size = int(0.7*data_size)\n",
    "val_size = int(0.15*data_size)\n",
    "test_size = data_size - train_size - val_size\n",
    "train_idxes = indices[:train_size]\n",
    "val_idxes = indices[train_size: train_size+val_size]\n",
    "test_idxes = indices[train_size+val_size:]\n",
    "trainset = dataset[train_idxes]\n",
    "valset = dataset[val_idxes]\n",
    "testset = dataset[test_idxes]\n",
    "print('train size', train_size, trainset.shape)\n",
    "print('val size', val_size, valset.shape)\n",
    "print('test size', test_size, testset.shape)"
   ]
  },
  {
   "cell_type": "code",
   "execution_count": 91,
   "metadata": {},
   "outputs": [
    {
     "data": {
      "text/plain": [
       "'aec/num_size_10/seq_len_5/data_size_10000'"
      ]
     },
     "execution_count": 91,
     "metadata": {},
     "output_type": "execute_result"
    }
   ],
   "source": [
    "# to save dataset\n",
    "outdir = 'aec/'\n",
    "outdir = os.path.join(\n",
    "    outdir, \n",
    "    'num_size_{}'.format(num_size), \n",
    "    'seq_len_{}'.format(seq_len), \n",
    "    'data_size_{}'.format(data_size))\n",
    "if not os.path.exists(outdir): \n",
    "    os.makedirs(outdir)\n",
    "outdir"
   ]
  },
  {
   "cell_type": "code",
   "execution_count": 92,
   "metadata": {},
   "outputs": [],
   "source": [
    "save_txt(os.path.join(outdir, 'train_x.txt'), trainset[:, 0])\n",
    "save_txt(os.path.join(outdir, 'train_y.txt'), trainset[:, 1])\n",
    "save_txt(os.path.join(outdir, 'val_x.txt'), valset[:, 0])\n",
    "save_txt(os.path.join(outdir, 'val_y.txt'), valset[:, 1])\n",
    "save_txt(os.path.join(outdir, 'test_x.txt'), testset[:, 0])\n",
    "save_txt(os.path.join(outdir, 'test_y.txt'), testset[:, 1])"
   ]
  },
  {
   "cell_type": "code",
   "execution_count": 68,
   "metadata": {},
   "outputs": [
    {
     "name": "stdout",
     "output_type": "stream",
     "text": [
      "0.5162857142857142\n",
      "0.518\n",
      "0.524\n"
     ]
    }
   ],
   "source": [
    "for dataset in [trainset, valset, testset]: \n",
    "    print((np.array(dataset[:, 0]) == np.array(dataset[:, 1])).sum()/dataset.shape[0])"
   ]
  },
  {
   "cell_type": "code",
   "execution_count": 70,
   "metadata": {},
   "outputs": [
    {
     "data": {
      "text/plain": [
       "0.5"
      ]
     },
     "execution_count": 70,
     "metadata": {},
     "output_type": "execute_result"
    }
   ],
   "source": [
    "1/2"
   ]
  },
  {
   "cell_type": "code",
   "execution_count": null,
   "metadata": {},
   "outputs": [],
   "source": []
  }
 ],
 "metadata": {
  "kernelspec": {
   "display_name": "Python 3",
   "language": "python",
   "name": "python3"
  },
  "language_info": {
   "codemirror_mode": {
    "name": "ipython",
    "version": 3
   },
   "file_extension": ".py",
   "mimetype": "text/x-python",
   "name": "python",
   "nbconvert_exporter": "python",
   "pygments_lexer": "ipython3",
   "version": "3.7.6"
  }
 },
 "nbformat": 4,
 "nbformat_minor": 4
}
