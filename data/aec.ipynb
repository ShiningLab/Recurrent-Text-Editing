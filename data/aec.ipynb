{
 "cells": [
  {
   "cell_type": "markdown",
   "metadata": {},
   "source": [
    "# Dataset for the Arithmetic Equation Correction (AEC) Task"
   ]
  },
  {
   "cell_type": "code",
   "execution_count": 1,
   "metadata": {},
   "outputs": [],
   "source": [
    "#!/usr/bin/env python\n",
    "# -*- coding:utf-8 -*-\n",
    "\n",
    "__author__ = 'Shining'\n",
    "__email__ = 'mrshininnnnn@gmail.com'"
   ]
  },
  {
   "cell_type": "code",
   "execution_count": 2,
   "metadata": {},
   "outputs": [],
   "source": [
    "# dependency\n",
    "# public\n",
    "import os\n",
    "import numpy as np\n",
    "from tqdm import tqdm\n",
    "# private\n",
    "from utils import save_txt"
   ]
  },
  {
   "cell_type": "markdown",
   "metadata": {},
   "source": [
    "## Simulated Error Types"
   ]
  },
  {
   "cell_type": "markdown",
   "metadata": {},
   "source": [
    "1. Deletion  \n",
    "2. Insertion  \n",
    "3. Substitution  "
   ]
  },
  {
   "cell_type": "code",
   "execution_count": 3,
   "metadata": {},
   "outputs": [],
   "source": [
    "# Class to generate dataset for Arithmetic Equation Correction (AEC)\n",
    "class ArithmeticEquationCorrection(): \n",
    "    \"\"\"docstring for ArithmeticEquationCorrection\"\"\"\n",
    "    def __init__(self, operators, num_size):\n",
    "        super().__init__()\n",
    "        self.operators = operators\n",
    "        self.pos_digits = np.arange(2, num_size+2).tolist()\n",
    "        self.neg_digits = np.arange(-num_size, -1).tolist()\n",
    "        self.digits = self.pos_digits + self.neg_digits\n",
    "        \n",
    "        def delete(tk_y, idx): \n",
    "            tk_y[idx] = ''\n",
    "            return tk_y\n",
    "        def insert(tk_y, idx): \n",
    "            tk_y[idx] = str(np.random.choice(self.operators+self.pos_digits)) + ' ' + tk_y[idx]\n",
    "            return tk_y \n",
    "        def sub(tk_y, idx):\n",
    "            tk_y[idx] = str(np.random.choice(self.operators+self.pos_digits))\n",
    "            return tk_y\n",
    "        \n",
    "        self.trans_funs = [delete, insert, sub]\n",
    "    \n",
    "    def gen_base_dict(self):\n",
    "        return {str(i):[] for i in self.pos_digits}\n",
    "    \n",
    "    def gen_operation(self, seq_len):\n",
    "        if seq_len == 1:\n",
    "            a = np.random.choice(self.digits)\n",
    "            return [str(a)]\n",
    "        else:\n",
    "            left_side  = self.gen_operation(seq_len-1)\n",
    "            o = np.random.choice(self.operators)\n",
    "            b = np.random.choice(self.pos_digits)\n",
    "            return left_side + [o, str(b)]\n",
    "    \n",
    "    def gen_operation_list(self, seq_len, data_size):\n",
    "        # to control the data size\n",
    "        operations_pool = set()\n",
    "        for i in tqdm(range(data_size)):\n",
    "            while True: \n",
    "                # to avoid duplicates\n",
    "                operation = self.gen_operation(seq_len) \n",
    "                if ''.join(operation) in operations_pool: \n",
    "                    continue\n",
    "                else:\n",
    "                    operations_pool.add(''.join(operation)) \n",
    "                # to avoid zero division error\n",
    "                try: \n",
    "                    # flost to int to string\n",
    "                    value = eval(''.join(operation))\n",
    "                    if value % 1 != 0.: \n",
    "                        continue\n",
    "                    else:\n",
    "                        value = str(int(value))\n",
    "                        # to keep vocab size\n",
    "                        if value in self.value_dict: \n",
    "                            self.value_dict[value].append(operation)\n",
    "                            break\n",
    "                except: \n",
    "                    pass\n",
    "    \n",
    "    def gen_equation_list(self):\n",
    "        ys = []\n",
    "        for v in self.value_dict:\n",
    "            for y in self.value_dict[v]:\n",
    "                y = y[0].replace('-', '- ').split() + y[1:]\n",
    "                y += [\"==\"] + [v]\n",
    "                ys.append(' '.join(y))\n",
    "        return ys\n",
    "    \n",
    "    def transform(self, tk_y, idxes): \n",
    "        for idx in idxes: \n",
    "            f = np.random.choice(self.trans_funs)\n",
    "            tk_y = f(tk_y, idx)\n",
    "        return tk_y\n",
    "        \n",
    "    def random_transform(self, ys, num_errors): \n",
    "        xs = []\n",
    "        for y in ys:\n",
    "            tk_y = y.split() \n",
    "            y_len = len(tk_y) - 1\n",
    "            num_idxes = np.random.choice(range(num_errors+1))\n",
    "            idxes = sorted(np.random.choice(range(y_len), num_idxes, False))\n",
    "            tk_x = self.transform(tk_y, idxes)\n",
    "            xs.append(' '.join([x for x in tk_x if len(x)>0]))\n",
    "        return xs\n",
    "    \n",
    "    def generate(self, seq_len, data_size, num_errors):\n",
    "        # input sequences, output sequences\n",
    "        xs, ys = [], []\n",
    "        self.value_dict = self.gen_base_dict()\n",
    "        self.gen_operation_list(\n",
    "            seq_len=seq_len, \n",
    "            data_size=data_size)\n",
    "        ys = self.gen_equation_list()\n",
    "        xs = self.random_transform(ys, num_errors)\n",
    "        \n",
    "        return xs, ys"
   ]
  },
  {
   "cell_type": "code",
   "execution_count": 4,
   "metadata": {},
   "outputs": [],
   "source": [
    "# data parameters \n",
    "N = 10\n",
    "L = 5\n",
    "D = 10000\n",
    "operators = ['+', '-', '*', '/']\n",
    "num_errors = 3"
   ]
  },
  {
   "cell_type": "code",
   "execution_count": 5,
   "metadata": {},
   "outputs": [
    {
     "name": "stderr",
     "output_type": "stream",
     "text": [
      "100%|██████████| 10000/10000 [00:10<00:00, 962.11it/s]\n"
     ]
    }
   ],
   "source": [
    "aec = ArithmeticEquationCorrection(operators, N)\n",
    "xs, ys = aec.generate(L-1, D, num_errors)"
   ]
  },
  {
   "cell_type": "code",
   "execution_count": 6,
   "metadata": {},
   "outputs": [
    {
     "data": {
      "text/plain": [
       "10000"
      ]
     },
     "execution_count": 6,
     "metadata": {},
     "output_type": "execute_result"
    }
   ],
   "source": [
    "len(xs)"
   ]
  },
  {
   "cell_type": "code",
   "execution_count": 7,
   "metadata": {},
   "outputs": [
    {
     "data": {
      "text/plain": [
       "['5 - 5 + 10 + 7 - 10 == 2',\n",
       " '5 + 5 - 2 - 4 == 2',\n",
       " '- 4 + 3 4 - 6 == 2',\n",
       " '- 2 / 2 + - - 5 == 2',\n",
       " '9 5 6 * 6 - 7 == 2',\n",
       " '8 7 - 11 + + 3 == 2',\n",
       " '11 - 3 / 3 3 8 2',\n",
       " '- + 6 6 + 8 * 8 / 8 == 2',\n",
       " '- 7 2 4 + 8 == 2',\n",
       " '5 - 10 * 2 + 11 * 5 == 2',\n",
       " '7 * 2 - * * 3 == 2',\n",
       " '5 - 4 + 8 - 7 == 2',\n",
       " '10 - 7 7 4 + 3 == 2',\n",
       " '11 - 11 + 7 - 8 / == 2',\n",
       " '- 8 + 5 + 10 - 5 == 2']"
      ]
     },
     "execution_count": 7,
     "metadata": {},
     "output_type": "execute_result"
    }
   ],
   "source": [
    "xs[:15]"
   ]
  },
  {
   "cell_type": "code",
   "execution_count": 8,
   "metadata": {},
   "outputs": [
    {
     "data": {
      "text/plain": [
       "10000"
      ]
     },
     "execution_count": 8,
     "metadata": {},
     "output_type": "execute_result"
    }
   ],
   "source": [
    "len(ys)"
   ]
  },
  {
   "cell_type": "code",
   "execution_count": 9,
   "metadata": {},
   "outputs": [
    {
     "data": {
      "text/plain": [
       "['- 5 + 10 + 7 - 10 == 2',\n",
       " '5 + 5 - 4 - 4 == 2',\n",
       " '- 4 + 3 * 4 - 6 == 2',\n",
       " '- 2 / 2 + 8 - 5 == 2',\n",
       " '9 / 6 * 6 - 7 == 2',\n",
       " '8 - 11 + 2 + 3 == 2',\n",
       " '11 - 3 / 3 - 8 == 2',\n",
       " '- 6 + 8 * 8 / 8 == 2',\n",
       " '2 - 2 * 4 + 8 == 2',\n",
       " '- 10 * 2 + 11 * 2 == 2',\n",
       " '7 * 2 - 4 * 3 == 2',\n",
       " '5 - 4 + 8 - 7 == 2',\n",
       " '10 - 7 - 4 + 3 == 2',\n",
       " '- 3 + 7 - 8 / 4 == 2',\n",
       " '- 8 + 5 + 10 - 5 == 2']"
      ]
     },
     "execution_count": 9,
     "metadata": {},
     "output_type": "execute_result"
    }
   ],
   "source": [
    "ys[:15]"
   ]
  },
  {
   "cell_type": "code",
   "execution_count": 11,
   "metadata": {},
   "outputs": [
    {
     "data": {
      "text/plain": [
       "0.2442"
      ]
     },
     "execution_count": 11,
     "metadata": {},
     "output_type": "execute_result"
    }
   ],
   "source": [
    "(np.array(xs) == np.array(ys)).sum()/D"
   ]
  },
  {
   "cell_type": "code",
   "execution_count": 12,
   "metadata": {},
   "outputs": [
    {
     "name": "stdout",
     "output_type": "stream",
     "text": [
      "train size 7000 (7000, 2)\n",
      "val size 1500 (1500, 2)\n",
      "test size 1500 (1500, 2)\n"
     ]
    }
   ],
   "source": [
    "# train val test split\n",
    "dataset = np.array([(x, y) for x, y in zip(xs, ys)])\n",
    "data_size = dataset.shape[0]\n",
    "indices = np.random.permutation(data_size)\n",
    "train_size = int(0.7*data_size)\n",
    "val_size = int(0.15*data_size)\n",
    "test_size = data_size - train_size - val_size\n",
    "train_idxes = indices[:train_size]\n",
    "val_idxes = indices[train_size: train_size+val_size]\n",
    "test_idxes = indices[train_size+val_size:]\n",
    "trainset = dataset[train_idxes]\n",
    "valset = dataset[val_idxes]\n",
    "testset = dataset[test_idxes]\n",
    "print('train size', train_size, trainset.shape)\n",
    "print('val size', val_size, valset.shape)\n",
    "print('test size', test_size, testset.shape)"
   ]
  },
  {
   "cell_type": "code",
   "execution_count": 13,
   "metadata": {},
   "outputs": [
    {
     "data": {
      "text/plain": [
       "'aec/10N/5L/10000D'"
      ]
     },
     "execution_count": 13,
     "metadata": {},
     "output_type": "execute_result"
    }
   ],
   "source": [
    "# to save dataset\n",
    "outdir = 'aec/'\n",
    "outdir = os.path.join(\n",
    "    outdir, \n",
    "    '{}N'.format(N), \n",
    "    '{}L'.format(L), \n",
    "    '{}D'.format(D))\n",
    "if not os.path.exists(outdir): \n",
    "    os.makedirs(outdir)\n",
    "outdir"
   ]
  },
  {
   "cell_type": "code",
   "execution_count": 14,
   "metadata": {},
   "outputs": [],
   "source": [
    "save_txt(os.path.join(outdir, 'train_x.txt'), trainset[:, 0])\n",
    "save_txt(os.path.join(outdir, 'train_y.txt'), trainset[:, 1])\n",
    "save_txt(os.path.join(outdir, 'val_x.txt'), valset[:, 0])\n",
    "save_txt(os.path.join(outdir, 'val_y.txt'), valset[:, 1])\n",
    "save_txt(os.path.join(outdir, 'test_x.txt'), testset[:, 0])\n",
    "save_txt(os.path.join(outdir, 'test_y.txt'), testset[:, 1])"
   ]
  },
  {
   "cell_type": "code",
   "execution_count": null,
   "metadata": {},
   "outputs": [],
   "source": []
  }
 ],
 "metadata": {
  "kernelspec": {
   "display_name": "Python 3",
   "language": "python",
   "name": "python3"
  },
  "language_info": {
   "codemirror_mode": {
    "name": "ipython",
    "version": 3
   },
   "file_extension": ".py",
   "mimetype": "text/x-python",
   "name": "python",
   "nbconvert_exporter": "python",
   "pygments_lexer": "ipython3",
   "version": "3.7.7"
  }
 },
 "nbformat": 4,
 "nbformat_minor": 4
}
