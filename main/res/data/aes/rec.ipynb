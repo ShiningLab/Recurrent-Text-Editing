{
 "cells": [
  {
   "cell_type": "markdown",
   "metadata": {},
   "source": [
    "# Data Preprocessing"
   ]
  },
  {
   "cell_type": "code",
   "execution_count": 1,
   "metadata": {},
   "outputs": [],
   "source": [
    "#!/usr/bin/env python\n",
    "# -*- coding:utf-8 -*-\n",
    "\n",
    "__author__ = 'Shining'\n",
    "__email__ = 'mrshininnnnn@gmail.com'"
   ]
  },
  {
   "cell_type": "code",
   "execution_count": 2,
   "metadata": {},
   "outputs": [],
   "source": [
    "# dependency\n",
    "# public\n",
    "import os\n",
    "import numpy as np\n",
    "from collections import Counter\n",
    "# private\n",
    "from utils import *"
   ]
  },
  {
   "cell_type": "code",
   "execution_count": 3,
   "metadata": {},
   "outputs": [],
   "source": [
    "# define parameters\n",
    "method = 'rec'\n",
    "num_size = 100\n",
    "seq_len = 5\n",
    "data_size = 10000"
   ]
  },
  {
   "cell_type": "code",
   "execution_count": 4,
   "metadata": {},
   "outputs": [
    {
     "data": {
      "text/plain": [
       "'aes/num_size_100/seq_len_5/data_size_10000'"
      ]
     },
     "execution_count": 4,
     "metadata": {},
     "output_type": "execute_result"
    }
   ],
   "source": [
    "# load path\n",
    "indir = 'aes'\n",
    "indir = os.path.join(indir, \n",
    "                     'num_size_{}'.format(num_size), \n",
    "                     'seq_len_{}'.format(seq_len), \n",
    "                     'data_size_{}'.format(data_size))\n",
    "indir"
   ]
  },
  {
   "cell_type": "code",
   "execution_count": 5,
   "metadata": {},
   "outputs": [
    {
     "data": {
      "text/plain": [
       "'rec/num_size_100/seq_len_5/data_size_10000'"
      ]
     },
     "execution_count": 5,
     "metadata": {},
     "output_type": "execute_result"
    }
   ],
   "source": [
    "# save path\n",
    "outdir = os.path.join(method, \n",
    "                      'num_size_{}'.format(num_size), \n",
    "                      'seq_len_{}'.format(seq_len), \n",
    "                      'data_size_{}'.format(data_size))\n",
    "if not os.path.exists(outdir): \n",
    "    os.makedirs(outdir)\n",
    "outdir"
   ]
  },
  {
   "cell_type": "code",
   "execution_count": 6,
   "metadata": {},
   "outputs": [],
   "source": [
    "# load raw dataset\n",
    "raw_train_xs = load_txt(os.path.join(indir, 'train_x.txt'))\n",
    "raw_train_ys = load_txt(os.path.join(indir, 'train_y.txt'))\n",
    "raw_val_xs = load_txt(os.path.join(indir, 'val_x.txt'))\n",
    "raw_val_ys = load_txt(os.path.join(indir, 'val_y.txt'))\n",
    "raw_test_xs = load_txt(os.path.join(indir, 'test_x.txt'))\n",
    "raw_test_ys = load_txt(os.path.join(indir, 'test_y.txt'))"
   ]
  },
  {
   "cell_type": "code",
   "execution_count": 7,
   "metadata": {},
   "outputs": [
    {
     "name": "stdout",
     "output_type": "stream",
     "text": [
      "train sample size 7000\n",
      "train label size 7000\n",
      "val sample size 1500\n",
      "val label size 1500\n",
      "test sample size 1500\n",
      "test label size 1500\n"
     ]
    }
   ],
   "source": [
    "# check data size\n",
    "print('train sample size', len(raw_train_xs))\n",
    "print('train label size', len(raw_train_ys))\n",
    "print('val sample size', len(raw_val_xs))\n",
    "print('val label size', len(raw_val_ys))\n",
    "print('test sample size', len(raw_test_xs))\n",
    "print('test label size', len(raw_test_ys))"
   ]
  },
  {
   "cell_type": "markdown",
   "metadata": {},
   "source": [
    "### Helper Functions"
   ]
  },
  {
   "cell_type": "code",
   "execution_count": 8,
   "metadata": {},
   "outputs": [],
   "source": [
    "# def gen_rec_pair(x, y): \n",
    "#     x = x.split()\n",
    "#     y = y.split()\n",
    "#     xs = [x.copy()]\n",
    "#     ys_ = []\n",
    "#     num_left = len([i for i in x if i == '('])\n",
    "#     for i in range(num_left):\n",
    "#         left_idx = x.index('(') \n",
    "#         right_idx = x.index(')') \n",
    "#         v = y[left_idx] \n",
    "#         ys_.append(['<pos_{}>'.format(left_idx), '<pos_{}>'.format(right_idx), v])\n",
    "#         x = x[:left_idx] + [v] + x[right_idx+1:]\n",
    "#         xs.append(x)\n",
    "#     ys_.append(['<done>']*3)\n",
    "#     index = np.random.choice(range(len(xs)))\n",
    "#     x = xs[index]\n",
    "#     y_ = ys_[index]\n",
    "#     return x, y_, y"
   ]
  },
  {
   "cell_type": "code",
   "execution_count": 9,
   "metadata": {},
   "outputs": [
    {
     "data": {
      "text/plain": [
       "0.168"
      ]
     },
     "execution_count": 9,
     "metadata": {},
     "output_type": "execute_result"
    }
   ],
   "source": [
    "sum([x == y for x, y in zip(raw_train_xs, raw_train_ys)])/len(raw_train_xs)"
   ]
  },
  {
   "cell_type": "code",
   "execution_count": 10,
   "metadata": {},
   "outputs": [
    {
     "data": {
      "text/plain": [
       "0.16666666666666666"
      ]
     },
     "execution_count": 10,
     "metadata": {},
     "output_type": "execute_result"
    }
   ],
   "source": [
    "1/6"
   ]
  },
  {
   "cell_type": "markdown",
   "metadata": {},
   "source": [
    "### Train"
   ]
  },
  {
   "cell_type": "code",
   "execution_count": 11,
   "metadata": {},
   "outputs": [],
   "source": [
    "train_xs, train_ys_, train_ys = zip(*[gen_rec_pair(x, y) for x, y in zip(raw_train_xs, raw_train_ys)])"
   ]
  },
  {
   "cell_type": "code",
   "execution_count": 12,
   "metadata": {
    "scrolled": false
   },
   "outputs": [
    {
     "name": "stdout",
     "output_type": "stream",
     "text": [
      "src: ['88', '-', '3', '+', '92', '-', '99', '==', '78']\n",
      "tgt: ['88', '-', '3', '+', '92', '-', '99', '==', '78']\n",
      "pred: ['<done>', '<done>', '<done>']\n",
      "\n",
      "src: ['-', '58', '+', '67', '+', '5', '+', '74', '==', '(', '35', '+', '53', ')']\n",
      "tgt: ['-', '58', '+', '67', '+', '5', '+', '74', '==', '88']\n",
      "pred: ['<pos_9>', '<pos_13>', '88']\n",
      "\n",
      "src: ['10', '+', '(', '97', '-', '63', ')', '-', '(', '94', '-', '52', ')', '+', '26', '==', '28']\n",
      "tgt: ['10', '+', '34', '-', '42', '+', '26', '==', '28']\n",
      "pred: ['<pos_2>', '<pos_6>', '34']\n",
      "\n",
      "src: ['75', '-', '21', '-', '98', '+', '79', '==', '35']\n",
      "tgt: ['75', '-', '21', '-', '98', '+', '79', '==', '35']\n",
      "pred: ['<done>', '<done>', '<done>']\n",
      "\n",
      "src: ['19', '-', '2', '-', '60', '+', '61', '==', '18']\n",
      "tgt: ['19', '-', '2', '-', '60', '+', '61', '==', '18']\n",
      "pred: ['<done>', '<done>', '<done>']\n",
      "\n",
      "src: ['43', '+', '65', '-', '12', '-', '(', '-', '9', '+', '75', ')', '==', '(', '-', '16', '+', '46', ')']\n",
      "tgt: ['43', '+', '65', '-', '12', '-', '66', '==', '30']\n",
      "pred: ['<pos_6>', '<pos_11>', '66']\n",
      "\n",
      "src: ['-', '40', '/', '(', '50', '-', '10', ')', '*', '55', '+', '(', '-', '22', '+', '85', ')', '==', '(', '77', '-', '69', ')']\n",
      "tgt: ['-', '40', '/', '40', '*', '55', '+', '63', '==', '8']\n",
      "pred: ['<pos_3>', '<pos_7>', '40']\n",
      "\n",
      "src: ['100', '+', '54', '-', '18', '-', '96', '==', '40']\n",
      "tgt: ['100', '+', '54', '-', '18', '-', '96', '==', '40']\n",
      "pred: ['<done>', '<done>', '<done>']\n",
      "\n",
      "src: ['5', '-', '10', '+', '90', '-', '51', '==', '34']\n",
      "tgt: ['5', '-', '10', '+', '90', '-', '51', '==', '34']\n",
      "pred: ['<done>', '<done>', '<done>']\n",
      "\n",
      "src: ['-', '86', '-', '3', '+', '(', '84', '-', '49', ')', '*', '3', '==', '16']\n",
      "tgt: ['-', '86', '-', '3', '+', '35', '*', '3', '==', '16']\n",
      "pred: ['<pos_5>', '<pos_9>', '35']\n",
      "\n"
     ]
    }
   ],
   "source": [
    "# take a look\n",
    "for i in range(-10, 0, 1):\n",
    "    print('src:', train_xs[i])\n",
    "    print('tgt:', train_ys[i])\n",
    "    print('pred:', train_ys_[i])\n",
    "    print()"
   ]
  },
  {
   "cell_type": "code",
   "execution_count": 13,
   "metadata": {},
   "outputs": [
    {
     "data": {
      "text/plain": [
       "0.4083333333333333"
      ]
     },
     "execution_count": 13,
     "metadata": {},
     "output_type": "execute_result"
    }
   ],
   "source": [
    "sum([5/6 * 1/5 * 1/i for i in range(2, 7)]) + 1/6"
   ]
  },
  {
   "cell_type": "code",
   "execution_count": 15,
   "metadata": {},
   "outputs": [
    {
     "data": {
      "text/plain": [
       "0.41014285714285714"
      ]
     },
     "execution_count": 15,
     "metadata": {},
     "output_type": "execute_result"
    }
   ],
   "source": [
    "sum([y_ == ['<done>', '<done>', '<done>'] for y_ in train_ys_])/len(train_ys_)"
   ]
  },
  {
   "cell_type": "code",
   "execution_count": 19,
   "metadata": {},
   "outputs": [
    {
     "name": "stdout",
     "output_type": "stream",
     "text": [
      "107\n",
      "[('+', 17212), ('-', 16250), ('(', 8853), (')', 8853), ('==', 7000), ('*', 1223), ('/', 860), ('2', 755), ('4', 655), ('3', 651), ('5', 624), ('8', 597), ('6', 594), ('7', 575), ('9', 574), ('10', 546), ('14', 539), ('21', 539), ('33', 531), ('12', 531), ('13', 529), ('11', 515), ('30', 515), ('25', 508), ('17', 505), ('22', 502), ('19', 498), ('27', 490), ('32', 488), ('18', 485), ('31', 483), ('43', 482), ('16', 482), ('15', 480), ('48', 477), ('23', 471), ('28', 469), ('36', 469), ('39', 469), ('24', 468), ('40', 467), ('35', 464), ('29', 463), ('41', 461), ('26', 460), ('47', 457), ('34', 455), ('38', 453), ('52', 452), ('20', 451), ('37', 449), ('63', 436), ('60', 435), ('42', 435), ('44', 434), ('66', 432), ('51', 426), ('59', 426), ('68', 424), ('69', 421), ('46', 421), ('65', 420), ('50', 419), ('56', 416), ('45', 415), ('78', 410), ('58', 403), ('55', 403), ('54', 397), ('64', 395), ('81', 395), ('49', 394), ('76', 393), ('61', 392), ('70', 392), ('90', 389), ('53', 387), ('72', 386), ('73', 386), ('57', 384), ('84', 382), ('77', 380), ('62', 378), ('83', 377), ('92', 377), ('82', 374), ('67', 371), ('91', 367), ('85', 366), ('87', 361), ('75', 359), ('80', 358), ('94', 355), ('86', 353), ('71', 352), ('88', 347), ('74', 343), ('96', 340), ('95', 338), ('99', 337), ('79', 333), ('89', 329), ('98', 324), ('100', 320), ('93', 320), ('101', 313), ('97', 305)]\n"
     ]
    }
   ],
   "source": [
    "# source vocabulary frequency distribution\n",
    "counter = Counter()\n",
    "for x in train_xs:\n",
    "    counter.update(x)\n",
    "\n",
    "print(len(counter))\n",
    "print(counter.most_common())"
   ]
  },
  {
   "cell_type": "code",
   "execution_count": 20,
   "metadata": {},
   "outputs": [
    {
     "name": "stdout",
     "output_type": "stream",
     "text": [
      "['(', ')', '*', '+', '-', '/', '10', '100', '101', '11', '12', '13', '14', '15', '16', '17', '18', '19', '2', '20', '21', '22', '23', '24', '25', '26', '27', '28', '29', '3', '30', '31', '32', '33', '34', '35', '36', '37', '38', '39', '4', '40', '41', '42', '43', '44', '45', '46', '47', '48', '49', '5', '50', '51', '52', '53', '54', '55', '56', '57', '58', '59', '6', '60', '61', '62', '63', '64', '65', '66', '67', '68', '69', '7', '70', '71', '72', '73', '74', '75', '76', '77', '78', '79', '8', '80', '81', '82', '83', '84', '85', '86', '87', '88', '89', '9', '90', '91', '92', '93', '94', '95', '96', '97', '98', '99', '==']\n"
     ]
    }
   ],
   "source": [
    "src_vocab_list = sorted(counter.keys())\n",
    "print(src_vocab_list)"
   ]
  },
  {
   "cell_type": "code",
   "execution_count": 21,
   "metadata": {},
   "outputs": [
    {
     "name": "stdout",
     "output_type": "stream",
     "text": [
      "{'<pad>': 0, '(': 1, ')': 2, '*': 3, '+': 4, '-': 5, '/': 6, '10': 7, '100': 8, '101': 9, '11': 10, '12': 11, '13': 12, '14': 13, '15': 14, '16': 15, '17': 16, '18': 17, '19': 18, '2': 19, '20': 20, '21': 21, '22': 22, '23': 23, '24': 24, '25': 25, '26': 26, '27': 27, '28': 28, '29': 29, '3': 30, '30': 31, '31': 32, '32': 33, '33': 34, '34': 35, '35': 36, '36': 37, '37': 38, '38': 39, '39': 40, '4': 41, '40': 42, '41': 43, '42': 44, '43': 45, '44': 46, '45': 47, '46': 48, '47': 49, '48': 50, '49': 51, '5': 52, '50': 53, '51': 54, '52': 55, '53': 56, '54': 57, '55': 58, '56': 59, '57': 60, '58': 61, '59': 62, '6': 63, '60': 64, '61': 65, '62': 66, '63': 67, '64': 68, '65': 69, '66': 70, '67': 71, '68': 72, '69': 73, '7': 74, '70': 75, '71': 76, '72': 77, '73': 78, '74': 79, '75': 80, '76': 81, '77': 82, '78': 83, '79': 84, '8': 85, '80': 86, '81': 87, '82': 88, '83': 89, '84': 90, '85': 91, '86': 92, '87': 93, '88': 94, '89': 95, '9': 96, '90': 97, '91': 98, '92': 99, '93': 100, '94': 101, '95': 102, '96': 103, '97': 104, '98': 105, '99': 106, '==': 107}\n"
     ]
    }
   ],
   "source": [
    "# soruce vocabulary dictionary\n",
    "src_vocab2idx_dict = dict()\n",
    "src_vocab2idx_dict['<pad>'] = 0 # to pad sequence length\n",
    "\n",
    "i = len(src_vocab2idx_dict)\n",
    "for token in src_vocab_list:\n",
    "    src_vocab2idx_dict[token] = i\n",
    "    i += 1\n",
    "\n",
    "print(src_vocab2idx_dict)"
   ]
  },
  {
   "cell_type": "code",
   "execution_count": 22,
   "metadata": {},
   "outputs": [
    {
     "name": "stdout",
     "output_type": "stream",
     "text": [
      "116\n",
      "[('<done>', 8454), ('<pos_6>', 951), ('<pos_8>', 945), ('<pos_4>', 850), ('<pos_7>', 740), ('<pos_5>', 721), ('<pos_9>', 704), ('<pos_2>', 524), ('<pos_0>', 515), ('<pos_12>', 450), ('<pos_11>', 427), ('<pos_10>', 427), ('<pos_13>', 367), ('<pos_1>', 312), ('<pos_3>', 310), ('<pos_14>', 121), ('4', 77), ('6', 70), ('2', 62), ('5', 59), ('3', 59), ('7', 58), ('32', 56), ('36', 56), ('8', 55), ('25', 55), ('29', 55), ('21', 53), ('42', 53), ('28', 53), ('12', 53), ('16', 53), ('17', 53), ('34', 51), ('23', 51), ('58', 50), ('30', 50), ('24', 50), ('52', 50), ('68', 49), ('26', 48), ('18', 48), ('57', 48), ('9', 48), ('47', 47), ('15', 46), ('19', 46), ('43', 45), ('14', 45), ('48', 45), ('31', 44), ('13', 44), ('61', 44), ('66', 44), ('72', 44), ('20', 44), ('22', 43), ('27', 43), ('93', 42), ('10', 42), ('11', 42), ('45', 42), ('67', 41), ('33', 41), ('39', 41), ('46', 40), ('62', 40), ('41', 39), ('84', 39), ('49', 39), ('64', 39), ('89', 39), ('51', 39), ('78', 38), ('101', 38), ('56', 38), ('55', 38), ('40', 38), ('80', 37), ('77', 37), ('59', 36), ('53', 36), ('38', 36), ('54', 36), ('90', 36), ('60', 35), ('79', 35), ('83', 35), ('50', 35), ('35', 35), ('74', 35), ('70', 35), ('44', 34), ('95', 34), ('63', 33), ('88', 33), ('69', 33), ('86', 33), ('92', 32), ('85', 32), ('37', 32), ('81', 32), ('100', 32), ('73', 32), ('98', 31), ('75', 31), ('76', 31), ('96', 31), ('71', 30), ('99', 30), ('82', 30), ('91', 29), ('97', 28), ('87', 27), ('65', 27), ('94', 24)]\n"
     ]
    }
   ],
   "source": [
    "# target vocabulary frequency distribution\n",
    "counter = Counter()\n",
    "for y_ in train_ys_:\n",
    "    counter.update(y_)\n",
    "\n",
    "print(len(counter))\n",
    "print(counter.most_common())"
   ]
  },
  {
   "cell_type": "code",
   "execution_count": 23,
   "metadata": {},
   "outputs": [
    {
     "name": "stdout",
     "output_type": "stream",
     "text": [
      "['10', '100', '101', '11', '12', '13', '14', '15', '16', '17', '18', '19', '2', '20', '21', '22', '23', '24', '25', '26', '27', '28', '29', '3', '30', '31', '32', '33', '34', '35', '36', '37', '38', '39', '4', '40', '41', '42', '43', '44', '45', '46', '47', '48', '49', '5', '50', '51', '52', '53', '54', '55', '56', '57', '58', '59', '6', '60', '61', '62', '63', '64', '65', '66', '67', '68', '69', '7', '70', '71', '72', '73', '74', '75', '76', '77', '78', '79', '8', '80', '81', '82', '83', '84', '85', '86', '87', '88', '89', '9', '90', '91', '92', '93', '94', '95', '96', '97', '98', '99', '<done>', '<pos_0>', '<pos_10>', '<pos_11>', '<pos_12>', '<pos_13>', '<pos_14>', '<pos_1>', '<pos_2>', '<pos_3>', '<pos_4>', '<pos_5>', '<pos_6>', '<pos_7>', '<pos_8>', '<pos_9>']\n"
     ]
    }
   ],
   "source": [
    "tgt_vocab_list = sorted(counter.keys())\n",
    "print(tgt_vocab_list)"
   ]
  },
  {
   "cell_type": "code",
   "execution_count": 27,
   "metadata": {},
   "outputs": [
    {
     "name": "stdout",
     "output_type": "stream",
     "text": [
      "{'<pad>': 0, '<s>': 1, '10': 2, '100': 3, '101': 4, '11': 5, '12': 6, '13': 7, '14': 8, '15': 9, '16': 10, '17': 11, '18': 12, '19': 13, '2': 14, '20': 15, '21': 16, '22': 17, '23': 18, '24': 19, '25': 20, '26': 21, '27': 22, '28': 23, '29': 24, '3': 25, '30': 26, '31': 27, '32': 28, '33': 29, '34': 30, '35': 31, '36': 32, '37': 33, '38': 34, '39': 35, '4': 36, '40': 37, '41': 38, '42': 39, '43': 40, '44': 41, '45': 42, '46': 43, '47': 44, '48': 45, '49': 46, '5': 47, '50': 48, '51': 49, '52': 50, '53': 51, '54': 52, '55': 53, '56': 54, '57': 55, '58': 56, '59': 57, '6': 58, '60': 59, '61': 60, '62': 61, '63': 62, '64': 63, '65': 64, '66': 65, '67': 66, '68': 67, '69': 68, '7': 69, '70': 70, '71': 71, '72': 72, '73': 73, '74': 74, '75': 75, '76': 76, '77': 77, '78': 78, '79': 79, '8': 80, '80': 81, '81': 82, '82': 83, '83': 84, '84': 85, '85': 86, '86': 87, '87': 88, '88': 89, '89': 90, '9': 91, '90': 92, '91': 93, '92': 94, '93': 95, '94': 96, '95': 97, '96': 98, '97': 99, '98': 100, '99': 101, '<done>': 102, '<pos_0>': 103, '<pos_10>': 104, '<pos_11>': 105, '<pos_12>': 106, '<pos_13>': 107, '<pos_14>': 108, '<pos_1>': 109, '<pos_2>': 110, '<pos_3>': 111, '<pos_4>': 112, '<pos_5>': 113, '<pos_6>': 114, '<pos_7>': 115, '<pos_8>': 116, '<pos_9>': 117}\n"
     ]
    }
   ],
   "source": [
    "# target vocabulary dictionary\n",
    "tgt_vocab2idx_dict = dict()\n",
    "tgt_vocab2idx_dict['<pad>'] = 0 # to pad sequence length\n",
    "tgt_vocab2idx_dict['<s>'] = 1 # to mark the start of a sequence\n",
    "\n",
    "i = len(tgt_vocab2idx_dict)\n",
    "for token in tgt_vocab_list:\n",
    "    tgt_vocab2idx_dict[token] = i\n",
    "    i += 1\n",
    "\n",
    "print(tgt_vocab2idx_dict)"
   ]
  },
  {
   "cell_type": "markdown",
   "metadata": {},
   "source": [
    "### Val"
   ]
  },
  {
   "cell_type": "code",
   "execution_count": 15,
   "metadata": {},
   "outputs": [],
   "source": [
    "# white space tokenization\n",
    "val_xs = white_space_tokenizer(raw_val_xs)\n",
    "val_ys = white_space_tokenizer(raw_val_ys)"
   ]
  },
  {
   "cell_type": "code",
   "execution_count": 16,
   "metadata": {},
   "outputs": [
    {
     "name": "stdout",
     "output_type": "stream",
     "text": [
      "src: ['18', '-', '45', '+', '44', '-', '(', '91', '-', '79', ')', '==', '5']\n",
      "tgt: ['18', '-', '45', '+', '44', '-', '12', '==', '5']\n",
      "\n",
      "src: ['-', '(', '-', '61', '+', '82', ')', '+', '77', '-', '(', '2', '*', '29', ')', '+', '(', '10', '+', '63', ')', '==', '(', '18', '+', '53', ')']\n",
      "tgt: ['-', '21', '+', '77', '-', '58', '+', '73', '==', '71']\n",
      "\n",
      "src: ['(', '19', '+', '49', ')', '-', '(', '82', '-', '56', ')', '+', '84', '-', '(', '35', '+', '14', ')', '==', '(', '50', '+', '27', ')']\n",
      "tgt: ['68', '-', '26', '+', '84', '-', '49', '==', '77']\n",
      "\n",
      "src: ['100', '+', '(', '98', '-', '56', ')', '+', '19', '-', '(', '58', '+', '25', ')', '==', '(', '68', '+', '10', ')']\n",
      "tgt: ['100', '+', '42', '+', '19', '-', '83', '==', '78']\n",
      "\n",
      "src: ['54', '+', '(', '-', '2', '+', '56', ')', '+', '(', '76', '-', '25', ')', '-', '86', '==', '(', '70', '+', '3', ')']\n",
      "tgt: ['54', '+', '54', '+', '51', '-', '86', '==', '73']\n",
      "\n",
      "src: ['53', '-', '(', '-', '12', '+', '63', ')', '-', '95', '+', '98', '==', '5']\n",
      "tgt: ['53', '-', '51', '-', '95', '+', '98', '==', '5']\n",
      "\n",
      "src: ['62', '-', '(', '16', '+', '65', ')', '+', '(', '73', '-', '53', ')', '+', '48', '==', '(', '81', '-', '32', ')']\n",
      "tgt: ['62', '-', '81', '+', '20', '+', '48', '==', '49']\n",
      "\n",
      "src: ['(', '58', '-', '8', ')', '+', '(', '-', '20', '+', '70', ')', '-', '(', '-', '5', '+', '79', ')', '-', '(', '-', '28', '+', '42', ')', '==', '(', '-', '78', '+', '90', ')']\n",
      "tgt: ['50', '+', '50', '-', '74', '-', '14', '==', '12']\n",
      "\n",
      "src: ['-', '(', '-', '30', '+', '80', ')', '+', '(', '79', '-', '24', ')', '+', '(', '87', '-', '75', ')', '+', '36', '==', '(', '60', '-', '7', ')']\n",
      "tgt: ['-', '50', '+', '55', '+', '12', '+', '36', '==', '53']\n",
      "\n",
      "src: ['-', '10', '/', '(', '76', '-', '2', ')', '*', '74', '+', '54', '==', '(', '71', '-', '27', ')']\n",
      "tgt: ['-', '10', '/', '74', '*', '74', '+', '54', '==', '44']\n",
      "\n"
     ]
    }
   ],
   "source": [
    "# take a look\n",
    "for i in range(-10, 0, 1):\n",
    "    print('src:', val_xs[i])\n",
    "    print('tgt:', val_ys[i])\n",
    "    print()"
   ]
  },
  {
   "cell_type": "markdown",
   "metadata": {},
   "source": [
    "## Test"
   ]
  },
  {
   "cell_type": "code",
   "execution_count": 17,
   "metadata": {},
   "outputs": [],
   "source": [
    "# white space tokenization\n",
    "test_xs = white_space_tokenizer(raw_test_xs)\n",
    "test_ys = white_space_tokenizer(raw_test_ys)"
   ]
  },
  {
   "cell_type": "code",
   "execution_count": 18,
   "metadata": {},
   "outputs": [
    {
     "name": "stdout",
     "output_type": "stream",
     "text": [
      "src: ['(', '-', '25', '+', '79', ')', '-', '(', '72', '+', '26', ')', '-', '36', '+', '83', '==', '(', '-', '20', '+', '23', ')']\n",
      "tgt: ['54', '-', '98', '-', '36', '+', '83', '==', '3']\n",
      "\n",
      "src: ['25', '+', '59', '-', '(', '60', '-', '17', ')', '+', '11', '==', '52']\n",
      "tgt: ['25', '+', '59', '-', '43', '+', '11', '==', '52']\n",
      "\n",
      "src: ['20', '-', '(', '-', '11', '+', '38', ')', '+', '(', '-', '63', '+', '75', ')', '+', '84', '==', '89']\n",
      "tgt: ['20', '-', '27', '+', '12', '+', '84', '==', '89']\n",
      "\n",
      "src: ['(', '-', '5', '+', '87', ')', '-', '(', '3', '+', '97', ')', '+', '(', '38', '+', '57', ')', '+', '(', '-', '16', '+', '24', ')', '==', '(', '71', '+', '14', ')']\n",
      "tgt: ['82', '-', '100', '+', '95', '+', '8', '==', '85']\n",
      "\n",
      "src: ['-', '(', '3', '*', '19', ')', '+', '(', '21', '+', '69', ')', '-', '(', '10', '*', '3', ')', '+', '(', '91', '-', '72', ')', '==', '(', '80', '-', '58', ')']\n",
      "tgt: ['-', '57', '+', '90', '-', '30', '+', '19', '==', '22']\n",
      "\n",
      "src: ['-', '(', '23', '+', '50', ')', '+', '33', '*', '(', '85', '-', '81', ')', '+', '21', '==', '(', '66', '+', '14', ')']\n",
      "tgt: ['-', '73', '+', '33', '*', '4', '+', '21', '==', '80']\n",
      "\n",
      "src: ['(', '-', '18', '+', '46', ')', '+', '(', '76', '-', '37', ')', '+', '(', '4', '+', '46', ')', '-', '(', '14', '+', '36', ')', '==', '(', '71', '-', '4', ')']\n",
      "tgt: ['28', '+', '39', '+', '50', '-', '50', '==', '67']\n",
      "\n",
      "src: ['24', '+', '84', '+', '20', '-', '101', '==', '27']\n",
      "tgt: ['24', '+', '84', '+', '20', '-', '101', '==', '27']\n",
      "\n",
      "src: ['-', '53', '+', '68', '-', '87', '+', '(', '30', '+', '44', ')', '==', '(', '-', '59', '+', '61', ')']\n",
      "tgt: ['-', '53', '+', '68', '-', '87', '+', '74', '==', '2']\n",
      "\n",
      "src: ['4', '-', '(', '-', '2', '+', '52', ')', '+', '47', '+', '65', '==', '66']\n",
      "tgt: ['4', '-', '50', '+', '47', '+', '65', '==', '66']\n",
      "\n"
     ]
    }
   ],
   "source": [
    "# take a look\n",
    "for i in range(-10, 0, 1):\n",
    "    print('src:', test_xs[i])\n",
    "    print('tgt:', test_ys[i])\n",
    "    print()"
   ]
  },
  {
   "cell_type": "code",
   "execution_count": 19,
   "metadata": {},
   "outputs": [],
   "source": [
    "# combine data sets to a dict\n",
    "train_dict = {}\n",
    "train_dict['ys'] = train_ys\n",
    "\n",
    "val_dict = {}\n",
    "val_dict['xs'] = val_xs\n",
    "val_dict['ys'] = val_ys\n",
    "\n",
    "test_dict = {}\n",
    "test_dict['xs'] = test_xs\n",
    "test_dict['ys'] = test_ys\n",
    "\n",
    "data_dict = dict()\n",
    "data_dict['train'] = train_dict\n",
    "data_dict['val'] = val_dict\n",
    "data_dict['test'] = test_dict\n",
    "\n",
    "vocab_dict = dict()\n",
    "vocab_dict['src'] = src_vocab2idx_dict\n",
    "vocab_dict['tgt'] = tgt_vocab2idx_dict"
   ]
  },
  {
   "cell_type": "code",
   "execution_count": 20,
   "metadata": {},
   "outputs": [],
   "source": [
    "# save output as json\n",
    "data_path = os.path.join(outdir, 'data.json')\n",
    "vocab_path = os.path.join(outdir, 'vocab.json')\n",
    "\n",
    "save_json(data_path, data_dict)\n",
    "save_json(vocab_path, vocab_dict)"
   ]
  },
  {
   "cell_type": "markdown",
   "metadata": {},
   "source": [
    "# Archive Code"
   ]
  },
  {
   "cell_type": "code",
   "execution_count": 37,
   "metadata": {},
   "outputs": [],
   "source": [
    "# raw_train_xs = load_txt(os.path.join(indir, 'train_x.txt'))\n",
    "# x = raw_train_xs[0]\n",
    "# y = raw_train_ys[0]\n",
    "# x = x.split()\n",
    "# y = y.split()\n",
    "# print(x)\n",
    "# print(y)\n",
    "# print()\n",
    "\n",
    "# xs = [x.copy()]\n",
    "# ys_ = []\n",
    "\n",
    "# num_left = len([i for i in x if i == '('])\n",
    "# for i in range(num_left):\n",
    "#     left_idx = x.index('(') \n",
    "#     right_idx = x.index(')') \n",
    "#     v = y[left_idx] \n",
    "#     ys_.append(['<pos_{}>'.format(left_idx), '<pos_{}>'.format(right_idx), v])\n",
    "#     x = x[:left_idx] + [v] + x[right_idx+1:]\n",
    "#     xs.append(x)\n",
    "\n",
    "# ys_.append(['<done>']*3)\n",
    "\n",
    "# for x, y_ in zip(xs, ys_):\n",
    "#     print(x)\n",
    "#     print(y_)"
   ]
  },
  {
   "cell_type": "code",
   "execution_count": 38,
   "metadata": {},
   "outputs": [],
   "source": [
    "# x = xs[0]\n",
    "# y_ = ys_[0]\n",
    "# print(x)\n",
    "# print(y_)"
   ]
  },
  {
   "cell_type": "code",
   "execution_count": 39,
   "metadata": {},
   "outputs": [],
   "source": [
    "# np_xs = [x for i in range(10)]\n",
    "# np_ys_ = [y_ for i in range(10)]\n",
    "# np_xs.append(xs[0])\n",
    "# np_ys_.append(ys_[-1])\n",
    "\n",
    "# np_xs = np.array(np_xs)\n",
    "# np_ys_ = np.array(np_ys_)\n",
    "\n",
    "# print(np_xs)\n",
    "# print()\n",
    "# print(np_ys_)"
   ]
  },
  {
   "cell_type": "code",
   "execution_count": 40,
   "metadata": {},
   "outputs": [],
   "source": [
    "# mask = (np_ys_ != '<done>').all(axis=-1)\n",
    "# mask"
   ]
  },
  {
   "cell_type": "code",
   "execution_count": 41,
   "metadata": {},
   "outputs": [],
   "source": [
    "# np_ys_[mask]"
   ]
  },
  {
   "cell_type": "code",
   "execution_count": 42,
   "metadata": {},
   "outputs": [],
   "source": [
    "# def parse_pos(pos):\n",
    "#     return int(''.join([i for i in pos if i.isdigit()]))"
   ]
  },
  {
   "cell_type": "code",
   "execution_count": 43,
   "metadata": {},
   "outputs": [],
   "source": [
    "# get_pos = np.vectorize(parse_pos, otypes=[int])"
   ]
  },
  {
   "cell_type": "code",
   "execution_count": 44,
   "metadata": {},
   "outputs": [],
   "source": [
    "# left = get_pos(np_ys_[mask, :2])[:, 0]\n",
    "# left"
   ]
  },
  {
   "cell_type": "code",
   "execution_count": 45,
   "metadata": {},
   "outputs": [],
   "source": [
    "# right = get_pos(np_ys_[mask, :2])[:, 1]\n",
    "# right"
   ]
  },
  {
   "cell_type": "code",
   "execution_count": 46,
   "metadata": {},
   "outputs": [],
   "source": [
    "# np_xs[mask, left]"
   ]
  },
  {
   "cell_type": "code",
   "execution_count": 47,
   "metadata": {},
   "outputs": [],
   "source": [
    "# y_[0].startswith('<pos_')"
   ]
  },
  {
   "cell_type": "code",
   "execution_count": 48,
   "metadata": {},
   "outputs": [],
   "source": [
    "# left_idx = parse_pos(y_[0])"
   ]
  },
  {
   "cell_type": "code",
   "execution_count": 49,
   "metadata": {},
   "outputs": [],
   "source": [
    "# right_idx = parse_pos(y_[1])"
   ]
  },
  {
   "cell_type": "code",
   "execution_count": 50,
   "metadata": {},
   "outputs": [],
   "source": [
    "# x"
   ]
  },
  {
   "cell_type": "code",
   "execution_count": 51,
   "metadata": {},
   "outputs": [],
   "source": [
    "# x[:left_idx] + [y_[2]] + x[right_idx+1:]"
   ]
  },
  {
   "cell_type": "code",
   "execution_count": null,
   "metadata": {},
   "outputs": [],
   "source": []
  }
 ],
 "metadata": {
  "kernelspec": {
   "display_name": "Python 3",
   "language": "python",
   "name": "python3"
  },
  "language_info": {
   "codemirror_mode": {
    "name": "ipython",
    "version": 3
   },
   "file_extension": ".py",
   "mimetype": "text/x-python",
   "name": "python",
   "nbconvert_exporter": "python",
   "pygments_lexer": "ipython3",
   "version": "3.7.6"
  }
 },
 "nbformat": 4,
 "nbformat_minor": 4
}
