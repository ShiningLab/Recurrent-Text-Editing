{
 "cells": [
  {
   "cell_type": "markdown",
   "metadata": {},
   "source": [
    "# Data Preprocessing"
   ]
  },
  {
   "cell_type": "code",
   "execution_count": 1,
   "metadata": {},
   "outputs": [],
   "source": [
    "#!/usr/bin/env python\n",
    "# -*- coding:utf-8 -*-\n",
    "\n",
    "__author__ = 'Shining'\n",
    "__email__ = 'mrshininnnnn@gmail.com'"
   ]
  },
  {
   "cell_type": "code",
   "execution_count": 2,
   "metadata": {},
   "outputs": [],
   "source": [
    "# dependency\n",
    "# public\n",
    "import os\n",
    "import numpy as np\n",
    "from collections import Counter\n",
    "# private\n",
    "from utils import *"
   ]
  },
  {
   "cell_type": "code",
   "execution_count": 3,
   "metadata": {},
   "outputs": [],
   "source": [
    "# define parameters\n",
    "num_size = 100\n",
    "seq_len = 5\n",
    "data_size = 10000"
   ]
  },
  {
   "cell_type": "code",
   "execution_count": 4,
   "metadata": {},
   "outputs": [
    {
     "data": {
      "text/plain": [
       "'aes/num_size_100/seq_len_5/data_size_10000'"
      ]
     },
     "execution_count": 4,
     "metadata": {},
     "output_type": "execute_result"
    }
   ],
   "source": [
    "# load path\n",
    "data_src = 'aes'\n",
    "indir = os.path.join(data_src, \n",
    "                     'num_size_{}'.format(num_size), \n",
    "                     'seq_len_{}'.format(seq_len), \n",
    "                     'data_size_{}'.format(data_size))\n",
    "indir"
   ]
  },
  {
   "cell_type": "code",
   "execution_count": 5,
   "metadata": {},
   "outputs": [
    {
     "data": {
      "text/plain": [
       "'tag/num_size_100/seq_len_5/data_size_10000'"
      ]
     },
     "execution_count": 5,
     "metadata": {},
     "output_type": "execute_result"
    }
   ],
   "source": [
    "# save path\n",
    "outdir = 'tag'\n",
    "\n",
    "outdir = os.path.join(outdir, \n",
    "                      'num_size_{}'.format(num_size), \n",
    "                      'seq_len_{}'.format(seq_len), \n",
    "                      'data_size_{}'.format(data_size))\n",
    "if not os.path.exists(outdir): \n",
    "    os.makedirs(outdir)\n",
    "outdir"
   ]
  },
  {
   "cell_type": "code",
   "execution_count": 6,
   "metadata": {},
   "outputs": [],
   "source": [
    "# load raw dataset\n",
    "raw_train_xs = load_txt(os.path.join(indir, 'train_x.txt'))\n",
    "raw_train_ys = load_txt(os.path.join(indir, 'train_y.txt'))\n",
    "raw_val_xs = load_txt(os.path.join(indir, 'val_x.txt'))\n",
    "raw_val_ys = load_txt(os.path.join(indir, 'val_y.txt'))\n",
    "raw_test_xs = load_txt(os.path.join(indir, 'test_x.txt'))\n",
    "raw_test_ys = load_txt(os.path.join(indir, 'test_y.txt'))"
   ]
  },
  {
   "cell_type": "code",
   "execution_count": 7,
   "metadata": {},
   "outputs": [
    {
     "name": "stdout",
     "output_type": "stream",
     "text": [
      "train sample size 7000\n",
      "train label size 7000\n",
      "val sample size 1500\n",
      "val label size 1500\n",
      "test sample size 1500\n",
      "test label size 1500\n"
     ]
    }
   ],
   "source": [
    "# check data size\n",
    "print('train sample size', len(raw_train_xs))\n",
    "print('train label size', len(raw_train_ys))\n",
    "print('val sample size', len(raw_val_xs))\n",
    "print('val label size', len(raw_val_ys))\n",
    "print('test sample size', len(raw_test_xs))\n",
    "print('test label size', len(raw_test_ys))"
   ]
  },
  {
   "cell_type": "markdown",
   "metadata": {},
   "source": [
    "### Helper Functions"
   ]
  },
  {
   "cell_type": "code",
   "execution_count": 8,
   "metadata": {},
   "outputs": [],
   "source": [
    "# def gen_tag_pair(x, y):\n",
    "#     x_ = x.split()\n",
    "#     y = y.split()\n",
    "#     y_ = []\n",
    "#     x_token = x_.pop(0)\n",
    "#     for i in range(len(y)):\n",
    "#         y_token = y[i]\n",
    "#         if x_token == y_token:\n",
    "#             y_.append('<keep>')\n",
    "#             if len(x_) == 0:\n",
    "#                 break\n",
    "#             x_token = x_.pop(0)\n",
    "#         else:\n",
    "#             y_.append('<sub_{}>'.format(y_token))\n",
    "#             x_token = x_.pop(0)\n",
    "#             while True:\n",
    "#                 y_.append('<delete>')\n",
    "#                 if x_token == ')':\n",
    "#                     if len(x_) != 0:\n",
    "#                         x_token = x_.pop(0)\n",
    "#                     break\n",
    "#                 x_token = x_.pop(0)\n",
    "#     return x, ' '.join(y), ' '.join(y_)"
   ]
  },
  {
   "cell_type": "markdown",
   "metadata": {},
   "source": [
    "### Train"
   ]
  },
  {
   "cell_type": "code",
   "execution_count": 9,
   "metadata": {},
   "outputs": [],
   "source": [
    "train_xs, train_ys, train_ys_ = zip(*[gen_tag_pair(x, y) for x, y in zip(raw_train_xs, raw_train_ys)])"
   ]
  },
  {
   "cell_type": "code",
   "execution_count": 10,
   "metadata": {},
   "outputs": [],
   "source": [
    "# white space tokenization\n",
    "train_xs = white_space_tokenizer(train_xs)\n",
    "train_ys = white_space_tokenizer(train_ys)\n",
    "train_ys_ = white_space_tokenizer(train_ys_)"
   ]
  },
  {
   "cell_type": "code",
   "execution_count": 11,
   "metadata": {},
   "outputs": [
    {
     "name": "stdout",
     "output_type": "stream",
     "text": [
      "src: ['(', '55', '-', '45', ')', '+', '(', '14', '+', '12', ')', '+', '(', '94', '-', '53', ')', '-', '(', '35', '-', '2', ')', '==', '44']\n",
      "tgt: ['10', '+', '26', '+', '41', '-', '33', '==', '44']\n",
      "pred: ['<sub_10>', '<delete>', '<delete>', '<delete>', '<delete>', '<keep>', '<sub_26>', '<delete>', '<delete>', '<delete>', '<delete>', '<keep>', '<sub_41>', '<delete>', '<delete>', '<delete>', '<delete>', '<keep>', '<sub_33>', '<delete>', '<delete>', '<delete>', '<delete>', '<keep>', '<keep>']\n",
      "\n",
      "src: ['46', '+', '(', '20', '+', '6', ')', '/', '25', '*', '(', '15', '+', '35', ')', '==', '98']\n",
      "tgt: ['46', '+', '26', '/', '25', '*', '50', '==', '98']\n",
      "pred: ['<keep>', '<keep>', '<sub_26>', '<delete>', '<delete>', '<delete>', '<delete>', '<keep>', '<keep>', '<keep>', '<sub_50>', '<delete>', '<delete>', '<delete>', '<delete>', '<keep>', '<keep>']\n",
      "\n",
      "src: ['(', '45', '+', '32', ')', '+', '19', '-', '3', '*', '11', '==', '(', '4', '+', '59', ')']\n",
      "tgt: ['77', '+', '19', '-', '3', '*', '11', '==', '63']\n",
      "pred: ['<sub_77>', '<delete>', '<delete>', '<delete>', '<delete>', '<keep>', '<keep>', '<keep>', '<keep>', '<keep>', '<keep>', '<keep>', '<sub_63>', '<delete>', '<delete>', '<delete>', '<delete>']\n",
      "\n",
      "src: ['(', '64', '-', '35', ')', '+', '77', '-', '78', '+', '70', '==', '98']\n",
      "tgt: ['29', '+', '77', '-', '78', '+', '70', '==', '98']\n",
      "pred: ['<sub_29>', '<delete>', '<delete>', '<delete>', '<delete>', '<keep>', '<keep>', '<keep>', '<keep>', '<keep>', '<keep>', '<keep>', '<keep>']\n",
      "\n",
      "src: ['(', '77', '-', '75', ')', '+', '(', '-', '70', '+', '89', ')', '+', '(', '70', '-', '45', ')', '+', '54', '==', '100']\n",
      "tgt: ['2', '+', '19', '+', '25', '+', '54', '==', '100']\n",
      "pred: ['<sub_2>', '<delete>', '<delete>', '<delete>', '<delete>', '<keep>', '<sub_19>', '<delete>', '<delete>', '<delete>', '<delete>', '<delete>', '<keep>', '<sub_25>', '<delete>', '<delete>', '<delete>', '<delete>', '<keep>', '<keep>', '<keep>', '<keep>']\n",
      "\n",
      "src: ['-', '(', '56', '+', '13', ')', '-', '(', '26', '+', '69', ')', '+', '(', '56', '+', '21', ')', '+', '(', '59', '+', '39', ')', '==', '(', '-', '22', '+', '33', ')']\n",
      "tgt: ['-', '69', '-', '95', '+', '77', '+', '98', '==', '11']\n",
      "pred: ['<keep>', '<sub_69>', '<delete>', '<delete>', '<delete>', '<delete>', '<keep>', '<sub_95>', '<delete>', '<delete>', '<delete>', '<delete>', '<keep>', '<sub_77>', '<delete>', '<delete>', '<delete>', '<delete>', '<keep>', '<sub_98>', '<delete>', '<delete>', '<delete>', '<delete>', '<keep>', '<sub_11>', '<delete>', '<delete>', '<delete>', '<delete>', '<delete>']\n",
      "\n",
      "src: ['(', '-', '6', '+', '85', ')', '+', '(', '-', '91', '+', '100', ')', '+', '31', '-', '(', '-', '8', '+', '86', ')', '==', '(', '-', '16', '+', '57', ')']\n",
      "tgt: ['79', '+', '9', '+', '31', '-', '78', '==', '41']\n",
      "pred: ['<sub_79>', '<delete>', '<delete>', '<delete>', '<delete>', '<delete>', '<keep>', '<sub_9>', '<delete>', '<delete>', '<delete>', '<delete>', '<delete>', '<keep>', '<keep>', '<keep>', '<sub_78>', '<delete>', '<delete>', '<delete>', '<delete>', '<delete>', '<keep>', '<sub_41>', '<delete>', '<delete>', '<delete>', '<delete>', '<delete>']\n",
      "\n",
      "src: ['(', '55', '-', '9', ')', '+', '(', '44', '-', '3', ')', '+', '(', '47', '-', '41', ')', '-', '(', '-', '37', '+', '41', ')', '==', '89']\n",
      "tgt: ['46', '+', '41', '+', '6', '-', '4', '==', '89']\n",
      "pred: ['<sub_46>', '<delete>', '<delete>', '<delete>', '<delete>', '<keep>', '<sub_41>', '<delete>', '<delete>', '<delete>', '<delete>', '<keep>', '<sub_6>', '<delete>', '<delete>', '<delete>', '<delete>', '<keep>', '<sub_4>', '<delete>', '<delete>', '<delete>', '<delete>', '<delete>', '<keep>', '<keep>']\n",
      "\n",
      "src: ['77', '-', '29', '+', '76', '-', '40', '==', '84']\n",
      "tgt: ['77', '-', '29', '+', '76', '-', '40', '==', '84']\n",
      "pred: ['<keep>', '<keep>', '<keep>', '<keep>', '<keep>', '<keep>', '<keep>', '<keep>', '<keep>']\n",
      "\n",
      "src: ['-', '68', '+', '6', '+', '60', '+', '33', '==', '31']\n",
      "tgt: ['-', '68', '+', '6', '+', '60', '+', '33', '==', '31']\n",
      "pred: ['<keep>', '<keep>', '<keep>', '<keep>', '<keep>', '<keep>', '<keep>', '<keep>', '<keep>', '<keep>']\n",
      "\n"
     ]
    }
   ],
   "source": [
    "# take a look\n",
    "for i in range(-10, 0, 1):\n",
    "    print('src:', train_xs[i])\n",
    "    print('tgt:', train_ys[i])\n",
    "    print('pred:', train_ys_[i])\n",
    "    print()"
   ]
  },
  {
   "cell_type": "code",
   "execution_count": 12,
   "metadata": {},
   "outputs": [
    {
     "name": "stdout",
     "output_type": "stream",
     "text": [
      "107\n",
      "[('+', 22978), ('-', 21816), ('(', 17645), (')', 17645), ('==', 7000), ('*', 1417), ('2', 918), ('/', 860), ('3', 795), ('4', 776), ('5', 746), ('6', 746), ('9', 722), ('7', 719), ('8', 715), ('13', 708), ('10', 664), ('21', 650), ('33', 645), ('22', 645), ('11', 643), ('14', 641), ('19', 626), ('17', 625), ('16', 622), ('12', 622), ('25', 620), ('24', 615), ('15', 612), ('23', 608), ('28', 599), ('18', 594), ('35', 589), ('30', 589), ('32', 587), ('26', 586), ('20', 583), ('27', 583), ('29', 580), ('31', 580), ('43', 570), ('48', 567), ('47', 564), ('40', 563), ('36', 563), ('39', 558), ('41', 556), ('34', 552), ('37', 545), ('38', 537), ('60', 535), ('42', 522), ('44', 517), ('52', 514), ('59', 509), ('51', 508), ('45', 505), ('66', 501), ('46', 501), ('55', 498), ('56', 497), ('58', 493), ('53', 489), ('49', 487), ('50', 484), ('63', 480), ('54', 479), ('65', 477), ('62', 475), ('69', 474), ('81', 467), ('73', 467), ('70', 465), ('57', 464), ('61', 462), ('68', 460), ('72', 459), ('64', 456), ('84', 453), ('76', 450), ('80', 446), ('78', 444), ('77', 439), ('67', 438), ('82', 436), ('90', 435), ('83', 431), ('71', 428), ('85', 422), ('92', 421), ('87', 417), ('91', 413), ('74', 410), ('89', 408), ('94', 400), ('93', 398), ('75', 397), ('101', 395), ('88', 391), ('95', 388), ('79', 388), ('99', 384), ('96', 383), ('86', 381), ('98', 371), ('97', 363), ('100', 342)]\n"
     ]
    }
   ],
   "source": [
    "# source vocabulary frequency distribution\n",
    "counter = Counter()\n",
    "for x in train_xs:\n",
    "    counter.update(x)\n",
    "\n",
    "print(len(counter))\n",
    "print(counter.most_common())"
   ]
  },
  {
   "cell_type": "code",
   "execution_count": 13,
   "metadata": {},
   "outputs": [
    {
     "name": "stdout",
     "output_type": "stream",
     "text": [
      "['(', ')', '*', '+', '-', '/', '10', '100', '101', '11', '12', '13', '14', '15', '16', '17', '18', '19', '2', '20', '21', '22', '23', '24', '25', '26', '27', '28', '29', '3', '30', '31', '32', '33', '34', '35', '36', '37', '38', '39', '4', '40', '41', '42', '43', '44', '45', '46', '47', '48', '49', '5', '50', '51', '52', '53', '54', '55', '56', '57', '58', '59', '6', '60', '61', '62', '63', '64', '65', '66', '67', '68', '69', '7', '70', '71', '72', '73', '74', '75', '76', '77', '78', '79', '8', '80', '81', '82', '83', '84', '85', '86', '87', '88', '89', '9', '90', '91', '92', '93', '94', '95', '96', '97', '98', '99', '==']\n"
     ]
    }
   ],
   "source": [
    "src_vocab_list = sorted(counter.keys())\n",
    "print(src_vocab_list)"
   ]
  },
  {
   "cell_type": "code",
   "execution_count": 14,
   "metadata": {},
   "outputs": [
    {
     "name": "stdout",
     "output_type": "stream",
     "text": [
      "{'<pad>': 0, '(': 1, ')': 2, '*': 3, '+': 4, '-': 5, '/': 6, '10': 7, '100': 8, '101': 9, '11': 10, '12': 11, '13': 12, '14': 13, '15': 14, '16': 15, '17': 16, '18': 17, '19': 18, '2': 19, '20': 20, '21': 21, '22': 22, '23': 23, '24': 24, '25': 25, '26': 26, '27': 27, '28': 28, '29': 29, '3': 30, '30': 31, '31': 32, '32': 33, '33': 34, '34': 35, '35': 36, '36': 37, '37': 38, '38': 39, '39': 40, '4': 41, '40': 42, '41': 43, '42': 44, '43': 45, '44': 46, '45': 47, '46': 48, '47': 49, '48': 50, '49': 51, '5': 52, '50': 53, '51': 54, '52': 55, '53': 56, '54': 57, '55': 58, '56': 59, '57': 60, '58': 61, '59': 62, '6': 63, '60': 64, '61': 65, '62': 66, '63': 67, '64': 68, '65': 69, '66': 70, '67': 71, '68': 72, '69': 73, '7': 74, '70': 75, '71': 76, '72': 77, '73': 78, '74': 79, '75': 80, '76': 81, '77': 82, '78': 83, '79': 84, '8': 85, '80': 86, '81': 87, '82': 88, '83': 89, '84': 90, '85': 91, '86': 92, '87': 93, '88': 94, '89': 95, '9': 96, '90': 97, '91': 98, '92': 99, '93': 100, '94': 101, '95': 102, '96': 103, '97': 104, '98': 105, '99': 106, '==': 107}\n"
     ]
    }
   ],
   "source": [
    "# soruce vocabulary dictionary\n",
    "src_vocab2idx_dict = dict()\n",
    "src_vocab2idx_dict['<pad>'] = 0 # to pad sequence length\n",
    "\n",
    "i = len(src_vocab2idx_dict)\n",
    "for token in src_vocab_list:\n",
    "    src_vocab2idx_dict[token] = i\n",
    "    i += 1\n",
    "\n",
    "print(src_vocab2idx_dict)"
   ]
  },
  {
   "cell_type": "code",
   "execution_count": 15,
   "metadata": {},
   "outputs": [
    {
     "name": "stdout",
     "output_type": "stream",
     "text": [
      "102\n",
      "[('<delete>', 76231), ('<keep>', 48130), ('<sub_4>', 295), ('<sub_2>', 281), ('<sub_3>', 254), ('<sub_6>', 246), ('<sub_5>', 243), ('<sub_9>', 235), ('<sub_12>', 230), ('<sub_21>', 225), ('<sub_30>', 223), ('<sub_8>', 221), ('<sub_36>', 215), ('<sub_7>', 210), ('<sub_14>', 210), ('<sub_32>', 207), ('<sub_18>', 201), ('<sub_13>', 201), ('<sub_68>', 200), ('<sub_25>', 200), ('<sub_26>', 199), ('<sub_17>', 198), ('<sub_29>', 196), ('<sub_15>', 196), ('<sub_20>', 194), ('<sub_69>', 194), ('<sub_34>', 194), ('<sub_16>', 191), ('<sub_40>', 191), ('<sub_39>', 191), ('<sub_19>', 190), ('<sub_43>', 189), ('<sub_42>', 188), ('<sub_11>', 187), ('<sub_56>', 186), ('<sub_24>', 186), ('<sub_45>', 186), ('<sub_27>', 185), ('<sub_33>', 185), ('<sub_66>', 185), ('<sub_31>', 181), ('<sub_22>', 181), ('<sub_50>', 181), ('<sub_48>', 181), ('<sub_52>', 181), ('<sub_28>', 178), ('<sub_10>', 176), ('<sub_38>', 176), ('<sub_46>', 175), ('<sub_41>', 174), ('<sub_23>', 173), ('<sub_57>', 172), ('<sub_63>', 172), ('<sub_44>', 171), ('<sub_55>', 170), ('<sub_58>', 168), ('<sub_86>', 166), ('<sub_78>', 165), ('<sub_67>', 163), ('<sub_100>', 163), ('<sub_51>', 163), ('<sub_65>', 163), ('<sub_77>', 163), ('<sub_70>', 162), ('<sub_83>', 161), ('<sub_37>', 161), ('<sub_81>', 160), ('<sub_47>', 160), ('<sub_61>', 160), ('<sub_54>', 158), ('<sub_75>', 157), ('<sub_99>', 157), ('<sub_84>', 156), ('<sub_49>', 154), ('<sub_64>', 154), ('<sub_59>', 153), ('<sub_76>', 153), ('<sub_35>', 153), ('<sub_73>', 152), ('<sub_87>', 149), ('<sub_72>', 149), ('<sub_88>', 149), ('<sub_80>', 148), ('<sub_91>', 148), ('<sub_62>', 148), ('<sub_96>', 147), ('<sub_89>', 146), ('<sub_60>', 145), ('<sub_74>', 145), ('<sub_95>', 145), ('<sub_85>', 144), ('<sub_92>', 143), ('<sub_53>', 143), ('<sub_93>', 141), ('<sub_98>', 141), ('<sub_90>', 141), ('<sub_82>', 140), ('<sub_79>', 137), ('<sub_94>', 136), ('<sub_101>', 129), ('<sub_71>', 128), ('<sub_97>', 128)]\n"
     ]
    }
   ],
   "source": [
    "# target vocabulary frequency distribution\n",
    "counter = Counter()\n",
    "for y_ in train_ys_:\n",
    "    counter.update(y_)\n",
    "\n",
    "print(len(counter))\n",
    "print(counter.most_common())"
   ]
  },
  {
   "cell_type": "code",
   "execution_count": 16,
   "metadata": {},
   "outputs": [
    {
     "name": "stdout",
     "output_type": "stream",
     "text": [
      "102\n",
      "['<delete>', '<keep>', '<sub_100>', '<sub_101>', '<sub_10>', '<sub_11>', '<sub_12>', '<sub_13>', '<sub_14>', '<sub_15>', '<sub_16>', '<sub_17>', '<sub_18>', '<sub_19>', '<sub_20>', '<sub_21>', '<sub_22>', '<sub_23>', '<sub_24>', '<sub_25>', '<sub_26>', '<sub_27>', '<sub_28>', '<sub_29>', '<sub_2>', '<sub_30>', '<sub_31>', '<sub_32>', '<sub_33>', '<sub_34>', '<sub_35>', '<sub_36>', '<sub_37>', '<sub_38>', '<sub_39>', '<sub_3>', '<sub_40>', '<sub_41>', '<sub_42>', '<sub_43>', '<sub_44>', '<sub_45>', '<sub_46>', '<sub_47>', '<sub_48>', '<sub_49>', '<sub_4>', '<sub_50>', '<sub_51>', '<sub_52>', '<sub_53>', '<sub_54>', '<sub_55>', '<sub_56>', '<sub_57>', '<sub_58>', '<sub_59>', '<sub_5>', '<sub_60>', '<sub_61>', '<sub_62>', '<sub_63>', '<sub_64>', '<sub_65>', '<sub_66>', '<sub_67>', '<sub_68>', '<sub_69>', '<sub_6>', '<sub_70>', '<sub_71>', '<sub_72>', '<sub_73>', '<sub_74>', '<sub_75>', '<sub_76>', '<sub_77>', '<sub_78>', '<sub_79>', '<sub_7>', '<sub_80>', '<sub_81>', '<sub_82>', '<sub_83>', '<sub_84>', '<sub_85>', '<sub_86>', '<sub_87>', '<sub_88>', '<sub_89>', '<sub_8>', '<sub_90>', '<sub_91>', '<sub_92>', '<sub_93>', '<sub_94>', '<sub_95>', '<sub_96>', '<sub_97>', '<sub_98>', '<sub_99>', '<sub_9>']\n"
     ]
    }
   ],
   "source": [
    "# tgt_vocab_list = ['<delete>', '<keep>']\n",
    "# tgt_vocab_list += ['<add_{}>'.format(i) for i in range(2, num_size+2)]\n",
    "tgt_vocab_list = sorted(counter.keys())\n",
    "print(len(tgt_vocab_list))\n",
    "print(tgt_vocab_list)"
   ]
  },
  {
   "cell_type": "code",
   "execution_count": 17,
   "metadata": {},
   "outputs": [
    {
     "name": "stdout",
     "output_type": "stream",
     "text": [
      "{'<pad>': 0, '<s>': 1, '</s>': 2, '<delete>': 3, '<keep>': 4, '<sub_100>': 5, '<sub_101>': 6, '<sub_10>': 7, '<sub_11>': 8, '<sub_12>': 9, '<sub_13>': 10, '<sub_14>': 11, '<sub_15>': 12, '<sub_16>': 13, '<sub_17>': 14, '<sub_18>': 15, '<sub_19>': 16, '<sub_20>': 17, '<sub_21>': 18, '<sub_22>': 19, '<sub_23>': 20, '<sub_24>': 21, '<sub_25>': 22, '<sub_26>': 23, '<sub_27>': 24, '<sub_28>': 25, '<sub_29>': 26, '<sub_2>': 27, '<sub_30>': 28, '<sub_31>': 29, '<sub_32>': 30, '<sub_33>': 31, '<sub_34>': 32, '<sub_35>': 33, '<sub_36>': 34, '<sub_37>': 35, '<sub_38>': 36, '<sub_39>': 37, '<sub_3>': 38, '<sub_40>': 39, '<sub_41>': 40, '<sub_42>': 41, '<sub_43>': 42, '<sub_44>': 43, '<sub_45>': 44, '<sub_46>': 45, '<sub_47>': 46, '<sub_48>': 47, '<sub_49>': 48, '<sub_4>': 49, '<sub_50>': 50, '<sub_51>': 51, '<sub_52>': 52, '<sub_53>': 53, '<sub_54>': 54, '<sub_55>': 55, '<sub_56>': 56, '<sub_57>': 57, '<sub_58>': 58, '<sub_59>': 59, '<sub_5>': 60, '<sub_60>': 61, '<sub_61>': 62, '<sub_62>': 63, '<sub_63>': 64, '<sub_64>': 65, '<sub_65>': 66, '<sub_66>': 67, '<sub_67>': 68, '<sub_68>': 69, '<sub_69>': 70, '<sub_6>': 71, '<sub_70>': 72, '<sub_71>': 73, '<sub_72>': 74, '<sub_73>': 75, '<sub_74>': 76, '<sub_75>': 77, '<sub_76>': 78, '<sub_77>': 79, '<sub_78>': 80, '<sub_79>': 81, '<sub_7>': 82, '<sub_80>': 83, '<sub_81>': 84, '<sub_82>': 85, '<sub_83>': 86, '<sub_84>': 87, '<sub_85>': 88, '<sub_86>': 89, '<sub_87>': 90, '<sub_88>': 91, '<sub_89>': 92, '<sub_8>': 93, '<sub_90>': 94, '<sub_91>': 95, '<sub_92>': 96, '<sub_93>': 97, '<sub_94>': 98, '<sub_95>': 99, '<sub_96>': 100, '<sub_97>': 101, '<sub_98>': 102, '<sub_99>': 103, '<sub_9>': 104}\n"
     ]
    }
   ],
   "source": [
    "# target vocabulary dictionary\n",
    "tgt_vocab2idx_dict = dict()\n",
    "tgt_vocab2idx_dict['<pad>'] = 0 # to pad sequence length\n",
    "tgt_vocab2idx_dict['<s>'] = 1 # to mark the start of a sequence\n",
    "tgt_vocab2idx_dict['</s>'] = 2 # to mark the end of a sequence\n",
    "\n",
    "i = len(tgt_vocab2idx_dict)\n",
    "for token in tgt_vocab_list:\n",
    "    tgt_vocab2idx_dict[token] = i\n",
    "    i += 1\n",
    "\n",
    "print(tgt_vocab2idx_dict)"
   ]
  },
  {
   "cell_type": "markdown",
   "metadata": {},
   "source": [
    "### Val"
   ]
  },
  {
   "cell_type": "code",
   "execution_count": 18,
   "metadata": {},
   "outputs": [],
   "source": [
    "# white space tokenization\n",
    "val_xs = white_space_tokenizer(raw_val_xs)\n",
    "val_ys = white_space_tokenizer(raw_val_ys)"
   ]
  },
  {
   "cell_type": "code",
   "execution_count": 19,
   "metadata": {},
   "outputs": [
    {
     "name": "stdout",
     "output_type": "stream",
     "text": [
      "src: ['18', '-', '45', '+', '44', '-', '(', '91', '-', '79', ')', '==', '5']\n",
      "tgt: ['18', '-', '45', '+', '44', '-', '12', '==', '5']\n",
      "\n",
      "src: ['-', '(', '-', '61', '+', '82', ')', '+', '77', '-', '(', '2', '*', '29', ')', '+', '(', '10', '+', '63', ')', '==', '(', '18', '+', '53', ')']\n",
      "tgt: ['-', '21', '+', '77', '-', '58', '+', '73', '==', '71']\n",
      "\n",
      "src: ['(', '19', '+', '49', ')', '-', '(', '82', '-', '56', ')', '+', '84', '-', '(', '35', '+', '14', ')', '==', '(', '50', '+', '27', ')']\n",
      "tgt: ['68', '-', '26', '+', '84', '-', '49', '==', '77']\n",
      "\n",
      "src: ['100', '+', '(', '98', '-', '56', ')', '+', '19', '-', '(', '58', '+', '25', ')', '==', '(', '68', '+', '10', ')']\n",
      "tgt: ['100', '+', '42', '+', '19', '-', '83', '==', '78']\n",
      "\n",
      "src: ['54', '+', '(', '-', '2', '+', '56', ')', '+', '(', '76', '-', '25', ')', '-', '86', '==', '(', '70', '+', '3', ')']\n",
      "tgt: ['54', '+', '54', '+', '51', '-', '86', '==', '73']\n",
      "\n",
      "src: ['53', '-', '(', '-', '12', '+', '63', ')', '-', '95', '+', '98', '==', '5']\n",
      "tgt: ['53', '-', '51', '-', '95', '+', '98', '==', '5']\n",
      "\n",
      "src: ['62', '-', '(', '16', '+', '65', ')', '+', '(', '73', '-', '53', ')', '+', '48', '==', '(', '81', '-', '32', ')']\n",
      "tgt: ['62', '-', '81', '+', '20', '+', '48', '==', '49']\n",
      "\n",
      "src: ['(', '58', '-', '8', ')', '+', '(', '-', '20', '+', '70', ')', '-', '(', '-', '5', '+', '79', ')', '-', '(', '-', '28', '+', '42', ')', '==', '(', '-', '78', '+', '90', ')']\n",
      "tgt: ['50', '+', '50', '-', '74', '-', '14', '==', '12']\n",
      "\n",
      "src: ['-', '(', '-', '30', '+', '80', ')', '+', '(', '79', '-', '24', ')', '+', '(', '87', '-', '75', ')', '+', '36', '==', '(', '60', '-', '7', ')']\n",
      "tgt: ['-', '50', '+', '55', '+', '12', '+', '36', '==', '53']\n",
      "\n",
      "src: ['-', '10', '/', '(', '76', '-', '2', ')', '*', '74', '+', '54', '==', '(', '71', '-', '27', ')']\n",
      "tgt: ['-', '10', '/', '74', '*', '74', '+', '54', '==', '44']\n",
      "\n"
     ]
    }
   ],
   "source": [
    "# take a look\n",
    "for i in range(-10, 0, 1):\n",
    "    print('src:', val_xs[i])\n",
    "    print('tgt:', val_ys[i])\n",
    "    print()"
   ]
  },
  {
   "cell_type": "markdown",
   "metadata": {},
   "source": [
    "### Test"
   ]
  },
  {
   "cell_type": "code",
   "execution_count": 20,
   "metadata": {},
   "outputs": [],
   "source": [
    "# white space tokenization\n",
    "test_xs = white_space_tokenizer(raw_test_xs)\n",
    "test_ys = white_space_tokenizer(raw_test_ys)"
   ]
  },
  {
   "cell_type": "code",
   "execution_count": 21,
   "metadata": {},
   "outputs": [
    {
     "name": "stdout",
     "output_type": "stream",
     "text": [
      "src: ['(', '-', '25', '+', '79', ')', '-', '(', '72', '+', '26', ')', '-', '36', '+', '83', '==', '(', '-', '20', '+', '23', ')']\n",
      "tgt: ['54', '-', '98', '-', '36', '+', '83', '==', '3']\n",
      "\n",
      "src: ['25', '+', '59', '-', '(', '60', '-', '17', ')', '+', '11', '==', '52']\n",
      "tgt: ['25', '+', '59', '-', '43', '+', '11', '==', '52']\n",
      "\n",
      "src: ['20', '-', '(', '-', '11', '+', '38', ')', '+', '(', '-', '63', '+', '75', ')', '+', '84', '==', '89']\n",
      "tgt: ['20', '-', '27', '+', '12', '+', '84', '==', '89']\n",
      "\n",
      "src: ['(', '-', '5', '+', '87', ')', '-', '(', '3', '+', '97', ')', '+', '(', '38', '+', '57', ')', '+', '(', '-', '16', '+', '24', ')', '==', '(', '71', '+', '14', ')']\n",
      "tgt: ['82', '-', '100', '+', '95', '+', '8', '==', '85']\n",
      "\n",
      "src: ['-', '(', '3', '*', '19', ')', '+', '(', '21', '+', '69', ')', '-', '(', '10', '*', '3', ')', '+', '(', '91', '-', '72', ')', '==', '(', '80', '-', '58', ')']\n",
      "tgt: ['-', '57', '+', '90', '-', '30', '+', '19', '==', '22']\n",
      "\n",
      "src: ['-', '(', '23', '+', '50', ')', '+', '33', '*', '(', '85', '-', '81', ')', '+', '21', '==', '(', '66', '+', '14', ')']\n",
      "tgt: ['-', '73', '+', '33', '*', '4', '+', '21', '==', '80']\n",
      "\n",
      "src: ['(', '-', '18', '+', '46', ')', '+', '(', '76', '-', '37', ')', '+', '(', '4', '+', '46', ')', '-', '(', '14', '+', '36', ')', '==', '(', '71', '-', '4', ')']\n",
      "tgt: ['28', '+', '39', '+', '50', '-', '50', '==', '67']\n",
      "\n",
      "src: ['24', '+', '84', '+', '20', '-', '101', '==', '27']\n",
      "tgt: ['24', '+', '84', '+', '20', '-', '101', '==', '27']\n",
      "\n",
      "src: ['-', '53', '+', '68', '-', '87', '+', '(', '30', '+', '44', ')', '==', '(', '-', '59', '+', '61', ')']\n",
      "tgt: ['-', '53', '+', '68', '-', '87', '+', '74', '==', '2']\n",
      "\n",
      "src: ['4', '-', '(', '-', '2', '+', '52', ')', '+', '47', '+', '65', '==', '66']\n",
      "tgt: ['4', '-', '50', '+', '47', '+', '65', '==', '66']\n",
      "\n"
     ]
    }
   ],
   "source": [
    "# take a look\n",
    "for i in range(-10, 0, 1):\n",
    "    print('src:', test_xs[i])\n",
    "    print('tgt:', test_ys[i])\n",
    "    print()"
   ]
  },
  {
   "cell_type": "code",
   "execution_count": 22,
   "metadata": {},
   "outputs": [],
   "source": [
    "# combine data sets to a dict\n",
    "train_dict = {}\n",
    "train_dict['ys'] = train_ys\n",
    "\n",
    "val_dict = {}\n",
    "val_dict['xs'] = val_xs\n",
    "val_dict['ys'] = val_ys\n",
    "\n",
    "test_dict = {}\n",
    "test_dict['xs'] = test_xs\n",
    "test_dict['ys'] = test_ys\n",
    "\n",
    "data_dict = dict()\n",
    "data_dict['train'] = train_dict\n",
    "data_dict['val'] = val_dict\n",
    "data_dict['test'] = test_dict\n",
    "\n",
    "vocab_dict = dict()\n",
    "vocab_dict['src'] = src_vocab2idx_dict\n",
    "vocab_dict['tgt'] = tgt_vocab2idx_dict"
   ]
  },
  {
   "cell_type": "code",
   "execution_count": 23,
   "metadata": {},
   "outputs": [],
   "source": [
    "# save output as json\n",
    "data_path = os.path.join(outdir, 'data.json')\n",
    "vocab_path = os.path.join(outdir, 'vocab.json')\n",
    "\n",
    "save_json(data_path, data_dict)\n",
    "save_json(vocab_path, vocab_dict)"
   ]
  },
  {
   "cell_type": "markdown",
   "metadata": {},
   "source": [
    "## Archive Code"
   ]
  },
  {
   "cell_type": "code",
   "execution_count": 128,
   "metadata": {},
   "outputs": [],
   "source": [
    "# def gen_tag_pair(x, y):\n",
    "#     x_ = x.split()\n",
    "#     y = y.split()\n",
    "#     y_ = []\n",
    "#     x_token = x_.pop(0)\n",
    "#     for i in range(len(y)):\n",
    "#         y_token = y[i]\n",
    "#         if x_token == y_token:\n",
    "#             y_.append('<keep>')\n",
    "#             if len(x_) == 0:\n",
    "#                 break\n",
    "#             x_token = x_.pop(0)\n",
    "#         else:\n",
    "#             y_.append('<sub_{}>'.format(y_token))\n",
    "#             x_token = x_.pop(0)\n",
    "#             while True:\n",
    "#                 y_.append('<delete>')\n",
    "#                 if x_token == ')':\n",
    "#                     if len(x_) != 0:\n",
    "#                         x_token = x_.pop(0)\n",
    "#                     break\n",
    "#                 x_token = x_.pop(0)\n",
    "#     return x, ' '.join(y), ' '.join(y_)"
   ]
  },
  {
   "cell_type": "code",
   "execution_count": 75,
   "metadata": {},
   "outputs": [],
   "source": [
    "# train_xs, train_ys, train_ys_ = zip(*[gen_tag_pair(x, y) for x, y in zip(raw_train_xs, raw_train_ys)])"
   ]
  },
  {
   "cell_type": "code",
   "execution_count": 171,
   "metadata": {},
   "outputs": [],
   "source": [
    "# def tagging_execution(x, y_):\n",
    "#     p = []\n",
    "#     x_ = x.copy()\n",
    "#     x_token = x_.pop(0)\n",
    "#     for y_token in y_:\n",
    "#         if y_token == '<keep>':\n",
    "#             # keep token\n",
    "#             p.append(x_token)\n",
    "#             if len(x_) == 0:\n",
    "#                 break\n",
    "#             else:\n",
    "#                 x_token = x_.pop(0)\n",
    "#         elif y_token == '<delete>':\n",
    "#             # delete token\n",
    "#             if len(x_) == 0:\n",
    "#                 break\n",
    "#             else:\n",
    "#                 x_token = x_.pop(0)\n",
    "#         elif 'insert' in y_token:\n",
    "#             # insert token\n",
    "#             p.append(y_token[8:-1])\n",
    "#         elif 'sub' in y_token:\n",
    "#             # substitute token\n",
    "#             p.append(y_token[5:-1])\n",
    "#             if len(x_) == 0:\n",
    "#                 break\n",
    "#             else:\n",
    "#                 x_token = x_.pop(0)\n",
    "#         else:\n",
    "#             # end symbol or pad symbol\n",
    "#             break\n",
    "#     # return prediction\n",
    "#     return p"
   ]
  },
  {
   "cell_type": "code",
   "execution_count": null,
   "metadata": {},
   "outputs": [],
   "source": []
  }
 ],
 "metadata": {
  "kernelspec": {
   "display_name": "Python 3",
   "language": "python",
   "name": "python3"
  },
  "language_info": {
   "codemirror_mode": {
    "name": "ipython",
    "version": 3
   },
   "file_extension": ".py",
   "mimetype": "text/x-python",
   "name": "python",
   "nbconvert_exporter": "python",
   "pygments_lexer": "ipython3",
   "version": "3.7.6"
  }
 },
 "nbformat": 4,
 "nbformat_minor": 4
}
