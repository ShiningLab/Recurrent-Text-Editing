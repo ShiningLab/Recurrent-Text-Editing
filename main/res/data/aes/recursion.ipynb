{
 "cells": [
  {
   "cell_type": "markdown",
   "metadata": {},
   "source": [
    "# Data Preprocessing"
   ]
  },
  {
   "cell_type": "markdown",
   "metadata": {},
   "source": [
    "## Recursive Moldes\n",
    "+ Naive GRU RNN\n",
    "+ Naive LSTM RNN\n",
    "+ Bi-directional GRU RNN\n",
    "+ Bi-directional LSTM RNN\n",
    "+ Bi-directional GRU RNN with Attention\n",
    "+ Bi-directional LSTM RNN with Attention"
   ]
  },
  {
   "cell_type": "markdown",
   "metadata": {},
   "source": [
    "## Notes:\n",
    "+ Encoder and Decoder have separate embedding layers\n",
    "+ There are two training methods, namely, online and offline"
   ]
  },
  {
   "cell_type": "code",
   "execution_count": 10,
   "metadata": {},
   "outputs": [],
   "source": [
    "#!/usr/bin/env python\n",
    "# -*- coding:utf-8 -*-\n",
    "\n",
    "__author__ = 'Shining'\n",
    "__email__ = 'mrshininnnnn@gmail.com'"
   ]
  },
  {
   "cell_type": "code",
   "execution_count": 11,
   "metadata": {},
   "outputs": [],
   "source": [
    "# dependency\n",
    "# public\n",
    "import os\n",
    "import numpy as np\n",
    "from collections import Counter\n",
    "# private\n",
    "from utils import *"
   ]
  },
  {
   "cell_type": "code",
   "execution_count": 12,
   "metadata": {},
   "outputs": [],
   "source": [
    "# define parameters\n",
    "method = 'recursion'\n",
    "num_size = 10\n",
    "seq_len = 5\n",
    "data_size = 10000"
   ]
  },
  {
   "cell_type": "code",
   "execution_count": 13,
   "metadata": {},
   "outputs": [
    {
     "data": {
      "text/plain": [
       "'aes/num_size_10/seq_len_5/data_size_10000'"
      ]
     },
     "execution_count": 13,
     "metadata": {},
     "output_type": "execute_result"
    }
   ],
   "source": [
    "# load path\n",
    "data_src = 'aes'\n",
    "indir = os.path.join(data_src, \n",
    "                     'num_size_{}'.format(num_size), \n",
    "                     'seq_len_{}'.format(seq_len), \n",
    "                     'data_size_{}'.format(data_size))\n",
    "indir"
   ]
  },
  {
   "cell_type": "code",
   "execution_count": 14,
   "metadata": {},
   "outputs": [
    {
     "data": {
      "text/plain": [
       "'recursion/num_size_10/seq_len_5/data_size_10000'"
      ]
     },
     "execution_count": 14,
     "metadata": {},
     "output_type": "execute_result"
    }
   ],
   "source": [
    "# save path\n",
    "outdir = os.path.join(method, \n",
    "                      'num_size_{}'.format(num_size), \n",
    "                      'seq_len_{}'.format(seq_len), \n",
    "                      'data_size_{}'.format(data_size))\n",
    "if not os.path.exists(outdir): \n",
    "    os.makedirs(outdir)\n",
    "outdir"
   ]
  },
  {
   "cell_type": "code",
   "execution_count": 126,
   "metadata": {},
   "outputs": [],
   "source": [
    "# load raw dataset\n",
    "raw_train_xs = load_txt(os.path.join(indir, 'train_x.txt'))\n",
    "raw_train_ys = load_txt(os.path.join(indir, 'train_y.txt'))\n",
    "raw_val_xs = load_txt(os.path.join(indir, 'val_x.txt'))\n",
    "raw_val_ys = load_txt(os.path.join(indir, 'val_y.txt'))\n",
    "raw_test_xs = load_txt(os.path.join(indir, 'test_x.txt'))\n",
    "raw_test_ys = load_txt(os.path.join(indir, 'test_y.txt'))"
   ]
  },
  {
   "cell_type": "code",
   "execution_count": 127,
   "metadata": {},
   "outputs": [
    {
     "name": "stdout",
     "output_type": "stream",
     "text": [
      "train sample size 7000\n",
      "train label size 7000\n",
      "val sample size 1500\n",
      "val label size 1500\n",
      "test sample size 1500\n",
      "test label size 1500\n"
     ]
    }
   ],
   "source": [
    "# check data size\n",
    "print('train sample size', len(raw_train_xs))\n",
    "print('train label size', len(raw_train_ys))\n",
    "print('val sample size', len(raw_val_xs))\n",
    "print('val label size', len(raw_val_ys))\n",
    "print('test sample size', len(raw_test_xs))\n",
    "print('test label size', len(raw_test_ys))"
   ]
  },
  {
   "cell_type": "markdown",
   "metadata": {},
   "source": [
    "### Train"
   ]
  },
  {
   "cell_type": "code",
   "execution_count": 128,
   "metadata": {},
   "outputs": [],
   "source": [
    "# white space tokenization\n",
    "train_ys = white_space_tokenizer(raw_train_ys)\n",
    "train_xs = white_space_tokenizer(raw_train_xs)"
   ]
  },
  {
   "cell_type": "code",
   "execution_count": 104,
   "metadata": {
    "scrolled": false
   },
   "outputs": [
    {
     "name": "stdout",
     "output_type": "stream",
     "text": [
      "src: ['(', '7', '+', '3', ')', '+', '11', '-', '(', '8', '+', '3', ')', '-', '(', '3', '+', '2', ')', '==', '5']\n",
      "tgt: ['10', '+', '11', '-', '11', '-', '5', '==', '5']\n",
      "\n",
      "src: ['5', '+', '(', '3', '+', '7', ')', '-', '8', '-', '(', '-', '3', '+', '5', ')', '==', '5']\n",
      "tgt: ['5', '+', '10', '-', '8', '-', '2', '==', '5']\n",
      "\n",
      "src: ['9', '-', '3', '/', '6', '*', '10', '==', '4']\n",
      "tgt: ['9', '-', '3', '/', '6', '*', '10', '==', '4']\n",
      "\n",
      "src: ['-', '(', '7', '-', '4', ')', '+', '9', '+', '7', '-', '11', '==', '2']\n",
      "tgt: ['-', '3', '+', '9', '+', '7', '-', '11', '==', '2']\n",
      "\n",
      "src: ['6', '+', '2', '+', '10', '/', '5', '==', '(', '2', '+', '8', ')']\n",
      "tgt: ['6', '+', '2', '+', '10', '/', '5', '==', '10']\n",
      "\n",
      "src: ['(', '2', '+', '8', ')', '*', '7', '/', '(', '5', '+', '2', ')', '-', '6', '==', '4']\n",
      "tgt: ['10', '*', '7', '/', '7', '-', '6', '==', '4']\n",
      "\n",
      "src: ['7', '-', '11', '+', '7', '+', '8', '==', '11']\n",
      "tgt: ['7', '-', '11', '+', '7', '+', '8', '==', '11']\n",
      "\n",
      "src: ['9', '-', '(', '3', '+', '5', ')', '-', '3', '+', '(', '-', '3', '+', '8', ')', '==', '3']\n",
      "tgt: ['9', '-', '8', '-', '3', '+', '5', '==', '3']\n",
      "\n",
      "src: ['10', '-', '10', '+', '5', '*', '2', '==', '10']\n",
      "tgt: ['10', '-', '10', '+', '5', '*', '2', '==', '10']\n",
      "\n",
      "src: ['-', '(', '7', '-', '3', ')', '-', '(', '7', '-', '4', ')', '+', '(', '7', '+', '4', ')', '+', '4', '==', '(', '6', '+', '2', ')']\n",
      "tgt: ['-', '4', '-', '3', '+', '11', '+', '4', '==', '8']\n",
      "\n"
     ]
    }
   ],
   "source": [
    "# take a look\n",
    "for i in range(-10, 0, 1):\n",
    "    print('src:', train_xs[i])\n",
    "    print('tgt:', train_ys[i])\n",
    "    print()"
   ]
  },
  {
   "cell_type": "code",
   "execution_count": 109,
   "metadata": {},
   "outputs": [
    {
     "name": "stdout",
     "output_type": "stream",
     "text": [
      "17\n",
      "[('+', 18293), ('-', 15862), ('(', 14072), (')', 14072), ('2', 8981), ('3', 7126), ('==', 7000), ('4', 6445), ('5', 5660), ('6', 5009), ('7', 4365), ('*', 4279), ('9', 4127), ('8', 4059), ('/', 2733), ('10', 1831), ('11', 1469)]\n"
     ]
    }
   ],
   "source": [
    "# source vocabulary frequency distribution\n",
    "counter = Counter()\n",
    "for x in train_xs:\n",
    "    counter.update(x)\n",
    "\n",
    "print(len(counter))\n",
    "print(counter.most_common())"
   ]
  },
  {
   "cell_type": "code",
   "execution_count": 110,
   "metadata": {},
   "outputs": [
    {
     "name": "stdout",
     "output_type": "stream",
     "text": [
      "['(', ')', '*', '+', '-', '/', '10', '11', '2', '3', '4', '5', '6', '7', '8', '9', '==']\n"
     ]
    }
   ],
   "source": [
    "src_vocab_list = sorted(counter.keys())\n",
    "print(src_vocab_list)"
   ]
  },
  {
   "cell_type": "code",
   "execution_count": 111,
   "metadata": {},
   "outputs": [
    {
     "name": "stdout",
     "output_type": "stream",
     "text": [
      "{'<pad>': 0, '(': 1, ')': 2, '*': 3, '+': 4, '-': 5, '/': 6, '10': 7, '11': 8, '2': 9, '3': 10, '4': 11, '5': 12, '6': 13, '7': 14, '8': 15, '9': 16, '==': 17}\n"
     ]
    }
   ],
   "source": [
    "# soruce vocabulary dictionary\n",
    "src_vocab2idx_dict = dict()\n",
    "src_vocab2idx_dict['<pad>'] = 0 # to pad sequence length\n",
    "\n",
    "i = len(src_vocab2idx_dict)\n",
    "for token in src_vocab_list:\n",
    "    src_vocab2idx_dict[token] = i\n",
    "    i += 1\n",
    "\n",
    "print(src_vocab2idx_dict)"
   ]
  },
  {
   "cell_type": "code",
   "execution_count": 118,
   "metadata": {},
   "outputs": [
    {
     "name": "stdout",
     "output_type": "stream",
     "text": [
      "46\n",
      "['2', '3', '4', '5', '6', '7', '8', '9', '10', '11', '<pos_0>', '<pos_1>', '<pos_2>', '<pos_3>', '<pos_4>', '<pos_5>', '<pos_6>', '<pos_7>', '<pos_8>', '<pos_9>', '<pos_10>', '<pos_11>', '<pos_12>', '<pos_13>', '<pos_14>', '<pos_15>', '<pos_16>', '<pos_17>', '<pos_18>', '<pos_19>', '<pos_20>', '<pos_21>', '<pos_22>', '<pos_23>', '<pos_24>', '<pos_25>', '<pos_26>', '<pos_27>', '<pos_28>', '<pos_29>', '<pos_30>', '<pos_31>', '<pos_32>', '<pos_33>', '<pos_34>', '<done>']\n"
     ]
    }
   ],
   "source": [
    "tgt_vocab_list = np.arange(2, num_size+2).astype('str').tolist()\n",
    "tgt_vocab_list += ['<pos_{}>'.format(i) for i in range(seq_len*7)]\n",
    "tgt_vocab_list += ['<done>']\n",
    "print(len(tgt_vocab_list))\n",
    "print(tgt_vocab_list)"
   ]
  },
  {
   "cell_type": "code",
   "execution_count": 119,
   "metadata": {},
   "outputs": [
    {
     "name": "stdout",
     "output_type": "stream",
     "text": [
      "{'<pad>': 0, '<s>': 1, '2': 2, '3': 3, '4': 4, '5': 5, '6': 6, '7': 7, '8': 8, '9': 9, '10': 10, '11': 11, '<pos_0>': 12, '<pos_1>': 13, '<pos_2>': 14, '<pos_3>': 15, '<pos_4>': 16, '<pos_5>': 17, '<pos_6>': 18, '<pos_7>': 19, '<pos_8>': 20, '<pos_9>': 21, '<pos_10>': 22, '<pos_11>': 23, '<pos_12>': 24, '<pos_13>': 25, '<pos_14>': 26, '<pos_15>': 27, '<pos_16>': 28, '<pos_17>': 29, '<pos_18>': 30, '<pos_19>': 31, '<pos_20>': 32, '<pos_21>': 33, '<pos_22>': 34, '<pos_23>': 35, '<pos_24>': 36, '<pos_25>': 37, '<pos_26>': 38, '<pos_27>': 39, '<pos_28>': 40, '<pos_29>': 41, '<pos_30>': 42, '<pos_31>': 43, '<pos_32>': 44, '<pos_33>': 45, '<pos_34>': 46, '<done>': 47}\n"
     ]
    }
   ],
   "source": [
    "# target vocabulary dictionary\n",
    "tgt_vocab2idx_dict = dict()\n",
    "tgt_vocab2idx_dict['<pad>'] = 0 # to pad sequence length\n",
    "tgt_vocab2idx_dict['<s>'] = 1 # to mark the start of a sequence\n",
    "\n",
    "i = len(tgt_vocab2idx_dict)\n",
    "for token in tgt_vocab_list:\n",
    "    tgt_vocab2idx_dict[token] = i\n",
    "    i += 1\n",
    "\n",
    "print(tgt_vocab2idx_dict)"
   ]
  },
  {
   "cell_type": "markdown",
   "metadata": {},
   "source": [
    "### Val"
   ]
  },
  {
   "cell_type": "code",
   "execution_count": 121,
   "metadata": {},
   "outputs": [],
   "source": [
    "# white space tokenization\n",
    "val_xs = white_space_tokenizer(raw_val_xs)\n",
    "val_ys = white_space_tokenizer(raw_val_ys)"
   ]
  },
  {
   "cell_type": "code",
   "execution_count": 122,
   "metadata": {},
   "outputs": [
    {
     "name": "stdout",
     "output_type": "stream",
     "text": [
      "src: ['-', '(', '4', '+', '5', ')', '+', '7', '+', '4', '+', '9', '==', '11']\n",
      "tgt: ['-', '9', '+', '7', '+', '4', '+', '9', '==', '11']\n",
      "\n",
      "src: ['-', '8', '/', '(', '7', '-', '3', ')', '+', '9', '+', '(', '8', '-', '5', ')', '==', '(', '5', '*', '2', ')']\n",
      "tgt: ['-', '8', '/', '4', '+', '9', '+', '3', '==', '10']\n",
      "\n",
      "src: ['8', '+', '(', '-', '6', '+', '9', ')', '*', '2', '/', '(', '2', '+', '4', ')', '==', '9']\n",
      "tgt: ['8', '+', '3', '*', '2', '/', '6', '==', '9']\n",
      "\n",
      "src: ['8', '/', '2', '+', '2', '+', '3', '==', '9']\n",
      "tgt: ['8', '/', '2', '+', '2', '+', '3', '==', '9']\n",
      "\n",
      "src: ['-', '8', '+', '11', '-', '9', '+', '10', '==', '4']\n",
      "tgt: ['-', '8', '+', '11', '-', '9', '+', '10', '==', '4']\n",
      "\n",
      "src: ['5', '*', '(', '9', '-', '7', ')', '-', '3', '*', '(', '5', '-', '3', ')', '==', '(', '7', '-', '3', ')']\n",
      "tgt: ['5', '*', '2', '-', '3', '*', '2', '==', '4']\n",
      "\n",
      "src: ['-', '4', '-', '(', '9', '-', '2', ')', '+', '(', '-', '4', '+', '9', ')', '*', '3', '==', '(', '8', '-', '4', ')']\n",
      "tgt: ['-', '4', '-', '7', '+', '5', '*', '3', '==', '4']\n",
      "\n",
      "src: ['4', '+', '9', '/', '6', '*', '(', '7', '-', '3', ')', '==', '10']\n",
      "tgt: ['4', '+', '9', '/', '6', '*', '4', '==', '10']\n",
      "\n",
      "src: ['-', '(', '-', '3', '+', '6', ')', '+', '2', '+', '(', '4', '*', '2', ')', '-', '2', '==', '(', '-', '4', '+', '9', ')']\n",
      "tgt: ['-', '3', '+', '2', '+', '8', '-', '2', '==', '5']\n",
      "\n",
      "src: ['(', '6', '+', '5', ')', '+', '5', '-', '(', '6', '-', '2', ')', '*', '(', '9', '-', '7', ')', '==', '8']\n",
      "tgt: ['11', '+', '5', '-', '4', '*', '2', '==', '8']\n",
      "\n"
     ]
    }
   ],
   "source": [
    "# take a look\n",
    "for i in range(-10, 0, 1):\n",
    "    print('src:', val_xs[i])\n",
    "    print('tgt:', val_ys[i])\n",
    "    print()"
   ]
  },
  {
   "cell_type": "markdown",
   "metadata": {},
   "source": [
    "## Test"
   ]
  },
  {
   "cell_type": "code",
   "execution_count": 123,
   "metadata": {},
   "outputs": [],
   "source": [
    "# white space tokenization\n",
    "test_xs = white_space_tokenizer(raw_test_xs)\n",
    "test_ys = white_space_tokenizer(raw_test_ys)"
   ]
  },
  {
   "cell_type": "code",
   "execution_count": 124,
   "metadata": {},
   "outputs": [
    {
     "name": "stdout",
     "output_type": "stream",
     "text": [
      "src: ['-', '10', '-', '6', '+', '(', '9', '-', '2', ')', '+', '(', '9', '+', '2', ')', '==', '(', '-', '6', '+', '8', ')']\n",
      "tgt: ['-', '10', '-', '6', '+', '7', '+', '11', '==', '2']\n",
      "\n",
      "src: ['5', '-', '(', '2', '*', '5', ')', '+', '4', '+', '7', '==', '6']\n",
      "tgt: ['5', '-', '10', '+', '4', '+', '7', '==', '6']\n",
      "\n",
      "src: ['(', '6', '-', '3', ')', '+', '(', '6', '+', '4', ')', '-', '(', '5', '-', '3', ')', '-', '8', '==', '(', '7', '-', '4', ')']\n",
      "tgt: ['3', '+', '10', '-', '2', '-', '8', '==', '3']\n",
      "\n",
      "src: ['-', '(', '3', '*', '3', ')', '-', '(', '-', '4', '+', '8', ')', '+', '9', '+', '(', '2', '+', '8', ')', '==', '6']\n",
      "tgt: ['-', '9', '-', '4', '+', '9', '+', '10', '==', '6']\n",
      "\n",
      "src: ['3', '+', '10', '-', '11', '+', '4', '==', '6']\n",
      "tgt: ['3', '+', '10', '-', '11', '+', '4', '==', '6']\n",
      "\n",
      "src: ['5', '+', '(', '3', '+', '4', ')', '*', '(', '2', '+', '2', ')', '/', '(', '9', '-', '2', ')', '==', '9']\n",
      "tgt: ['5', '+', '7', '*', '4', '/', '7', '==', '9']\n",
      "\n",
      "src: ['6', '/', '6', '*', '5', '+', '5', '==', '10']\n",
      "tgt: ['6', '/', '6', '*', '5', '+', '5', '==', '10']\n",
      "\n",
      "src: ['9', '+', '8', '+', '(', '8', '-', '6', ')', '-', '(', '8', '+', '2', ')', '==', '9']\n",
      "tgt: ['9', '+', '8', '+', '2', '-', '10', '==', '9']\n",
      "\n",
      "src: ['3', '-', '2', '*', '4', '+', '(', '6', '+', '4', ')', '==', '(', '2', '+', '3', ')']\n",
      "tgt: ['3', '-', '2', '*', '4', '+', '10', '==', '5']\n",
      "\n",
      "src: ['8', '-', '(', '5', '+', '2', ')', '+', '(', '9', '-', '6', ')', '+', '(', '2', '+', '5', ')', '==', '(', '7', '+', '4', ')']\n",
      "tgt: ['8', '-', '7', '+', '3', '+', '7', '==', '11']\n",
      "\n"
     ]
    }
   ],
   "source": [
    "# take a look\n",
    "for i in range(-10, 0, 1):\n",
    "    print('src:', test_xs[i])\n",
    "    print('tgt:', test_ys[i])\n",
    "    print()"
   ]
  },
  {
   "cell_type": "code",
   "execution_count": 125,
   "metadata": {},
   "outputs": [],
   "source": [
    "# combine data sets to a dict\n",
    "train_dict = {}\n",
    "train_dict['ys'] = train_ys\n",
    "\n",
    "val_dict = {}\n",
    "val_dict['xs'] = val_xs\n",
    "val_dict['ys'] = val_ys\n",
    "\n",
    "test_dict = {}\n",
    "test_dict['xs'] = test_xs\n",
    "test_dict['ys'] = test_ys\n",
    "\n",
    "data_dict = dict()\n",
    "data_dict['train'] = train_dict\n",
    "data_dict['val'] = val_dict\n",
    "data_dict['test'] = test_dict\n",
    "\n",
    "vocab_dict = dict()\n",
    "vocab_dict['src'] = src_vocab2idx_dict\n",
    "vocab_dict['tgt'] = tgt_vocab2idx_dict"
   ]
  },
  {
   "cell_type": "code",
   "execution_count": 126,
   "metadata": {},
   "outputs": [],
   "source": [
    "# save output as json\n",
    "data_path = os.path.join(outdir, 'data.json')\n",
    "vocab_path = os.path.join(outdir, 'vocab.json')\n",
    "\n",
    "save_json(data_path, data_dict)\n",
    "save_json(vocab_path, vocab_dict)"
   ]
  },
  {
   "cell_type": "markdown",
   "metadata": {},
   "source": [
    "# Archive Code"
   ]
  },
  {
   "cell_type": "code",
   "execution_count": 33,
   "metadata": {},
   "outputs": [
    {
     "name": "stdout",
     "output_type": "stream",
     "text": [
      "['2', '+', '(', '6', '-', '4', ')', '*', '(', '2', '+', '4', ')', '-', '(', '7', '+', '2', ')', '==', '(', '9', '-', '4', ')']\n",
      "['2', '+', '2', '*', '6', '-', '9', '==', '5']\n",
      "\n",
      "['2', '+', '(', '6', '-', '4', ')', '*', '(', '2', '+', '4', ')', '-', '(', '7', '+', '2', ')', '==', '(', '9', '-', '4', ')']\n",
      "['<pos_2>', '<pos_6>', '2']\n",
      "['2', '+', '2', '*', '(', '2', '+', '4', ')', '-', '(', '7', '+', '2', ')', '==', '(', '9', '-', '4', ')']\n",
      "['<pos_4>', '<pos_8>', '6']\n",
      "['2', '+', '2', '*', '6', '-', '(', '7', '+', '2', ')', '==', '(', '9', '-', '4', ')']\n",
      "['<pos_6>', '<pos_10>', '9']\n",
      "['2', '+', '2', '*', '6', '-', '9', '==', '(', '9', '-', '4', ')']\n",
      "['<pos_8>', '<pos_12>', '5']\n",
      "['2', '+', '2', '*', '6', '-', '9', '==', '5']\n",
      "['<done>', '<done>', '<done>']\n"
     ]
    }
   ],
   "source": [
    "raw_train_xs = load_txt(os.path.join(indir, 'train_x.txt'))\n",
    "x = raw_train_xs[0]\n",
    "y = raw_train_ys[0]\n",
    "x = x.split()\n",
    "y = y.split()\n",
    "print(x)\n",
    "print(y)\n",
    "print()\n",
    "\n",
    "xs = [x.copy()]\n",
    "ys_ = []\n",
    "\n",
    "num_left = len([i for i in x if i == '('])\n",
    "for i in range(num_left):\n",
    "    left_idx = x.index('(') \n",
    "    right_idx = x.index(')') \n",
    "    v = y[left_idx] \n",
    "    ys_.append(['<pos_{}>'.format(left_idx), '<pos_{}>'.format(right_idx), v])\n",
    "    x = x[:left_idx] + [v] + x[right_idx+1:]\n",
    "    xs.append(x)\n",
    "\n",
    "ys_.append(['<done>']*3)\n",
    "\n",
    "for x, y_ in zip(xs, ys_):\n",
    "    print(x)\n",
    "    print(y_)"
   ]
  },
  {
   "cell_type": "code",
   "execution_count": 91,
   "metadata": {},
   "outputs": [
    {
     "name": "stdout",
     "output_type": "stream",
     "text": [
      "['2', '+', '(', '6', '-', '4', ')', '*', '(', '2', '+', '4', ')', '-', '(', '7', '+', '2', ')', '==', '(', '9', '-', '4', ')']\n",
      "['<pos_2>', '<pos_6>', '2']\n"
     ]
    }
   ],
   "source": [
    "x = xs[0]\n",
    "y_ = ys_[0]\n",
    "print(x)\n",
    "print(y_)"
   ]
  },
  {
   "cell_type": "code",
   "execution_count": 92,
   "metadata": {},
   "outputs": [
    {
     "name": "stdout",
     "output_type": "stream",
     "text": [
      "[['2' '+' '(' '6' '-' '4' ')' '*' '(' '2' '+' '4' ')' '-' '(' '7' '+' '2'\n",
      "  ')' '==' '(' '9' '-' '4' ')']\n",
      " ['2' '+' '(' '6' '-' '4' ')' '*' '(' '2' '+' '4' ')' '-' '(' '7' '+' '2'\n",
      "  ')' '==' '(' '9' '-' '4' ')']\n",
      " ['2' '+' '(' '6' '-' '4' ')' '*' '(' '2' '+' '4' ')' '-' '(' '7' '+' '2'\n",
      "  ')' '==' '(' '9' '-' '4' ')']\n",
      " ['2' '+' '(' '6' '-' '4' ')' '*' '(' '2' '+' '4' ')' '-' '(' '7' '+' '2'\n",
      "  ')' '==' '(' '9' '-' '4' ')']\n",
      " ['2' '+' '(' '6' '-' '4' ')' '*' '(' '2' '+' '4' ')' '-' '(' '7' '+' '2'\n",
      "  ')' '==' '(' '9' '-' '4' ')']\n",
      " ['2' '+' '(' '6' '-' '4' ')' '*' '(' '2' '+' '4' ')' '-' '(' '7' '+' '2'\n",
      "  ')' '==' '(' '9' '-' '4' ')']\n",
      " ['2' '+' '(' '6' '-' '4' ')' '*' '(' '2' '+' '4' ')' '-' '(' '7' '+' '2'\n",
      "  ')' '==' '(' '9' '-' '4' ')']\n",
      " ['2' '+' '(' '6' '-' '4' ')' '*' '(' '2' '+' '4' ')' '-' '(' '7' '+' '2'\n",
      "  ')' '==' '(' '9' '-' '4' ')']\n",
      " ['2' '+' '(' '6' '-' '4' ')' '*' '(' '2' '+' '4' ')' '-' '(' '7' '+' '2'\n",
      "  ')' '==' '(' '9' '-' '4' ')']\n",
      " ['2' '+' '(' '6' '-' '4' ')' '*' '(' '2' '+' '4' ')' '-' '(' '7' '+' '2'\n",
      "  ')' '==' '(' '9' '-' '4' ')']\n",
      " ['2' '+' '(' '6' '-' '4' ')' '*' '(' '2' '+' '4' ')' '-' '(' '7' '+' '2'\n",
      "  ')' '==' '(' '9' '-' '4' ')']]\n",
      "\n",
      "[['<pos_2>' '<pos_6>' '2']\n",
      " ['<pos_2>' '<pos_6>' '2']\n",
      " ['<pos_2>' '<pos_6>' '2']\n",
      " ['<pos_2>' '<pos_6>' '2']\n",
      " ['<pos_2>' '<pos_6>' '2']\n",
      " ['<pos_2>' '<pos_6>' '2']\n",
      " ['<pos_2>' '<pos_6>' '2']\n",
      " ['<pos_2>' '<pos_6>' '2']\n",
      " ['<pos_2>' '<pos_6>' '2']\n",
      " ['<pos_2>' '<pos_6>' '2']\n",
      " ['<done>' '<done>' '<done>']]\n"
     ]
    }
   ],
   "source": [
    "np_xs = [x for i in range(10)]\n",
    "np_ys_ = [y_ for i in range(10)]\n",
    "np_xs.append(xs[0])\n",
    "np_ys_.append(ys_[-1])\n",
    "\n",
    "np_xs = np.array(np_xs)\n",
    "np_ys_ = np.array(np_ys_)\n",
    "\n",
    "print(np_xs)\n",
    "print()\n",
    "print(np_ys_)"
   ]
  },
  {
   "cell_type": "code",
   "execution_count": 93,
   "metadata": {},
   "outputs": [
    {
     "data": {
      "text/plain": [
       "array([ True,  True,  True,  True,  True,  True,  True,  True,  True,\n",
       "        True, False])"
      ]
     },
     "execution_count": 93,
     "metadata": {},
     "output_type": "execute_result"
    }
   ],
   "source": [
    "mask = (np_ys_ != '<done>').all(axis=-1)\n",
    "mask"
   ]
  },
  {
   "cell_type": "code",
   "execution_count": 94,
   "metadata": {},
   "outputs": [
    {
     "data": {
      "text/plain": [
       "array([['<pos_2>', '<pos_6>', '2'],\n",
       "       ['<pos_2>', '<pos_6>', '2'],\n",
       "       ['<pos_2>', '<pos_6>', '2'],\n",
       "       ['<pos_2>', '<pos_6>', '2'],\n",
       "       ['<pos_2>', '<pos_6>', '2'],\n",
       "       ['<pos_2>', '<pos_6>', '2'],\n",
       "       ['<pos_2>', '<pos_6>', '2'],\n",
       "       ['<pos_2>', '<pos_6>', '2'],\n",
       "       ['<pos_2>', '<pos_6>', '2'],\n",
       "       ['<pos_2>', '<pos_6>', '2']], dtype='<U7')"
      ]
     },
     "execution_count": 94,
     "metadata": {},
     "output_type": "execute_result"
    }
   ],
   "source": [
    "np_ys_[mask]"
   ]
  },
  {
   "cell_type": "code",
   "execution_count": 95,
   "metadata": {},
   "outputs": [],
   "source": [
    "def parse_pos(pos):\n",
    "    return int(''.join([i for i in pos if i.isdigit()]))"
   ]
  },
  {
   "cell_type": "code",
   "execution_count": 96,
   "metadata": {},
   "outputs": [],
   "source": [
    "get_pos = np.vectorize(parse_pos, otypes=[int])"
   ]
  },
  {
   "cell_type": "code",
   "execution_count": 97,
   "metadata": {},
   "outputs": [
    {
     "data": {
      "text/plain": [
       "array([2, 2, 2, 2, 2, 2, 2, 2, 2, 2])"
      ]
     },
     "execution_count": 97,
     "metadata": {},
     "output_type": "execute_result"
    }
   ],
   "source": [
    "left = get_pos(np_ys_[mask, :2])[:, 0]\n",
    "left"
   ]
  },
  {
   "cell_type": "code",
   "execution_count": 98,
   "metadata": {},
   "outputs": [
    {
     "data": {
      "text/plain": [
       "array([6, 6, 6, 6, 6, 6, 6, 6, 6, 6])"
      ]
     },
     "execution_count": 98,
     "metadata": {},
     "output_type": "execute_result"
    }
   ],
   "source": [
    "right = get_pos(np_ys_[mask, :2])[:, 1]\n",
    "right"
   ]
  },
  {
   "cell_type": "code",
   "execution_count": 103,
   "metadata": {},
   "outputs": [
    {
     "data": {
      "text/plain": [
       "array(['(', '(', '(', '(', '(', '(', '(', '(', '(', '('], dtype='<U2')"
      ]
     },
     "execution_count": 103,
     "metadata": {},
     "output_type": "execute_result"
    }
   ],
   "source": [
    "np_xs[mask, left]"
   ]
  },
  {
   "cell_type": "code",
   "execution_count": 106,
   "metadata": {},
   "outputs": [
    {
     "data": {
      "text/plain": [
       "True"
      ]
     },
     "execution_count": 106,
     "metadata": {},
     "output_type": "execute_result"
    }
   ],
   "source": [
    "y_[0].startswith('<pos_')"
   ]
  },
  {
   "cell_type": "code",
   "execution_count": 107,
   "metadata": {},
   "outputs": [],
   "source": [
    "left_idx = parse_pos(y_[0])"
   ]
  },
  {
   "cell_type": "code",
   "execution_count": 112,
   "metadata": {},
   "outputs": [],
   "source": [
    "right_idx = parse_pos(y_[1])"
   ]
  },
  {
   "cell_type": "code",
   "execution_count": 109,
   "metadata": {},
   "outputs": [
    {
     "data": {
      "text/plain": [
       "['2',\n",
       " '+',\n",
       " '(',\n",
       " '6',\n",
       " '-',\n",
       " '4',\n",
       " ')',\n",
       " '*',\n",
       " '(',\n",
       " '2',\n",
       " '+',\n",
       " '4',\n",
       " ')',\n",
       " '-',\n",
       " '(',\n",
       " '7',\n",
       " '+',\n",
       " '2',\n",
       " ')',\n",
       " '==',\n",
       " '(',\n",
       " '9',\n",
       " '-',\n",
       " '4',\n",
       " ')']"
      ]
     },
     "execution_count": 109,
     "metadata": {},
     "output_type": "execute_result"
    }
   ],
   "source": [
    "x"
   ]
  },
  {
   "cell_type": "code",
   "execution_count": 120,
   "metadata": {},
   "outputs": [
    {
     "data": {
      "text/plain": [
       "['2',\n",
       " '+',\n",
       " '2',\n",
       " '*',\n",
       " '(',\n",
       " '2',\n",
       " '+',\n",
       " '4',\n",
       " ')',\n",
       " '-',\n",
       " '(',\n",
       " '7',\n",
       " '+',\n",
       " '2',\n",
       " ')',\n",
       " '==',\n",
       " '(',\n",
       " '9',\n",
       " '-',\n",
       " '4',\n",
       " ')']"
      ]
     },
     "execution_count": 120,
     "metadata": {},
     "output_type": "execute_result"
    }
   ],
   "source": [
    "x[:left_idx] + [y_[2]] + x[right_idx+1:]"
   ]
  },
  {
   "cell_type": "code",
   "execution_count": 121,
   "metadata": {},
   "outputs": [
    {
     "name": "stdout",
     "output_type": "stream",
     "text": [
      "[1, 2, 3]\n"
     ]
    }
   ],
   "source": [
    "a = [1,2,3]\n",
    "for i in a:\n",
    "    i = 0\n",
    "print(a)"
   ]
  },
  {
   "cell_type": "code",
   "execution_count": null,
   "metadata": {},
   "outputs": [],
   "source": []
  }
 ],
 "metadata": {
  "kernelspec": {
   "display_name": "Python 3",
   "language": "python",
   "name": "python3"
  },
  "language_info": {
   "codemirror_mode": {
    "name": "ipython",
    "version": 3
   },
   "file_extension": ".py",
   "mimetype": "text/x-python",
   "name": "python",
   "nbconvert_exporter": "python",
   "pygments_lexer": "ipython3",
   "version": "3.7.6"
  }
 },
 "nbformat": 4,
 "nbformat_minor": 4
}
