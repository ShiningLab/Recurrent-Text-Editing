{
 "cells": [
  {
   "cell_type": "markdown",
   "metadata": {},
   "source": [
    "# Data Preprocessing"
   ]
  },
  {
   "cell_type": "markdown",
   "metadata": {},
   "source": [
    "## Recursive Moldes\n",
    "+ Naive GRU RNN\n",
    "+ Naive LSTM RNN\n",
    "+ Bi-directional GRU RNN\n",
    "+ Bi-directional LSTM RNN\n",
    "+ Bi-directional GRU RNN with Attention\n",
    "+ Bi-directional LSTM RNN with Attention"
   ]
  },
  {
   "cell_type": "markdown",
   "metadata": {},
   "source": [
    "## Notes:\n",
    "+ Encoder and Decoder have separate embedding layers\n",
    "+ There are two training methods, namely, online and offline"
   ]
  },
  {
   "cell_type": "code",
   "execution_count": 1,
   "metadata": {},
   "outputs": [],
   "source": [
    "#!/usr/bin/env python\n",
    "# -*- coding:utf-8 -*-\n",
    "\n",
    "__author__ = 'Shining'\n",
    "__email__ = 'mrshininnnnn@gmail.com'"
   ]
  },
  {
   "cell_type": "code",
   "execution_count": 2,
   "metadata": {},
   "outputs": [],
   "source": [
    "# dependency\n",
    "# public\n",
    "import os\n",
    "import numpy as np\n",
    "from collections import Counter\n",
    "# private\n",
    "from utils import *"
   ]
  },
  {
   "cell_type": "markdown",
   "metadata": {},
   "source": [
    "## Offline"
   ]
  },
  {
   "cell_type": "code",
   "execution_count": 3,
   "metadata": {},
   "outputs": [],
   "source": [
    "# define parameters\n",
    "method = 'recursion'\n",
    "num_size = 10\n",
    "seq_len = 5\n",
    "data_size = 10000"
   ]
  },
  {
   "cell_type": "code",
   "execution_count": 4,
   "metadata": {},
   "outputs": [
    {
     "data": {
      "text/plain": [
       "'raw/aoi/num_size_10/seq_len_5/data_size_10000'"
      ]
     },
     "execution_count": 4,
     "metadata": {},
     "output_type": "execute_result"
    }
   ],
   "source": [
    "# load path\n",
    "indir = 'raw/aoi'\n",
    "indir = os.path.join(indir, \n",
    "                     'num_size_{}'.format(num_size), \n",
    "                     'seq_len_{}'.format(seq_len), \n",
    "                     'data_size_{}'.format(data_size))\n",
    "indir"
   ]
  },
  {
   "cell_type": "code",
   "execution_count": 6,
   "metadata": {},
   "outputs": [
    {
     "data": {
      "text/plain": [
       "'recursion/num_size_10/seq_len_5/data_size_10000'"
      ]
     },
     "execution_count": 6,
     "metadata": {},
     "output_type": "execute_result"
    }
   ],
   "source": [
    "# save path\n",
    "outdir = os.path.join(method, \n",
    "                      'num_size_{}'.format(num_size), \n",
    "                      'seq_len_{}'.format(seq_len), \n",
    "                      'data_size_{}'.format(data_size))\n",
    "if not os.path.exists(outdir): \n",
    "    os.makedirs(outdir)\n",
    "outdir"
   ]
  },
  {
   "cell_type": "code",
   "execution_count": 7,
   "metadata": {},
   "outputs": [],
   "source": [
    "# load raw dataset\n",
    "raw_train_xs = load_txt(os.path.join(indir, 'train_x.txt'))\n",
    "raw_train_ys = load_txt(os.path.join(indir, 'train_y.txt'))\n",
    "raw_val_xs = load_txt(os.path.join(indir, 'val_x.txt'))\n",
    "raw_val_ys = load_txt(os.path.join(indir, 'val_y.txt'))\n",
    "raw_test_xs = load_txt(os.path.join(indir, 'test_x.txt'))\n",
    "raw_test_ys = load_txt(os.path.join(indir, 'test_y.txt'))"
   ]
  },
  {
   "cell_type": "code",
   "execution_count": 8,
   "metadata": {},
   "outputs": [
    {
     "name": "stdout",
     "output_type": "stream",
     "text": [
      "train sample size 7000\n",
      "train label size 7000\n",
      "val sample size 1500\n",
      "val label size 1500\n",
      "test sample size 1500\n",
      "test label size 1500\n"
     ]
    }
   ],
   "source": [
    "# check data size\n",
    "print('train sample size', len(raw_train_xs))\n",
    "print('train label size', len(raw_train_ys))\n",
    "print('val sample size', len(raw_val_xs))\n",
    "print('val label size', len(raw_val_ys))\n",
    "print('test sample size', len(raw_test_xs))\n",
    "print('test label size', len(raw_test_ys))"
   ]
  },
  {
   "cell_type": "markdown",
   "metadata": {},
   "source": [
    "### Train"
   ]
  },
  {
   "cell_type": "code",
   "execution_count": 30,
   "metadata": {},
   "outputs": [],
   "source": [
    "def get_sequence_pair(y: list) -> list:\n",
    "    # white space tokenization\n",
    "    y = y.split()\n",
    "    # make a copy\n",
    "    x = y.copy()\n",
    "    # get operator indexes\n",
    "    operator_idxes = [i for i, token in enumerate(y) if not token.isdigit()][::-1]\n",
    "    # decide how many operators to remove\n",
    "    num_idxes = np.random.choice(range(len(operator_idxes)+1))\n",
    "    if num_idxes == 0:\n",
    "        return x, ['<completion>', '<none>', '<none>'], y\n",
    "    else:\n",
    "        # decide operators to remove\n",
    "        idxes_to_remove = operator_idxes[:num_idxes]\n",
    "        # generat label\n",
    "        y_ = ['<insertion>', str(idxes_to_remove[-1]), x[idxes_to_remove[-1]]]\n",
    "        # generate sample\n",
    "        x = [x[i] for i in range(len(x)) if i not in idxes_to_remove]\n",
    "        \n",
    "        return x, y_, y"
   ]
  },
  {
   "cell_type": "code",
   "execution_count": 12,
   "metadata": {},
   "outputs": [],
   "source": [
    "train_xs, train_ys_, train_ys = zip(*[get_sequence_pair(y) for y in raw_train_ys])"
   ]
  },
  {
   "cell_type": "code",
   "execution_count": 13,
   "metadata": {
    "scrolled": false
   },
   "outputs": [
    {
     "name": "stdout",
     "output_type": "stream",
     "text": [
      "src: ['7', '9', '3', '3', '3']\n",
      "tgt: ['-', '7', '+', '9', '+', '3', '/', '3', '==', '3']\n",
      "pred: ['<insertion>', '0', '-']\n",
      "\n",
      "src: ['-', '4', '10', '3', '2', '11']\n",
      "tgt: ['-', '4', '+', '10', '*', '3', '/', '2', '==', '11']\n",
      "pred: ['<insertion>', '2', '+']\n",
      "\n",
      "src: ['10', '*', '3', '-', '11', '-', '9', '==', '10']\n",
      "tgt: ['10', '*', '3', '-', '11', '-', '9', '==', '10']\n",
      "pred: ['<completion>', '<none>', '<none>']\n",
      "\n",
      "src: ['3', '*', '5', '+', '6', '10', '11']\n",
      "tgt: ['3', '*', '5', '+', '6', '-', '10', '==', '11']\n",
      "pred: ['<insertion>', '5', '-']\n",
      "\n",
      "src: ['-', '5', '3', '6', '8', '5']\n",
      "tgt: ['-', '5', '+', '3', '*', '6', '-', '8', '==', '5']\n",
      "pred: ['<insertion>', '2', '+']\n",
      "\n",
      "src: ['3', '3', '4', '5', '10']\n",
      "tgt: ['3', '+', '3', '*', '4', '-', '5', '==', '10']\n",
      "pred: ['<insertion>', '1', '+']\n",
      "\n",
      "src: ['-', '8', '+', '5', '+', '11', '-', '4', '==', '4']\n",
      "tgt: ['-', '8', '+', '5', '+', '11', '-', '4', '==', '4']\n",
      "pred: ['<completion>', '<none>', '<none>']\n",
      "\n",
      "src: ['10', '+', '9', '-', '4', '5', '10']\n",
      "tgt: ['10', '+', '9', '-', '4', '-', '5', '==', '10']\n",
      "pred: ['<insertion>', '5', '-']\n",
      "\n",
      "src: ['10', '-', '5', '8', '8', '5']\n",
      "tgt: ['10', '-', '5', '+', '8', '-', '8', '==', '5']\n",
      "pred: ['<insertion>', '3', '+']\n",
      "\n",
      "src: ['-', '3', '+', '9', '+', '7', '/', '7', '==', '7']\n",
      "tgt: ['-', '3', '+', '9', '+', '7', '/', '7', '==', '7']\n",
      "pred: ['<completion>', '<none>', '<none>']\n",
      "\n"
     ]
    }
   ],
   "source": [
    "# take a look\n",
    "for i in range(-10, 0, 1):\n",
    "    print('src:', train_xs[i])\n",
    "    print('tgt:', train_ys[i])\n",
    "    print('pred:', train_ys_[i])\n",
    "    print()"
   ]
  },
  {
   "cell_type": "code",
   "execution_count": 18,
   "metadata": {},
   "outputs": [
    {
     "name": "stdout",
     "output_type": "stream",
     "text": [
      "[('-', 5699), ('+', 4997), ('2', 4916), ('3', 4259), ('4', 3984), ('5', 3615), ('6', 3562), ('8', 3157), ('10', 3104), ('7', 3043), ('9', 2976), ('11', 2384), ('*', 1719), ('/', 1538), ('==', 1323)]\n"
     ]
    }
   ],
   "source": [
    "# source vocabulary frequency distribution\n",
    "counter = Counter()\n",
    "for x in train_xs:\n",
    "    counter.update(x)\n",
    "\n",
    "print(counter.most_common())"
   ]
  },
  {
   "cell_type": "code",
   "execution_count": 19,
   "metadata": {},
   "outputs": [
    {
     "name": "stdout",
     "output_type": "stream",
     "text": [
      "['*', '+', '-', '/', '10', '11', '2', '3', '4', '5', '6', '7', '8', '9', '==']\n"
     ]
    }
   ],
   "source": [
    "src_vocab_list = sorted(counter.keys())\n",
    "print(src_vocab_list)"
   ]
  },
  {
   "cell_type": "code",
   "execution_count": 20,
   "metadata": {},
   "outputs": [
    {
     "name": "stdout",
     "output_type": "stream",
     "text": [
      "{'<pad>': 0, '</s>': 1, '*': 2, '+': 3, '-': 4, '/': 5, '10': 6, '11': 7, '2': 8, '3': 9, '4': 10, '5': 11, '6': 12, '7': 13, '8': 14, '9': 15, '==': 16}\n"
     ]
    }
   ],
   "source": [
    "# soruce vocabulary dictionary\n",
    "src_vocab2idx_dict = dict()\n",
    "src_vocab2idx_dict['<pad>'] = 0 # to pad sequence length\n",
    "src_vocab2idx_dict['</s>'] = 1 # to mark the end of a sequence\n",
    "\n",
    "i = len(src_vocab2idx_dict)\n",
    "for token in src_vocab_list:\n",
    "    src_vocab2idx_dict[token] = i\n",
    "    i += 1\n",
    "\n",
    "print(src_vocab2idx_dict)"
   ]
  },
  {
   "cell_type": "code",
   "execution_count": 21,
   "metadata": {},
   "outputs": [
    {
     "name": "stdout",
     "output_type": "stream",
     "text": [
      "[('<insertion>', 5677), ('<none>', 2646), ('-', 1656), ('+', 1583), ('<completion>', 1323), ('==', 1311), ('1', 926), ('7', 902), ('5', 886), ('3', 865), ('*', 584), ('/', 543), ('4', 441), ('6', 434), ('0', 422), ('8', 409), ('2', 392)]\n"
     ]
    }
   ],
   "source": [
    "# target vocabulary frequency distribution\n",
    "counter = Counter()\n",
    "for y_ in train_ys_:\n",
    "    counter.update(y_)\n",
    "\n",
    "print(counter.most_common())"
   ]
  },
  {
   "cell_type": "code",
   "execution_count": 22,
   "metadata": {},
   "outputs": [
    {
     "name": "stdout",
     "output_type": "stream",
     "text": [
      "['*', '+', '-', '/', '0', '1', '2', '3', '4', '5', '6', '7', '8', '<completion>', '<insertion>', '<none>', '==']\n"
     ]
    }
   ],
   "source": [
    "tgt_vocab_list = sorted(counter.keys())\n",
    "print(tgt_vocab_list)"
   ]
  },
  {
   "cell_type": "code",
   "execution_count": 23,
   "metadata": {},
   "outputs": [
    {
     "name": "stdout",
     "output_type": "stream",
     "text": [
      "{'<pad>': 0, '</s>': 1, '<s>': 2, '*': 3, '+': 4, '-': 5, '/': 6, '0': 7, '1': 8, '2': 9, '3': 10, '4': 11, '5': 12, '6': 13, '7': 14, '8': 15, '<completion>': 16, '<insertion>': 17, '<none>': 18, '==': 19}\n"
     ]
    }
   ],
   "source": [
    "# target vocabulary dictionary\n",
    "tgt_vocab2idx_dict = dict()\n",
    "tgt_vocab2idx_dict['<pad>'] = 0 # to pad sequence length\n",
    "tgt_vocab2idx_dict['</s>'] = 1 # to mark the end of a sequence\n",
    "tgt_vocab2idx_dict['<s>'] = 2 # to mark the start of a sequence\n",
    "\n",
    "i = len(tgt_vocab2idx_dict)\n",
    "for token in tgt_vocab_list:\n",
    "    tgt_vocab2idx_dict[token] = i\n",
    "    i += 1\n",
    "\n",
    "print(tgt_vocab2idx_dict)"
   ]
  },
  {
   "cell_type": "markdown",
   "metadata": {},
   "source": [
    "### Val"
   ]
  },
  {
   "cell_type": "code",
   "execution_count": 24,
   "metadata": {},
   "outputs": [
    {
     "name": "stdout",
     "output_type": "stream",
     "text": [
      "src: 8 6 4 3 3\n",
      "tgt: 8 - 6 + 4 - 3 == 3\n",
      "\n",
      "src: 6 6 9 3 6\n",
      "tgt: 6 / 6 * 9 - 3 == 6\n",
      "\n",
      "src: 2 3 6 10 10\n",
      "tgt: - 2 * 3 + 6 + 10 == 10\n",
      "\n",
      "src: 11 3 4 2 2\n",
      "tgt: 11 - 3 - 4 - 2 == 2\n",
      "\n",
      "src: 6 3 2 4 4\n",
      "tgt: - 6 + 3 * 2 + 4 == 4\n",
      "\n",
      "src: 10 11 11 2 8\n",
      "tgt: 10 * 11 / 11 - 2 == 8\n",
      "\n",
      "src: 10 2 9 9 8\n",
      "tgt: 10 - 2 * 9 / 9 == 8\n",
      "\n",
      "src: 7 7 5 7 3\n",
      "tgt: 7 / 7 - 5 + 7 == 3\n",
      "\n",
      "src: 3 8 8 11 8\n",
      "tgt: - 3 + 8 - 8 + 11 == 8\n",
      "\n",
      "src: 3 8 2 2 11\n",
      "tgt: 3 + 8 + 2 - 2 == 11\n",
      "\n"
     ]
    }
   ],
   "source": [
    "# take a look\n",
    "for i in range(-10, 0, 1):\n",
    "    print('src:', raw_val_xs[i])\n",
    "    print('tgt:', raw_val_ys[i])\n",
    "    print()"
   ]
  },
  {
   "cell_type": "code",
   "execution_count": 25,
   "metadata": {},
   "outputs": [],
   "source": [
    "# white space tokenization\n",
    "val_xs = white_space_tokenizer(raw_val_xs)\n",
    "val_ys = white_space_tokenizer(raw_val_ys)"
   ]
  },
  {
   "cell_type": "markdown",
   "metadata": {},
   "source": [
    "## Test"
   ]
  },
  {
   "cell_type": "code",
   "execution_count": 26,
   "metadata": {},
   "outputs": [
    {
     "name": "stdout",
     "output_type": "stream",
     "text": [
      "src: 2 9 3 6 9\n",
      "tgt: 2 * 9 * 3 / 6 == 9\n",
      "\n",
      "src: 5 10 10 5 10\n",
      "tgt: - 5 + 10 + 10 - 5 == 10\n",
      "\n",
      "src: 7 4 7 11 7\n",
      "tgt: 7 - 4 - 7 + 11 == 7\n",
      "\n",
      "src: 5 5 8 7 2\n",
      "tgt: 5 / 5 + 8 - 7 == 2\n",
      "\n",
      "src: 2 7 4 6 7\n",
      "tgt: 2 + 7 + 4 - 6 == 7\n",
      "\n",
      "src: 4 8 8 6 6\n",
      "tgt: - 4 + 8 + 8 - 6 == 6\n",
      "\n",
      "src: 2 4 7 6 3\n",
      "tgt: - 2 + 4 + 7 - 6 == 3\n",
      "\n",
      "src: 9 4 3 6 2\n",
      "tgt: 9 * 4 / 3 / 6 == 2\n",
      "\n",
      "src: 4 2 7 3 6\n",
      "tgt: 4 / 2 + 7 - 3 == 6\n",
      "\n",
      "src: 3 11 6 9 11\n",
      "tgt: - 3 + 11 - 6 + 9 == 11\n",
      "\n"
     ]
    }
   ],
   "source": [
    "# take a look\n",
    "for i in range(-10, 0, 1):\n",
    "    print('src:', raw_test_xs[i])\n",
    "    print('tgt:', raw_test_ys[i])\n",
    "    print()"
   ]
  },
  {
   "cell_type": "code",
   "execution_count": 27,
   "metadata": {},
   "outputs": [],
   "source": [
    "# white space tokenization\n",
    "test_xs = white_space_tokenizer(raw_test_xs)\n",
    "test_ys = white_space_tokenizer(raw_test_ys)"
   ]
  },
  {
   "cell_type": "code",
   "execution_count": 28,
   "metadata": {},
   "outputs": [],
   "source": [
    "# combine data sets to a dict\n",
    "train_dict = {}\n",
    "train_dict['xs'] = train_xs\n",
    "train_dict['ys_'] = train_ys_\n",
    "train_dict['ys'] = train_ys\n",
    "\n",
    "val_dict = {}\n",
    "val_dict['xs'] = val_xs\n",
    "val_dict['ys'] = val_ys\n",
    "\n",
    "test_dict = {}\n",
    "test_dict['xs'] = test_xs\n",
    "test_dict['ys'] = test_ys\n",
    "\n",
    "data_dict = dict()\n",
    "data_dict['train'] = train_dict\n",
    "data_dict['val'] = val_dict\n",
    "data_dict['test'] = test_dict\n",
    "\n",
    "vocab_dict = dict()\n",
    "vocab_dict['src'] = src_vocab2idx_dict\n",
    "vocab_dict['tgt'] = tgt_vocab2idx_dict"
   ]
  },
  {
   "cell_type": "code",
   "execution_count": 29,
   "metadata": {},
   "outputs": [],
   "source": [
    "# save output as json\n",
    "data_path = os.path.join(outdir, 'data.json')\n",
    "vocab_path = os.path.join(outdir, 'vocab.json')\n",
    "\n",
    "save_json(data_path, data_dict)\n",
    "save_json(vocab_path, vocab_dict)"
   ]
  },
  {
   "cell_type": "markdown",
   "metadata": {},
   "source": [
    "# Archive Code"
   ]
  },
  {
   "cell_type": "code",
   "execution_count": 26,
   "metadata": {},
   "outputs": [],
   "source": [
    "# # a function to generate a sequence pair\n",
    "# # given a label sequence\n",
    "# def get_sequence_pair(y: list) -> list:\n",
    "#     # white space tokenization\n",
    "#     y = y.split()\n",
    "#     x = y.copy()\n",
    "#     # get operator indexes\n",
    "#     operator_idxes = list(range(1, len(x), 2))\n",
    "#     # decide how many operators to remove\n",
    "#     num_idxes = np.random.choice(range(len(operator_idxes)+1))\n",
    "#     if num_idxes == 0:\n",
    "#         return x, ['<completion>', '<none>', '<none>'], y\n",
    "#     else:\n",
    "#         # decide operators to remove\n",
    "#         idxes_to_remove = sorted(np.random.choice(operator_idxes, num_idxes, replace=False))\n",
    "#         # generat possible ys\n",
    "#         ys_ = [['<insertion>', str(idxes_to_remove[i]-i), x[idxes_to_remove[i]]] \n",
    "#               for i in range(len(idxes_to_remove))]\n",
    "#         # pick y randomly\n",
    "#         y_ = ys_[np.random.choice(range(len(ys_)))]\n",
    "#         # remove operators\n",
    "#         x = [x[i] for i in range(len(x)) if i not in idxes_to_remove]\n",
    "#         return x, y_, y"
   ]
  },
  {
   "cell_type": "code",
   "execution_count": 27,
   "metadata": {},
   "outputs": [],
   "source": [
    "# a function to generate a sequence pair\n",
    "# given a label sequence\n",
    "def get_sequence_pair(y: list) -> list:\n",
    "    # white space tokenization\n",
    "    y = y.split()\n",
    "    x = y.copy()\n",
    "    # get operator indexes\n",
    "#     operator_idxes = np.arange(1, len(x), 2)[::-1]\n",
    "    operator_idxes = [i for i, token in enumerate(y) if not token.isdigit()][::-1]\n",
    "    \n",
    "    # decide how many operators to remove\n",
    "    num_idxes = np.random.choice(range(len(operator_idxes)+1))\n",
    "    if num_idxes == 0:\n",
    "        return x, ['<completion>', '<none>', '<none>'], y\n",
    "    else:\n",
    "        # decide operators to remove\n",
    "        idxes_to_remove = operator_idxes[:num_idxes]\n",
    "#         idxes_to_remove = sorted(np.random.choice(operator_idxes, num_idxes, replace=False))\n",
    "        # generat possible ys\n",
    "#         ys_ = [['<insertion>', str(idxes_to_remove[i]+1-i), x[idxes_to_remove[i]]] \n",
    "#               for i in np.arange(len(idxes_to_remove))[::-1]]\n",
    "#         print(['<insertion>', str(idxes_to_remove[-1]), x[idxes_to_remove[-1]]])\n",
    "        y_ = ['<insertion>', str(idxes_to_remove[-1]), x[idxes_to_remove[-1]]]\n",
    "        # pick y randomly\n",
    "#         y_ = ys_[0]\n",
    "#         y_ = ys_[np.random.choice(range(len(ys_)))]\n",
    "#         remove operators\n",
    "        x = [x[i] for i in range(len(x)) if i not in idxes_to_remove]\n",
    "#         print(idxes_to_remove)\n",
    "        return x, y_, y"
   ]
  },
  {
   "cell_type": "code",
   "execution_count": null,
   "metadata": {},
   "outputs": [],
   "source": []
  }
 ],
 "metadata": {
  "kernelspec": {
   "display_name": "Python 3",
   "language": "python",
   "name": "python3"
  },
  "language_info": {
   "codemirror_mode": {
    "name": "ipython",
    "version": 3
   },
   "file_extension": ".py",
   "mimetype": "text/x-python",
   "name": "python",
   "nbconvert_exporter": "python",
   "pygments_lexer": "ipython3",
   "version": "3.7.6"
  }
 },
 "nbformat": 4,
 "nbformat_minor": 4
}
