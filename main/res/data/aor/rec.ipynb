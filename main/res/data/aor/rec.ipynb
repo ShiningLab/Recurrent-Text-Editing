{
 "cells": [
  {
   "cell_type": "markdown",
   "metadata": {},
   "source": [
    "# Data Preprocessing"
   ]
  },
  {
   "cell_type": "code",
   "execution_count": 1,
   "metadata": {},
   "outputs": [],
   "source": [
    "#!/usr/bin/env python\n",
    "# -*- coding:utf-8 -*-\n",
    "\n",
    "__author__ = 'Shining'\n",
    "__email__ = 'mrshininnnnn@gmail.com'"
   ]
  },
  {
   "cell_type": "code",
   "execution_count": 2,
   "metadata": {},
   "outputs": [],
   "source": [
    "# dependency\n",
    "# public\n",
    "import os\n",
    "import numpy as np\n",
    "from collections import Counter\n",
    "# private\n",
    "from utils import *"
   ]
  },
  {
   "cell_type": "code",
   "execution_count": 3,
   "metadata": {},
   "outputs": [],
   "source": [
    "# define parameters\n",
    "method = 'rec'\n",
    "num_size = 10\n",
    "seq_len = 5\n",
    "data_size = 10000"
   ]
  },
  {
   "cell_type": "code",
   "execution_count": 4,
   "metadata": {},
   "outputs": [
    {
     "data": {
      "text/plain": [
       "'aor/num_size_10/seq_len_5/data_size_10000'"
      ]
     },
     "execution_count": 4,
     "metadata": {},
     "output_type": "execute_result"
    }
   ],
   "source": [
    "# load path\n",
    "data_src = 'aor'\n",
    "indir = os.path.join(data_src, \n",
    "                     'num_size_{}'.format(num_size), \n",
    "                     'seq_len_{}'.format(seq_len), \n",
    "                     'data_size_{}'.format(data_size))\n",
    "indir"
   ]
  },
  {
   "cell_type": "code",
   "execution_count": 5,
   "metadata": {},
   "outputs": [
    {
     "data": {
      "text/plain": [
       "'rec/num_size_10/seq_len_5/data_size_10000'"
      ]
     },
     "execution_count": 5,
     "metadata": {},
     "output_type": "execute_result"
    }
   ],
   "source": [
    "# save path\n",
    "outdir = os.path.join(method, \n",
    "                      'num_size_{}'.format(num_size), \n",
    "                      'seq_len_{}'.format(seq_len), \n",
    "                      'data_size_{}'.format(data_size))\n",
    "if not os.path.exists(outdir): \n",
    "    os.makedirs(outdir)\n",
    "outdir"
   ]
  },
  {
   "cell_type": "code",
   "execution_count": 6,
   "metadata": {},
   "outputs": [],
   "source": [
    "# load raw dataset\n",
    "raw_train_xs = load_txt(os.path.join(indir, 'train_x.txt'))\n",
    "raw_train_ys = load_txt(os.path.join(indir, 'train_y.txt'))\n",
    "raw_val_xs = load_txt(os.path.join(indir, 'val_x.txt'))\n",
    "raw_val_ys = load_txt(os.path.join(indir, 'val_y.txt'))\n",
    "raw_test_xs = load_txt(os.path.join(indir, 'test_x.txt'))\n",
    "raw_test_ys = load_txt(os.path.join(indir, 'test_y.txt'))"
   ]
  },
  {
   "cell_type": "code",
   "execution_count": 7,
   "metadata": {},
   "outputs": [
    {
     "name": "stdout",
     "output_type": "stream",
     "text": [
      "train sample size 7000\n",
      "train label size 7000\n",
      "val sample size 1500\n",
      "val label size 1500\n",
      "test sample size 1500\n",
      "test label size 1500\n"
     ]
    }
   ],
   "source": [
    "# check data size\n",
    "print('train sample size', len(raw_train_xs))\n",
    "print('train label size', len(raw_train_ys))\n",
    "print('val sample size', len(raw_val_xs))\n",
    "print('val label size', len(raw_val_ys))\n",
    "print('test sample size', len(raw_test_xs))\n",
    "print('test label size', len(raw_test_ys))"
   ]
  },
  {
   "cell_type": "markdown",
   "metadata": {},
   "source": [
    "### Train"
   ]
  },
  {
   "cell_type": "code",
   "execution_count": 8,
   "metadata": {},
   "outputs": [],
   "source": [
    "# def gen_rec_pair(y: list) -> list:\n",
    "#     # white space tokenization\n",
    "#     y = y.split()\n",
    "#     # make a copy\n",
    "#     x = y.copy()\n",
    "#     # get operator indexes\n",
    "#     operator_idxes = [i for i, token in enumerate(y) if not token.isdigit()][::-1]\n",
    "#     # decide how many operators to remove\n",
    "#     num_idxes = np.random.choice(range(len(operator_idxes)+1))\n",
    "#     if num_idxes == 0:\n",
    "#         return x, ['<done>', '<done>'], y\n",
    "#     else:\n",
    "#         # decide operators to remove\n",
    "#         idxes_to_remove = operator_idxes[:num_idxes]\n",
    "#         # generat label\n",
    "#         y_ = ['pos_{}'.format(idxes_to_remove[-1]), x[idxes_to_remove[-1]]]\n",
    "#         # generate sample\n",
    "#         x = [x[i] for i in range(len(x)) if i not in idxes_to_remove]\n",
    "        \n",
    "#         return x, y_, y"
   ]
  },
  {
   "cell_type": "code",
   "execution_count": 9,
   "metadata": {},
   "outputs": [],
   "source": [
    "train_xs, train_ys_, train_ys = zip(*[gen_rec_pair(y) for y in raw_train_ys])"
   ]
  },
  {
   "cell_type": "code",
   "execution_count": 10,
   "metadata": {
    "scrolled": false
   },
   "outputs": [
    {
     "name": "stdout",
     "output_type": "stream",
     "text": [
      "src: ['7', '+', '2', '3', '3', '3']\n",
      "tgt: ['7', '+', '2', '-', '3', '-', '3', '==', '3']\n",
      "pred: ['pos_3', '-']\n",
      "\n",
      "src: ['2', '+', '2', '*', '3', '2', '10']\n",
      "tgt: ['2', '+', '2', '*', '3', '+', '2', '==', '10']\n",
      "pred: ['pos_5', '+']\n",
      "\n",
      "src: ['9', '+', '3', '-', '8', '6', '10']\n",
      "tgt: ['9', '+', '3', '-', '8', '+', '6', '==', '10']\n",
      "pred: ['pos_5', '+']\n",
      "\n",
      "src: ['6', '2', '8', '5', '5']\n",
      "tgt: ['-', '6', '-', '2', '+', '8', '+', '5', '==', '5']\n",
      "pred: ['pos_0', '-']\n",
      "\n",
      "src: ['4', '2', '9', '6', '7']\n",
      "tgt: ['4', '+', '2', '*', '9', '/', '6', '==', '7']\n",
      "pred: ['pos_1', '+']\n",
      "\n",
      "src: ['11', '8', '9', '5', '5']\n",
      "tgt: ['11', '+', '8', '-', '9', '-', '5', '==', '5']\n",
      "pred: ['pos_1', '+']\n",
      "\n",
      "src: ['-', '2', '/', '2', '+', '8', '2', '9']\n",
      "tgt: ['-', '2', '/', '2', '+', '8', '+', '2', '==', '9']\n",
      "pred: ['pos_6', '+']\n",
      "\n",
      "src: ['9', '10', '5', '10', '3']\n",
      "tgt: ['-', '9', '+', '10', '/', '5', '+', '10', '==', '3']\n",
      "pred: ['pos_0', '-']\n",
      "\n",
      "src: ['9', '-', '4', '+', '6', '-', '7', '4']\n",
      "tgt: ['9', '-', '4', '+', '6', '-', '7', '==', '4']\n",
      "pred: ['pos_7', '==']\n",
      "\n",
      "src: ['-', '4', '/', '4', '+', '9', '-', '6', '==', '2']\n",
      "tgt: ['-', '4', '/', '4', '+', '9', '-', '6', '==', '2']\n",
      "pred: ['<done>', '<done>']\n",
      "\n"
     ]
    }
   ],
   "source": [
    "# take a look\n",
    "for i in range(-10, 0, 1):\n",
    "    print('src:', train_xs[i])\n",
    "    print('tgt:', train_ys[i])\n",
    "    print('pred:', train_ys_[i])\n",
    "    print()"
   ]
  },
  {
   "cell_type": "code",
   "execution_count": 11,
   "metadata": {},
   "outputs": [
    {
     "name": "stdout",
     "output_type": "stream",
     "text": [
      "[('-', 5739), ('+', 5077), ('2', 4932), ('3', 4266), ('4', 4046), ('6', 3582), ('5', 3516), ('8', 3283), ('7', 3046), ('10', 3024), ('9', 2922), ('11', 2383), ('*', 1747), ('/', 1587), ('==', 1303)]\n"
     ]
    }
   ],
   "source": [
    "# source vocabulary frequency distribution\n",
    "counter = Counter()\n",
    "for x in train_xs:\n",
    "    counter.update(x)\n",
    "\n",
    "print(counter.most_common())"
   ]
  },
  {
   "cell_type": "code",
   "execution_count": 12,
   "metadata": {},
   "outputs": [
    {
     "name": "stdout",
     "output_type": "stream",
     "text": [
      "['*', '+', '-', '/', '10', '11', '2', '3', '4', '5', '6', '7', '8', '9', '==']\n"
     ]
    }
   ],
   "source": [
    "src_vocab_list = sorted(counter.keys())\n",
    "print(src_vocab_list)"
   ]
  },
  {
   "cell_type": "code",
   "execution_count": 13,
   "metadata": {},
   "outputs": [
    {
     "name": "stdout",
     "output_type": "stream",
     "text": [
      "{'<pad>': 0, '*': 1, '+': 2, '-': 3, '/': 4, '10': 5, '11': 6, '2': 7, '3': 8, '4': 9, '5': 10, '6': 11, '7': 12, '8': 13, '9': 14, '==': 15}\n"
     ]
    }
   ],
   "source": [
    "# soruce vocabulary dictionary\n",
    "src_vocab2idx_dict = dict()\n",
    "src_vocab2idx_dict['<pad>'] = 0 # to pad sequence length\n",
    "\n",
    "i = len(src_vocab2idx_dict)\n",
    "for token in src_vocab_list:\n",
    "    src_vocab2idx_dict[token] = i\n",
    "    i += 1\n",
    "\n",
    "print(src_vocab2idx_dict)"
   ]
  },
  {
   "cell_type": "code",
   "execution_count": 14,
   "metadata": {},
   "outputs": [
    {
     "name": "stdout",
     "output_type": "stream",
     "text": [
      "[('<done>', 2606), ('+', 1637), ('-', 1580), ('==', 1384), ('pos_7', 929), ('pos_3', 906), ('pos_5', 882), ('pos_1', 875), ('*', 586), ('/', 510), ('pos_8', 455), ('pos_6', 449), ('pos_2', 406), ('pos_4', 398), ('pos_0', 397)]\n"
     ]
    }
   ],
   "source": [
    "# target vocabulary frequency distribution\n",
    "counter = Counter()\n",
    "for y_ in train_ys_:\n",
    "    counter.update(y_)\n",
    "\n",
    "print(counter.most_common())"
   ]
  },
  {
   "cell_type": "code",
   "execution_count": 15,
   "metadata": {},
   "outputs": [
    {
     "name": "stdout",
     "output_type": "stream",
     "text": [
      "['*', '+', '-', '/', '<done>', '==', 'pos_0', 'pos_1', 'pos_2', 'pos_3', 'pos_4', 'pos_5', 'pos_6', 'pos_7', 'pos_8']\n"
     ]
    }
   ],
   "source": [
    "tgt_vocab_list = sorted(counter.keys())\n",
    "print(tgt_vocab_list)"
   ]
  },
  {
   "cell_type": "code",
   "execution_count": 16,
   "metadata": {},
   "outputs": [
    {
     "name": "stdout",
     "output_type": "stream",
     "text": [
      "{'<pad>': 0, '<s>': 1, '*': 2, '+': 3, '-': 4, '/': 5, '<done>': 6, '==': 7, 'pos_0': 8, 'pos_1': 9, 'pos_2': 10, 'pos_3': 11, 'pos_4': 12, 'pos_5': 13, 'pos_6': 14, 'pos_7': 15, 'pos_8': 16}\n"
     ]
    }
   ],
   "source": [
    "# target vocabulary dictionary\n",
    "tgt_vocab2idx_dict = dict()\n",
    "tgt_vocab2idx_dict['<pad>'] = 0 # to pad sequence length\n",
    "tgt_vocab2idx_dict['<s>'] = 1 # to mark the start of a sequence\n",
    "\n",
    "i = len(tgt_vocab2idx_dict)\n",
    "for token in tgt_vocab_list:\n",
    "    tgt_vocab2idx_dict[token] = i\n",
    "    i += 1\n",
    "\n",
    "print(tgt_vocab2idx_dict)"
   ]
  },
  {
   "cell_type": "markdown",
   "metadata": {},
   "source": [
    "### Val"
   ]
  },
  {
   "cell_type": "code",
   "execution_count": 17,
   "metadata": {},
   "outputs": [
    {
     "name": "stdout",
     "output_type": "stream",
     "text": [
      "src: 5 5 6 6 11\n",
      "tgt: - 5 / 5 + 6 + 6 == 11\n",
      "\n",
      "src: 9 5 5 2 11\n",
      "tgt: 9 + 5 / 5 * 2 == 11\n",
      "\n",
      "src: 9 4 3 6 11\n",
      "tgt: 9 + 4 * 3 / 6 == 11\n",
      "\n",
      "src: 6 8 4 7 5\n",
      "tgt: - 6 + 8 - 4 + 7 == 5\n",
      "\n",
      "src: 8 2 4 10 3\n",
      "tgt: 8 - 2 / 4 * 10 == 3\n",
      "\n",
      "src: 5 4 8 3 4\n",
      "tgt: - 5 + 4 + 8 - 3 == 4\n",
      "\n",
      "src: 4 4 10 11 7\n",
      "tgt: 4 + 4 + 10 - 11 == 7\n",
      "\n",
      "src: 9 8 2 9 6\n",
      "tgt: 9 + 8 - 2 - 9 == 6\n",
      "\n",
      "src: 4 6 7 8 9\n",
      "tgt: 4 + 6 + 7 - 8 == 9\n",
      "\n",
      "src: 5 5 10 6 9\n",
      "tgt: 5 * 5 - 10 - 6 == 9\n",
      "\n"
     ]
    }
   ],
   "source": [
    "# take a look\n",
    "for i in range(-10, 0, 1):\n",
    "    print('src:', raw_val_xs[i])\n",
    "    print('tgt:', raw_val_ys[i])\n",
    "    print()"
   ]
  },
  {
   "cell_type": "code",
   "execution_count": 18,
   "metadata": {},
   "outputs": [],
   "source": [
    "# white space tokenization\n",
    "val_xs = white_space_tokenizer(raw_val_xs)\n",
    "val_ys = white_space_tokenizer(raw_val_ys)"
   ]
  },
  {
   "cell_type": "markdown",
   "metadata": {},
   "source": [
    "## Test"
   ]
  },
  {
   "cell_type": "code",
   "execution_count": 19,
   "metadata": {},
   "outputs": [
    {
     "name": "stdout",
     "output_type": "stream",
     "text": [
      "src: 5 10 5 3 10\n",
      "tgt: 5 + 10 / 5 + 3 == 10\n",
      "\n",
      "src: 7 6 9 6 11\n",
      "tgt: 7 + 6 / 9 * 6 == 11\n",
      "\n",
      "src: 10 10 10 4 7\n",
      "tgt: 10 + 10 / 10 - 4 == 7\n",
      "\n",
      "src: 4 2 2 4 4\n",
      "tgt: 4 + 2 + 2 - 4 == 4\n",
      "\n",
      "src: 3 10 2 5 3\n",
      "tgt: 3 - 10 / 2 + 5 == 3\n",
      "\n",
      "src: 4 2 7 4 5\n",
      "tgt: 4 / 2 + 7 - 4 == 5\n",
      "\n",
      "src: 8 11 2 8 9\n",
      "tgt: - 8 + 11 - 2 + 8 == 9\n",
      "\n",
      "src: 7 5 3 6 2\n",
      "tgt: - 7 + 5 * 3 - 6 == 2\n",
      "\n",
      "src: 8 11 2 6 11\n",
      "tgt: - 8 + 11 + 2 + 6 == 11\n",
      "\n",
      "src: 6 10 2 8 10\n",
      "tgt: - 6 + 10 - 2 + 8 == 10\n",
      "\n"
     ]
    }
   ],
   "source": [
    "# take a look\n",
    "for i in range(-10, 0, 1):\n",
    "    print('src:', raw_test_xs[i])\n",
    "    print('tgt:', raw_test_ys[i])\n",
    "    print()"
   ]
  },
  {
   "cell_type": "code",
   "execution_count": 20,
   "metadata": {},
   "outputs": [],
   "source": [
    "# white space tokenization\n",
    "test_xs = white_space_tokenizer(raw_test_xs)\n",
    "test_ys = white_space_tokenizer(raw_test_ys)"
   ]
  },
  {
   "cell_type": "code",
   "execution_count": 21,
   "metadata": {},
   "outputs": [],
   "source": [
    "# combine data sets to a dict\n",
    "train_dict = {}\n",
    "train_dict['xs'] = train_xs\n",
    "train_dict['ys'] = train_ys\n",
    "train_dict['ys_'] = train_ys_\n",
    "\n",
    "val_dict = {}\n",
    "val_dict['xs'] = val_xs\n",
    "val_dict['ys'] = val_ys\n",
    "\n",
    "test_dict = {}\n",
    "test_dict['xs'] = test_xs\n",
    "test_dict['ys'] = test_ys\n",
    "\n",
    "data_dict = dict()\n",
    "data_dict['train'] = train_dict\n",
    "data_dict['val'] = val_dict\n",
    "data_dict['test'] = test_dict\n",
    "\n",
    "vocab_dict = dict()\n",
    "vocab_dict['src'] = src_vocab2idx_dict\n",
    "vocab_dict['tgt'] = tgt_vocab2idx_dict"
   ]
  },
  {
   "cell_type": "code",
   "execution_count": 22,
   "metadata": {},
   "outputs": [],
   "source": [
    "# save output as json\n",
    "data_path = os.path.join(outdir, 'data.json')\n",
    "vocab_path = os.path.join(outdir, 'vocab.json')\n",
    "\n",
    "save_json(data_path, data_dict)\n",
    "save_json(vocab_path, vocab_dict)"
   ]
  },
  {
   "cell_type": "markdown",
   "metadata": {},
   "source": [
    "# Archive Code"
   ]
  },
  {
   "cell_type": "code",
   "execution_count": 23,
   "metadata": {},
   "outputs": [],
   "source": [
    "# # a function to generate a sequence pair\n",
    "# # given a label sequence\n",
    "# def get_sequence_pair(y: list) -> list:\n",
    "#     # white space tokenization\n",
    "#     y = y.split()\n",
    "#     x = y.copy()\n",
    "#     # get operator indexes\n",
    "#     operator_idxes = list(range(1, len(x), 2))\n",
    "#     # decide how many operators to remove\n",
    "#     num_idxes = np.random.choice(range(len(operator_idxes)+1))\n",
    "#     if num_idxes == 0:\n",
    "#         return x, ['<completion>', '<none>', '<none>'], y\n",
    "#     else:\n",
    "#         # decide operators to remove\n",
    "#         idxes_to_remove = sorted(np.random.choice(operator_idxes, num_idxes, replace=False))\n",
    "#         # generat possible ys\n",
    "#         ys_ = [['<insertion>', str(idxes_to_remove[i]-i), x[idxes_to_remove[i]]] \n",
    "#               for i in range(len(idxes_to_remove))]\n",
    "#         # pick y randomly\n",
    "#         y_ = ys_[np.random.choice(range(len(ys_)))]\n",
    "#         # remove operators\n",
    "#         x = [x[i] for i in range(len(x)) if i not in idxes_to_remove]\n",
    "#         return x, y_, y"
   ]
  },
  {
   "cell_type": "code",
   "execution_count": 24,
   "metadata": {},
   "outputs": [],
   "source": [
    "# # a function to generate a sequence pair\n",
    "# # given a label sequence\n",
    "# def get_sequence_pair(y: list) -> list:\n",
    "#     # white space tokenization\n",
    "#     y = y.split()\n",
    "#     x = y.copy()\n",
    "#     # get operator indexes\n",
    "# #     operator_idxes = np.arange(1, len(x), 2)[::-1]\n",
    "#     operator_idxes = [i for i, token in enumerate(y) if not token.isdigit()][::-1]\n",
    "    \n",
    "#     # decide how many operators to remove\n",
    "#     num_idxes = np.random.choice(range(len(operator_idxes)+1))\n",
    "#     if num_idxes == 0:\n",
    "#         return x, ['<completion>', '<none>', '<none>'], y\n",
    "#     else:\n",
    "#         # decide operators to remove\n",
    "#         idxes_to_remove = operator_idxes[:num_idxes]\n",
    "# #         idxes_to_remove = sorted(np.random.choice(operator_idxes, num_idxes, replace=False))\n",
    "#         # generat possible ys\n",
    "# #         ys_ = [['<insertion>', str(idxes_to_remove[i]+1-i), x[idxes_to_remove[i]]] \n",
    "# #               for i in np.arange(len(idxes_to_remove))[::-1]]\n",
    "# #         print(['<insertion>', str(idxes_to_remove[-1]), x[idxes_to_remove[-1]]])\n",
    "#         y_ = ['<insertion>', str(idxes_to_remove[-1]), x[idxes_to_remove[-1]]]\n",
    "#         # pick y randomly\n",
    "# #         y_ = ys_[0]\n",
    "# #         y_ = ys_[np.random.choice(range(len(ys_)))]\n",
    "# #         remove operators\n",
    "#         x = [x[i] for i in range(len(x)) if i not in idxes_to_remove]\n",
    "# #         print(idxes_to_remove)\n",
    "#         return x, y_, y"
   ]
  }
 ],
 "metadata": {
  "kernelspec": {
   "display_name": "Python 3",
   "language": "python",
   "name": "python3"
  },
  "language_info": {
   "codemirror_mode": {
    "name": "ipython",
    "version": 3
   },
   "file_extension": ".py",
   "mimetype": "text/x-python",
   "name": "python",
   "nbconvert_exporter": "python",
   "pygments_lexer": "ipython3",
   "version": "3.7.6"
  }
 },
 "nbformat": 4,
 "nbformat_minor": 4
}
