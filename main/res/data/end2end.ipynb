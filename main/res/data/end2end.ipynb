{
 "cells": [
  {
   "cell_type": "markdown",
   "metadata": {},
   "source": [
    "# Data Preprocessing"
   ]
  },
  {
   "cell_type": "markdown",
   "metadata": {},
   "source": [
    "## End2End Moldes\n",
    "+ Naive GRU RNN"
   ]
  },
  {
   "cell_type": "markdown",
   "metadata": {},
   "source": [
    "## Notes:\n",
    "+ There is no validation set \n",
    "+ Encoder and Decoder have separate embedding layers\n",
    "+ Train and Test have their own vocab space although there maybe an overlap"
   ]
  },
  {
   "cell_type": "code",
   "execution_count": 1,
   "metadata": {},
   "outputs": [],
   "source": [
    "#!/usr/bin/env python\n",
    "# -*- coding:utf-8 -*-\n",
    "\n",
    "__author__ = 'Shining'\n",
    "__email__ = 'mrshininnnnn@gmail.com'"
   ]
  },
  {
   "cell_type": "code",
   "execution_count": 2,
   "metadata": {},
   "outputs": [],
   "source": [
    "# dependency\n",
    "import os\n",
    "import numpy as np\n",
    "from collections import Counter\n",
    "from utils import load_txt, save_json, white_space_tokenizer, vocab_to_index"
   ]
  },
  {
   "cell_type": "code",
   "execution_count": 3,
   "metadata": {},
   "outputs": [],
   "source": [
    "# define parameters\n",
    "vocab_size = 10\n",
    "seq_len = 5\n",
    "data_size = 100000"
   ]
  },
  {
   "cell_type": "code",
   "execution_count": 4,
   "metadata": {},
   "outputs": [
    {
     "data": {
      "text/plain": [
       "'raw/vocab_size_10/seq_len_5/data_size_100000'"
      ]
     },
     "execution_count": 4,
     "metadata": {},
     "output_type": "execute_result"
    }
   ],
   "source": [
    "# load path\n",
    "indir = 'raw'\n",
    "indir = os.path.join(indir, 'vocab_size_{}'.format(vocab_size), \n",
    "                     'seq_len_{}'.format(seq_len), \n",
    "                     'data_size_{}'.format(data_size))\n",
    "indir"
   ]
  },
  {
   "cell_type": "code",
   "execution_count": 5,
   "metadata": {},
   "outputs": [
    {
     "data": {
      "text/plain": [
       "'end2end/vocab_size_10/seq_len_5/data_size_100000'"
      ]
     },
     "execution_count": 5,
     "metadata": {},
     "output_type": "execute_result"
    }
   ],
   "source": [
    "# save path\n",
    "outdir = 'end2end'\n",
    "\n",
    "outdir = os.path.join(outdir, 'vocab_size_{}'.format(vocab_size), \n",
    "                      'seq_len_{}'.format(seq_len), \n",
    "                      'data_size_{}'.format(data_size))\n",
    "if not os.path.exists(outdir): \n",
    "    os.makedirs(outdir)\n",
    "outdir"
   ]
  },
  {
   "cell_type": "code",
   "execution_count": 6,
   "metadata": {},
   "outputs": [],
   "source": [
    "# load raw dataset\n",
    "raw_train_xs = load_txt(os.path.join(indir, 'train_x.txt'))\n",
    "raw_train_ys = load_txt(os.path.join(indir, 'train_y.txt'))\n",
    "raw_test_xs = load_txt(os.path.join(indir, 'test_x.txt'))\n",
    "raw_test_ys = load_txt(os.path.join(indir, 'test_y.txt'))"
   ]
  },
  {
   "cell_type": "code",
   "execution_count": 7,
   "metadata": {},
   "outputs": [
    {
     "name": "stdout",
     "output_type": "stream",
     "text": [
      "train sample size 80000\n",
      "train label size 80000\n",
      "test sample size 20000\n",
      "test label size 20000\n"
     ]
    }
   ],
   "source": [
    "# check data size\n",
    "print('train sample size', len(raw_train_xs))\n",
    "print('train label size', len(raw_train_ys))\n",
    "print('test sample size', len(raw_test_xs))\n",
    "print('test label size', len(raw_test_ys))"
   ]
  },
  {
   "cell_type": "markdown",
   "metadata": {},
   "source": [
    "### Train"
   ]
  },
  {
   "cell_type": "code",
   "execution_count": 8,
   "metadata": {},
   "outputs": [
    {
     "name": "stdout",
     "output_type": "stream",
     "text": [
      "src: 7 7 0 8 9\n",
      "tgt: 7 / 7 + 0 + 8 == 9\n",
      "\n",
      "src: 9 6 0 6 0\n",
      "tgt: 9 * 6 * 0 * 6 == 0\n",
      "\n",
      "src: 5 8 4 1 1\n",
      "tgt: 5 - 8 + 4 * 1 == 1\n",
      "\n",
      "src: 1 0 5 5 6\n",
      "tgt: 1 - 0 * 5 + 5 == 6\n",
      "\n",
      "src: 0 0 4 6 0\n",
      "tgt: 0 - 0 * 4 / 6 == 0\n",
      "\n",
      "src: 0 2 0 7 7\n",
      "tgt: 0 * 2 - 0 + 7 == 7\n",
      "\n",
      "src: 3 1 3 0 0\n",
      "tgt: 3 - 1 * 3 - 0 == 0\n",
      "\n",
      "src: 1 4 0 5 4\n",
      "tgt: 1 * 4 - 0 * 5 == 4\n",
      "\n",
      "src: 1 0 4 1 0\n",
      "tgt: 1 - 0 / 4 - 1 == 0\n",
      "\n",
      "src: 0 5 9 9 0\n",
      "tgt: 0 * 5 / 9 / 9 == 0\n",
      "\n"
     ]
    }
   ],
   "source": [
    "# take a look\n",
    "for i in range(-10, 0, 1):\n",
    "    print('src:', raw_train_xs[i])\n",
    "    print('tgt:', raw_train_ys[i])\n",
    "    print()"
   ]
  },
  {
   "cell_type": "code",
   "execution_count": 9,
   "metadata": {},
   "outputs": [],
   "source": [
    "# white space tokenization\n",
    "train_xs = white_space_tokenizer(raw_train_xs)\n",
    "train_ys = white_space_tokenizer(raw_train_ys)"
   ]
  },
  {
   "cell_type": "code",
   "execution_count": 10,
   "metadata": {},
   "outputs": [
    {
     "name": "stdout",
     "output_type": "stream",
     "text": [
      "[('0', 71114), ('1', 47796), ('2', 42204), ('3', 39357), ('4', 37533), ('6', 35109), ('5', 33717), ('8', 31950), ('7', 30989), ('9', 30231)]\n"
     ]
    }
   ],
   "source": [
    "# vocabulary frequency distribution\n",
    "counter = Counter()\n",
    "for x in train_xs:\n",
    "    counter.update(x)\n",
    "    \n",
    "print(counter.most_common())"
   ]
  },
  {
   "cell_type": "code",
   "execution_count": 11,
   "metadata": {},
   "outputs": [
    {
     "name": "stdout",
     "output_type": "stream",
     "text": [
      "['0', '1', '2', '3', '4', '5', '6', '7', '8', '9']\n"
     ]
    }
   ],
   "source": [
    "src_vocab_list = sorted(counter.keys())\n",
    "print(src_vocab_list)"
   ]
  },
  {
   "cell_type": "code",
   "execution_count": 12,
   "metadata": {},
   "outputs": [
    {
     "name": "stdout",
     "output_type": "stream",
     "text": [
      "{'<pad>': 0, '<s>': 1, '</s>': 2, '0': 3, '1': 4, '2': 5, '3': 6, '4': 7, '5': 8, '6': 9, '7': 10, '8': 11, '9': 12}\n"
     ]
    }
   ],
   "source": [
    "# soruce vocabulary dictionary\n",
    "src_vocab2idx_dict = dict()\n",
    "src_vocab2idx_dict['<pad>'] = 0 # to pad sequence length\n",
    "src_vocab2idx_dict['<s>'] = 1 # to mark the start of a sequence\n",
    "src_vocab2idx_dict['</s>'] = 2 # to mark the end of a sequence\n",
    "\n",
    "i = len(src_vocab2idx_dict)\n",
    "for token in src_vocab_list:\n",
    "    src_vocab2idx_dict[token] = i\n",
    "    i += 1\n",
    "\n",
    "print(src_vocab2idx_dict)"
   ]
  },
  {
   "cell_type": "code",
   "execution_count": 13,
   "metadata": {},
   "outputs": [
    {
     "name": "stdout",
     "output_type": "stream",
     "text": [
      "[('==', 80000), ('0', 71114), ('+', 66038), ('*', 65227), ('-', 62308), ('1', 47796), ('/', 46427), ('2', 42204), ('3', 39357), ('4', 37533), ('6', 35109), ('5', 33717), ('8', 31950), ('7', 30989), ('9', 30231)]\n"
     ]
    }
   ],
   "source": [
    "# target vocabulary frequency distribution\n",
    "counter = Counter()\n",
    "for y in train_ys:\n",
    "    counter.update(y)\n",
    "\n",
    "print(counter.most_common())"
   ]
  },
  {
   "cell_type": "code",
   "execution_count": 14,
   "metadata": {},
   "outputs": [
    {
     "name": "stdout",
     "output_type": "stream",
     "text": [
      "['*', '+', '-', '/', '0', '1', '2', '3', '4', '5', '6', '7', '8', '9', '==']\n"
     ]
    }
   ],
   "source": [
    "tgt_vocab_list = sorted(counter.keys())\n",
    "print(tgt_vocab_list)"
   ]
  },
  {
   "cell_type": "code",
   "execution_count": 15,
   "metadata": {},
   "outputs": [
    {
     "name": "stdout",
     "output_type": "stream",
     "text": [
      "{'<pad>': 0, '<s>': 1, '</s>': 2, '*': 3, '+': 4, '-': 5, '/': 6, '0': 7, '1': 8, '2': 9, '3': 10, '4': 11, '5': 12, '6': 13, '7': 14, '8': 15, '9': 16, '==': 17}\n"
     ]
    }
   ],
   "source": [
    "# target vocabulary dictionary\n",
    "tgt_vocab2idx_dict = dict()\n",
    "tgt_vocab2idx_dict['<pad>'] = 0 # to pad sequence length\n",
    "tgt_vocab2idx_dict['<s>'] = 1 # to mark the start of a sequence\n",
    "tgt_vocab2idx_dict['</s>'] = 2 # to mark the end of a sequence\n",
    "\n",
    "i = len(tgt_vocab2idx_dict)\n",
    "for token in tgt_vocab_list:\n",
    "    tgt_vocab2idx_dict[token] = i\n",
    "    i += 1\n",
    "\n",
    "print(tgt_vocab2idx_dict)"
   ]
  },
  {
   "cell_type": "code",
   "execution_count": 16,
   "metadata": {},
   "outputs": [],
   "source": [
    "# convert vocabulary to index\n",
    "train_xs = vocab_to_index(train_xs, src_vocab2idx_dict)\n",
    "train_ys = vocab_to_index(train_ys, tgt_vocab2idx_dict)"
   ]
  },
  {
   "cell_type": "markdown",
   "metadata": {},
   "source": [
    "### Test"
   ]
  },
  {
   "cell_type": "code",
   "execution_count": 17,
   "metadata": {},
   "outputs": [],
   "source": [
    "# white space tokenization\n",
    "test_xs = white_space_tokenizer(raw_test_xs)\n",
    "test_ys = white_space_tokenizer(raw_test_ys)"
   ]
  },
  {
   "cell_type": "code",
   "execution_count": 18,
   "metadata": {},
   "outputs": [
    {
     "name": "stdout",
     "output_type": "stream",
     "text": [
      "src: ['7', '0', '9', '8', '7']\n",
      "tgt: ['7', '-', '0', '*', '9', '*', '8', '==', '7']\n",
      "src: ['9', '0', '9', '0', '0']\n",
      "tgt: ['9', '*', '0', '/', '9', '+', '0', '==', '0']\n",
      "src: ['1', '8', '0', '5', '4']\n",
      "tgt: ['1', '+', '8', '+', '0', '-', '5', '==', '4']\n",
      "src: ['9', '6', '8', '8', '3']\n",
      "tgt: ['9', '-', '6', '+', '8', '-', '8', '==', '3']\n",
      "src: ['4', '4', '4', '2', '2']\n",
      "tgt: ['4', '-', '4', '/', '4', '*', '2', '==', '2']\n",
      "src: ['6', '5', '5', '1', '7']\n",
      "tgt: ['6', '+', '5', '/', '5', '/', '1', '==', '7']\n",
      "src: ['4', '2', '2', '2', '2']\n",
      "tgt: ['4', '*', '2', '/', '2', '-', '2', '==', '2']\n",
      "src: ['4', '2', '9', '7', '4']\n",
      "tgt: ['4', '+', '2', '-', '9', '+', '7', '==', '4']\n",
      "src: ['0', '9', '6', '5', '8']\n",
      "tgt: ['0', '+', '9', '-', '6', '+', '5', '==', '8']\n",
      "src: ['6', '4', '3', '3', '5']\n",
      "tgt: ['6', '*', '4', '/', '3', '-', '3', '==', '5']\n"
     ]
    }
   ],
   "source": [
    "# take a look\n",
    "for i in range(-10, 0, 1):\n",
    "    print('src:', test_xs[i])\n",
    "    print('tgt:', test_ys[i])"
   ]
  },
  {
   "cell_type": "code",
   "execution_count": 19,
   "metadata": {},
   "outputs": [],
   "source": [
    "# convert vocabulary to index\n",
    "test_xs = vocab_to_index(test_xs, src_vocab2idx_dict)\n",
    "test_ys = vocab_to_index(test_ys, tgt_vocab2idx_dict)"
   ]
  },
  {
   "cell_type": "code",
   "execution_count": 20,
   "metadata": {},
   "outputs": [],
   "source": [
    "# combine data sets to a dict\n",
    "train_dict = {}\n",
    "train_dict['xs'] = train_xs\n",
    "train_dict['ys'] = train_ys\n",
    "\n",
    "test_dict = {}\n",
    "test_dict['xs'] = test_xs\n",
    "test_dict['ys'] = test_ys\n",
    "\n",
    "data_dict = dict()\n",
    "data_dict['train'] = train_dict\n",
    "data_dict['test'] = test_dict\n",
    "\n",
    "vocab_dict = dict()\n",
    "vocab_dict['src'] = src_vocab2idx_dict\n",
    "vocab_dict['tgt'] = tgt_vocab2idx_dict"
   ]
  },
  {
   "cell_type": "code",
   "execution_count": 21,
   "metadata": {},
   "outputs": [],
   "source": [
    "# save output as json\n",
    "data_path = os.path.join(outdir, 'data.json')\n",
    "vocab_path = os.path.join(outdir, 'vocab.json')\n",
    "\n",
    "save_json(data_path, data_dict)\n",
    "save_json(vocab_path, vocab_dict)"
   ]
  },
  {
   "cell_type": "code",
   "execution_count": null,
   "metadata": {},
   "outputs": [],
   "source": []
  }
 ],
 "metadata": {
  "kernelspec": {
   "display_name": "Python 3",
   "language": "python",
   "name": "python3"
  },
  "language_info": {
   "codemirror_mode": {
    "name": "ipython",
    "version": 3
   },
   "file_extension": ".py",
   "mimetype": "text/x-python",
   "name": "python",
   "nbconvert_exporter": "python",
   "pygments_lexer": "ipython3",
   "version": "3.7.6"
  }
 },
 "nbformat": 4,
 "nbformat_minor": 4
}
