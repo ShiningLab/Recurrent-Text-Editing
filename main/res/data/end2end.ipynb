{
 "cells": [
  {
   "cell_type": "markdown",
   "metadata": {},
   "source": [
    "# Data Preprocessing"
   ]
  },
  {
   "cell_type": "markdown",
   "metadata": {},
   "source": [
    "## End2End Moldes\n",
    "+ Naive RNN"
   ]
  },
  {
   "cell_type": "markdown",
   "metadata": {},
   "source": [
    "## Notes:"
   ]
  },
  {
   "cell_type": "code",
   "execution_count": 1,
   "metadata": {},
   "outputs": [],
   "source": [
    "#!/usr/bin/env python\n",
    "# -*- coding:utf-8 -*-\n",
    "\n",
    "__author__ = 'Shining'\n",
    "__email__ = 'mrshininnnnn@gmail.com'"
   ]
  },
  {
   "cell_type": "code",
   "execution_count": 2,
   "metadata": {},
   "outputs": [],
   "source": [
    "# dependency\n",
    "import os\n",
    "import numpy as np\n",
    "from collections import Counter\n",
    "from utils import load_txt, white_space_tokenizer"
   ]
  },
  {
   "cell_type": "code",
   "execution_count": 3,
   "metadata": {},
   "outputs": [],
   "source": [
    "# define parameters\n",
    "vocab_size = 10\n",
    "seq_len = 5\n",
    "data_size = 10000"
   ]
  },
  {
   "cell_type": "code",
   "execution_count": 4,
   "metadata": {},
   "outputs": [
    {
     "data": {
      "text/plain": [
       "'raw/vocab_size_10/seq_len_5/data_size_10000'"
      ]
     },
     "execution_count": 4,
     "metadata": {},
     "output_type": "execute_result"
    }
   ],
   "source": [
    "# load path\n",
    "indir = 'raw'\n",
    "indir = os.path.join(indir, 'vocab_size_{}'.format(vocab_size), \n",
    "                     'seq_len_{}'.format(seq_len), \n",
    "                     'data_size_{}'.format(data_size))\n",
    "indir"
   ]
  },
  {
   "cell_type": "code",
   "execution_count": 5,
   "metadata": {},
   "outputs": [
    {
     "data": {
      "text/plain": [
       "'end2end/vocab_size_10/seq_len_5/data_size_10000'"
      ]
     },
     "execution_count": 5,
     "metadata": {},
     "output_type": "execute_result"
    }
   ],
   "source": [
    "# save path\n",
    "outdir = 'end2end'\n",
    "\n",
    "outdir = os.path.join(outdir, 'vocab_size_{}'.format(vocab_size), \n",
    "                      'seq_len_{}'.format(seq_len), \n",
    "                      'data_size_{}'.format(data_size))\n",
    "if not os.path.exists(outdir): \n",
    "    os.makedirs(outdir)\n",
    "outdir"
   ]
  },
  {
   "cell_type": "code",
   "execution_count": 6,
   "metadata": {},
   "outputs": [],
   "source": [
    "# load raw dataset\n",
    "raw_xs = load_txt(os.path.join(indir, 'x.txt'))\n",
    "raw_ys = load_txt(os.path.join(indir, 'y.txt'))"
   ]
  },
  {
   "cell_type": "code",
   "execution_count": 7,
   "metadata": {},
   "outputs": [
    {
     "name": "stdout",
     "output_type": "stream",
     "text": [
      "sample size 10000\n",
      "label size 10000\n"
     ]
    }
   ],
   "source": [
    "# check data size\n",
    "print('sample size', len(raw_xs))\n",
    "print('label size', len(raw_ys))"
   ]
  },
  {
   "cell_type": "code",
   "execution_count": 8,
   "metadata": {},
   "outputs": [
    {
     "name": "stdout",
     "output_type": "stream",
     "text": [
      "10000\n",
      "10000\n"
     ]
    }
   ],
   "source": [
    "# check duplicates\n",
    "dataset = [(src, tgt) for src, tgt in zip(raw_xs, raw_ys)]\n",
    "dataset = list(set(dataset))\n",
    "xs = [src for src, _ in dataset]\n",
    "ys = [tgt for _, tgt in dataset]\n",
    "print(len(xs))\n",
    "print(len(ys))"
   ]
  },
  {
   "cell_type": "code",
   "execution_count": 9,
   "metadata": {},
   "outputs": [
    {
     "name": "stdout",
     "output_type": "stream",
     "text": [
      "input: 4 4 2 6 8\n",
      "output: 4 - 4 / 2 + 6 == 8\n",
      "\n",
      "input: 3 5 1 5 5\n",
      "output: 3 / 5 / 1 + 5 == 5\n",
      "\n",
      "input: 8 1 7 8 9\n",
      "output: 8 * 1 / 7 + 8 == 9\n",
      "\n",
      "input: 3 1 2 4 3\n",
      "output: 3 + 1 * 2 / 4 == 3\n",
      "\n",
      "input: 8 9 0 6 8\n",
      "output: 8 + 9 * 0 * 6 == 8\n",
      "\n",
      "input: 9 8 7 1 7\n",
      "output: 9 / 8 * 7 * 1 == 7\n",
      "\n",
      "input: 0 4 1 1 1\n",
      "output: 0 / 4 / 1 + 1 == 1\n",
      "\n",
      "input: 7 4 3 9 3\n",
      "output: 7 - 4 + 3 / 9 == 3\n",
      "\n",
      "input: 8 6 5 9 1\n",
      "output: 8 / 6 + 5 / 9 == 1\n",
      "\n",
      "input: 8 4 3 6 4\n",
      "output: 8 * 4 / 3 - 6 == 4\n",
      "\n"
     ]
    }
   ],
   "source": [
    "# take a look\n",
    "for i in range(-10, 0, 1):\n",
    "    x, y = xs[i], ys[i]\n",
    "    print('input:', x)\n",
    "    print('output:', y)\n",
    "    print()"
   ]
  },
  {
   "cell_type": "code",
   "execution_count": 10,
   "metadata": {},
   "outputs": [
    {
     "name": "stdout",
     "output_type": "stream",
     "text": [
      "train size 7000 7000\n",
      "valid size 1500 1500\n",
      "test size 1500 1500\n"
     ]
    }
   ],
   "source": [
    "# train test split\n",
    "dataset = np.array(dataset)\n",
    "data_size = dataset.shape[0]\n",
    "indices = np.random.permutation(data_size)\n",
    "train_size = int(0.7*data_size)\n",
    "valid_size = int(0.15*data_size)\n",
    "test_size = int(0.15*data_size)\n",
    "train_idx = indices[:train_size]\n",
    "valid_idx = indices[train_size:train_size+valid_size]\n",
    "test_idx = indices[train_size+valid_size:]\n",
    "train_set = dataset[train_idx, :]\n",
    "valid_set = dataset[valid_idx, :]\n",
    "test_set = dataset[test_idx, :]\n",
    "print('train size', train_size, train_set.shape[0])\n",
    "print('valid size', valid_size, valid_set.shape[0])\n",
    "print('test size', test_size, test_set.shape[0])"
   ]
  },
  {
   "cell_type": "markdown",
   "metadata": {},
   "source": [
    "## Training & Validation"
   ]
  },
  {
   "cell_type": "code",
   "execution_count": 11,
   "metadata": {},
   "outputs": [],
   "source": [
    "# white space tokenization\n",
    "train_valid_set = np.vstack((train_set, valid_set))\n",
    "train_valid_x = train_valid_set[:, 0].tolist()\n",
    "train_valid_y = train_valid_set[:, 1].tolist()\n",
    "train_valid_x = white_space_tokenizer(train_valid_x)\n",
    "train_valid_y = white_space_tokenizer(train_valid_y)"
   ]
  },
  {
   "cell_type": "code",
   "execution_count": 12,
   "metadata": {},
   "outputs": [
    {
     "data": {
      "text/plain": [
       "[('0', 11740),\n",
       " ('1', 9740),\n",
       " ('2', 8754),\n",
       " ('/', 8754),\n",
       " ('3', 8614),\n",
       " ('==', 8500),\n",
       " ('4', 8224),\n",
       " ('5', 8054),\n",
       " ('6', 7762),\n",
       " ('7', 7726),\n",
       " ('8', 7240),\n",
       " ('9', 7146),\n",
       " ('+', 6122),\n",
       " ('-', 5356),\n",
       " ('*', 5268)]"
      ]
     },
     "execution_count": 12,
     "metadata": {},
     "output_type": "execute_result"
    }
   ],
   "source": [
    "# srouce vocabulary frequency distribution\n",
    "train_valid_counter = Counter()\n",
    "for x in train_valid_x:\n",
    "    train_valid_counter.update(x)\n",
    "\n",
    "for y in train_valid_y:\n",
    "    train_valid_counter.update(y)\n",
    "\n",
    "train_valid_counter.most_common()"
   ]
  },
  {
   "cell_type": "code",
   "execution_count": 14,
   "metadata": {},
   "outputs": [
    {
     "data": {
      "text/plain": [
       "['*', '+', '-', '/', '0', '1', '2', '3', '4', '5', '6', '7', '8', '9', '==']"
      ]
     },
     "execution_count": 14,
     "metadata": {},
     "output_type": "execute_result"
    }
   ],
   "source": [
    "train_valid_vocab_list = sorted(train_valid_counter.keys())\n",
    "train_valid_vocab_list"
   ]
  },
  {
   "cell_type": "code",
   "execution_count": 15,
   "metadata": {},
   "outputs": [
    {
     "name": "stdout",
     "output_type": "stream",
     "text": [
      "{'<pad>': 0, '<s>': 1, '</s>': 2, '<unk>': 3, '*': 4, '+': 5, '-': 6, '/': 7, '0': 8, '1': 9, '2': 10, '3': 11, '4': 12, '5': 13, '6': 14, '7': 15, '8': 16, '9': 17, '==': 18}\n"
     ]
    }
   ],
   "source": [
    "# generate source vocabulary dictionary for train and valid\n",
    "src_vocab2idx_dict = dict()\n",
    "src_vocab2idx_dict['<pad>'] = 0 # to pad sequence length\n",
    "src_vocab2idx_dict['<s>'] = 1 # to mark the start of a sequence\n",
    "src_vocab2idx_dict['</s>'] = 2 # to mark the end of a sequence\n",
    "src_vocab2idx_dict['<unk>'] = 3 # to represent the unknow word\n",
    "\n",
    "i = len(src_vocab2idx_dict)\n",
    "for token in train_valid_vocab_list:\n",
    "    src_vocab2idx_dict[token] = i\n",
    "    i += 1\n",
    "\n",
    "print(src_vocab2idx_dict)"
   ]
  },
  {
   "cell_type": "code",
   "execution_count": null,
   "metadata": {},
   "outputs": [],
   "source": [
    "# convert vocabulary to index\n"
   ]
  }
 ],
 "metadata": {
  "kernelspec": {
   "display_name": "Python 3",
   "language": "python",
   "name": "python3"
  },
  "language_info": {
   "codemirror_mode": {
    "name": "ipython",
    "version": 3
   },
   "file_extension": ".py",
   "mimetype": "text/x-python",
   "name": "python",
   "nbconvert_exporter": "python",
   "pygments_lexer": "ipython3",
   "version": "3.7.6"
  }
 },
 "nbformat": 4,
 "nbformat_minor": 4
}
