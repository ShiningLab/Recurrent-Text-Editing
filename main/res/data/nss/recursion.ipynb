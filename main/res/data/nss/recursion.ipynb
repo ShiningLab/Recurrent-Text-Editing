{
 "cells": [
  {
   "cell_type": "markdown",
   "metadata": {},
   "source": [
    "# Data Preprocessing"
   ]
  },
  {
   "cell_type": "markdown",
   "metadata": {},
   "source": [
    "## Recursive Moldes\n",
    "+ Naive GRU RNN\n",
    "+ Naive LSTM RNN\n",
    "+ Bi-directional GRU RNN\n",
    "+ Bi-directional LSTM RNN\n",
    "+ Bi-directional GRU RNN with Attention\n",
    "+ Bi-directional LSTM RNN with Attention"
   ]
  },
  {
   "cell_type": "markdown",
   "metadata": {},
   "source": [
    "## Notes:\n",
    "+ Encoder and Decoder have separate embedding layers\n",
    "+ There are two training methods, namely, online and offline"
   ]
  },
  {
   "cell_type": "code",
   "execution_count": 291,
   "metadata": {},
   "outputs": [],
   "source": [
    "#!/usr/bin/env python\n",
    "# -*- coding:utf-8 -*-\n",
    "\n",
    "__author__ = 'Shining'\n",
    "__email__ = 'mrshininnnnn@gmail.com'"
   ]
  },
  {
   "cell_type": "code",
   "execution_count": 292,
   "metadata": {},
   "outputs": [],
   "source": [
    "# dependency\n",
    "# public\n",
    "import os\n",
    "import numpy as np\n",
    "from collections import Counter\n",
    "# private\n",
    "from utils import *"
   ]
  },
  {
   "cell_type": "code",
   "execution_count": 309,
   "metadata": {},
   "outputs": [],
   "source": [
    "# define parameters\n",
    "method = 'recursion'\n",
    "num_size = 100\n",
    "seq_len = 5\n",
    "data_size = 10000"
   ]
  },
  {
   "cell_type": "code",
   "execution_count": 310,
   "metadata": {},
   "outputs": [
    {
     "data": {
      "text/plain": [
       "'nss/num_size_100/seq_len_5/data_size_10000'"
      ]
     },
     "execution_count": 310,
     "metadata": {},
     "output_type": "execute_result"
    }
   ],
   "source": [
    "# load path\n",
    "indir = 'nss'\n",
    "indir = os.path.join(indir, \n",
    "                     'num_size_{}'.format(num_size), \n",
    "                     'seq_len_{}'.format(seq_len), \n",
    "                     'data_size_{}'.format(data_size))\n",
    "indir"
   ]
  },
  {
   "cell_type": "code",
   "execution_count": 311,
   "metadata": {},
   "outputs": [
    {
     "data": {
      "text/plain": [
       "'recursion/num_size_100/seq_len_5/data_size_10000'"
      ]
     },
     "execution_count": 311,
     "metadata": {},
     "output_type": "execute_result"
    }
   ],
   "source": [
    "# save path\n",
    "outdir = os.path.join(method, \n",
    "                      'num_size_{}'.format(num_size), \n",
    "                      'seq_len_{}'.format(seq_len), \n",
    "                      'data_size_{}'.format(data_size))\n",
    "if not os.path.exists(outdir): \n",
    "    os.makedirs(outdir)\n",
    "outdir"
   ]
  },
  {
   "cell_type": "code",
   "execution_count": 312,
   "metadata": {},
   "outputs": [],
   "source": [
    "# load raw dataset\n",
    "raw_train_xs = load_txt(os.path.join(indir, 'train_x.txt'))\n",
    "raw_train_ys = load_txt(os.path.join(indir, 'train_y.txt'))\n",
    "raw_val_xs = load_txt(os.path.join(indir, 'val_x.txt'))\n",
    "raw_val_ys = load_txt(os.path.join(indir, 'val_y.txt'))\n",
    "raw_test_xs = load_txt(os.path.join(indir, 'test_x.txt'))\n",
    "raw_test_ys = load_txt(os.path.join(indir, 'test_y.txt'))"
   ]
  },
  {
   "cell_type": "code",
   "execution_count": 313,
   "metadata": {},
   "outputs": [
    {
     "name": "stdout",
     "output_type": "stream",
     "text": [
      "train sample size 7000\n",
      "train label size 7000\n",
      "val sample size 1500\n",
      "val label size 1500\n",
      "test sample size 1500\n",
      "test label size 1500\n"
     ]
    }
   ],
   "source": [
    "# check data size\n",
    "print('train sample size', len(raw_train_xs))\n",
    "print('train label size', len(raw_train_ys))\n",
    "print('val sample size', len(raw_val_xs))\n",
    "print('val label size', len(raw_val_ys))\n",
    "print('test sample size', len(raw_test_xs))\n",
    "print('test label size', len(raw_test_ys))"
   ]
  },
  {
   "cell_type": "markdown",
   "metadata": {},
   "source": [
    "### Help Functions"
   ]
  },
  {
   "cell_type": "code",
   "execution_count": 314,
   "metadata": {},
   "outputs": [],
   "source": [
    "def convert_to_int(seq:list) -> list:\n",
    "    return [int(str_number) for str_number in seq]\n",
    "\n",
    "def convert_to_str(seq:list) -> str:\n",
    "    return [str(int_number) for int_number in seq]\n",
    "\n",
    "def gen_recursion_pair(x: str, y: str) -> (list, list):\n",
    "    # white space tokenization\n",
    "    x = convert_to_int(x.split())\n",
    "    y = convert_to_int(y.split())\n",
    "    # record observation\n",
    "    xs = [x.copy()]\n",
    "    ys_ = []\n",
    "    # process swap sort\n",
    "    while True:\n",
    "        src_idx = find_src_index_to_swap(x, y)\n",
    "        tgt_idx = find_tgt_index_to_swap(x, src_idx)\n",
    "        ys_.append([src_idx, tgt_idx])\n",
    "        if src_idx == tgt_idx == -1:\n",
    "            break\n",
    "        x[src_idx], x[tgt_idx] = x[tgt_idx], x[src_idx]\n",
    "        xs.append(x.copy())\n",
    "    \n",
    "    index = np.random.choice(range(len(xs)))\n",
    "    return convert_to_str(xs[index]), convert_to_str(ys_[index]), convert_to_str(y)\n",
    "\n",
    "def find_src_index_to_swap(x: list, y: list) -> int:\n",
    "    if x == y:\n",
    "        return -1\n",
    "    else:\n",
    "        idx_to_swap = [i for i in range(len(x)) if x[i] != y[i]][0]\n",
    "        return idx_to_swap\n",
    "    \n",
    "def find_tgt_index_to_swap(x: list, src_idx: int) -> int:\n",
    "    if src_idx == -1:\n",
    "        return -1\n",
    "    else:\n",
    "        return np.argmin(x[src_idx:]) + src_idx\n",
    "        \n",
    "def swap_sort(x):\n",
    "    i = 0\n",
    "    while True:\n",
    "        src_idx = find_src_index_to_swap(x, y)\n",
    "        tgt_idx = find_tgt_index_to_swap(x, src_idx)\n",
    "        if src_idx == tgt_idx == -1:\n",
    "            return x, i\n",
    "        x[src_idx], x[tgt_idx] = x[tgt_idx], x[src_idx]\n",
    "        i += 1"
   ]
  },
  {
   "cell_type": "code",
   "execution_count": 315,
   "metadata": {},
   "outputs": [
    {
     "data": {
      "text/plain": [
       "['20', '84', '51', '36', '40']"
      ]
     },
     "execution_count": 315,
     "metadata": {},
     "output_type": "execute_result"
    }
   ],
   "source": [
    "x = raw_train_xs[0]\n",
    "x = x.split()\n",
    "x"
   ]
  },
  {
   "cell_type": "code",
   "execution_count": 316,
   "metadata": {},
   "outputs": [
    {
     "data": {
      "text/plain": [
       "['20', '36', '40', '51', '84']"
      ]
     },
     "execution_count": 316,
     "metadata": {},
     "output_type": "execute_result"
    }
   ],
   "source": [
    "y = raw_train_ys[0]\n",
    "y = y.split()\n",
    "y"
   ]
  },
  {
   "cell_type": "code",
   "execution_count": 317,
   "metadata": {},
   "outputs": [
    {
     "data": {
      "text/plain": [
       "1"
      ]
     },
     "execution_count": 317,
     "metadata": {},
     "output_type": "execute_result"
    }
   ],
   "source": [
    "src_idx = find_src_index_to_swap(x, y)\n",
    "src_idx"
   ]
  },
  {
   "cell_type": "code",
   "execution_count": 318,
   "metadata": {},
   "outputs": [
    {
     "data": {
      "text/plain": [
       "3"
      ]
     },
     "execution_count": 318,
     "metadata": {},
     "output_type": "execute_result"
    }
   ],
   "source": [
    "tgt_idx = np.argmin(x[src_idx:]) + src_idx\n",
    "tgt_idx"
   ]
  },
  {
   "cell_type": "code",
   "execution_count": 319,
   "metadata": {},
   "outputs": [
    {
     "name": "stdout",
     "output_type": "stream",
     "text": [
      "['20', '84', '51', '36', '40']\n"
     ]
    },
    {
     "data": {
      "text/plain": [
       "['20', '36', '51', '84', '40']"
      ]
     },
     "execution_count": 319,
     "metadata": {},
     "output_type": "execute_result"
    }
   ],
   "source": [
    "print(x)\n",
    "x[src_idx], x[tgt_idx] = x[tgt_idx], x[src_idx]\n",
    "x"
   ]
  },
  {
   "cell_type": "code",
   "execution_count": 320,
   "metadata": {},
   "outputs": [
    {
     "name": "stdout",
     "output_type": "stream",
     "text": [
      "[76, 90, 69, 19, 57, 94, 61, 17, 97, 53, 22, 94, 41, 19, 74, 41, 48, 94, 40, 5]\n",
      "[5, 17, 19, 19, 22, 40, 41, 41, 48, 53, 57, 61, 69, 74, 76, 90, 94, 94, 94, 97]\n",
      "\n",
      "16\n"
     ]
    }
   ],
   "source": [
    "x = np.random.randint(100, size=20).tolist()\n",
    "print(x)\n",
    "y = np.sort(x).tolist()\n",
    "print(y)\n",
    "_, i = swap_sort(x)\n",
    "print()\n",
    "print(i)"
   ]
  },
  {
   "cell_type": "markdown",
   "metadata": {},
   "source": [
    "### Train"
   ]
  },
  {
   "cell_type": "code",
   "execution_count": 321,
   "metadata": {},
   "outputs": [],
   "source": [
    "train_xs, train_ys_, train_ys = zip(*[gen_recursion_pair(x, y) \n",
    "                                      for x, y in zip(raw_train_xs, raw_train_ys)])"
   ]
  },
  {
   "cell_type": "code",
   "execution_count": 322,
   "metadata": {},
   "outputs": [
    {
     "name": "stdout",
     "output_type": "stream",
     "text": [
      "src: ['5', '10', '23', '26', '79']\n",
      "tgt: ['5', '10', '23', '26', '79']\n",
      "pred: ['-1', '-1']\n",
      "\n",
      "src: ['6', '50', '54', '94', '91']\n",
      "tgt: ['6', '50', '54', '91', '94']\n",
      "pred: ['3', '4']\n",
      "\n",
      "src: ['1', '17', '28', '42', '65']\n",
      "tgt: ['1', '17', '28', '42', '65']\n",
      "pred: ['-1', '-1']\n",
      "\n",
      "src: ['11', '25', '26', '38', '90']\n",
      "tgt: ['11', '25', '26', '38', '90']\n",
      "pred: ['-1', '-1']\n",
      "\n",
      "src: ['30', '12', '25', '9', '37']\n",
      "tgt: ['9', '12', '25', '30', '37']\n",
      "pred: ['0', '3']\n",
      "\n",
      "src: ['6', '34', '70', '80', '99']\n",
      "tgt: ['6', '34', '70', '80', '99']\n",
      "pred: ['-1', '-1']\n",
      "\n",
      "src: ['5', '21', '30', '77', '41']\n",
      "tgt: ['5', '21', '30', '41', '77']\n",
      "pred: ['3', '4']\n",
      "\n",
      "src: ['2', '2', '67', '28', '13']\n",
      "tgt: ['2', '2', '13', '28', '67']\n",
      "pred: ['2', '4']\n",
      "\n",
      "src: ['20', '24', '70', '81', '80']\n",
      "tgt: ['20', '24', '70', '80', '81']\n",
      "pred: ['3', '4']\n",
      "\n",
      "src: ['5', '38', '64', '72', '85']\n",
      "tgt: ['5', '38', '64', '72', '85']\n",
      "pred: ['-1', '-1']\n",
      "\n"
     ]
    }
   ],
   "source": [
    "# take a look\n",
    "for i in range(-10, 0, 1):\n",
    "    print('src:', train_xs[i])\n",
    "    print('tgt:', train_ys[i])\n",
    "    print('pred:', train_ys_[i])\n",
    "    print()"
   ]
  },
  {
   "cell_type": "code",
   "execution_count": 323,
   "metadata": {},
   "outputs": [
    {
     "name": "stdout",
     "output_type": "stream",
     "text": [
      "[('29', 391), ('9', 389), ('52', 388), ('25', 386), ('55', 383), ('87', 383), ('60', 383), ('47', 379), ('84', 378), ('83', 378), ('75', 377), ('74', 377), ('59', 375), ('27', 374), ('5', 373), ('67', 371), ('20', 369), ('33', 369), ('58', 368), ('31', 365), ('41', 365), ('45', 365), ('51', 364), ('98', 364), ('37', 364), ('8', 364), ('91', 364), ('46', 363), ('81', 362), ('89', 360), ('65', 359), ('22', 358), ('57', 358), ('79', 358), ('70', 357), ('76', 356), ('71', 354), ('23', 354), ('97', 354), ('88', 354), ('49', 353), ('85', 353), ('32', 352), ('66', 352), ('15', 352), ('44', 351), ('19', 350), ('94', 350), ('28', 349), ('1', 349), ('43', 349), ('30', 349), ('17', 347), ('4', 347), ('40', 345), ('82', 345), ('26', 345), ('95', 345), ('42', 344), ('48', 343), ('56', 343), ('11', 343), ('7', 342), ('35', 342), ('54', 342), ('80', 341), ('99', 341), ('62', 341), ('18', 339), ('14', 339), ('16', 339), ('13', 338), ('96', 337), ('72', 337), ('3', 337), ('69', 336), ('36', 335), ('6', 335), ('93', 334), ('12', 334), ('38', 334), ('78', 334), ('64', 333), ('10', 333), ('90', 332), ('61', 331), ('34', 331), ('92', 331), ('21', 330), ('68', 329), ('0', 327), ('50', 324), ('63', 322), ('86', 322), ('73', 321), ('2', 320), ('24', 317), ('77', 312), ('53', 311), ('39', 308)]\n"
     ]
    }
   ],
   "source": [
    "# source vocabulary frequency distribution\n",
    "counter = Counter()\n",
    "for x in train_xs:\n",
    "    counter.update(x)\n",
    "\n",
    "print(counter.most_common())"
   ]
  },
  {
   "cell_type": "code",
   "execution_count": 324,
   "metadata": {},
   "outputs": [
    {
     "name": "stdout",
     "output_type": "stream",
     "text": [
      "['0', '1', '10', '11', '12', '13', '14', '15', '16', '17', '18', '19', '2', '20', '21', '22', '23', '24', '25', '26', '27', '28', '29', '3', '30', '31', '32', '33', '34', '35', '36', '37', '38', '39', '4', '40', '41', '42', '43', '44', '45', '46', '47', '48', '49', '5', '50', '51', '52', '53', '54', '55', '56', '57', '58', '59', '6', '60', '61', '62', '63', '64', '65', '66', '67', '68', '69', '7', '70', '71', '72', '73', '74', '75', '76', '77', '78', '79', '8', '80', '81', '82', '83', '84', '85', '86', '87', '88', '89', '9', '90', '91', '92', '93', '94', '95', '96', '97', '98', '99']\n"
     ]
    }
   ],
   "source": [
    "src_vocab_list = sorted(counter.keys())\n",
    "print(src_vocab_list)"
   ]
  },
  {
   "cell_type": "code",
   "execution_count": 325,
   "metadata": {},
   "outputs": [
    {
     "name": "stdout",
     "output_type": "stream",
     "text": [
      "{'<pad>': 0, '0': 1, '1': 2, '10': 3, '11': 4, '12': 5, '13': 6, '14': 7, '15': 8, '16': 9, '17': 10, '18': 11, '19': 12, '2': 13, '20': 14, '21': 15, '22': 16, '23': 17, '24': 18, '25': 19, '26': 20, '27': 21, '28': 22, '29': 23, '3': 24, '30': 25, '31': 26, '32': 27, '33': 28, '34': 29, '35': 30, '36': 31, '37': 32, '38': 33, '39': 34, '4': 35, '40': 36, '41': 37, '42': 38, '43': 39, '44': 40, '45': 41, '46': 42, '47': 43, '48': 44, '49': 45, '5': 46, '50': 47, '51': 48, '52': 49, '53': 50, '54': 51, '55': 52, '56': 53, '57': 54, '58': 55, '59': 56, '6': 57, '60': 58, '61': 59, '62': 60, '63': 61, '64': 62, '65': 63, '66': 64, '67': 65, '68': 66, '69': 67, '7': 68, '70': 69, '71': 70, '72': 71, '73': 72, '74': 73, '75': 74, '76': 75, '77': 76, '78': 77, '79': 78, '8': 79, '80': 80, '81': 81, '82': 82, '83': 83, '84': 84, '85': 85, '86': 86, '87': 87, '88': 88, '89': 89, '9': 90, '90': 91, '91': 92, '92': 93, '93': 94, '94': 95, '95': 96, '96': 97, '97': 98, '98': 99, '99': 100}\n"
     ]
    }
   ],
   "source": [
    "# soruce vocabulary dictionary\n",
    "src_vocab2idx_dict = dict()\n",
    "src_vocab2idx_dict['<pad>'] = 0 # to pad sequence length\n",
    "\n",
    "i = len(src_vocab2idx_dict)\n",
    "for token in src_vocab_list:\n",
    "    src_vocab2idx_dict[token] = i\n",
    "    i += 1\n",
    "\n",
    "print(src_vocab2idx_dict)"
   ]
  },
  {
   "cell_type": "code",
   "execution_count": 326,
   "metadata": {},
   "outputs": [
    {
     "name": "stdout",
     "output_type": "stream",
     "text": [
      "[('-1', 4158), ('4', 2256), ('3', 2247), ('2', 2026), ('1', 1773), ('0', 1540)]\n"
     ]
    }
   ],
   "source": [
    "# target vocabulary frequency distribution\n",
    "counter = Counter()\n",
    "for y_ in train_ys_:\n",
    "    counter.update(y_)\n",
    "\n",
    "print(counter.most_common())"
   ]
  },
  {
   "cell_type": "code",
   "execution_count": 327,
   "metadata": {},
   "outputs": [
    {
     "name": "stdout",
     "output_type": "stream",
     "text": [
      "['-1', '0', '1', '2', '3', '4']\n"
     ]
    }
   ],
   "source": [
    "tgt_vocab_list = sorted(counter.keys())\n",
    "print(tgt_vocab_list)"
   ]
  },
  {
   "cell_type": "code",
   "execution_count": 328,
   "metadata": {},
   "outputs": [
    {
     "name": "stdout",
     "output_type": "stream",
     "text": [
      "{'<pad>': 0, '<s>': 1, '-1': 2, '0': 3, '1': 4, '2': 5, '3': 6, '4': 7}\n"
     ]
    }
   ],
   "source": [
    "# target vocabulary dictionary\n",
    "tgt_vocab2idx_dict = dict()\n",
    "tgt_vocab2idx_dict['<pad>'] = 0 # to pad sequence length\n",
    "tgt_vocab2idx_dict['<s>'] = 1 # to mark the start of a sequence\n",
    "\n",
    "i = len(tgt_vocab2idx_dict)\n",
    "for token in tgt_vocab_list:\n",
    "    tgt_vocab2idx_dict[token] = i\n",
    "    i += 1\n",
    "\n",
    "print(tgt_vocab2idx_dict)"
   ]
  },
  {
   "cell_type": "markdown",
   "metadata": {},
   "source": [
    "### Val"
   ]
  },
  {
   "cell_type": "code",
   "execution_count": 329,
   "metadata": {},
   "outputs": [
    {
     "name": "stdout",
     "output_type": "stream",
     "text": [
      "src: 84 62 86 38 98\n",
      "tgt: 38 62 84 86 98\n",
      "\n",
      "src: 22 47 85 42 25\n",
      "tgt: 22 25 42 47 85\n",
      "\n",
      "src: 57 28 49 38 32\n",
      "tgt: 28 32 38 49 57\n",
      "\n",
      "src: 2 80 13 42 85\n",
      "tgt: 2 13 42 80 85\n",
      "\n",
      "src: 47 32 50 79 51\n",
      "tgt: 32 47 50 51 79\n",
      "\n",
      "src: 45 84 34 96 40\n",
      "tgt: 34 40 45 84 96\n",
      "\n",
      "src: 16 73 68 33 19\n",
      "tgt: 16 19 33 68 73\n",
      "\n",
      "src: 97 62 0 92 69\n",
      "tgt: 0 62 69 92 97\n",
      "\n",
      "src: 52 15 70 29 62\n",
      "tgt: 15 29 52 62 70\n",
      "\n",
      "src: 17 58 20 19 94\n",
      "tgt: 17 19 20 58 94\n",
      "\n"
     ]
    }
   ],
   "source": [
    "# take a look\n",
    "for i in range(-10, 0, 1):\n",
    "    print('src:', raw_val_xs[i])\n",
    "    print('tgt:', raw_val_ys[i])\n",
    "    print()"
   ]
  },
  {
   "cell_type": "code",
   "execution_count": 330,
   "metadata": {},
   "outputs": [],
   "source": [
    "# white space tokenization\n",
    "val_xs = white_space_tokenizer(raw_val_xs)\n",
    "val_ys = white_space_tokenizer(raw_val_ys)"
   ]
  },
  {
   "cell_type": "markdown",
   "metadata": {},
   "source": [
    "## Test"
   ]
  },
  {
   "cell_type": "code",
   "execution_count": 331,
   "metadata": {},
   "outputs": [
    {
     "name": "stdout",
     "output_type": "stream",
     "text": [
      "src: 5 80 0 12 24\n",
      "tgt: 0 5 12 24 80\n",
      "\n",
      "src: 34 25 38 19 37\n",
      "tgt: 19 25 34 37 38\n",
      "\n",
      "src: 10 70 76 32 26\n",
      "tgt: 10 26 32 70 76\n",
      "\n",
      "src: 13 12 44 90 79\n",
      "tgt: 12 13 44 79 90\n",
      "\n",
      "src: 81 71 24 45 26\n",
      "tgt: 24 26 45 71 81\n",
      "\n",
      "src: 20 23 25 79 76\n",
      "tgt: 20 23 25 76 79\n",
      "\n",
      "src: 62 25 24 96 52\n",
      "tgt: 24 25 52 62 96\n",
      "\n",
      "src: 74 87 51 84 50\n",
      "tgt: 50 51 74 84 87\n",
      "\n",
      "src: 85 60 2 52 24\n",
      "tgt: 2 24 52 60 85\n",
      "\n",
      "src: 68 41 64 21 44\n",
      "tgt: 21 41 44 64 68\n",
      "\n"
     ]
    }
   ],
   "source": [
    "# take a look\n",
    "for i in range(-10, 0, 1):\n",
    "    print('src:', raw_test_xs[i])\n",
    "    print('tgt:', raw_test_ys[i])\n",
    "    print()"
   ]
  },
  {
   "cell_type": "code",
   "execution_count": 332,
   "metadata": {},
   "outputs": [],
   "source": [
    "# white space tokenization\n",
    "test_xs = white_space_tokenizer(raw_test_xs)\n",
    "test_ys = white_space_tokenizer(raw_test_ys)"
   ]
  },
  {
   "cell_type": "code",
   "execution_count": 333,
   "metadata": {},
   "outputs": [],
   "source": [
    "# combine data sets to a dict\n",
    "train_dict = {}\n",
    "train_dict['xs'] = train_xs\n",
    "train_dict['ys_'] = train_ys_\n",
    "train_dict['ys'] = train_ys\n",
    "\n",
    "val_dict = {}\n",
    "val_dict['xs'] = val_xs\n",
    "val_dict['ys'] = val_ys\n",
    "\n",
    "test_dict = {}\n",
    "test_dict['xs'] = test_xs\n",
    "test_dict['ys'] = test_ys\n",
    "\n",
    "data_dict = dict()\n",
    "data_dict['train'] = train_dict\n",
    "data_dict['val'] = val_dict\n",
    "data_dict['test'] = test_dict\n",
    "\n",
    "vocab_dict = dict()\n",
    "vocab_dict['src'] = src_vocab2idx_dict\n",
    "vocab_dict['tgt'] = tgt_vocab2idx_dict"
   ]
  },
  {
   "cell_type": "code",
   "execution_count": 334,
   "metadata": {},
   "outputs": [],
   "source": [
    "# save output as json\n",
    "data_path = os.path.join(outdir, 'data.json')\n",
    "vocab_path = os.path.join(outdir, 'vocab.json')\n",
    "\n",
    "save_json(data_path, data_dict)\n",
    "save_json(vocab_path, vocab_dict)"
   ]
  },
  {
   "cell_type": "markdown",
   "metadata": {},
   "source": [
    "# Archive Code"
   ]
  },
  {
   "cell_type": "code",
   "execution_count": 23,
   "metadata": {},
   "outputs": [],
   "source": [
    "# # helper functions for bubble sort \n",
    "# def bubble_sort(seq): \n",
    "#     n = len(seq) \n",
    "#     for i in range(n): \n",
    "#         for j in range(0, n-i-1):\n",
    "#             if seq[j] > seq[j+1]: \n",
    "#                 seq[j], seq[j+1] = seq[j+1], seq[j] \n",
    "#     return seq\n",
    "\n",
    "# def find_next_step_in_bubble_sort(seq): \n",
    "#     n = len(seq) \n",
    "#     for j in range(0, n-1):\n",
    "#         if seq[j] > seq[j+1]:\n",
    "#             return j\n",
    "#     return -1\n",
    "\n",
    "# def bubble_sort_step(seq, j): \n",
    "#     # perform one bubble sort step\n",
    "#     seq[j], seq[j+1] = seq[j+1], seq[j] \n",
    "#     return seq\n",
    "\n",
    "# # ------------------------------------------\n",
    "# # test the bubble sort algo\n",
    "# seq = np.random.randint(10, size=[10,])\n",
    "# print(seq)\n",
    "# a = seq\n",
    "# # bubble_sort(a) \n",
    "# print(a)\n",
    "\n",
    "# j = 0\n",
    "# while True: \n",
    "#     j = find_next_step_in_bubble_sort(seq)\n",
    "#     print(j)\n",
    "#     if j == -1: \n",
    "#         break\n",
    "#     seq = bubble_sort_step(seq, j)\n",
    "#     print(seq)\n",
    "#     print()\n",
    "    \n",
    "# print(seq)     "
   ]
  },
  {
   "cell_type": "code",
   "execution_count": 24,
   "metadata": {},
   "outputs": [],
   "source": [
    "# # class for data generation of the Number Sequence Sorting (NSS) problem \n",
    "# class NumberSequenceSorting(): \n",
    "#     def __init__(self, seq_len, data_size, num_size):\n",
    "#         super().__init__()\n",
    "#         self.seq_len = seq_len\n",
    "#         self.data_size = data_size\n",
    "#         self.num_size = num_size \n",
    "        \n",
    "#     def find_next_step_in_bubble_sort(self, seq): \n",
    "#         n = len(seq) \n",
    "#         for j in range(0, n-1):\n",
    "#             if seq[j] > seq[j+1]:\n",
    "#                 return j\n",
    "#         return -1\n",
    "    \n",
    "#     def bubble_sort_step(self, seq, j): \n",
    "#         # perform one bubble sort step\n",
    "#         seq[j], seq[j+1] = seq[j+1], seq[j] \n",
    "#         return seq\n",
    "    \n",
    "#     def convert_to_str(self, seq:list) -> str:\n",
    "#         seq = [str(number) for number in seq]\n",
    "#         return ' '.join(seq) \n",
    "    \n",
    "#     def generate_end2end(self):\n",
    "#         # generate random number sequence sa sample\n",
    "#         # with its sorted result as label\n",
    "#         xs, ys = [], []\n",
    "#         # to filter out duplicates\n",
    "#         num_seq_set = set()\n",
    "#         for i in tqdm(range(self.data_size)):\n",
    "#             while True:\n",
    "#                 # get a random number sequence\n",
    "#                 x = np.random.randint(self.num_size, size=[self.seq_len])\n",
    "#                 # check duplicates\n",
    "#                 if str(x) in num_seq_set:\n",
    "#                     continue\n",
    "#                 else:\n",
    "#                     num_seq_set.add(str(x))\n",
    "#                     y = np.sort(x)\n",
    "#                     # convert a list of int to string\n",
    "#                     x = self.convert_to_str(x)\n",
    "#                     y = self.convert_to_str(y)\n",
    "#                     # append to dataset\n",
    "#                     xs.append(x)\n",
    "#                     ys.append(y)\n",
    "#                     break\n",
    "                    \n",
    "#         return xs, ys\n",
    "                \n",
    "#     def generate_recursive(self): \n",
    "#         xs, ys = [], []\n",
    "#         # generate random number sequences\n",
    "#         x = np.random.randint(self.num_size, size=[self.data_size, self.seq_len])\n",
    "#         xs.append(x)\n",
    "#         y = [find_next_step_in_bubble_sort(s) for s in x]\n",
    "#         ys = y.copy()\n",
    "\n",
    "#         while not all(np.equal(y, -1)):\n",
    "#             for i in range(x.shape[0]):\n",
    "#                 if y[i] != -1:\n",
    "#                     x[i] = bubble_sort_step(x[i], y[i])\n",
    "#                     y[i] = find_next_step_in_bubble_sort(x[i])\n",
    "#                     xs.append(x[i])\n",
    "#                     ys.append(y[i])\n",
    "\n",
    "#         xs = np.vstack(xs)\n",
    "#         ys = np.array(ys)\n",
    "\n",
    "#         # randomly select indices\n",
    "#         indices = np.random.choice(xs.shape[0], data_size, replace=False)\n",
    "#         xs = xs[indices]\n",
    "#         ys = ys[indices]\n",
    "\n",
    "#         return xs, ys"
   ]
  },
  {
   "cell_type": "code",
   "execution_count": 1,
   "metadata": {},
   "outputs": [],
   "source": [
    "# def find_next_step_in_bubble_sort(seq): \n",
    "#     n = len(seq) \n",
    "#     for j in range(0, n-1):\n",
    "#         if seq[j] > seq[j+1]:\n",
    "#             return j\n",
    "#     return -1\n",
    "\n",
    "# def bubble_sort_step(seq, j): \n",
    "#     # perform one bubble sort step\n",
    "#     seq[j], seq[j+1] = seq[j+1], seq[j] \n",
    "#     return seq\n",
    "    \n",
    "# def gen_recursion_pair(x: str, y: str) -> (list, list):\n",
    "#     # white space tokenization\n",
    "#     x = convert_to_int(x.split())\n",
    "#     y = y.split()\n",
    "#     # record observation\n",
    "#     xs = [x.copy()]\n",
    "#     ys_ = []\n",
    "#     # process bubble sort\n",
    "#     while True:\n",
    "#         y_ = find_next_step_in_bubble_sort(x)\n",
    "#         ys_.append(y_)\n",
    "#         if y_ == -1:\n",
    "#             break\n",
    "#         x = bubble_sort_step(x, y_)\n",
    "#         xs.append(x.copy())\n",
    "\n",
    "#     index = np.random.choice(range(len(xs)))\n",
    "#     return convert_to_str(xs[index]), [str(ys_[index])], y"
   ]
  },
  {
   "cell_type": "code",
   "execution_count": 2,
   "metadata": {},
   "outputs": [],
   "source": [
    "# def find_src_index_to_swap(x: list, y: list) -> int:\n",
    "#     if x == y:\n",
    "#         return -1\n",
    "#     else:\n",
    "#         idx_to_swap = [i for i in range(len(x)) if x[i] != y[i]][0]\n",
    "#         return idx_to_swap\n",
    "    \n",
    "# def find_tgt_index_to_swap(x: list, y: list, src_idx: int) -> int:\n",
    "#     if src_idx == -1:\n",
    "#         return -1\n",
    "#     else:\n",
    "#         tgt_num = y[src_idx]\n",
    "#         idx_to_swap = [i for i in range(len(x)) if x[i]==tgt_num][-1]\n",
    "#         return idx_to_swap\n",
    "\n",
    "# def find_src_index_to_swap(x: list, y: list) -> int:\n",
    "#     if x == y:\n",
    "#         return -1\n",
    "#     else:\n",
    "#         idx_to_swap = [i for i in range(len(x)) if x[i] != y[i]][0]\n",
    "#         return idx_to_swap\n",
    "    \n",
    "# def find_tgt_index_to_swap(x: list, y: list, src_idx: int) -> int:\n",
    "#     if src_idx == -1:\n",
    "#         return -1\n",
    "#     else:\n",
    "#         tgt_num = y[src_idx]\n",
    "#         idx_to_swap = [i for i in range(len(x)) if x[i]==tgt_num][-1]\n",
    "#         return idx_to_swap"
   ]
  },
  {
   "cell_type": "code",
   "execution_count": null,
   "metadata": {},
   "outputs": [],
   "source": []
  }
 ],
 "metadata": {
  "kernelspec": {
   "display_name": "Python 3",
   "language": "python",
   "name": "python3"
  },
  "language_info": {
   "codemirror_mode": {
    "name": "ipython",
    "version": 3
   },
   "file_extension": ".py",
   "mimetype": "text/x-python",
   "name": "python",
   "nbconvert_exporter": "python",
   "pygments_lexer": "ipython3",
   "version": "3.7.6"
  }
 },
 "nbformat": 4,
 "nbformat_minor": 4
}
