{
 "cells": [
  {
   "cell_type": "markdown",
   "metadata": {},
   "source": [
    "# Data Preprocessing"
   ]
  },
  {
   "cell_type": "code",
   "execution_count": 1,
   "metadata": {},
   "outputs": [],
   "source": [
    "#!/usr/bin/env python\n",
    "# -*- coding:utf-8 -*-\n",
    "\n",
    "__author__ = 'Shining'\n",
    "__email__ = 'mrshininnnnn@gmail.com'"
   ]
  },
  {
   "cell_type": "code",
   "execution_count": 2,
   "metadata": {},
   "outputs": [],
   "source": [
    "# dependency\n",
    "# public\n",
    "import os\n",
    "import numpy as np\n",
    "from collections import Counter\n",
    "# private\n",
    "from utils import *"
   ]
  },
  {
   "cell_type": "code",
   "execution_count": 3,
   "metadata": {},
   "outputs": [],
   "source": [
    "# define parameters\n",
    "num_size = 10\n",
    "seq_len = 5\n",
    "data_size = 10000"
   ]
  },
  {
   "cell_type": "code",
   "execution_count": 4,
   "metadata": {},
   "outputs": [
    {
     "data": {
      "text/plain": [
       "'aec/num_size_10/seq_len_5/data_size_10000'"
      ]
     },
     "execution_count": 4,
     "metadata": {},
     "output_type": "execute_result"
    }
   ],
   "source": [
    "# load path\n",
    "data_src = 'aec'\n",
    "indir = os.path.join(data_src, \n",
    "                     'num_size_{}'.format(num_size), \n",
    "                     'seq_len_{}'.format(seq_len), \n",
    "                     'data_size_{}'.format(data_size))\n",
    "indir"
   ]
  },
  {
   "cell_type": "code",
   "execution_count": 5,
   "metadata": {},
   "outputs": [
    {
     "data": {
      "text/plain": [
       "'tag/num_size_10/seq_len_5/data_size_10000'"
      ]
     },
     "execution_count": 5,
     "metadata": {},
     "output_type": "execute_result"
    }
   ],
   "source": [
    "# save path\n",
    "outdir = 'tag'\n",
    "\n",
    "outdir = os.path.join(outdir, \n",
    "                      'num_size_{}'.format(num_size), \n",
    "                      'seq_len_{}'.format(seq_len), \n",
    "                      'data_size_{}'.format(data_size))\n",
    "if not os.path.exists(outdir): \n",
    "    os.makedirs(outdir)\n",
    "outdir"
   ]
  },
  {
   "cell_type": "code",
   "execution_count": 6,
   "metadata": {},
   "outputs": [],
   "source": [
    "# load raw dataset\n",
    "raw_train_xs = load_txt(os.path.join(indir, 'train_x.txt'))\n",
    "raw_train_ys = load_txt(os.path.join(indir, 'train_y.txt'))\n",
    "raw_val_xs = load_txt(os.path.join(indir, 'val_x.txt'))\n",
    "raw_val_ys = load_txt(os.path.join(indir, 'val_y.txt'))\n",
    "raw_test_xs = load_txt(os.path.join(indir, 'test_x.txt'))\n",
    "raw_test_ys = load_txt(os.path.join(indir, 'test_y.txt'))"
   ]
  },
  {
   "cell_type": "code",
   "execution_count": 7,
   "metadata": {},
   "outputs": [
    {
     "name": "stdout",
     "output_type": "stream",
     "text": [
      "train sample size 7000\n",
      "train label size 7000\n",
      "val sample size 1500\n",
      "val label size 1500\n",
      "test sample size 1500\n",
      "test label size 1500\n"
     ]
    }
   ],
   "source": [
    "# check data size\n",
    "print('train sample size', len(raw_train_xs))\n",
    "print('train label size', len(raw_train_ys))\n",
    "print('val sample size', len(raw_val_xs))\n",
    "print('val label size', len(raw_val_ys))\n",
    "print('test sample size', len(raw_test_xs))\n",
    "print('test label size', len(raw_test_ys))"
   ]
  },
  {
   "cell_type": "markdown",
   "metadata": {},
   "source": [
    "### Helper Functions"
   ]
  },
  {
   "cell_type": "code",
   "execution_count": 27,
   "metadata": {},
   "outputs": [],
   "source": [
    "# def levenshtein_editops_list(source, target):\n",
    "#     unique_elements = sorted(set(source + target)) \n",
    "#     char_list = [chr(i) for i in range(len(unique_elements))]\n",
    "#     if len(unique_elements) > len(char_list):\n",
    "#         raise Exception(\"too many elements\")\n",
    "#     else:\n",
    "#         unique_element_map = {ele:char_list[i]  for i, ele in enumerate(unique_elements)}\n",
    "#     source_str = ''.join([unique_element_map[ele] for ele in source])\n",
    "#     target_str = ''.join([unique_element_map[ele] for ele in target])\n",
    "#     transform_list = Levenshtein.editops(source_str, target_str)\n",
    "#     return transform_list\n",
    "\n",
    "# def gen_tag_pair(x, y):\n",
    "#     x = x.split()\n",
    "#     y = y.split()\n",
    "#     editops = levenshtein_editops_list(x, y)\n",
    "#     y_ = ['<keep>'] * len(x)\n",
    "#     c = 0\n",
    "#     for tag, i, j in editops:\n",
    "#         i += c\n",
    "#         if tag == 'replace': \n",
    "#             if y_[i] != '<keep>':\n",
    "#                 y_.insert(i+1, '<sub_{}>'.format(y[j]))\n",
    "#                 c += 1\n",
    "#             else:\n",
    "#                 y_[i] = '<sub_{}>'.format(y[j])\n",
    "#         elif tag == 'delete':\n",
    "#             y_[i] = '<delete>'\n",
    "#         elif tag == 'insert': \n",
    "#             y_.insert(i, '<insert_{}>'.format(y[j]))\n",
    "#             c += 1\n",
    "#     return x, y, y_\n",
    "\n",
    "# def tag_execute(x, y_):\n",
    "#     p = []\n",
    "#     x_ = x.copy()\n",
    "#     x_token = x_.pop(0)\n",
    "#     for y_token in y_:\n",
    "#         if y_token == '<keep>':\n",
    "#             # keep token\n",
    "#             p.append(x_token)\n",
    "#             if len(x_) == 0:\n",
    "#                 break\n",
    "#             else:\n",
    "#                 x_token = x_.pop(0)\n",
    "#         elif y_token == '<delete>':\n",
    "#             # delete token\n",
    "#             if len(x_) == 0:\n",
    "#                 break\n",
    "#             else:\n",
    "#                 x_token = x_.pop(0)\n",
    "#         elif 'insert' in y_token:\n",
    "#             # insert token\n",
    "#             p.append(y_token[8:-1])\n",
    "#         elif 'sub' in y_token:\n",
    "#             # substitute token\n",
    "#             p.append(y_token[5:-1])\n",
    "#             if len(x_) == 0:\n",
    "#                 break\n",
    "#             else:\n",
    "#                 x_token = x_.pop(0)\n",
    "#         else:\n",
    "#             # end symbol or pad symbol\n",
    "#             break\n",
    "#     # return prediction\n",
    "#     return p"
   ]
  },
  {
   "cell_type": "markdown",
   "metadata": {},
   "source": [
    "### Train"
   ]
  },
  {
   "cell_type": "code",
   "execution_count": 9,
   "metadata": {},
   "outputs": [],
   "source": [
    "train_xs, train_ys, train_ys_ = zip(*[gen_tag_pair(x, y) for x, y in zip(raw_train_xs, raw_train_ys)])"
   ]
  },
  {
   "cell_type": "code",
   "execution_count": 10,
   "metadata": {},
   "outputs": [
    {
     "name": "stdout",
     "output_type": "stream",
     "text": [
      "src: ['5', '*', '7', '+', '5', '*', '4', '==', '8']\n",
      "tgt: ['5', '-', '7', '+', '5', '*', '2', '==', '8']\n",
      "pred: ['<keep>', '<sub_->', '<keep>', '<keep>', '<keep>', '<keep>', '<sub_2>', '<keep>', '<keep>']\n",
      "\n",
      "src: ['+', '+', '5', '+', '11', '+', '+', '2', '8']\n",
      "tgt: ['-', '10', '+', '5', '+', '11', '+', '2', '==', '8']\n",
      "pred: ['<insert_->', '<sub_10>', '<keep>', '<keep>', '<keep>', '<keep>', '<keep>', '<sub_2>', '<sub_==>', '<keep>']\n",
      "\n",
      "src: ['-', '10', '+', '6', '*', '4', '-', '3', '==', '11']\n",
      "tgt: ['-', '10', '+', '6', '*', '4', '-', '3', '==', '11']\n",
      "pred: ['<keep>', '<keep>', '<keep>', '<keep>', '<keep>', '<keep>', '<keep>', '<keep>', '<keep>', '<keep>']\n",
      "\n",
      "src: ['8', '+', '11', '-', '2', '-', '8', '==', '9']\n",
      "tgt: ['8', '+', '11', '-', '2', '-', '8', '==', '9']\n",
      "pred: ['<keep>', '<keep>', '<keep>', '<keep>', '<keep>', '<keep>', '<keep>', '<keep>', '<keep>']\n",
      "\n",
      "src: ['-', '+', '9', '+', '4', '==', '9']\n",
      "tgt: ['-', '2', '*', '2', '+', '9', '+', '4', '==', '9']\n",
      "pred: ['<keep>', '<insert_2>', '<insert_*>', '<insert_2>', '<keep>', '<keep>', '<keep>', '<keep>', '<keep>', '<keep>']\n",
      "\n",
      "src: ['-', '+', '7', '7', '7', '/', '9', '==', '4']\n",
      "tgt: ['-', '4', '+', '7', '+', '9', '/', '9', '==', '4']\n",
      "pred: ['<keep>', '<insert_4>', '<keep>', '<keep>', '<sub_+>', '<sub_9>', '<keep>', '<keep>', '<keep>', '<keep>']\n",
      "\n",
      "src: ['9', '+', '6', '-', '6', '6', '+', '11', '==', '7']\n",
      "tgt: ['2', '+', '6', '-', '6', '+', '5', '==', '7']\n",
      "pred: ['<sub_2>', '<keep>', '<keep>', '<keep>', '<delete>', '<keep>', '<keep>', '<sub_5>', '<keep>', '<keep>']\n",
      "\n",
      "src: ['-', '4', '+', '2', '/', '2', '+', '10', '==', '7']\n",
      "tgt: ['-', '4', '+', '2', '/', '2', '+', '10', '==', '7']\n",
      "pred: ['<keep>', '<keep>', '<keep>', '<keep>', '<keep>', '<keep>', '<keep>', '<keep>', '<keep>', '<keep>']\n",
      "\n",
      "src: ['4', '-', '6', '/', '3', '+', '2', '==', '4']\n",
      "tgt: ['4', '-', '6', '/', '3', '+', '2', '==', '4']\n",
      "pred: ['<keep>', '<keep>', '<keep>', '<keep>', '<keep>', '<keep>', '<keep>', '<keep>', '<keep>']\n",
      "\n",
      "src: ['7', '/', '2', '*', '4', '/', '2', '==', '7']\n",
      "tgt: ['7', '/', '2', '*', '4', '/', '2', '==', '7']\n",
      "pred: ['<keep>', '<keep>', '<keep>', '<keep>', '<keep>', '<keep>', '<keep>', '<keep>', '<keep>']\n",
      "\n"
     ]
    }
   ],
   "source": [
    "# take a look\n",
    "for i in range(-10, 0, 1):\n",
    "    print('src:', train_xs[i])\n",
    "    print('tgt:', train_ys[i])\n",
    "    print('pred:', train_ys_[i]) \n",
    "    print()"
   ]
  },
  {
   "cell_type": "code",
   "execution_count": 11,
   "metadata": {},
   "outputs": [
    {
     "name": "stdout",
     "output_type": "stream",
     "text": [
      "15\n",
      "[('+', 8232), ('-', 8171), ('==', 5913), ('2', 4877), ('3', 4331), ('4', 4105), ('6', 3925), ('5', 3813), ('8', 3616), ('10', 3265), ('7', 3263), ('9', 3199), ('*', 3186), ('/', 2878), ('11', 2852)]\n"
     ]
    }
   ],
   "source": [
    "# source vocabulary frequency distribution\n",
    "counter = Counter()\n",
    "for x in train_xs:\n",
    "    counter.update(x)\n",
    "\n",
    "print(len(counter))\n",
    "print(counter.most_common())"
   ]
  },
  {
   "cell_type": "code",
   "execution_count": 12,
   "metadata": {},
   "outputs": [
    {
     "name": "stdout",
     "output_type": "stream",
     "text": [
      "['*', '+', '-', '/', '10', '11', '2', '3', '4', '5', '6', '7', '8', '9', '==']\n"
     ]
    }
   ],
   "source": [
    "src_vocab_list = sorted(counter.keys())\n",
    "print(src_vocab_list)"
   ]
  },
  {
   "cell_type": "code",
   "execution_count": 13,
   "metadata": {},
   "outputs": [
    {
     "name": "stdout",
     "output_type": "stream",
     "text": [
      "{'<pad>': 0, '*': 1, '+': 2, '-': 3, '/': 4, '10': 5, '11': 6, '2': 7, '3': 8, '4': 9, '5': 10, '6': 11, '7': 12, '8': 13, '9': 14, '==': 15}\n"
     ]
    }
   ],
   "source": [
    "# soruce vocabulary dictionary\n",
    "src_vocab2idx_dict = dict()\n",
    "src_vocab2idx_dict['<pad>'] = 0 # to pad sequence length\n",
    "\n",
    "i = len(src_vocab2idx_dict)\n",
    "for token in src_vocab_list:\n",
    "    src_vocab2idx_dict[token] = i\n",
    "    i += 1\n",
    "\n",
    "print(src_vocab2idx_dict)"
   ]
  },
  {
   "cell_type": "code",
   "execution_count": 14,
   "metadata": {},
   "outputs": [
    {
     "name": "stdout",
     "output_type": "stream",
     "text": [
      "32\n",
      "[('<keep>', 56045), ('<delete>', 3702), ('<sub_+>', 936), ('<sub_->', 882), ('<sub_==>', 628), ('<insert_+>', 530), ('<insert_->', 512), ('<insert_==>', 459), ('<sub_2>', 408), ('<sub_3>', 347), ('<sub_4>', 344), ('<sub_*>', 316), ('<sub_/>', 283), ('<sub_6>', 282), ('<sub_5>', 262), ('<sub_8>', 262), ('<sub_9>', 258), ('<sub_10>', 249), ('<sub_7>', 231), ('<insert_2>', 225), ('<insert_3>', 208), ('<insert_5>', 204), ('<insert_/>', 200), ('<insert_8>', 194), ('<sub_11>', 191), ('<insert_*>', 189), ('<insert_4>', 189), ('<insert_6>', 183), ('<insert_9>', 157), ('<insert_7>', 153), ('<insert_10>', 138), ('<insert_11>', 105)]\n"
     ]
    }
   ],
   "source": [
    "# target vocabulary frequency distribution\n",
    "counter = Counter()\n",
    "for y_ in train_ys_:\n",
    "    counter.update(y_)\n",
    "\n",
    "print(len(counter))\n",
    "print(counter.most_common())"
   ]
  },
  {
   "cell_type": "code",
   "execution_count": 16,
   "metadata": {},
   "outputs": [
    {
     "name": "stdout",
     "output_type": "stream",
     "text": [
      "32\n",
      "['<delete>', '<insert_*>', '<insert_+>', '<insert_->', '<insert_/>', '<insert_10>', '<insert_11>', '<insert_2>', '<insert_3>', '<insert_4>', '<insert_5>', '<insert_6>', '<insert_7>', '<insert_8>', '<insert_9>', '<insert_==>', '<keep>', '<sub_*>', '<sub_+>', '<sub_->', '<sub_/>', '<sub_10>', '<sub_11>', '<sub_2>', '<sub_3>', '<sub_4>', '<sub_5>', '<sub_6>', '<sub_7>', '<sub_8>', '<sub_9>', '<sub_==>']\n"
     ]
    }
   ],
   "source": [
    "tgt_vocab_list = sorted(counter.keys())\n",
    "print(len(tgt_vocab_list))\n",
    "print(tgt_vocab_list)"
   ]
  },
  {
   "cell_type": "code",
   "execution_count": 17,
   "metadata": {},
   "outputs": [
    {
     "name": "stdout",
     "output_type": "stream",
     "text": [
      "{'<pad>': 0, '<s>': 1, '</s>': 2, '<delete>': 3, '<insert_*>': 4, '<insert_+>': 5, '<insert_->': 6, '<insert_/>': 7, '<insert_10>': 8, '<insert_11>': 9, '<insert_2>': 10, '<insert_3>': 11, '<insert_4>': 12, '<insert_5>': 13, '<insert_6>': 14, '<insert_7>': 15, '<insert_8>': 16, '<insert_9>': 17, '<insert_==>': 18, '<keep>': 19, '<sub_*>': 20, '<sub_+>': 21, '<sub_->': 22, '<sub_/>': 23, '<sub_10>': 24, '<sub_11>': 25, '<sub_2>': 26, '<sub_3>': 27, '<sub_4>': 28, '<sub_5>': 29, '<sub_6>': 30, '<sub_7>': 31, '<sub_8>': 32, '<sub_9>': 33, '<sub_==>': 34}\n"
     ]
    }
   ],
   "source": [
    "# target vocabulary dictionary\n",
    "tgt_vocab2idx_dict = dict()\n",
    "tgt_vocab2idx_dict['<pad>'] = 0 # to pad sequence length\n",
    "tgt_vocab2idx_dict['<s>'] = 1 # to mark the start of a sequence\n",
    "tgt_vocab2idx_dict['</s>'] = 2 # to mark the end of a sequence\n",
    "\n",
    "i = len(tgt_vocab2idx_dict)\n",
    "for token in tgt_vocab_list:\n",
    "    tgt_vocab2idx_dict[token] = i\n",
    "    i += 1\n",
    "\n",
    "print(tgt_vocab2idx_dict)"
   ]
  },
  {
   "cell_type": "markdown",
   "metadata": {},
   "source": [
    "### Val"
   ]
  },
  {
   "cell_type": "code",
   "execution_count": 18,
   "metadata": {},
   "outputs": [],
   "source": [
    "# white space tokenization\n",
    "val_xs = white_space_tokenizer(raw_val_xs)\n",
    "val_ys = white_space_tokenizer(raw_val_ys)"
   ]
  },
  {
   "cell_type": "code",
   "execution_count": 19,
   "metadata": {},
   "outputs": [
    {
     "name": "stdout",
     "output_type": "stream",
     "text": [
      "src: ['5', '/', '9', '3', '2', '/', '3']\n",
      "tgt: ['5', '/', '9', '*', '9', '-', '2', '==', '3']\n",
      "\n",
      "src: ['-', '5', '-', '4', '+', '2', '*', '10', '==', '6']\n",
      "tgt: ['-', '7', '-', '7', '+', '2', '*', '10', '==', '6']\n",
      "\n",
      "src: ['-', '+', '-', '9', '+', '6', '6', '9', '==', '2']\n",
      "tgt: ['10', '-', '9', '+', '6', '/', '6', '==', '2']\n",
      "\n",
      "src: ['8', '-', '7', '-', '6', '9', '+', '10', '==', '2']\n",
      "tgt: ['8', '-', '7', '-', '9', '+', '10', '==', '2']\n",
      "\n",
      "src: ['-', '4', '-', '*', '2', '9', '+', '8', '==', '11']\n",
      "tgt: ['-', '4', '-', '2', '+', '9', '+', '8', '==', '11']\n",
      "\n",
      "src: ['-', '8', '*', '+', '2', '+', '7', '==', '4']\n",
      "tgt: ['-', '8', '+', '3', '+', '2', '+', '7', '==', '4']\n",
      "\n",
      "src: ['8', '4', '*', '2', '-', '10', '-', '==', '11']\n",
      "tgt: ['4', '*', '6', '-', '2', '-', '11', '==', '11']\n",
      "\n",
      "src: ['3', '+', '-', '2', '-', '9', '==', '5']\n",
      "tgt: ['3', '+', '7', '-', '2', '-', '3', '==', '5']\n",
      "\n",
      "src: ['10', '8', '2', '*', '7', '-', '6', '==', '10']\n",
      "tgt: ['10', '-', '2', '+', '7', '-', '5', '==', '10']\n",
      "\n",
      "src: ['*', '9', '8', '+', '2', '*', '3', '8', '4', '==', '7']\n",
      "tgt: ['9', '+', '2', '*', '3', '-', '8', '==', '7']\n",
      "\n"
     ]
    }
   ],
   "source": [
    "# take a look\n",
    "for i in range(-10, 0, 1):\n",
    "    print('src:', val_xs[i])\n",
    "    print('tgt:', val_ys[i])\n",
    "    print()"
   ]
  },
  {
   "cell_type": "markdown",
   "metadata": {},
   "source": [
    "### Test"
   ]
  },
  {
   "cell_type": "code",
   "execution_count": 20,
   "metadata": {},
   "outputs": [],
   "source": [
    "# white space tokenization\n",
    "test_xs = white_space_tokenizer(raw_test_xs)\n",
    "test_ys = white_space_tokenizer(raw_test_ys)"
   ]
  },
  {
   "cell_type": "code",
   "execution_count": 21,
   "metadata": {},
   "outputs": [
    {
     "name": "stdout",
     "output_type": "stream",
     "text": [
      "src: ['8', '-', '11', '*', '==', '2']\n",
      "tgt: ['8', '-', '6', '/', '4', '*', '4', '==', '2']\n",
      "\n",
      "src: ['4', '-', '7', '+', '8', '8', '==', '10']\n",
      "tgt: ['4', '+', '5', '-', '7', '+', '8', '==', '10']\n",
      "\n",
      "src: ['-', '-', '8', '3', '+', '6', '4', '10', '==', '8']\n",
      "tgt: ['-', '5', '-', '3', '+', '6', '+', '10', '==', '8']\n",
      "\n",
      "src: ['8', '8', '/', '4', '-', '4', '7', '7']\n",
      "tgt: ['8', '*', '8', '/', '4', '-', '9', '==', '7']\n",
      "\n",
      "src: ['7', '/', '2', '*', '8', '2', '/', '9', '4']\n",
      "tgt: ['9', '/', '2', '*', '8', '/', '9', '==', '4']\n",
      "\n",
      "src: ['3', '*', '5', '10', '-', '9', '==', '7']\n",
      "tgt: ['3', '*', '2', '+', '10', '-', '9', '==', '7']\n",
      "\n",
      "src: ['2', '*', '4', '+', '9', '6', '-', '7', '7', '==', '3']\n",
      "tgt: ['2', '*', '2', '+', '6', '-', '7', '==', '3']\n",
      "\n",
      "src: ['-', '+', '+', '-', '3', '-', '3', '==', '7']\n",
      "tgt: ['11', '+', '2', '-', '3', '-', '3', '==', '7']\n",
      "\n",
      "src: ['4', '-', '3', '+', '+', '2', '9', '2', '+', '2', '3']\n",
      "tgt: ['-', '3', '+', '2', '+', '2', '+', '2', '==', '3']\n",
      "\n",
      "src: ['2', '/', '5', '*', '*', '5', '+', '2', '2', '==', '4']\n",
      "tgt: ['2', '/', '5', '*', '5', '+', '2', '==', '4']\n",
      "\n"
     ]
    }
   ],
   "source": [
    "# take a look\n",
    "for i in range(-10, 0, 1):\n",
    "    print('src:', test_xs[i])\n",
    "    print('tgt:', test_ys[i])\n",
    "    print()"
   ]
  },
  {
   "cell_type": "code",
   "execution_count": 22,
   "metadata": {},
   "outputs": [],
   "source": [
    "# combine data sets to a dict\n",
    "train_dict = {}\n",
    "train_dict['ys'] = train_ys\n",
    "\n",
    "val_dict = {}\n",
    "val_dict['xs'] = val_xs\n",
    "val_dict['ys'] = val_ys\n",
    "\n",
    "test_dict = {}\n",
    "test_dict['xs'] = test_xs\n",
    "test_dict['ys'] = test_ys\n",
    "\n",
    "data_dict = dict()\n",
    "data_dict['train'] = train_dict\n",
    "data_dict['val'] = val_dict\n",
    "data_dict['test'] = test_dict\n",
    "\n",
    "vocab_dict = dict()\n",
    "vocab_dict['src'] = src_vocab2idx_dict\n",
    "vocab_dict['tgt'] = tgt_vocab2idx_dict"
   ]
  },
  {
   "cell_type": "code",
   "execution_count": 23,
   "metadata": {},
   "outputs": [],
   "source": [
    "# save output as json\n",
    "data_path = os.path.join(outdir, 'data.json')\n",
    "vocab_path = os.path.join(outdir, 'vocab.json')\n",
    "\n",
    "save_json(data_path, data_dict)\n",
    "save_json(vocab_path, vocab_dict)"
   ]
  },
  {
   "cell_type": "markdown",
   "metadata": {},
   "source": [
    "## Archive Code"
   ]
  },
  {
   "cell_type": "code",
   "execution_count": 9,
   "metadata": {},
   "outputs": [],
   "source": [
    "# def levenshtein_editops_list(source, target):\n",
    "#     unique_elements = sorted(set(source + target)) \n",
    "#     char_list = [chr(i) for i in range(len(unique_elements))]\n",
    "#     if len(unique_elements) > len(char_list):\n",
    "#         raise Exception(\"too many elements\")\n",
    "#     else:\n",
    "#         unique_element_map = {ele:char_list[i]  for i, ele in enumerate(unique_elements)}\n",
    "#     source_str = ''.join([unique_element_map[ele] for ele in source])\n",
    "#     target_str = ''.join([unique_element_map[ele] for ele in target])\n",
    "#     transform_list = Levenshtein.editops(source_str, target_str)\n",
    "#     return transform_list\n",
    "\n",
    "# def gen_tag_pair(x, y):\n",
    "#     x = x.split()\n",
    "#     y = y.split()\n",
    "#     editops = levenshtein_editops_list(x, y)\n",
    "#     y_ = ['<keep>'] * len(x)\n",
    "#     c = 0\n",
    "#     for tag, i, j in editops:\n",
    "#         i += c\n",
    "#         if tag == 'replace': \n",
    "#             if y_[i] != '<keep>':\n",
    "#                 y_.insert(i+1, '<sub_{}>'.format(y[j]))\n",
    "#                 c += 1\n",
    "#             else:\n",
    "#                 y_[i] = '<sub_{}>'.format(y[j])\n",
    "#         elif tag == 'delete':\n",
    "#             y_[i] = '<delete>'\n",
    "#         elif tag == 'insert': \n",
    "#             y_.insert(i, '<insert_{}>'.format(y[j]))\n",
    "#             c += 1\n",
    "#     return x, y, y_\n",
    "\n",
    "# def tag_execute(x, y_):\n",
    "#     p = []\n",
    "#     x_ = x.copy()\n",
    "#     x_token = x_.pop(0)\n",
    "#     for y_token in y_:\n",
    "#         if y_token == '<keep>':\n",
    "#             # keep token\n",
    "#             p.append(x_token)\n",
    "#             if len(x_) == 0:\n",
    "#                 break\n",
    "#             else:\n",
    "#                 x_token = x_.pop(0)\n",
    "#         elif y_token == '<delete>':\n",
    "#             # delete token\n",
    "#             if len(x_) == 0:\n",
    "#                 break\n",
    "#             else:\n",
    "#                 x_token = x_.pop(0)\n",
    "#         elif 'insert' in y_token:\n",
    "#             # insert token\n",
    "#             p.append(y_token[8:-1])\n",
    "#         elif 'sub' in y_token:\n",
    "#             # substitute token\n",
    "#             p.append(y_token[5:-1])\n",
    "#             if len(x_) == 0:\n",
    "#                 break\n",
    "#             else:\n",
    "#                 x_token = x_.pop(0)\n",
    "#         else:\n",
    "#             # end symbol or pad symbol\n",
    "#             break\n",
    "#     # return prediction\n",
    "#     return p"
   ]
  }
 ],
 "metadata": {
  "kernelspec": {
   "display_name": "Python 3",
   "language": "python",
   "name": "python3"
  },
  "language_info": {
   "codemirror_mode": {
    "name": "ipython",
    "version": 3
   },
   "file_extension": ".py",
   "mimetype": "text/x-python",
   "name": "python",
   "nbconvert_exporter": "python",
   "pygments_lexer": "ipython3",
   "version": "3.7.6"
  }
 },
 "nbformat": 4,
 "nbformat_minor": 4
}
