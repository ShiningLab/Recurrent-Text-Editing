{
 "cells": [
  {
   "cell_type": "markdown",
   "metadata": {},
   "source": [
    "# Data Preprocessing"
   ]
  },
  {
   "cell_type": "code",
   "execution_count": 39,
   "metadata": {},
   "outputs": [],
   "source": [
    "#!/usr/bin/env python\n",
    "# -*- coding:utf-8 -*-\n",
    "\n",
    "__author__ = 'Shining'\n",
    "__email__ = 'mrshininnnnn@gmail.com'"
   ]
  },
  {
   "cell_type": "code",
   "execution_count": 40,
   "metadata": {},
   "outputs": [],
   "source": [
    "# dependency\n",
    "# public\n",
    "import os\n",
    "import numpy as np\n",
    "import Levenshtein\n",
    "from collections import Counter\n",
    "# private\n",
    "from utils import *"
   ]
  },
  {
   "cell_type": "code",
   "execution_count": 41,
   "metadata": {},
   "outputs": [],
   "source": [
    "# define parameters\n",
    "method = 'rec'\n",
    "num_size = 10\n",
    "seq_len = 5\n",
    "data_size = 10000"
   ]
  },
  {
   "cell_type": "code",
   "execution_count": 42,
   "metadata": {},
   "outputs": [
    {
     "data": {
      "text/plain": [
       "'aec/num_size_10/seq_len_5/data_size_10000'"
      ]
     },
     "execution_count": 42,
     "metadata": {},
     "output_type": "execute_result"
    }
   ],
   "source": [
    "# load path\n",
    "indir = 'aec'\n",
    "indir = os.path.join(indir, \n",
    "                     'num_size_{}'.format(num_size), \n",
    "                     'seq_len_{}'.format(seq_len), \n",
    "                     'data_size_{}'.format(data_size))\n",
    "indir"
   ]
  },
  {
   "cell_type": "code",
   "execution_count": 43,
   "metadata": {},
   "outputs": [
    {
     "data": {
      "text/plain": [
       "'rec/num_size_10/seq_len_5/data_size_10000'"
      ]
     },
     "execution_count": 43,
     "metadata": {},
     "output_type": "execute_result"
    }
   ],
   "source": [
    "# save path\n",
    "outdir = os.path.join(method, \n",
    "                      'num_size_{}'.format(num_size), \n",
    "                      'seq_len_{}'.format(seq_len), \n",
    "                      'data_size_{}'.format(data_size))\n",
    "if not os.path.exists(outdir): \n",
    "    os.makedirs(outdir)\n",
    "outdir"
   ]
  },
  {
   "cell_type": "code",
   "execution_count": 44,
   "metadata": {},
   "outputs": [],
   "source": [
    "# load raw dataset\n",
    "raw_train_xs = load_txt(os.path.join(indir, 'train_x.txt'))\n",
    "raw_train_ys = load_txt(os.path.join(indir, 'train_y.txt'))\n",
    "raw_val_xs = load_txt(os.path.join(indir, 'val_x.txt'))\n",
    "raw_val_ys = load_txt(os.path.join(indir, 'val_y.txt'))\n",
    "raw_test_xs = load_txt(os.path.join(indir, 'test_x.txt'))\n",
    "raw_test_ys = load_txt(os.path.join(indir, 'test_y.txt'))"
   ]
  },
  {
   "cell_type": "code",
   "execution_count": 45,
   "metadata": {},
   "outputs": [
    {
     "name": "stdout",
     "output_type": "stream",
     "text": [
      "train sample size 7000\n",
      "train label size 7000\n",
      "val sample size 1500\n",
      "val label size 1500\n",
      "test sample size 1500\n",
      "test label size 1500\n"
     ]
    }
   ],
   "source": [
    "# check data size\n",
    "print('train sample size', len(raw_train_xs))\n",
    "print('train label size', len(raw_train_ys))\n",
    "print('val sample size', len(raw_val_xs))\n",
    "print('val label size', len(raw_val_ys))\n",
    "print('test sample size', len(raw_test_xs))\n",
    "print('test label size', len(raw_test_ys))"
   ]
  },
  {
   "cell_type": "code",
   "execution_count": 46,
   "metadata": {},
   "outputs": [
    {
     "data": {
      "text/plain": [
       "0.26557142857142857"
      ]
     },
     "execution_count": 46,
     "metadata": {},
     "output_type": "execute_result"
    }
   ],
   "source": [
    "(np.array(raw_train_xs) == np.array(raw_train_ys)).sum()/len(raw_train_xs)"
   ]
  },
  {
   "cell_type": "markdown",
   "metadata": {},
   "source": [
    "### Helper Functions"
   ]
  },
  {
   "cell_type": "code",
   "execution_count": 47,
   "metadata": {},
   "outputs": [],
   "source": [
    "# def levenshtein_editops_list(source, target):\n",
    "#     unique_elements = sorted(set(source + target)) \n",
    "#     char_list = [chr(i) for i in range(len(unique_elements))]\n",
    "#     if len(unique_elements) > len(char_list):\n",
    "#         raise Exception(\"too many elements\")\n",
    "#     else:\n",
    "#         unique_element_map = {ele:char_list[i]  for i, ele in enumerate(unique_elements)}\n",
    "#     source_str = ''.join([unique_element_map[ele] for ele in source])\n",
    "#     target_str = ''.join([unique_element_map[ele] for ele in target])\n",
    "#     transform_list = Levenshtein.editops(source_str, target_str)\n",
    "#     return transform_list\n",
    "\n",
    "# def gen_rec_pair(x: list, y: list) -> list:\n",
    "#     # white space tokenization\n",
    "#     x = x.split()\n",
    "#     y = y.split()\n",
    "#     xs = [x.copy()]\n",
    "#     ys_ = []\n",
    "#     editops = levenshtein_editops_list(x, y)\n",
    "#     if len(editops) == 0: \n",
    "#         y_ = ['<done>']*3 \n",
    "#     else:\n",
    "#         c = 0 \n",
    "#         for tag, i, j in editops: \n",
    "#             i += c\n",
    "#             if tag == 'replace':\n",
    "#                 y_ = ['<sub>', '<pos_{}>'.format(i), y[j]]\n",
    "#                 x[i] = y[j]\n",
    "#             elif tag == 'delete': \n",
    "#                 y_ = ['<delete>', '<pos_{}>'.format(i), '<done>']\n",
    "#                 del x[i]\n",
    "#                 c -= 1\n",
    "#             elif tag == 'insert': \n",
    "#                 y_ = ['<insert>', '<pos_{}>'.format(i), y[j]]\n",
    "#                 x.insert(i, y[j]) \n",
    "#                 c += 1\n",
    "#             xs.append(x.copy()) \n",
    "#             ys_.append(y_)\n",
    "#         # ys_.append(['<done>']*3)\n",
    "#         index = np.random.choice(range(len(xs)-1))\n",
    "#         x = xs[index]\n",
    "#         y_ = ys_[index]\n",
    "#     return x, y_, y"
   ]
  },
  {
   "cell_type": "markdown",
   "metadata": {},
   "source": [
    "### Train"
   ]
  },
  {
   "cell_type": "code",
   "execution_count": 48,
   "metadata": {},
   "outputs": [],
   "source": [
    "train_xs, train_ys_, train_ys = zip(*[gen_rec_pair(x, y) for x, y in zip(raw_train_xs, raw_train_ys)])"
   ]
  },
  {
   "cell_type": "code",
   "execution_count": 49,
   "metadata": {},
   "outputs": [
    {
     "name": "stdout",
     "output_type": "stream",
     "text": [
      "src: ['10', '-', '5', '+', '5', '-', '6', '5', '4']\n",
      "tgt: ['10', '-', '5', '+', '5', '-', '6', '==', '4']\n",
      "pred: ['<sub>', '<pos_7>', '==']\n",
      "\n",
      "src: ['2', '*', '3', '*', '-', '/', '2', '6']\n",
      "tgt: ['2', '*', '3', '*', '2', '/', '2', '==', '6']\n",
      "pred: ['<sub>', '<pos_4>', '2']\n",
      "\n",
      "src: ['6', '*', '3', '/', '6', '+', '7', '==', '10']\n",
      "tgt: ['6', '*', '3', '/', '6', '+', '7', '==', '10']\n",
      "pred: ['<done>', '<done>', '<done>']\n",
      "\n",
      "src: ['6', '/', '2', '*', '3', '-', '4', '==', '5']\n",
      "tgt: ['6', '/', '2', '*', '3', '-', '4', '==', '5']\n",
      "pred: ['<done>', '<done>', '<done>']\n",
      "\n",
      "src: ['7', '-', '3', '*', '3', '+', '4', '==', '2']\n",
      "tgt: ['7', '-', '3', '*', '3', '+', '4', '==', '2']\n",
      "pred: ['<done>', '<done>', '<done>']\n",
      "\n",
      "src: ['3', '/', '3', '/', '7', '-', '5', '==', '3']\n",
      "tgt: ['3', '/', '3', '+', '7', '-', '5', '==', '3']\n",
      "pred: ['<sub>', '<pos_3>', '+']\n",
      "\n",
      "src: ['3', '+', '11', '-', '10', '*', '4', '==', '2']\n",
      "tgt: ['3', '+', '11', '-', '3', '*', '4', '==', '2']\n",
      "pred: ['<sub>', '<pos_4>', '3']\n",
      "\n",
      "src: ['7', '*', '8', '/', '4', '2', '-', '==', '6']\n",
      "tgt: ['7', '*', '8', '/', '4', '-', '8', '==', '6']\n",
      "pred: ['<sub>', '<pos_5>', '-']\n",
      "\n",
      "src: ['-', '8', '/', '+', '3', '+', '2', '==', '3']\n",
      "tgt: ['-', '8', '/', '4', '+', '3', '+', '2', '==', '3']\n",
      "pred: ['<insert>', '<pos_3>', '4']\n",
      "\n",
      "src: ['9', '7', '7', '+', '10', '-', '9', '==', '2']\n",
      "tgt: ['7', '/', '7', '+', '10', '-', '9', '==', '2']\n",
      "pred: ['<sub>', '<pos_0>', '7']\n",
      "\n"
     ]
    }
   ],
   "source": [
    "# take a look\n",
    "for i in range(10, 20):\n",
    "    print('src:', train_xs[i])\n",
    "    print('tgt:', train_ys[i])\n",
    "    print('pred:', train_ys_[i])\n",
    "    print()"
   ]
  },
  {
   "cell_type": "code",
   "execution_count": 50,
   "metadata": {},
   "outputs": [
    {
     "data": {
      "text/plain": [
       "0.26557142857142857"
      ]
     },
     "execution_count": 50,
     "metadata": {},
     "output_type": "execute_result"
    }
   ],
   "source": [
    "sum([y_ == ['<done>', '<done>', '<done>'] for y_ in train_ys_])/len(train_ys_)"
   ]
  },
  {
   "cell_type": "code",
   "execution_count": 51,
   "metadata": {},
   "outputs": [
    {
     "name": "stdout",
     "output_type": "stream",
     "text": [
      "15\n",
      "[('+', 8506), ('-', 8414), ('==', 6165), ('2', 5029), ('3', 4232), ('4', 4115), ('6', 3714), ('5', 3676), ('8', 3375), ('*', 3207), ('9', 3207), ('10', 3136), ('7', 3135), ('/', 2929), ('11', 2671)]\n"
     ]
    }
   ],
   "source": [
    "# source vocabulary frequency distribution\n",
    "counter = Counter()\n",
    "for x in train_xs:\n",
    "    counter.update(x)\n",
    "\n",
    "print(len(counter))\n",
    "print(counter.most_common())"
   ]
  },
  {
   "cell_type": "code",
   "execution_count": 52,
   "metadata": {},
   "outputs": [
    {
     "name": "stdout",
     "output_type": "stream",
     "text": [
      "['*', '+', '-', '/', '10', '11', '2', '3', '4', '5', '6', '7', '8', '9', '==']\n"
     ]
    }
   ],
   "source": [
    "src_vocab_list = sorted(counter.keys())\n",
    "print(src_vocab_list)"
   ]
  },
  {
   "cell_type": "code",
   "execution_count": 53,
   "metadata": {},
   "outputs": [
    {
     "name": "stdout",
     "output_type": "stream",
     "text": [
      "{'<pad>': 0, '*': 1, '+': 2, '-': 3, '/': 4, '10': 5, '11': 6, '2': 7, '3': 8, '4': 9, '5': 10, '6': 11, '7': 12, '8': 13, '9': 14, '==': 15}\n"
     ]
    }
   ],
   "source": [
    "# soruce vocabulary dictionary\n",
    "src_vocab2idx_dict = dict()\n",
    "src_vocab2idx_dict['<pad>'] = 0 # to pad sequence length\n",
    "\n",
    "i = len(src_vocab2idx_dict)\n",
    "for token in src_vocab_list:\n",
    "    src_vocab2idx_dict[token] = i\n",
    "    i += 1\n",
    "\n",
    "print(src_vocab2idx_dict)"
   ]
  },
  {
   "cell_type": "code",
   "execution_count": 54,
   "metadata": {},
   "outputs": [
    {
     "name": "stdout",
     "output_type": "stream",
     "text": [
      "29\n",
      "[('<done>', 5577), ('<sub>', 2019), ('<delete>', 1580), ('<insert>', 1542), ('<pos_3>', 876), ('<pos_4>', 847), ('<pos_0>', 836), ('<pos_5>', 792), ('<pos_2>', 780), ('<pos_6>', 775), ('<pos_7>', 772), ('<pos_1>', 749), ('+', 527), ('-', 509), ('==', 451), ('<pos_8>', 293), ('2', 224), ('*', 206), ('3', 205), ('5', 194), ('/', 192), ('4', 187), ('6', 185), ('8', 167), ('10', 163), ('7', 121), ('9', 119), ('11', 111), ('<pos_9>', 1)]\n"
     ]
    }
   ],
   "source": [
    "# target vocabulary frequency distribution\n",
    "counter = Counter()\n",
    "for y_ in train_ys_:\n",
    "    counter.update(y_)\n",
    "\n",
    "print(len(counter))\n",
    "print(counter.most_common())"
   ]
  },
  {
   "cell_type": "code",
   "execution_count": 109,
   "metadata": {},
   "outputs": [
    {
     "name": "stdout",
     "output_type": "stream",
     "text": [
      "['*', '+', '-', '/', '10', '11', '2', '3', '4', '5', '6', '7', '8', '9', '<done>', '<insert>', '<pos_0>', '<pos_1>', '<pos_2>', '<pos_3>', '<pos_4>', '<pos_5>', '<pos_6>', '<pos_7>', '<pos_8>', '<pos_9>', '==']\n"
     ]
    }
   ],
   "source": [
    "tgt_vocab_list = list(counter.keys())\n",
    "for i in range(seq_len*2): \n",
    "    if '<pos_{}>'.format(i) not in tgt_vocab_list:\n",
    "        tgt_vocab_list.append('<pos_{}>'.format(i))\n",
    "tgt_vocab_list.sort()\n",
    "print(tgt_vocab_list)"
   ]
  },
  {
   "cell_type": "code",
   "execution_count": 110,
   "metadata": {},
   "outputs": [
    {
     "name": "stdout",
     "output_type": "stream",
     "text": [
      "{'<pad>': 0, '<s>': 1, '*': 2, '+': 3, '-': 4, '/': 5, '10': 6, '11': 7, '2': 8, '3': 9, '4': 10, '5': 11, '6': 12, '7': 13, '8': 14, '9': 15, '<done>': 16, '<insert>': 17, '<pos_0>': 18, '<pos_1>': 19, '<pos_2>': 20, '<pos_3>': 21, '<pos_4>': 22, '<pos_5>': 23, '<pos_6>': 24, '<pos_7>': 25, '<pos_8>': 26, '<pos_9>': 27, '==': 28}\n"
     ]
    }
   ],
   "source": [
    "# target vocabulary dictionary\n",
    "tgt_vocab2idx_dict = dict()\n",
    "tgt_vocab2idx_dict['<pad>'] = 0 # to pad sequence length\n",
    "tgt_vocab2idx_dict['<s>'] = 1 # to mark the start of a sequence\n",
    "\n",
    "i = len(tgt_vocab2idx_dict)\n",
    "for token in tgt_vocab_list:\n",
    "    tgt_vocab2idx_dict[token] = i\n",
    "    i += 1\n",
    "\n",
    "print(tgt_vocab2idx_dict)"
   ]
  },
  {
   "cell_type": "markdown",
   "metadata": {},
   "source": [
    "### Val"
   ]
  },
  {
   "cell_type": "code",
   "execution_count": 111,
   "metadata": {},
   "outputs": [],
   "source": [
    "# white space tokenization\n",
    "val_xs = white_space_tokenizer(raw_val_xs)\n",
    "val_ys = white_space_tokenizer(raw_val_ys)"
   ]
  },
  {
   "cell_type": "code",
   "execution_count": 112,
   "metadata": {},
   "outputs": [
    {
     "name": "stdout",
     "output_type": "stream",
     "text": [
      "src: ['-', '4', '*', '7', '/', '7', '+', '10', '==', '6']\n",
      "tgt: ['-', '4', '*', '7', '/', '7', '+', '10', '==', '6']\n",
      "\n",
      "src: ['6', '/', '7', '+', '8', '/', '7', '==', '2']\n",
      "tgt: ['6', '/', '7', '+', '8', '/', '7', '==', '2']\n",
      "\n",
      "src: ['3', '+', '4', '/', '4', '+', '3', '7']\n",
      "tgt: ['3', '+', '4', '/', '4', '+', '3', '==', '7']\n",
      "\n",
      "src: ['2', '/', '4', '+', '10', '/', '4', '==', '3']\n",
      "tgt: ['2', '/', '4', '+', '10', '/', '4', '==', '3']\n",
      "\n",
      "src: ['4', '+', '5', '4', '/', '2', '==', '11']\n",
      "tgt: ['4', '+', '5', '+', '4', '/', '2', '==', '11']\n",
      "\n",
      "src: ['3', '*', '4', '-', '6', '/', '2', '==', '9']\n",
      "tgt: ['3', '*', '4', '-', '6', '/', '2', '==', '9']\n",
      "\n",
      "src: ['-', '5', '/', '10', '*', '2', '+', '==', '10']\n",
      "tgt: ['-', '5', '/', '10', '*', '2', '+', '11', '==', '10']\n",
      "\n",
      "src: ['-', '6', '+', '9', '+', '4', '2', '==', '5']\n",
      "tgt: ['-', '6', '+', '9', '+', '4', '/', '2', '==', '5']\n",
      "\n",
      "src: ['4', '+', '6', '*', '8', '/', '8', '==', '10']\n",
      "tgt: ['4', '+', '6', '*', '8', '/', '8', '==', '10']\n",
      "\n",
      "src: ['-', '10', '5', '+', '3', '*', '4', '==', '10']\n",
      "tgt: ['-', '10', '/', '5', '+', '3', '*', '4', '==', '10']\n",
      "\n"
     ]
    }
   ],
   "source": [
    "# take a look\n",
    "for i in range(-10, 0, 1):\n",
    "    print('src:', val_xs[i])\n",
    "    print('tgt:', val_ys[i])\n",
    "    print()"
   ]
  },
  {
   "cell_type": "markdown",
   "metadata": {},
   "source": [
    "## Test"
   ]
  },
  {
   "cell_type": "code",
   "execution_count": 113,
   "metadata": {},
   "outputs": [],
   "source": [
    "# white space tokenization\n",
    "test_xs = white_space_tokenizer(raw_test_xs)\n",
    "test_ys = white_space_tokenizer(raw_test_ys)"
   ]
  },
  {
   "cell_type": "code",
   "execution_count": 114,
   "metadata": {},
   "outputs": [
    {
     "name": "stdout",
     "output_type": "stream",
     "text": [
      "src: ['10', '/', '3', '*', '6', '/', '10', '2']\n",
      "tgt: ['10', '/', '3', '*', '6', '/', '10', '==', '2']\n",
      "\n",
      "src: ['10', '+', '2', '-', '9', '/', '3', '==', '9']\n",
      "tgt: ['10', '+', '2', '-', '9', '/', '3', '==', '9']\n",
      "\n",
      "src: ['4', '-', '4', '-', '5', '+', '11', '==', '6']\n",
      "tgt: ['4', '-', '4', '-', '5', '+', '11', '==', '6']\n",
      "\n",
      "src: ['-', '2', '*', '5', '/', '5', '+', '7', '==', '5']\n",
      "tgt: ['-', '2', '*', '5', '/', '5', '+', '7', '==', '5']\n",
      "\n",
      "src: ['9', '-', '9', '+', '3', '+', '3', '==', '6']\n",
      "tgt: ['9', '-', '9', '+', '3', '+', '3', '==', '6']\n",
      "\n",
      "src: ['8', '+', '3', '+', '10', '-', '11', '==', '10']\n",
      "tgt: ['8', '+', '3', '+', '10', '-', '11', '==', '10']\n",
      "\n",
      "src: ['-', '2', '+', '+', '9', '-', '4', '==', '9']\n",
      "tgt: ['-', '2', '+', '6', '+', '9', '-', '4', '==', '9']\n",
      "\n",
      "src: ['-', '5', '*', '2', '/', '2', '+', '11', '==', '6']\n",
      "tgt: ['-', '5', '*', '2', '/', '2', '+', '11', '==', '6']\n",
      "\n",
      "src: ['-', '2', '+', '10', '-', '7', '+', '10', '==', '11']\n",
      "tgt: ['-', '2', '+', '10', '-', '7', '+', '10', '==', '11']\n",
      "\n",
      "src: ['8', '-', '5', '/', '10', '8', '==', '4']\n",
      "tgt: ['8', '-', '5', '/', '10', '*', '8', '==', '4']\n",
      "\n"
     ]
    }
   ],
   "source": [
    "# take a look\n",
    "for i in range(-10, 0, 1):\n",
    "    print('src:', test_xs[i])\n",
    "    print('tgt:', test_ys[i])\n",
    "    print()"
   ]
  },
  {
   "cell_type": "code",
   "execution_count": 115,
   "metadata": {},
   "outputs": [],
   "source": [
    "# combine data sets to a dict\n",
    "train_dict = {}\n",
    "train_dict['ys'] = train_ys\n",
    "\n",
    "val_dict = {}\n",
    "val_dict['xs'] = val_xs\n",
    "val_dict['ys'] = val_ys\n",
    "\n",
    "test_dict = {}\n",
    "test_dict['xs'] = test_xs\n",
    "test_dict['ys'] = test_ys\n",
    "\n",
    "data_dict = dict()\n",
    "data_dict['train'] = train_dict\n",
    "data_dict['val'] = val_dict\n",
    "data_dict['test'] = test_dict\n",
    "\n",
    "vocab_dict = dict()\n",
    "vocab_dict['src'] = src_vocab2idx_dict\n",
    "vocab_dict['tgt'] = tgt_vocab2idx_dict"
   ]
  },
  {
   "cell_type": "code",
   "execution_count": 116,
   "metadata": {},
   "outputs": [],
   "source": [
    "# save output as json\n",
    "data_path = os.path.join(outdir, 'data.json')\n",
    "vocab_path = os.path.join(outdir, 'vocab.json')\n",
    "\n",
    "save_json(data_path, data_dict)\n",
    "save_json(vocab_path, vocab_dict)"
   ]
  },
  {
   "cell_type": "markdown",
   "metadata": {},
   "source": [
    "# Archive Code"
   ]
  },
  {
   "cell_type": "code",
   "execution_count": 87,
   "metadata": {},
   "outputs": [
    {
     "name": "stdout",
     "output_type": "stream",
     "text": [
      "['-', '3', '+', '11', '-', '8', '+', '9', '==', '9']\n",
      "['-', '3', '+', '11', '-', '8', '+', '9', '==', '9']\n",
      "\n"
     ]
    }
   ],
   "source": [
    "raw_train_xs = load_txt(os.path.join(indir, 'train_x.txt')) \n",
    "raw_train_ys = load_txt(os.path.join(indir, 'train_y.txt'))\n",
    "x = raw_train_xs[4]\n",
    "y = raw_train_ys[4]\n",
    "x = x.split()\n",
    "y = y.split()\n",
    "print(x)\n",
    "print(y)\n",
    "print()"
   ]
  },
  {
   "cell_type": "code",
   "execution_count": 88,
   "metadata": {},
   "outputs": [],
   "source": [
    "import Levenshtein \n",
    "\n",
    "def levenshtein_editops_list(source, target):\n",
    "    unique_elements = sorted(set(source + target)) \n",
    "    char_list = [chr(i) for i in range(len(unique_elements))]\n",
    "    if len(unique_elements) > len(char_list):\n",
    "        raise Exception(\"too many elements\")\n",
    "    else:\n",
    "        unique_element_map = {ele:char_list[i]  for i, ele in enumerate(unique_elements)}\n",
    "    source_str = ''.join([unique_element_map[ele] for ele in source])\n",
    "    target_str = ''.join([unique_element_map[ele] for ele in target])\n",
    "    transform_list = Levenshtein.editops(source_str, target_str)\n",
    "    return transform_list\n",
    "\n",
    "for i in range(7000):\n",
    "\n",
    "    x = raw_train_xs[i]\n",
    "    y = raw_train_ys[i]\n",
    "    x = x.split()\n",
    "    y = y.split()\n",
    "#     print('src', x)\n",
    "#     print('tgt', y)\n",
    "\n",
    "    editops = levenshtein_editops_list(x, y)\n",
    "    c = 0\n",
    "    for tag, i, j in editops: \n",
    "        i += c\n",
    "#         print(tag, i, j)\n",
    "        if tag == 'replace':\n",
    "            x[i] = y[j]\n",
    "        elif tag == 'delete':\n",
    "            del x[i]\n",
    "            c -= 1\n",
    "        elif tag == 'insert':\n",
    "            x.insert(i, y[j]) \n",
    "            c += 1\n",
    "    if x != y: \n",
    "        print(i)\n",
    "        print('src', x)\n",
    "        print('tgt', y)\n",
    "        break"
   ]
  },
  {
   "cell_type": "code",
   "execution_count": 89,
   "metadata": {},
   "outputs": [
    {
     "name": "stdout",
     "output_type": "stream",
     "text": [
      "['-', '3', '+', '11', '-', '8', '+', '9', '==', '9']\n",
      "['-', '3', '+', '11', '-', '8', '+', '9', '==', '9']\n",
      "\n"
     ]
    }
   ],
   "source": [
    "x = raw_train_xs[4]\n",
    "y = raw_train_ys[4]\n",
    "x = x.split()\n",
    "y = y.split()\n",
    "print(x)\n",
    "print(y)\n",
    "print()"
   ]
  },
  {
   "cell_type": "code",
   "execution_count": 90,
   "metadata": {},
   "outputs": [
    {
     "name": "stdout",
     "output_type": "stream",
     "text": [
      "['-', '3', '+', '11', '-', '8', '+', '9', '==', '9']\n",
      "['-', '3', '+', '11', '-', '8', '+', '9', '==', '9']\n"
     ]
    }
   ],
   "source": [
    "# for online end2end \n",
    "xs = [x.copy()] \n",
    "editops = levenshtein_editops_list(x, y) \n",
    "if len(editops) == 0: \n",
    "    pass\n",
    "else:\n",
    "    c = 0 \n",
    "    for tag, i, j in editops: \n",
    "        i += c\n",
    "        if tag == 'replace':\n",
    "            x[i] = y[j]\n",
    "        elif tag == 'delete':\n",
    "            del x[i]\n",
    "            c -= 1\n",
    "        elif tag == 'insert':\n",
    "            x.insert(i, y[j]) \n",
    "            c += 1\n",
    "        xs.append(x.copy())\n",
    "    index = np.random.choice(range(len(xs)-1))\n",
    "    x = xs[index]\n",
    "print(x)\n",
    "for x in xs:\n",
    "    print(x)"
   ]
  },
  {
   "cell_type": "code",
   "execution_count": 91,
   "metadata": {},
   "outputs": [
    {
     "ename": "IndexError",
     "evalue": "list index out of range",
     "output_type": "error",
     "traceback": [
      "\u001b[0;31m---------------------------------------------------------------------------\u001b[0m",
      "\u001b[0;31mIndexError\u001b[0m                                Traceback (most recent call last)",
      "\u001b[0;32m<ipython-input-91-a3c8a8d76921>\u001b[0m in \u001b[0;36m<module>\u001b[0;34m\u001b[0m\n\u001b[1;32m      1\u001b[0m \u001b[0;31m# for offline recurrent inference\u001b[0m\u001b[0;34m\u001b[0m\u001b[0;34m\u001b[0m\u001b[0;34m\u001b[0m\u001b[0m\n\u001b[1;32m      2\u001b[0m \u001b[0meditops\u001b[0m \u001b[0;34m=\u001b[0m \u001b[0mlevenshtein_editops_list\u001b[0m\u001b[0;34m(\u001b[0m\u001b[0mx\u001b[0m\u001b[0;34m,\u001b[0m \u001b[0my\u001b[0m\u001b[0;34m)\u001b[0m\u001b[0;34m\u001b[0m\u001b[0;34m\u001b[0m\u001b[0m\n\u001b[0;32m----> 3\u001b[0;31m \u001b[0mtag\u001b[0m\u001b[0;34m,\u001b[0m \u001b[0mi\u001b[0m\u001b[0;34m,\u001b[0m \u001b[0mj\u001b[0m \u001b[0;34m=\u001b[0m \u001b[0meditops\u001b[0m\u001b[0;34m[\u001b[0m\u001b[0;36m0\u001b[0m\u001b[0;34m]\u001b[0m\u001b[0;34m\u001b[0m\u001b[0;34m\u001b[0m\u001b[0m\n\u001b[0m\u001b[1;32m      4\u001b[0m \u001b[0;32mif\u001b[0m \u001b[0mtag\u001b[0m \u001b[0;34m==\u001b[0m \u001b[0;34m'replace'\u001b[0m\u001b[0;34m:\u001b[0m\u001b[0;34m\u001b[0m\u001b[0;34m\u001b[0m\u001b[0m\n\u001b[1;32m      5\u001b[0m     \u001b[0my_\u001b[0m \u001b[0;34m=\u001b[0m \u001b[0;34m[\u001b[0m\u001b[0;34m'<sub>'\u001b[0m\u001b[0;34m,\u001b[0m \u001b[0;34m'<pos_{}>'\u001b[0m\u001b[0;34m.\u001b[0m\u001b[0mformat\u001b[0m\u001b[0;34m(\u001b[0m\u001b[0mi\u001b[0m\u001b[0;34m)\u001b[0m\u001b[0;34m,\u001b[0m \u001b[0my\u001b[0m\u001b[0;34m[\u001b[0m\u001b[0mj\u001b[0m\u001b[0;34m]\u001b[0m\u001b[0;34m]\u001b[0m\u001b[0;34m\u001b[0m\u001b[0;34m\u001b[0m\u001b[0m\n",
      "\u001b[0;31mIndexError\u001b[0m: list index out of range"
     ]
    }
   ],
   "source": [
    "# for offline recurrent inference\n",
    "editops = levenshtein_editops_list(x, y)\n",
    "tag, i, j = editops[0]\n",
    "if tag == 'replace':\n",
    "    y_ = ['<sub>', '<pos_{}>'.format(i), y[j]]\n",
    "elif tag == 'delete': \n",
    "    y_ = ['<delete>', '<pos_{}>'.format(i), '<done>'] \n",
    "elif tag == 'insert': \n",
    "    y_ = ['<insert>', '<pos_{}>'.format(i), y[j]] \n",
    "print(y)\n",
    "print(x)\n",
    "print(y_)"
   ]
  },
  {
   "cell_type": "code",
   "execution_count": 92,
   "metadata": {},
   "outputs": [
    {
     "name": "stdout",
     "output_type": "stream",
     "text": [
      "['-', '3', '+', '11', '-', '8', '+', '9', '==', '9']\n",
      "['<done>', '<done>', '<done>']\n"
     ]
    }
   ],
   "source": [
    "# for online recurrent inference\n",
    "xs = [x.copy()]\n",
    "ys_ = []\n",
    "editops = levenshtein_editops_list(x, y)\n",
    "c = 0 \n",
    "for tag, i, j in editops: \n",
    "    i += c\n",
    "    if tag == 'replace':\n",
    "        y_ = ['<sub>', '<pos_{}>'.format(i), y[j]]\n",
    "        x[i] = y[j]\n",
    "    elif tag == 'delete': \n",
    "        y_ = ['<delete>', '<pos_{}>'.format(i), '<done>']\n",
    "        del x[i]\n",
    "        c -= 1\n",
    "    elif tag == 'insert': \n",
    "        y_ = ['<insert>', '<pos_{}>'.format(i), y[j]]\n",
    "        x.insert(i, y[j]) \n",
    "        c += 1\n",
    "\n",
    "    xs.append(x.copy()) \n",
    "    ys_.append(y_)\n",
    "\n",
    "ys_.append(['<done>']*3)\n",
    "\n",
    "for x, y_ in zip(xs, ys_):\n",
    "    print(x)\n",
    "    print(y_)"
   ]
  },
  {
   "cell_type": "code",
   "execution_count": null,
   "metadata": {},
   "outputs": [],
   "source": []
  }
 ],
 "metadata": {
  "kernelspec": {
   "display_name": "Python 3",
   "language": "python",
   "name": "python3"
  },
  "language_info": {
   "codemirror_mode": {
    "name": "ipython",
    "version": 3
   },
   "file_extension": ".py",
   "mimetype": "text/x-python",
   "name": "python",
   "nbconvert_exporter": "python",
   "pygments_lexer": "ipython3",
   "version": "3.7.7"
  }
 },
 "nbformat": 4,
 "nbformat_minor": 4
}
